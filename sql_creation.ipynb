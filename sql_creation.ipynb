{
 "cells": [
  {
   "cell_type": "code",
   "execution_count": 6,
   "metadata": {},
   "outputs": [],
   "source": [
    "import psycopg2 as pg2\n",
    "import pandas as pd\n",
    "import numpy as np\n",
    "import pickle"
   ]
  },
  {
   "cell_type": "code",
   "execution_count": 5,
   "metadata": {},
   "outputs": [
    {
     "data": {
      "text/html": [
       "<style>\n",
       "table {float:left}\n",
       "</style>"
      ],
      "text/plain": [
       "<IPython.core.display.HTML object>"
      ]
     },
     "metadata": {},
     "output_type": "display_data"
    }
   ],
   "source": [
    "%%html\n",
    "<style>\n",
    "table {float:left}\n",
    "</style>"
   ]
  },
  {
   "cell_type": "code",
   "execution_count": 3,
   "metadata": {},
   "outputs": [],
   "source": [
    "with open('data/cs_df_M.pkl', 'rb') as f:\n",
    "    df = pickle.load(f)"
   ]
  },
  {
   "cell_type": "code",
   "execution_count": 4,
   "metadata": {},
   "outputs": [
    {
     "data": {
      "text/html": [
       "<div>\n",
       "<style scoped>\n",
       "    .dataframe tbody tr th:only-of-type {\n",
       "        vertical-align: middle;\n",
       "    }\n",
       "\n",
       "    .dataframe tbody tr th {\n",
       "        vertical-align: top;\n",
       "    }\n",
       "\n",
       "    .dataframe thead th {\n",
       "        text-align: right;\n",
       "    }\n",
       "</style>\n",
       "<table border=\"1\" class=\"dataframe\">\n",
       "  <thead>\n",
       "    <tr style=\"text-align: right;\">\n",
       "      <th></th>\n",
       "      <th>item_name</th>\n",
       "      <th>date_str</th>\n",
       "      <th>median_sell_price</th>\n",
       "      <th>quantity</th>\n",
       "      <th>est_release_str</th>\n",
       "      <th>days_since_release</th>\n",
       "      <th>gun_type</th>\n",
       "      <th>skin</th>\n",
       "      <th>quality</th>\n",
       "      <th>gun_bool</th>\n",
       "      <th>StatTrak</th>\n",
       "      <th>souvenir</th>\n",
       "      <th>keys</th>\n",
       "      <th>capsules</th>\n",
       "      <th>stickers</th>\n",
       "      <th>date</th>\n",
       "      <th>est_release</th>\n",
       "      <th>timestamp</th>\n",
       "    </tr>\n",
       "  </thead>\n",
       "  <tbody>\n",
       "    <tr>\n",
       "      <th>0</th>\n",
       "      <td>Glock-18 | Weasel (Battle-Scarred)</td>\n",
       "      <td>19 Aug 2016</td>\n",
       "      <td>6.193</td>\n",
       "      <td>135</td>\n",
       "      <td>19 Aug 2016</td>\n",
       "      <td>0</td>\n",
       "      <td>Glock-18</td>\n",
       "      <td>Weasel</td>\n",
       "      <td>Battle-Scarred</td>\n",
       "      <td>True</td>\n",
       "      <td>False</td>\n",
       "      <td>False</td>\n",
       "      <td>False</td>\n",
       "      <td>False</td>\n",
       "      <td>False</td>\n",
       "      <td>1.471583e+09</td>\n",
       "      <td>1.471583e+09</td>\n",
       "      <td>2016-08-19</td>\n",
       "    </tr>\n",
       "    <tr>\n",
       "      <th>1</th>\n",
       "      <td>Glock-18 | Weasel (Battle-Scarred)</td>\n",
       "      <td>20 Aug 2016</td>\n",
       "      <td>5.103</td>\n",
       "      <td>166</td>\n",
       "      <td>19 Aug 2016</td>\n",
       "      <td>1</td>\n",
       "      <td>Glock-18</td>\n",
       "      <td>Weasel</td>\n",
       "      <td>Battle-Scarred</td>\n",
       "      <td>True</td>\n",
       "      <td>False</td>\n",
       "      <td>False</td>\n",
       "      <td>False</td>\n",
       "      <td>False</td>\n",
       "      <td>False</td>\n",
       "      <td>1.471669e+09</td>\n",
       "      <td>1.471583e+09</td>\n",
       "      <td>2016-08-20</td>\n",
       "    </tr>\n",
       "    <tr>\n",
       "      <th>2</th>\n",
       "      <td>Glock-18 | Weasel (Battle-Scarred)</td>\n",
       "      <td>21 Aug 2016</td>\n",
       "      <td>4.721</td>\n",
       "      <td>142</td>\n",
       "      <td>19 Aug 2016</td>\n",
       "      <td>2</td>\n",
       "      <td>Glock-18</td>\n",
       "      <td>Weasel</td>\n",
       "      <td>Battle-Scarred</td>\n",
       "      <td>True</td>\n",
       "      <td>False</td>\n",
       "      <td>False</td>\n",
       "      <td>False</td>\n",
       "      <td>False</td>\n",
       "      <td>False</td>\n",
       "      <td>1.471756e+09</td>\n",
       "      <td>1.471583e+09</td>\n",
       "      <td>2016-08-21</td>\n",
       "    </tr>\n",
       "    <tr>\n",
       "      <th>3</th>\n",
       "      <td>Glock-18 | Weasel (Battle-Scarred)</td>\n",
       "      <td>22 Aug 2016</td>\n",
       "      <td>4.302</td>\n",
       "      <td>98</td>\n",
       "      <td>19 Aug 2016</td>\n",
       "      <td>3</td>\n",
       "      <td>Glock-18</td>\n",
       "      <td>Weasel</td>\n",
       "      <td>Battle-Scarred</td>\n",
       "      <td>True</td>\n",
       "      <td>False</td>\n",
       "      <td>False</td>\n",
       "      <td>False</td>\n",
       "      <td>False</td>\n",
       "      <td>False</td>\n",
       "      <td>1.471842e+09</td>\n",
       "      <td>1.471583e+09</td>\n",
       "      <td>2016-08-22</td>\n",
       "    </tr>\n",
       "    <tr>\n",
       "      <th>4</th>\n",
       "      <td>Glock-18 | Weasel (Battle-Scarred)</td>\n",
       "      <td>23 Aug 2016</td>\n",
       "      <td>3.898</td>\n",
       "      <td>125</td>\n",
       "      <td>19 Aug 2016</td>\n",
       "      <td>4</td>\n",
       "      <td>Glock-18</td>\n",
       "      <td>Weasel</td>\n",
       "      <td>Battle-Scarred</td>\n",
       "      <td>True</td>\n",
       "      <td>False</td>\n",
       "      <td>False</td>\n",
       "      <td>False</td>\n",
       "      <td>False</td>\n",
       "      <td>False</td>\n",
       "      <td>1.471928e+09</td>\n",
       "      <td>1.471583e+09</td>\n",
       "      <td>2016-08-23</td>\n",
       "    </tr>\n",
       "  </tbody>\n",
       "</table>\n",
       "</div>"
      ],
      "text/plain": [
       "                            item_name     date_str  median_sell_price  \\\n",
       "0  Glock-18 | Weasel (Battle-Scarred)  19 Aug 2016              6.193   \n",
       "1  Glock-18 | Weasel (Battle-Scarred)  20 Aug 2016              5.103   \n",
       "2  Glock-18 | Weasel (Battle-Scarred)  21 Aug 2016              4.721   \n",
       "3  Glock-18 | Weasel (Battle-Scarred)  22 Aug 2016              4.302   \n",
       "4  Glock-18 | Weasel (Battle-Scarred)  23 Aug 2016              3.898   \n",
       "\n",
       "   quantity est_release_str  days_since_release  gun_type     skin  \\\n",
       "0       135     19 Aug 2016                   0  Glock-18  Weasel    \n",
       "1       166     19 Aug 2016                   1  Glock-18  Weasel    \n",
       "2       142     19 Aug 2016                   2  Glock-18  Weasel    \n",
       "3        98     19 Aug 2016                   3  Glock-18  Weasel    \n",
       "4       125     19 Aug 2016                   4  Glock-18  Weasel    \n",
       "\n",
       "          quality  gun_bool  StatTrak  souvenir   keys  capsules  stickers  \\\n",
       "0  Battle-Scarred      True     False     False  False     False     False   \n",
       "1  Battle-Scarred      True     False     False  False     False     False   \n",
       "2  Battle-Scarred      True     False     False  False     False     False   \n",
       "3  Battle-Scarred      True     False     False  False     False     False   \n",
       "4  Battle-Scarred      True     False     False  False     False     False   \n",
       "\n",
       "           date   est_release  timestamp  \n",
       "0  1.471583e+09  1.471583e+09 2016-08-19  \n",
       "1  1.471669e+09  1.471583e+09 2016-08-20  \n",
       "2  1.471756e+09  1.471583e+09 2016-08-21  \n",
       "3  1.471842e+09  1.471583e+09 2016-08-22  \n",
       "4  1.471928e+09  1.471583e+09 2016-08-23  "
      ]
     },
     "execution_count": 4,
     "metadata": {},
     "output_type": "execute_result"
    }
   ],
   "source": [
    "df.head()"
   ]
  },
  {
   "cell_type": "markdown",
   "metadata": {},
   "source": [
    "## SQL Table Schemas:"
   ]
  },
  {
   "cell_type": "markdown",
   "metadata": {},
   "source": [
    "#### ID Table:\n",
    "\n",
    "item_id | item_name\n",
    "---|---\n",
    "int|str"
   ]
  },
  {
   "cell_type": "markdown",
   "metadata": {},
   "source": [
    "#### Sales Table:\n",
    "\n",
    "Could add days_since_release here or find a way to easily calculate it from a release date\n",
    "\n",
    "item_id |date | price | quant | (days since release?)\n",
    "---|---|---|---|---\n",
    "int|float (unix)|float|int|(int?)"
   ]
  },
  {
   "cell_type": "markdown",
   "metadata": {},
   "source": [
    "#### Details/Masking Table:\n",
    "\n",
    "item_id | is_gun | is_capsule | is_key | is_sticker | is_case\n",
    "---|---|---|---|---|---\n",
    "int|bool|bool|bool|bool|bool"
   ]
  },
  {
   "cell_type": "markdown",
   "metadata": {},
   "source": [
    "#### Guns Table:\n",
    "\n",
    "item_id | gun_type | skin_name | quality | StatTrak | Souvenir\n",
    "--|---|---|---|---|---\n",
    "int|str|str|str|bool|bool"
   ]
  },
  {
   "cell_type": "markdown",
   "metadata": {},
   "source": [
    "#### Release Date Table? Add to ID table? \n",
    "\n",
    "item_id | release_date\n",
    "---|---\n",
    "int|float (unix)"
   ]
  },
  {
   "cell_type": "markdown",
   "metadata": {},
   "source": [
    "---\n",
    "\n",
    "### Starting with the ID table and the sales table"
   ]
  },
  {
   "cell_type": "code",
   "execution_count": 7,
   "metadata": {},
   "outputs": [],
   "source": [
    "# This created the table, doesn't need to be run again\n",
    "\n",
    "# conn = pg2.connect(dbname='postgres', host='localhost')\n",
    "# conn.autocommit = True\n",
    "# cur = conn.cursor()\n",
    "# cur.execute('CREATE DATABASE steam_capstone;')\n",
    "# conn.close()"
   ]
  },
  {
   "cell_type": "code",
   "execution_count": 45,
   "metadata": {},
   "outputs": [],
   "source": [
    "conn = pg2.connect(dbname='steam_capstone', host='localhost')\n",
    "cur = conn.cursor()"
   ]
  },
  {
   "cell_type": "markdown",
   "metadata": {},
   "source": [
    "#### Finding longest item name for `item_name` datatype (ended up using `text`)"
   ]
  },
  {
   "cell_type": "code",
   "execution_count": 12,
   "metadata": {},
   "outputs": [
    {
     "data": {
      "text/plain": [
       "65"
      ]
     },
     "execution_count": 12,
     "metadata": {},
     "output_type": "execute_result"
    }
   ],
   "source": [
    "max(map(len, df.item_name))"
   ]
  },
  {
   "cell_type": "code",
   "execution_count": 46,
   "metadata": {},
   "outputs": [],
   "source": [
    "query = '''\n",
    "        CREATE TABLE id (\n",
    "            item_id SERIAL PRIMARY KEY, \n",
    "            item_name text\n",
    "        );\n",
    "        '''\n",
    "cur.execute(query)"
   ]
  },
  {
   "cell_type": "code",
   "execution_count": 48,
   "metadata": {},
   "outputs": [],
   "source": [
    "query = '''\n",
    "        CREATE TABLE sales (\n",
    "            item_id INTEGER REFERENCES id(item_id), \n",
    "            date date,\n",
    "            price real,\n",
    "            quantity integer\n",
    "        );\n",
    "        '''\n",
    "cur.execute(query)"
   ]
  },
  {
   "cell_type": "code",
   "execution_count": 49,
   "metadata": {},
   "outputs": [],
   "source": [
    "conn.commit()"
   ]
  },
  {
   "cell_type": "code",
   "execution_count": 50,
   "metadata": {},
   "outputs": [
    {
     "name": "stdout",
     "output_type": "stream",
     "text": [
      "('sales',)\n",
      "('id',)\n"
     ]
    }
   ],
   "source": [
    "cur.execute(\"\"\"SELECT table_name FROM information_schema.tables\n",
    "       WHERE table_schema = 'public'\"\"\")\n",
    "for table in cur.fetchall():\n",
    "    print(table)"
   ]
  },
  {
   "cell_type": "code",
   "execution_count": 51,
   "metadata": {},
   "outputs": [],
   "source": [
    "conn.close()"
   ]
  },
  {
   "cell_type": "markdown",
   "metadata": {},
   "source": [
    "### Inserting the data"
   ]
  },
  {
   "cell_type": "code",
   "execution_count": 54,
   "metadata": {},
   "outputs": [],
   "source": [
    "def insert_item_names(names):\n",
    "    \"\"\" insert multiple vendors into the vendors table  \"\"\"\n",
    "    sql = \"INSERT INTO id(item_name) VALUES(%s)\"\n",
    "    conn = None\n",
    "    try:\n",
    "        # connect to the PostgreSQL database\n",
    "        conn = pg2.connect(dbname='steam_capstone', host='localhost')\n",
    "        # create a new cursor\n",
    "        cur = conn.cursor()\n",
    "        # execute the INSERT statement\n",
    "        cur.executemany(sql, names)\n",
    "        # commit the changes to the database\n",
    "        conn.commit()\n",
    "        # close communication with the database\n",
    "        cur.close()\n",
    "    except (Exception, pg2.DatabaseError) as error:\n",
    "        print(error)\n",
    "    finally:\n",
    "        if conn is not None:\n",
    "            conn.close()"
   ]
  },
  {
   "cell_type": "code",
   "execution_count": 68,
   "metadata": {},
   "outputs": [],
   "source": [
    "names = list(map(lambda x: (x,), df.item_name.unique()))"
   ]
  },
  {
   "cell_type": "code",
   "execution_count": 70,
   "metadata": {},
   "outputs": [],
   "source": [
    "insert_item_names(names)"
   ]
  },
  {
   "cell_type": "code",
   "execution_count": 75,
   "metadata": {},
   "outputs": [],
   "source": [
    "conn = pg2.connect(dbname='steam_capstone', host='localhost')\n",
    "cur = conn.cursor()"
   ]
  },
  {
   "cell_type": "code",
   "execution_count": 76,
   "metadata": {},
   "outputs": [
    {
     "data": {
      "text/plain": [
       "[(1, 'Glock-18 | Weasel (Battle-Scarred)'),\n",
       " (2, 'PP-Bizon | Photic Zone (Minimal Wear)'),\n",
       " (3, 'SSG 08 | Ghost Crusader (Field-Tested)'),\n",
       " (4, 'Spectrum Case Key'),\n",
       " (5, 'Sticker | shroud (Foil) | Krakow 2017')]"
      ]
     },
     "execution_count": 76,
     "metadata": {},
     "output_type": "execute_result"
    }
   ],
   "source": [
    "cur.execute('SELECT * FROM id LIMIT 5;')\n",
    "cur.fetchall()"
   ]
  },
  {
   "cell_type": "code",
   "execution_count": 77,
   "metadata": {},
   "outputs": [],
   "source": [
    "conn.close()"
   ]
  },
  {
   "cell_type": "code",
   "execution_count": null,
   "metadata": {},
   "outputs": [],
   "source": []
  }
 ],
 "metadata": {
  "kernelspec": {
   "display_name": "Python 3",
   "language": "python",
   "name": "python3"
  },
  "language_info": {
   "codemirror_mode": {
    "name": "ipython",
    "version": 3
   },
   "file_extension": ".py",
   "mimetype": "text/x-python",
   "name": "python",
   "nbconvert_exporter": "python",
   "pygments_lexer": "ipython3",
   "version": "3.6.6"
  }
 },
 "nbformat": 4,
 "nbformat_minor": 2
}
