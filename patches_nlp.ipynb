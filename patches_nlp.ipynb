{
 "cells": [
  {
   "cell_type": "markdown",
   "metadata": {},
   "source": [
    "I want to see if there are specific changes in patches that affect the price of items. My hypothesis is when guns are improved or weakened, they will increase or decrease in popularity, and their skin prices will change.\n",
    "To do this I want to find words or phrases that appear more frequently in patches near the times when price anomalies occur.\n",
    "\n",
    "Attempt 1:\n",
    "Perform clustering on all of the patches, then find a cluster with only anomaly patches. With the patches in that cluster, run NLP to find the most important words or phrases.\n",
    "\n",
    "<br><br>\n",
    "First things first, let's graph the dates of all of the patches on top of the dates of the top anomalies to make sure there is some overlap."
   ]
  },
  {
   "cell_type": "code",
   "execution_count": 1,
   "metadata": {},
   "outputs": [],
   "source": [
    "import pickle\n",
    "import pandas as pd\n",
    "import matplotlib.pyplot as plt\n",
    "from pymongo import MongoClient\n",
    "%matplotlib inline\n",
    "with open('archive/gun_anomalies.pkl', 'rb') as f:\n",
    "    anoms = pickle.load(f)\n",
    "client = MongoClient()\n",
    "db = client['steam_capstone']\n",
    "collection = db['patches']\n",
    "cur = collection.find({'date':{'$exists':True}})\n",
    "patch_dates = [x['date'] for x in cur]"
   ]
  },
  {
   "cell_type": "code",
   "execution_count": 17,
   "metadata": {},
   "outputs": [
    {
     "data": {
      "image/png": "[encoded data removed]",
      "text/plain": [
       "<Figure size 2160x72 with 1 Axes>"
      ]
     },
     "metadata": {},
     "output_type": "display_data"
    }
   ],
   "source": [
    "top_anoms = sorted([(y, x) for x, y in anoms], reverse=True)[:50]\n",
    "fig, ax = plt.subplots(figsize=(30, 1))\n",
    "_=ax.scatter([d[1] for d in top_anoms], [1]*len(top_anoms))\n",
    "_=ax.scatter(patch_dates, [0]*len(patch_dates))"
   ]
  },
  {
   "cell_type": "markdown",
   "metadata": {},
   "source": [
    "To the naked eye it seems that some actually fall between patches"
   ]
  },
  {
   "cell_type": "code",
   "execution_count": 38,
   "metadata": {},
   "outputs": [
    {
     "data": {
      "text/plain": [
       "[(Timedelta('1 days 00:00:00'), Timestamp('2014-11-13 00:00:00')),\n",
       " (Timedelta('1 days 00:00:00'), Timestamp('2015-05-30 00:00:00')),\n",
       " (Timedelta('1 days 00:00:00'), Timestamp('2016-06-25 00:00:00')),\n",
       " (Timedelta('1 days 00:00:00'), Timestamp('2016-06-29 00:00:00')),\n",
       " (Timedelta('1 days 00:00:00'), Timestamp('2016-11-29 00:00:00')),\n",
       " (Timedelta('1 days 00:00:00'), Timestamp('2016-11-30 00:00:00')),\n",
       " (Timedelta('1 days 00:00:00'), Timestamp('2017-05-25 00:00:00')),\n",
       " (Timedelta('2 days 00:00:00'), Timestamp('2014-11-14 00:00:00')),\n",
       " (Timedelta('2 days 00:00:00'), Timestamp('2015-05-28 00:00:00')),\n",
       " (Timedelta('2 days 00:00:00'), Timestamp('2016-02-19 00:00:00')),\n",
       " (Timedelta('2 days 00:00:00'), Timestamp('2016-06-26 00:00:00')),\n",
       " (Timedelta('2 days 00:00:00'), Timestamp('2017-05-26 00:00:00')),\n",
       " (Timedelta('3 days 00:00:00'), Timestamp('2014-11-15 00:00:00')),\n",
       " (Timedelta('3 days 00:00:00'), Timestamp('2015-05-29 00:00:00')),\n",
       " (Timedelta('3 days 00:00:00'), Timestamp('2016-06-27 00:00:00')),\n",
       " (Timedelta('4 days 00:00:00'), Timestamp('2016-06-28 00:00:00')),\n",
       " (Timedelta('4 days 00:00:00'), Timestamp('2016-11-01 00:00:00')),\n",
       " (Timedelta('7 days 00:00:00'), Timestamp('2014-08-18 00:00:00')),\n",
       " (Timedelta('8 days 00:00:00'), Timestamp('2014-10-31 00:00:00')),\n",
       " (Timedelta('9 days 00:00:00'), Timestamp('2014-11-30 00:00:00')),\n",
       " (Timedelta('10 days 00:00:00'), Timestamp('2015-11-02 00:00:00')),\n",
       " (Timedelta('10 days 00:00:00'), Timestamp('2016-04-04 00:00:00')),\n",
       " (Timedelta('11 days 00:00:00'), Timestamp('2015-03-16 00:00:00')),\n",
       " (Timedelta('11 days 00:00:00'), Timestamp('2015-11-03 00:00:00')),\n",
       " (Timedelta('11 days 00:00:00'), Timestamp('2016-03-13 00:00:00')),\n",
       " (Timedelta('12 days 00:00:00'), Timestamp('2015-03-17 00:00:00')),\n",
       " (Timedelta('12 days 00:00:00'), Timestamp('2016-02-08 00:00:00')),\n",
       " (Timedelta('13 days 00:00:00'), Timestamp('2016-02-09 00:00:00')),\n",
       " (Timedelta('14 days 00:00:00'), Timestamp('2016-02-10 00:00:00')),\n",
       " (Timedelta('14 days 00:00:00'), Timestamp('2016-05-18 00:00:00')),\n",
       " (Timedelta('15 days 00:00:00'), Timestamp('2016-02-11 00:00:00')),\n",
       " (Timedelta('16 days 00:00:00'), Timestamp('2015-11-28 00:00:00')),\n",
       " (Timedelta('16 days 00:00:00'), Timestamp('2016-02-12 00:00:00')),\n",
       " (Timedelta('17 days 00:00:00'), Timestamp('2015-11-29 00:00:00')),\n",
       " (Timedelta('18 days 00:00:00'), Timestamp('2015-11-30 00:00:00')),\n",
       " (Timedelta('19 days 00:00:00'), Timestamp('2014-04-14 00:00:00')),\n",
       " (Timedelta('19 days 00:00:00'), Timestamp('2015-12-01 00:00:00')),\n",
       " (Timedelta('20 days 00:00:00'), Timestamp('2015-12-02 00:00:00')),\n",
       " (Timedelta('24 days 00:00:00'), Timestamp('2016-11-25 00:00:00')),\n",
       " (Timedelta('25 days 00:00:00'), Timestamp('2016-11-26 00:00:00')),\n",
       " (Timedelta('26 days 00:00:00'), Timestamp('2016-11-27 00:00:00')),\n",
       " (Timedelta('27 days 00:00:00'), Timestamp('2016-11-28 00:00:00'))]"
      ]
     },
     "execution_count": 38,
     "metadata": {},
     "output_type": "execute_result"
    }
   ],
   "source": [
    "# anom dates farthest from patches\n",
    "from itertools import compress\n",
    "top_anoms_no_june = compress(top_anoms, [x < pd.Timestamp('2018-06-01 00:00:00') for _,x in top_anoms])\n",
    "sorted([(y, x)for x, y in [(anom_date, anom_date - max(compress(patch_dates, [p < anom_date for p in patch_dates]))) for _,anom_date in top_anoms_no_june]], reverse=False)"
   ]
  },
  {
   "cell_type": "markdown",
   "metadata": {},
   "source": [
    "### NLP:\n",
    "  * Lower\n",
    "  * Tokenize (split)\n",
    "  * Remove punctuation\n",
    "  * Remove stop words\n",
    "  * Stem\n",
    "  * Vectorize"
   ]
  },
  {
   "cell_type": "code",
   "execution_count": 184,
   "metadata": {},
   "outputs": [],
   "source": [
    "import re\n",
    "import numpy as np\n",
    "from nltk.tokenize import sent_tokenize\n",
    "from nltk.tokenize import word_tokenize\n",
    "from nltk.corpus import stopwords\n",
    "from nltk.stem.porter import PorterStemmer\n",
    "from sklearn.feature_extraction.text import CountVectorizer, TfidfVectorizer"
   ]
  },
  {
   "cell_type": "code",
   "execution_count": 92,
   "metadata": {},
   "outputs": [],
   "source": [
    "test_patch = collection.find_one()['patch_notes']"
   ]
  },
  {
   "cell_type": "code",
   "execution_count": 93,
   "metadata": {},
   "outputs": [],
   "source": [
    "test_lower = test_patch.lower()"
   ]
  },
  {
   "cell_type": "code",
   "execution_count": 169,
   "metadata": {},
   "outputs": [],
   "source": [
    "test_punc_free = [x for x in re.findall(r'(?!\\d)[\\w]+', test_lower)]"
   ]
  },
  {
   "cell_type": "code",
   "execution_count": 171,
   "metadata": {},
   "outputs": [],
   "source": [
    "test_stop_free = [x for x in test_punc_free if x not in stopwords.words()]"
   ]
  },
  {
   "cell_type": "code",
   "execution_count": 173,
   "metadata": {},
   "outputs": [],
   "source": [
    "stemmer = PorterStemmer()\n",
    "test_tokens = [stemmer.stem(words) for words in test_stop_free]"
   ]
  },
  {
   "cell_type": "markdown",
   "metadata": {},
   "source": [
    "test_tokens is cleaned, tokenized and stemmed"
   ]
  },
  {
   "cell_type": "code",
   "execution_count": 175,
   "metadata": {},
   "outputs": [],
   "source": [
    "tf_vec = CountVectorizer()\n",
    "test_vec = tf_vec.fit_transform(test_tokens)"
   ]
  },
  {
   "cell_type": "code",
   "execution_count": 214,
   "metadata": {},
   "outputs": [],
   "source": [
    "def stem_patch(patch):\n",
    "    \"\"\"\n",
    "    Given the string of a patch update, tokenize and stem the patch notes\n",
    "    \"\"\"\n",
    "    patch = patch.lower()\n",
    "    patch = [x for x in re.findall(r'(?!\\d)[\\w]+', patch)]\n",
    "    patch = [x for x in patch if x not in stopwords.words()]\n",
    "    stemmer = PorterStemmer()\n",
    "    return [stemmer.stem(words) for words in patch]\n",
    "\n",
    "def flatten(nested_list):\n",
    "    '''Break down list of lists into list of items'''\n",
    "    return [item for sublist in nested_list for item in sublist]\n",
    "\n",
    "def label_anom_patches(patch_dict, anom_dates):\n",
    "    \"\"\"\n",
    "    Given a dict of {date:patch}, return [(notes, 0), (notes, 1)...] \n",
    "    where index 1 labels anomalous or not.\n",
    "    \"\"\"\n",
    "    anom_date_range = set(flatten([pd.date_range(date-pd.Timedelta(3, unit='D'), date+pd.Timedelta(3, unit='D')) for date in anom_dates]))\n",
    "    return [(text, 1) if date in anom_date_range else (text, 0) for date, text in patch_dict.items()]"
   ]
  },
  {
   "cell_type": "code",
   "execution_count": 220,
   "metadata": {},
   "outputs": [],
   "source": [
    "patch_dict = dict([(x['date'], x['patch_notes']) for x in collection.find()])"
   ]
  },
  {
   "cell_type": "code",
   "execution_count": 223,
   "metadata": {},
   "outputs": [],
   "source": [
    "labeled_patches = label_anom_patches(patch_dict, [date for _,date in top_anoms])"
   ]
  },
  {
   "cell_type": "code",
   "execution_count": 224,
   "metadata": {},
   "outputs": [],
   "source": [
    "labeled_tokens = [(stem_patch(patch_notes), label) for patch_notes,label in labeled_patches]"
   ]
  },
  {
   "cell_type": "markdown",
   "metadata": {},
   "source": [
    "labeled_patches is now a list of `(raw_string, label)` where the `raw_string` is each patch notes, and `label` is whether it's close to an anomalous date or not"
   ]
  },
  {
   "cell_type": "code",
   "execution_count": 227,
   "metadata": {},
   "outputs": [],
   "source": [
    "data = [x for x, y in labeled_patches]\n",
    "labels = [y for x, y in labeled_patches]\n",
    "\n",
    "count_vectorizer = CountVectorizer(max_df=0.95, min_df=2, analyzer=stem_patch)\n",
    "vectorized = count_vectorizer.fit_transform(data)\n",
    "\n",
    "tfidf = TfidfVectorizer(analyzer=stem_patch)\n",
    "tfidf_vec = tfidf.fit_transform(data)"
   ]
  },
  {
   "cell_type": "code",
   "execution_count": 228,
   "metadata": {},
   "outputs": [
    {
     "data": {
      "text/plain": [
       "0.8813559322033898"
      ]
     },
     "execution_count": 228,
     "metadata": {},
     "output_type": "execute_result"
    }
   ],
   "source": [
    "from sklearn.ensemble import RandomForestClassifier\n",
    "from sklearn.model_selection import train_test_split\n",
    "xtrain, xtest, ytrain, ytest = train_test_split(vectorized, labels)\n",
    "rf = RandomForestClassifier()\n",
    "rf.fit(xtrain, ytrain)\n",
    "rf.score(xtest, ytest)"
   ]
  },
  {
   "cell_type": "code",
   "execution_count": 239,
   "metadata": {},
   "outputs": [
    {
     "name": "stdout",
     "output_type": "stream",
     "text": [
      "Num train samples: 176\n",
      "Num train anoms: 12\n",
      "Num test samples: 59\n",
      "Num test anoms: 7\n",
      "The classes are imbalanced. They were all predicted as not being anomalies. This makes sense by the definition of anomalies.\n"
     ]
    }
   ],
   "source": [
    "print('Num train samples: ' + str(len(ytrain)))\n",
    "print('Num train anoms: ' + str(sum(ytrain)))\n",
    "print('Num test samples: ' + str(len(ytest)))\n",
    "print('Num test anoms: ' + str(sum(ytest)))\n",
    "print('The classes are imbalanced. They were all predicted as not being anomalies. This makes sense by the definition of anomalies.')"
   ]
  },
  {
   "cell_type": "code",
   "execution_count": 266,
   "metadata": {},
   "outputs": [],
   "source": [
    "tfidf_anom = TfidfVectorizer(analyzer=stem_patch)\n",
    "tfidf_anom_vec = tfidf_anom.fit_transform(compress(data, labels))\n",
    "\n",
    "tfidf_norm = TfidfVectorizer(analyzer=stem_patch)\n",
    "tfidf_norm_vec = tfidf_norm.fit_transform(compress(data, [not x for x in labels]))"
   ]
  },
  {
   "cell_type": "code",
   "execution_count": 267,
   "metadata": {},
   "outputs": [
    {
     "name": "stdout",
     "output_type": "stream",
     "text": [
      "birthday\n",
      "happi\n",
      "sdr\n",
      "ping\n",
      "rotat\n",
      "wildfir\n",
      "cologn\n",
      "molotov\n",
      "gotv\n",
      "surrend\n"
     ]
    }
   ],
   "source": [
    "for x in np.array(tfidf_anom.get_feature_names())[np.argsort(np.sum(tfidf_anom_vec, axis=0) / np.sum(tfidf_anom_vec > 0, axis=0))][0][-1:-10-1:-1]:\n",
    "    print(x)"
   ]
  },
  {
   "cell_type": "code",
   "execution_count": 268,
   "metadata": {},
   "outputs": [
    {
     "name": "stdout",
     "output_type": "stream",
     "text": [
      "wargam\n",
      "inertia\n",
      "tyloo\n",
      "firstperson\n",
      "bracket\n",
      "autotron\n",
      "bloodhound\n",
      "scrape\n",
      "codec\n",
      "columbu\n"
     ]
    }
   ],
   "source": [
    "for x in np.array(tfidf_norm.get_feature_names())[np.argsort(np.sum(tfidf_norm_vec, axis=0) / np.sum(tfidf_norm_vec > 0, axis=0))][0][-1:-10-1:-1]:\n",
    "    print(x)"
   ]
  },
  {
   "cell_type": "markdown",
   "metadata": {},
   "source": [
    "#### Per Baker's suggestion, I'm going to look at how many patch notes each weapon shows up in"
   ]
  },
  {
   "cell_type": "code",
   "execution_count": 7,
   "metadata": {},
   "outputs": [
    {
     "data": {
      "text/html": [
       "<div>\n",
       "<style scoped>\n",
       "    .dataframe tbody tr th:only-of-type {\n",
       "        vertical-align: middle;\n",
       "    }\n",
       "\n",
       "    .dataframe tbody tr th {\n",
       "        vertical-align: top;\n",
       "    }\n",
       "\n",
       "    .dataframe thead th {\n",
       "        text-align: right;\n",
       "    }\n",
       "</style>\n",
       "<table border=\"1\" class=\"dataframe\">\n",
       "  <thead>\n",
       "    <tr style=\"text-align: right;\">\n",
       "      <th></th>\n",
       "      <th>item_name</th>\n",
       "      <th>date_str</th>\n",
       "      <th>median_sell_price</th>\n",
       "      <th>quantity</th>\n",
       "      <th>est_release_str</th>\n",
       "      <th>days_since_release</th>\n",
       "      <th>gun_type</th>\n",
       "      <th>skin</th>\n",
       "      <th>quality</th>\n",
       "      <th>gun_bool</th>\n",
       "      <th>StatTrak</th>\n",
       "      <th>souvenir</th>\n",
       "      <th>keys</th>\n",
       "      <th>capsules</th>\n",
       "      <th>stickers</th>\n",
       "      <th>date</th>\n",
       "      <th>est_release</th>\n",
       "      <th>timestamp</th>\n",
       "    </tr>\n",
       "  </thead>\n",
       "  <tbody>\n",
       "    <tr>\n",
       "      <th>0</th>\n",
       "      <td>Glock-18 | Weasel (Battle-Scarred)</td>\n",
       "      <td>19 Aug 2016</td>\n",
       "      <td>6.193</td>\n",
       "      <td>135</td>\n",
       "      <td>19 Aug 2016</td>\n",
       "      <td>0</td>\n",
       "      <td>Glock-18</td>\n",
       "      <td>Weasel</td>\n",
       "      <td>Battle-Scarred</td>\n",
       "      <td>True</td>\n",
       "      <td>False</td>\n",
       "      <td>False</td>\n",
       "      <td>False</td>\n",
       "      <td>False</td>\n",
       "      <td>False</td>\n",
       "      <td>1.471583e+09</td>\n",
       "      <td>1.471583e+09</td>\n",
       "      <td>2016-08-19</td>\n",
       "    </tr>\n",
       "    <tr>\n",
       "      <th>1</th>\n",
       "      <td>Glock-18 | Weasel (Battle-Scarred)</td>\n",
       "      <td>20 Aug 2016</td>\n",
       "      <td>5.103</td>\n",
       "      <td>166</td>\n",
       "      <td>19 Aug 2016</td>\n",
       "      <td>1</td>\n",
       "      <td>Glock-18</td>\n",
       "      <td>Weasel</td>\n",
       "      <td>Battle-Scarred</td>\n",
       "      <td>True</td>\n",
       "      <td>False</td>\n",
       "      <td>False</td>\n",
       "      <td>False</td>\n",
       "      <td>False</td>\n",
       "      <td>False</td>\n",
       "      <td>1.471669e+09</td>\n",
       "      <td>1.471583e+09</td>\n",
       "      <td>2016-08-20</td>\n",
       "    </tr>\n",
       "    <tr>\n",
       "      <th>2</th>\n",
       "      <td>Glock-18 | Weasel (Battle-Scarred)</td>\n",
       "      <td>21 Aug 2016</td>\n",
       "      <td>4.721</td>\n",
       "      <td>142</td>\n",
       "      <td>19 Aug 2016</td>\n",
       "      <td>2</td>\n",
       "      <td>Glock-18</td>\n",
       "      <td>Weasel</td>\n",
       "      <td>Battle-Scarred</td>\n",
       "      <td>True</td>\n",
       "      <td>False</td>\n",
       "      <td>False</td>\n",
       "      <td>False</td>\n",
       "      <td>False</td>\n",
       "      <td>False</td>\n",
       "      <td>1.471756e+09</td>\n",
       "      <td>1.471583e+09</td>\n",
       "      <td>2016-08-21</td>\n",
       "    </tr>\n",
       "    <tr>\n",
       "      <th>3</th>\n",
       "      <td>Glock-18 | Weasel (Battle-Scarred)</td>\n",
       "      <td>22 Aug 2016</td>\n",
       "      <td>4.302</td>\n",
       "      <td>98</td>\n",
       "      <td>19 Aug 2016</td>\n",
       "      <td>3</td>\n",
       "      <td>Glock-18</td>\n",
       "      <td>Weasel</td>\n",
       "      <td>Battle-Scarred</td>\n",
       "      <td>True</td>\n",
       "      <td>False</td>\n",
       "      <td>False</td>\n",
       "      <td>False</td>\n",
       "      <td>False</td>\n",
       "      <td>False</td>\n",
       "      <td>1.471842e+09</td>\n",
       "      <td>1.471583e+09</td>\n",
       "      <td>2016-08-22</td>\n",
       "    </tr>\n",
       "    <tr>\n",
       "      <th>4</th>\n",
       "      <td>Glock-18 | Weasel (Battle-Scarred)</td>\n",
       "      <td>23 Aug 2016</td>\n",
       "      <td>3.898</td>\n",
       "      <td>125</td>\n",
       "      <td>19 Aug 2016</td>\n",
       "      <td>4</td>\n",
       "      <td>Glock-18</td>\n",
       "      <td>Weasel</td>\n",
       "      <td>Battle-Scarred</td>\n",
       "      <td>True</td>\n",
       "      <td>False</td>\n",
       "      <td>False</td>\n",
       "      <td>False</td>\n",
       "      <td>False</td>\n",
       "      <td>False</td>\n",
       "      <td>1.471928e+09</td>\n",
       "      <td>1.471583e+09</td>\n",
       "      <td>2016-08-23</td>\n",
       "    </tr>\n",
       "  </tbody>\n",
       "</table>\n",
       "</div>"
      ],
      "text/plain": [
       "                            item_name     date_str  median_sell_price  \\\n",
       "0  Glock-18 | Weasel (Battle-Scarred)  19 Aug 2016              6.193   \n",
       "1  Glock-18 | Weasel (Battle-Scarred)  20 Aug 2016              5.103   \n",
       "2  Glock-18 | Weasel (Battle-Scarred)  21 Aug 2016              4.721   \n",
       "3  Glock-18 | Weasel (Battle-Scarred)  22 Aug 2016              4.302   \n",
       "4  Glock-18 | Weasel (Battle-Scarred)  23 Aug 2016              3.898   \n",
       "\n",
       "   quantity est_release_str  days_since_release  gun_type     skin  \\\n",
       "0       135     19 Aug 2016                   0  Glock-18  Weasel    \n",
       "1       166     19 Aug 2016                   1  Glock-18  Weasel    \n",
       "2       142     19 Aug 2016                   2  Glock-18  Weasel    \n",
       "3        98     19 Aug 2016                   3  Glock-18  Weasel    \n",
       "4       125     19 Aug 2016                   4  Glock-18  Weasel    \n",
       "\n",
       "          quality  gun_bool  StatTrak  souvenir   keys  capsules  stickers  \\\n",
       "0  Battle-Scarred      True     False     False  False     False     False   \n",
       "1  Battle-Scarred      True     False     False  False     False     False   \n",
       "2  Battle-Scarred      True     False     False  False     False     False   \n",
       "3  Battle-Scarred      True     False     False  False     False     False   \n",
       "4  Battle-Scarred      True     False     False  False     False     False   \n",
       "\n",
       "           date   est_release  timestamp  \n",
       "0  1.471583e+09  1.471583e+09 2016-08-19  \n",
       "1  1.471669e+09  1.471583e+09 2016-08-20  \n",
       "2  1.471756e+09  1.471583e+09 2016-08-21  \n",
       "3  1.471842e+09  1.471583e+09 2016-08-22  \n",
       "4  1.471928e+09  1.471583e+09 2016-08-23  "
      ]
     },
     "metadata": {},
     "output_type": "execute_result"
    },
    {
     "data": {
      "text/html": [
       "<div>\n",
       "<style scoped>\n",
       "    .dataframe tbody tr th:only-of-type {\n",
       "        vertical-align: middle;\n",
       "    }\n",
       "\n",
       "    .dataframe tbody tr th {\n",
       "        vertical-align: top;\n",
       "    }\n",
       "\n",
       "    .dataframe thead th {\n",
       "        text-align: right;\n",
       "    }\n",
       "</style>\n",
       "<table border=\"1\" class=\"dataframe\">\n",
       "  <thead>\n",
       "    <tr style=\"text-align: right;\">\n",
       "      <th></th>\n",
       "      <th>item_name</th>\n",
       "      <th>date_str</th>\n",
       "      <th>median_sell_price</th>\n",
       "      <th>quantity</th>\n",
       "      <th>est_release_str</th>\n",
       "      <th>days_since_release</th>\n",
       "      <th>gun_type</th>\n",
       "      <th>skin</th>\n",
       "      <th>quality</th>\n",
       "      <th>gun_bool</th>\n",
       "      <th>StatTrak</th>\n",
       "      <th>souvenir</th>\n",
       "      <th>keys</th>\n",
       "      <th>capsules</th>\n",
       "      <th>stickers</th>\n",
       "      <th>date</th>\n",
       "      <th>est_release</th>\n",
       "      <th>timestamp</th>\n",
       "    </tr>\n",
       "  </thead>\n",
       "  <tbody>\n",
       "    <tr>\n",
       "      <th>8881809</th>\n",
       "      <td>★ StatTrak™ Huntsman Knife | Forest DDPAT (Fac...</td>\n",
       "      <td>06 Sep 2015</td>\n",
       "      <td>291.775</td>\n",
       "      <td>1</td>\n",
       "      <td>25 May 2014</td>\n",
       "      <td>15</td>\n",
       "      <td>NaN</td>\n",
       "      <td>NaN</td>\n",
       "      <td>NaN</td>\n",
       "      <td>False</td>\n",
       "      <td>False</td>\n",
       "      <td>False</td>\n",
       "      <td>False</td>\n",
       "      <td>False</td>\n",
       "      <td>False</td>\n",
       "      <td>1.441516e+09</td>\n",
       "      <td>1.400994e+09</td>\n",
       "      <td>2015-09-06</td>\n",
       "    </tr>\n",
       "    <tr>\n",
       "      <th>8881810</th>\n",
       "      <td>★ StatTrak™ Huntsman Knife | Forest DDPAT (Fac...</td>\n",
       "      <td>16 Sep 2015</td>\n",
       "      <td>292.864</td>\n",
       "      <td>1</td>\n",
       "      <td>25 May 2014</td>\n",
       "      <td>16</td>\n",
       "      <td>NaN</td>\n",
       "      <td>NaN</td>\n",
       "      <td>NaN</td>\n",
       "      <td>False</td>\n",
       "      <td>False</td>\n",
       "      <td>False</td>\n",
       "      <td>False</td>\n",
       "      <td>False</td>\n",
       "      <td>False</td>\n",
       "      <td>1.442380e+09</td>\n",
       "      <td>1.400994e+09</td>\n",
       "      <td>2015-09-16</td>\n",
       "    </tr>\n",
       "    <tr>\n",
       "      <th>8881811</th>\n",
       "      <td>★ StatTrak™ Huntsman Knife | Forest DDPAT (Fac...</td>\n",
       "      <td>09 Oct 2015</td>\n",
       "      <td>282.936</td>\n",
       "      <td>1</td>\n",
       "      <td>25 May 2014</td>\n",
       "      <td>17</td>\n",
       "      <td>NaN</td>\n",
       "      <td>NaN</td>\n",
       "      <td>NaN</td>\n",
       "      <td>False</td>\n",
       "      <td>False</td>\n",
       "      <td>False</td>\n",
       "      <td>False</td>\n",
       "      <td>False</td>\n",
       "      <td>False</td>\n",
       "      <td>1.444367e+09</td>\n",
       "      <td>1.400994e+09</td>\n",
       "      <td>2015-10-09</td>\n",
       "    </tr>\n",
       "    <tr>\n",
       "      <th>8881812</th>\n",
       "      <td>★ StatTrak™ Huntsman Knife | Forest DDPAT (Fac...</td>\n",
       "      <td>22 Dec 2015</td>\n",
       "      <td>391.730</td>\n",
       "      <td>1</td>\n",
       "      <td>25 May 2014</td>\n",
       "      <td>18</td>\n",
       "      <td>NaN</td>\n",
       "      <td>NaN</td>\n",
       "      <td>NaN</td>\n",
       "      <td>False</td>\n",
       "      <td>False</td>\n",
       "      <td>False</td>\n",
       "      <td>False</td>\n",
       "      <td>False</td>\n",
       "      <td>False</td>\n",
       "      <td>1.450764e+09</td>\n",
       "      <td>1.400994e+09</td>\n",
       "      <td>2015-12-22</td>\n",
       "    </tr>\n",
       "    <tr>\n",
       "      <th>8881813</th>\n",
       "      <td>★ StatTrak™ Huntsman Knife | Forest DDPAT (Fac...</td>\n",
       "      <td>27 Dec 2015</td>\n",
       "      <td>391.250</td>\n",
       "      <td>2</td>\n",
       "      <td>25 May 2014</td>\n",
       "      <td>19</td>\n",
       "      <td>NaN</td>\n",
       "      <td>NaN</td>\n",
       "      <td>NaN</td>\n",
       "      <td>False</td>\n",
       "      <td>False</td>\n",
       "      <td>False</td>\n",
       "      <td>False</td>\n",
       "      <td>False</td>\n",
       "      <td>False</td>\n",
       "      <td>1.451196e+09</td>\n",
       "      <td>1.400994e+09</td>\n",
       "      <td>2015-12-27</td>\n",
       "    </tr>\n",
       "  </tbody>\n",
       "</table>\n",
       "</div>"
      ],
      "text/plain": [
       "                                                 item_name     date_str  \\\n",
       "8881809  ★ StatTrak™ Huntsman Knife | Forest DDPAT (Fac...  06 Sep 2015   \n",
       "8881810  ★ StatTrak™ Huntsman Knife | Forest DDPAT (Fac...  16 Sep 2015   \n",
       "8881811  ★ StatTrak™ Huntsman Knife | Forest DDPAT (Fac...  09 Oct 2015   \n",
       "8881812  ★ StatTrak™ Huntsman Knife | Forest DDPAT (Fac...  22 Dec 2015   \n",
       "8881813  ★ StatTrak™ Huntsman Knife | Forest DDPAT (Fac...  27 Dec 2015   \n",
       "\n",
       "         median_sell_price  quantity est_release_str  days_since_release  \\\n",
       "8881809            291.775         1     25 May 2014                  15   \n",
       "8881810            292.864         1     25 May 2014                  16   \n",
       "8881811            282.936         1     25 May 2014                  17   \n",
       "8881812            391.730         1     25 May 2014                  18   \n",
       "8881813            391.250         2     25 May 2014                  19   \n",
       "\n",
       "        gun_type skin quality  gun_bool  StatTrak  souvenir   keys  capsules  \\\n",
       "8881809      NaN  NaN     NaN     False     False     False  False     False   \n",
       "8881810      NaN  NaN     NaN     False     False     False  False     False   \n",
       "8881811      NaN  NaN     NaN     False     False     False  False     False   \n",
       "8881812      NaN  NaN     NaN     False     False     False  False     False   \n",
       "8881813      NaN  NaN     NaN     False     False     False  False     False   \n",
       "\n",
       "         stickers          date   est_release  timestamp  \n",
       "8881809     False  1.441516e+09  1.400994e+09 2015-09-06  \n",
       "8881810     False  1.442380e+09  1.400994e+09 2015-09-16  \n",
       "8881811     False  1.444367e+09  1.400994e+09 2015-10-09  \n",
       "8881812     False  1.450764e+09  1.400994e+09 2015-12-22  \n",
       "8881813     False  1.451196e+09  1.400994e+09 2015-12-27  "
      ]
     },
     "metadata": {},
     "output_type": "execute_result"
    }
   ],
   "source": [
    "with open('data/cs_df_M.pkl', 'rb') as f:\n",
    "    df = pickle.load(f)\n",
    "display(df.head())\n",
    "display(df.tail())"
   ]
  },
  {
   "cell_type": "code",
   "execution_count": 36,
   "metadata": {},
   "outputs": [],
   "source": [
    "guns = df.gun_type.dropna().unique()"
   ]
  },
  {
   "cell_type": "markdown",
   "metadata": {},
   "source": [
    "#### Have list of guns, need to count the number of patch notes each shows up in"
   ]
  },
  {
   "cell_type": "code",
   "execution_count": 54,
   "metadata": {},
   "outputs": [],
   "source": [
    "gun_patches_count = [(x, collection.count_documents({'patch_notes':{'$regex':x}})) for x in guns]"
   ]
  },
  {
   "cell_type": "code",
   "execution_count": 61,
   "metadata": {},
   "outputs": [
    {
     "data": {
      "text/plain": [
       "[('M4A1-S', 16),\n",
       " ('Tec-9', 9),\n",
       " ('AWP', 8),\n",
       " ('Desert Eagle', 8),\n",
       " ('M4A4', 8),\n",
       " ('CZ75-Auto', 8),\n",
       " ('P250', 7),\n",
       " ('USP-S', 6),\n",
       " ('P90', 5),\n",
       " ('MP7', 5),\n",
       " ('Negev', 5),\n",
       " ('P2000', 4),\n",
       " ('Nova', 4),\n",
       " ('AK-47', 4),\n",
       " ('R8 Revolver', 4),\n",
       " ('Dual Berettas', 3),\n",
       " ('SCAR-20', 3),\n",
       " ('MP9', 3),\n",
       " ('Glock-18', 2),\n",
       " ('SSG 08', 2),\n",
       " ('XM1014', 2),\n",
       " ('AUG', 2),\n",
       " ('Five-SeveN', 2),\n",
       " ('G3SG1', 2),\n",
       " ('PP-Bizon', 1),\n",
       " ('SG 553', 1),\n",
       " ('UMP-45', 1),\n",
       " ('M249', 1),\n",
       " ('MAG-7', 1),\n",
       " ('Sawed-Off', 0),\n",
       " ('Galil AR', 0),\n",
       " ('FAMAS', 0),\n",
       " ('MAC-10', 0)]"
      ]
     },
     "metadata": {},
     "output_type": "display_data"
    }
   ],
   "source": [
    "display(sorted(gun_patches_count, key=lambda x: x[1], reverse=True))"
   ]
  },
  {
   "cell_type": "code",
   "execution_count": null,
   "metadata": {},
   "outputs": [],
   "source": []
  }
 ],
 "metadata": {
  "kernelspec": {
   "display_name": "Python 3",
   "language": "python",
   "name": "python3"
  },
  "language_info": {
   "codemirror_mode": {
    "name": "ipython",
    "version": 3
   },
   "file_extension": ".py",
   "mimetype": "text/x-python",
   "name": "python",
   "nbconvert_exporter": "python",
   "pygments_lexer": "ipython3",
   "version": "3.6.6"
  }
 },
 "nbformat": 4,
 "nbformat_minor": 2
}
