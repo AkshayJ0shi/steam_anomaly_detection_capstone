{
 "cells": [
  {
   "cell_type": "code",
   "execution_count": 61,
   "metadata": {},
   "outputs": [],
   "source": [
    "from pymongo import MongoClient\n",
    "import pandas as pd\n",
    "import numpy as np\n",
    "import matplotlib.pyplot as plt\n",
    "import warnings\n",
    "warnings.filterwarnings('ignore')"
   ]
  },
  {
   "cell_type": "code",
   "execution_count": 2,
   "metadata": {},
   "outputs": [],
   "source": [
    "%load_ext autoreload\n",
    "%autoreload 2\n",
    "%matplotlib inline"
   ]
  },
  {
   "cell_type": "code",
   "execution_count": 15,
   "metadata": {},
   "outputs": [],
   "source": [
    "client = MongoClient()\n",
    "db = client['steam_capstone']\n",
    "market_collection = db['market']\n",
    "mc_collection = db['metacritic']\n",
    "tags_collection = db['tags']"
   ]
  },
  {
   "cell_type": "code",
   "execution_count": 38,
   "metadata": {},
   "outputs": [],
   "source": [
    "with open('data/sourced_id_to_name.txt') as f:\n",
    "    id_to_name_dict = eval(f.read())"
   ]
  },
  {
   "cell_type": "markdown",
   "metadata": {},
   "source": [
    "# Example of each document:"
   ]
  },
  {
   "cell_type": "markdown",
   "metadata": {},
   "source": [
    "### Market:"
   ]
  },
  {
   "cell_type": "code",
   "execution_count": 19,
   "metadata": {},
   "outputs": [
    {
     "data": {
      "text/plain": [
       "{'_id': ObjectId('5b629c758267aeaedbbb6e4a'),\n",
       " 'item_name': 'Letters, vol. 2: L (Carrot)',\n",
       " 'app': 614910,\n",
       " 'prices': [{'date': 'Jul 21 2017 01: +0',\n",
       "   'median_sell_price': 0.133,\n",
       "   'quantity': '1'},\n",
       "  {'date': 'Jul 23 2017 01: +0', 'median_sell_price': 0.13, 'quantity': '2'},\n",
       "  {'date': 'Jul 29 2017 01: +0', 'median_sell_price': 0.096, 'quantity': '1'},\n",
       "  {'date': 'Jul 30 2017 01: +0', 'median_sell_price': 0.102, 'quantity': '3'},\n",
       "  {'date': 'Aug 01 2017 01: +0', 'median_sell_price': 0.08, 'quantity': '1'},\n",
       "  {'date': 'Aug 02 2017 01: +0', 'median_sell_price': 0.106, 'quantity': '1'},\n",
       "  {'date': 'Aug 04 2017 01: +0', 'median_sell_price': 0.11, 'quantity': '1'},\n",
       "  {'date': 'Aug 08 2017 01: +0', 'median_sell_price': 0.081, 'quantity': '1'},\n",
       "  {'date': 'Aug 09 2017 01: +0', 'median_sell_price': 0.094, 'quantity': '1'},\n",
       "  {'date': 'Aug 13 2017 01: +0', 'median_sell_price': 0.102, 'quantity': '3'},\n",
       "  {'date': 'Aug 17 2017 01: +0', 'median_sell_price': 0.079, 'quantity': '1'},\n",
       "  {'date': 'Aug 19 2017 01: +0', 'median_sell_price': 0.1, 'quantity': '1'},\n",
       "  {'date': 'Aug 24 2017 01: +0', 'median_sell_price': 0.08, 'quantity': '1'},\n",
       "  {'date': 'Aug 26 2017 01: +0', 'median_sell_price': 0.09, 'quantity': '1'},\n",
       "  {'date': 'Aug 28 2017 01: +0', 'median_sell_price': 0.084, 'quantity': '1'},\n",
       "  {'date': 'Sep 02 2017 01: +0', 'median_sell_price': 0.05, 'quantity': '1'},\n",
       "  {'date': 'Sep 07 2017 01: +0', 'median_sell_price': 0.095, 'quantity': '1'},\n",
       "  {'date': 'Sep 08 2017 01: +0', 'median_sell_price': 0.096, 'quantity': '1'},\n",
       "  {'date': 'Sep 10 2017 01: +0', 'median_sell_price': 0.09, 'quantity': '1'},\n",
       "  {'date': 'Sep 16 2017 01: +0', 'median_sell_price': 0.08, 'quantity': '2'},\n",
       "  {'date': 'Sep 17 2017 01: +0', 'median_sell_price': 0.083, 'quantity': '1'},\n",
       "  {'date': 'Sep 21 2017 01: +0', 'median_sell_price': 0.071, 'quantity': '1'},\n",
       "  {'date': 'Sep 22 2017 01: +0', 'median_sell_price': 0.03, 'quantity': '1'},\n",
       "  {'date': 'Sep 24 2017 01: +0', 'median_sell_price': 0.04, 'quantity': '1'},\n",
       "  {'date': 'Sep 26 2017 01: +0', 'median_sell_price': 0.047, 'quantity': '1'},\n",
       "  {'date': 'Sep 27 2017 01: +0', 'median_sell_price': 0.038, 'quantity': '1'},\n",
       "  {'date': 'Sep 28 2017 01: +0', 'median_sell_price': 0.07, 'quantity': '1'},\n",
       "  {'date': 'Oct 09 2017 01: +0', 'median_sell_price': 0.034, 'quantity': '1'},\n",
       "  {'date': 'Oct 10 2017 01: +0', 'median_sell_price': 0.032, 'quantity': '1'},\n",
       "  {'date': 'Oct 11 2017 01: +0', 'median_sell_price': 0.043, 'quantity': '1'},\n",
       "  {'date': 'Oct 12 2017 01: +0', 'median_sell_price': 0.049, 'quantity': '1'},\n",
       "  {'date': 'Oct 16 2017 01: +0', 'median_sell_price': 0.045, 'quantity': '2'},\n",
       "  {'date': 'Oct 24 2017 01: +0', 'median_sell_price': 0.07, 'quantity': '1'},\n",
       "  {'date': 'Oct 26 2017 01: +0', 'median_sell_price': 0.05, 'quantity': '2'},\n",
       "  {'date': 'Oct 28 2017 01: +0', 'median_sell_price': 0.065, 'quantity': '1'},\n",
       "  {'date': 'Oct 31 2017 01: +0', 'median_sell_price': 0.055, 'quantity': '3'},\n",
       "  {'date': 'Nov 02 2017 01: +0', 'median_sell_price': 0.048, 'quantity': '2'},\n",
       "  {'date': 'Nov 04 2017 01: +0', 'median_sell_price': 0.058, 'quantity': '1'},\n",
       "  {'date': 'Nov 07 2017 01: +0', 'median_sell_price': 0.06, 'quantity': '1'},\n",
       "  {'date': 'Nov 08 2017 01: +0', 'median_sell_price': 0.06, 'quantity': '1'},\n",
       "  {'date': 'Nov 09 2017 01: +0', 'median_sell_price': 0.031, 'quantity': '1'},\n",
       "  {'date': 'Nov 10 2017 01: +0', 'median_sell_price': 0.036, 'quantity': '1'},\n",
       "  {'date': 'Nov 11 2017 01: +0', 'median_sell_price': 0.038, 'quantity': '1'},\n",
       "  {'date': 'Nov 14 2017 01: +0', 'median_sell_price': 0.048, 'quantity': '2'},\n",
       "  {'date': 'Nov 18 2017 01: +0', 'median_sell_price': 0.053, 'quantity': '1'},\n",
       "  {'date': 'Nov 21 2017 01: +0', 'median_sell_price': 0.071, 'quantity': '1'},\n",
       "  {'date': 'Nov 26 2017 01: +0', 'median_sell_price': 0.03, 'quantity': '1'},\n",
       "  {'date': 'Nov 27 2017 01: +0', 'median_sell_price': 0.05, 'quantity': '1'},\n",
       "  {'date': 'Dec 01 2017 01: +0', 'median_sell_price': 0.07, 'quantity': '2'},\n",
       "  {'date': 'Dec 03 2017 01: +0', 'median_sell_price': 0.049, 'quantity': '1'},\n",
       "  {'date': 'Dec 06 2017 01: +0', 'median_sell_price': 0.059, 'quantity': '1'},\n",
       "  {'date': 'Dec 10 2017 01: +0', 'median_sell_price': 0.073, 'quantity': '1'},\n",
       "  {'date': 'Dec 17 2017 01: +0', 'median_sell_price': 0.09, 'quantity': '1'},\n",
       "  {'date': 'Dec 18 2017 01: +0', 'median_sell_price': 0.094, 'quantity': '1'},\n",
       "  {'date': 'Dec 21 2017 01: +0', 'median_sell_price': 0.08, 'quantity': '1'},\n",
       "  {'date': 'Dec 24 2017 01: +0', 'median_sell_price': 0.083, 'quantity': '1'},\n",
       "  {'date': 'Dec 25 2017 01: +0', 'median_sell_price': 0.063, 'quantity': '2'},\n",
       "  {'date': 'Jan 02 2018 01: +0', 'median_sell_price': 0.055, 'quantity': '2'},\n",
       "  {'date': 'Jan 04 2018 01: +0', 'median_sell_price': 0.043, 'quantity': '1'},\n",
       "  {'date': 'Jan 08 2018 01: +0', 'median_sell_price': 0.04, 'quantity': '1'},\n",
       "  {'date': 'Jan 11 2018 01: +0', 'median_sell_price': 0.048, 'quantity': '2'},\n",
       "  {'date': 'Jan 12 2018 01: +0', 'median_sell_price': 0.042, 'quantity': '1'},\n",
       "  {'date': 'Jan 14 2018 01: +0', 'median_sell_price': 0.04, 'quantity': '1'},\n",
       "  {'date': 'Jan 16 2018 01: +0', 'median_sell_price': 0.064, 'quantity': '1'},\n",
       "  {'date': 'Jan 22 2018 01: +0', 'median_sell_price': 0.044, 'quantity': '1'},\n",
       "  {'date': 'Jan 25 2018 01: +0', 'median_sell_price': 0.042, 'quantity': '1'},\n",
       "  {'date': 'Jan 29 2018 01: +0', 'median_sell_price': 0.043, 'quantity': '1'},\n",
       "  {'date': 'Feb 04 2018 01: +0', 'median_sell_price': 0.06, 'quantity': '1'},\n",
       "  {'date': 'Feb 06 2018 01: +0', 'median_sell_price': 0.037, 'quantity': '1'},\n",
       "  {'date': 'Feb 14 2018 01: +0', 'median_sell_price': 0.033, 'quantity': '1'},\n",
       "  {'date': 'Feb 17 2018 01: +0', 'median_sell_price': 0.039, 'quantity': '1'},\n",
       "  {'date': 'Feb 25 2018 01: +0', 'median_sell_price': 0.037, 'quantity': '1'},\n",
       "  {'date': 'Feb 28 2018 01: +0', 'median_sell_price': 0.046, 'quantity': '1'},\n",
       "  {'date': 'Mar 03 2018 01: +0', 'median_sell_price': 0.074, 'quantity': '1'},\n",
       "  {'date': 'Mar 04 2018 01: +0', 'median_sell_price': 0.045, 'quantity': '1'},\n",
       "  {'date': 'Mar 05 2018 01: +0', 'median_sell_price': 0.074, 'quantity': '1'},\n",
       "  {'date': 'Mar 06 2018 01: +0', 'median_sell_price': 0.074, 'quantity': '1'},\n",
       "  {'date': 'Mar 08 2018 01: +0', 'median_sell_price': 0.069, 'quantity': '1'},\n",
       "  {'date': 'Mar 10 2018 01: +0', 'median_sell_price': 0.086, 'quantity': '1'},\n",
       "  {'date': 'Mar 15 2018 01: +0', 'median_sell_price': 0.098, 'quantity': '1'},\n",
       "  {'date': 'Mar 20 2018 01: +0', 'median_sell_price': 0.076, 'quantity': '1'},\n",
       "  {'date': 'Mar 21 2018 01: +0', 'median_sell_price': 0.111, 'quantity': '2'},\n",
       "  {'date': 'Mar 25 2018 01: +0', 'median_sell_price': 0.115, 'quantity': '2'},\n",
       "  {'date': 'Apr 01 2018 01: +0', 'median_sell_price': 0.03, 'quantity': '1'},\n",
       "  {'date': 'Apr 15 2018 01: +0', 'median_sell_price': 0.074, 'quantity': '1'},\n",
       "  {'date': 'Apr 17 2018 01: +0', 'median_sell_price': 0.099, 'quantity': '1'},\n",
       "  {'date': 'Apr 28 2018 01: +0', 'median_sell_price': 0.085, 'quantity': '1'},\n",
       "  {'date': 'May 01 2018 01: +0', 'median_sell_price': 0.067, 'quantity': '1'},\n",
       "  {'date': 'May 04 2018 01: +0', 'median_sell_price': 0.083, 'quantity': '1'},\n",
       "  {'date': 'May 06 2018 01: +0', 'median_sell_price': 0.071, 'quantity': '1'},\n",
       "  {'date': 'May 15 2018 01: +0', 'median_sell_price': 0.066, 'quantity': '1'},\n",
       "  {'date': 'May 27 2018 01: +0', 'median_sell_price': 0.065, 'quantity': '2'},\n",
       "  {'date': 'Jun 08 2018 01: +0', 'median_sell_price': 0.064, 'quantity': '1'},\n",
       "  {'date': 'Jun 15 2018 01: +0', 'median_sell_price': 0.059, 'quantity': '1'},\n",
       "  {'date': 'Jun 29 2018 01: +0', 'median_sell_price': 0.03, 'quantity': '1'},\n",
       "  {'date': 'Jul 04 2018 20: +0', 'median_sell_price': 0.07, 'quantity': '1'},\n",
       "  {'date': 'Jul 07 2018 00: +0', 'median_sell_price': 0.041, 'quantity': '1'},\n",
       "  {'date': 'Jul 10 2018 05: +0', 'median_sell_price': 0.03, 'quantity': '1'},\n",
       "  {'date': 'Jul 17 2018 19: +0', 'median_sell_price': 0.058, 'quantity': '1'},\n",
       "  {'date': 'Jul 20 2018 18: +0', 'median_sell_price': 0.03, 'quantity': '2'},\n",
       "  {'date': 'Aug 01 2018 01: +0', 'median_sell_price': 0.03, 'quantity': '1'},\n",
       "  {'date': 'Aug 01 2018 21: +0', 'median_sell_price': 0.04, 'quantity': '1'}]}"
      ]
     },
     "execution_count": 19,
     "metadata": {},
     "output_type": "execute_result"
    }
   ],
   "source": [
    "market_collection.find_one()"
   ]
  },
  {
   "cell_type": "markdown",
   "metadata": {},
   "source": [
    "### Metacritic Scores:"
   ]
  },
  {
   "cell_type": "code",
   "execution_count": 20,
   "metadata": {},
   "outputs": [
    {
     "data": {
      "text/plain": [
       "{'_id': ObjectId('5b6881348267aee511237fd0'),\n",
       " 'app': '322330',\n",
       " 'metacritic_score': 83}"
      ]
     },
     "execution_count": 20,
     "metadata": {},
     "output_type": "execute_result"
    }
   ],
   "source": [
    "mc_collection.find_one()"
   ]
  },
  {
   "cell_type": "markdown",
   "metadata": {},
   "source": [
    "### Tags:"
   ]
  },
  {
   "cell_type": "code",
   "execution_count": 21,
   "metadata": {},
   "outputs": [
    {
     "data": {
      "text/plain": [
       "{'_id': ObjectId('5b6881408267aee514ed35b6'),\n",
       " 'app': '530300',\n",
       " 'tags': [{'tagid': 597, 'name': 'Casual', 'count': 22},\n",
       "  {'tagid': 19, 'name': 'Action', 'count': 21},\n",
       "  {'tagid': 492, 'name': 'Indie', 'count': 21},\n",
       "  {'tagid': 128, 'name': 'Massively Multiplayer', 'count': 19},\n",
       "  {'tagid': 3859, 'name': 'Multiplayer', 'count': 12},\n",
       "  {'tagid': 5350, 'name': 'Family Friendly', 'count': 11},\n",
       "  {'tagid': 7368, 'name': 'Local Multiplayer', 'count': 11}]}"
      ]
     },
     "execution_count": 21,
     "metadata": {},
     "output_type": "execute_result"
    }
   ],
   "source": [
    "tags_collection.find_one()"
   ]
  },
  {
   "cell_type": "markdown",
   "metadata": {},
   "source": [
    "# Counts of items, games, etc."
   ]
  },
  {
   "cell_type": "code",
   "execution_count": 24,
   "metadata": {},
   "outputs": [
    {
     "name": "stdout",
     "output_type": "stream",
     "text": [
      "Apps in market collection: 105\n",
      "Apps in metacritic collection: 19\n",
      "Apps in tags collection: 110\n"
     ]
    }
   ],
   "source": [
    "print('Apps in market collection: ' + str(len(set([x['app'] for x in market_collection.find()]))))\n",
    "print('Apps in metacritic collection: ' + str(len(set([x['app'] for x in mc_collection.find()]))))\n",
    "print('Apps in tags collection: ' + str(len(set([x['app'] for x in tags_collection.find()]))))"
   ]
  },
  {
   "cell_type": "code",
   "execution_count": 12,
   "metadata": {},
   "outputs": [
    {
     "name": "stdout",
     "output_type": "stream",
     "text": [
      "Number of items: 97,636\n"
     ]
    }
   ],
   "source": [
    "print('Number of items: ' + '{:,}'.format(db.market.count()))"
   ]
  },
  {
   "cell_type": "code",
   "execution_count": 10,
   "metadata": {},
   "outputs": [],
   "source": [
    "num_entries = 0\n",
    "for doc in market_collection.find():\n",
    "    num_entries += len(doc['prices'])"
   ]
  },
  {
   "cell_type": "code",
   "execution_count": 14,
   "metadata": {},
   "outputs": [
    {
     "name": "stdout",
     "output_type": "stream",
     "text": [
      "Number of data points: 43,184,143\n"
     ]
    }
   ],
   "source": [
    "print('Number of data points: ' + '{:,}'.format(num_entries))"
   ]
  },
  {
   "cell_type": "markdown",
   "metadata": {},
   "source": [
    "# Which games are missing in each category?"
   ]
  },
  {
   "cell_type": "code",
   "execution_count": 25,
   "metadata": {},
   "outputs": [],
   "source": [
    "market_apps = set([x['app'] for x in market_collection.find()])"
   ]
  },
  {
   "cell_type": "code",
   "execution_count": 26,
   "metadata": {},
   "outputs": [],
   "source": [
    "metacritic_apps = set([x['app'] for x in mc_collection.find()])"
   ]
  },
  {
   "cell_type": "code",
   "execution_count": 27,
   "metadata": {},
   "outputs": [],
   "source": [
    "tags_apps = set([x['app'] for x in tags_collection.find()])"
   ]
  },
  {
   "cell_type": "code",
   "execution_count": 58,
   "metadata": {},
   "outputs": [
    {
     "name": "stdout",
     "output_type": "stream",
     "text": [
      "Number of games in market data: 105\n",
      "Number of games in metacritic data: 19\n",
      "Number of games in tags data: 110\n"
     ]
    }
   ],
   "source": [
    "print('Number of games in market data: ' + str(len(market_apps)))\n",
    "print('Number of games in metacritic data: ' + str(len(metacritic_apps)))\n",
    "print('Number of games in tags data: ' + str(len(tags_apps)))"
   ]
  },
  {
   "cell_type": "code",
   "execution_count": 60,
   "metadata": {},
   "outputs": [
    {
     "name": "stdout",
     "output_type": "stream",
     "text": [
      "Games on market that I don't have tags for: \n",
      "Burst The Game\n"
     ]
    }
   ],
   "source": [
    "print('Games on market that I don\\'t have tags for: ')\n",
    "for x in market_apps:\n",
    "    if str(x) not in tags_apps:\n",
    "        print(id_to_name_dict[str(x)])"
   ]
  },
  {
   "cell_type": "code",
   "execution_count": null,
   "metadata": {},
   "outputs": [],
   "source": [
    "# Find the number of items per game"
   ]
  },
  {
   "cell_type": "code",
   "execution_count": 45,
   "metadata": {},
   "outputs": [],
   "source": [
    "items_per_game = {}\n",
    "for game in market_apps:\n",
    "    items_per_game[id_to_name_dict[str(game)]] = market_collection.find({'app':game}).count()"
   ]
  },
  {
   "cell_type": "code",
   "execution_count": 53,
   "metadata": {},
   "outputs": [],
   "source": [
    "import operator\n",
    "sorted_items_per_game = sorted(items_per_game.items(), key=lambda kv: kv[1], reverse=True)"
   ]
  },
  {
   "cell_type": "markdown",
   "metadata": {},
   "source": [
    "# Number of items per game:"
   ]
  },
  {
   "cell_type": "code",
   "execution_count": 55,
   "metadata": {},
   "outputs": [
    {
     "data": {
      "text/plain": [
       "[('Team Fortress 2', 31584),\n",
       " ('Dota 2', 31337),\n",
       " ('Counter-Strike: Global Offensive', 10765),\n",
       " ('Unturned', 6076),\n",
       " ('PAYDAY 2', 3900),\n",
       " ('Killing Floor 2', 2075),\n",
       " ('Rust', 1336),\n",
       " ('#monstercakes', 1178),\n",
       " ('Ballistic Overkill', 993),\n",
       " ('Primal Carnage: Extinction', 725),\n",
       " ('H1Z1', 676),\n",
       " ('The Culling', 557),\n",
       " ('Zombie Grinder', 420),\n",
       " ('Depth', 352),\n",
       " ('SNOW', 343),\n",
       " ('BattleBlock Theater', 326),\n",
       " (\"PLAYERUNKNOWN'S BATTLEGROUNDS\", 311),\n",
       " (\"Don't Starve Together\", 297),\n",
       " ('Supraball', 289),\n",
       " ('BATTALION 1944', 274),\n",
       " ('Redout: Enhanced Edition', 255),\n",
       " ('Space Engineers', 241),\n",
       " ('Altitude0: Lower & Faster', 223),\n",
       " ('Call to Arms', 216),\n",
       " ('Black Squad', 212),\n",
       " ('Robot Roller-Derby Disco Dodgeball', 182),\n",
       " ('Rebons', 153),\n",
       " ('Golf With Your Friends', 121),\n",
       " ('Gremlins, Inc.', 114),\n",
       " ('Reflex Arena', 114),\n",
       " ('Golf It!', 108),\n",
       " ('Brawl of Ages', 108),\n",
       " ('Armello', 105),\n",
       " ('Villages', 101),\n",
       " ('Heliborne', 100),\n",
       " ('Awesome Metal Detecting', 88),\n",
       " ('Forgotten Lore', 80),\n",
       " ('Ratz Instagib 2.0', 80),\n",
       " ('Move or Die', 71),\n",
       " ('INTERSHELTER', 70),\n",
       " ('Savage Resurrection', 67),\n",
       " ('Immune', 64),\n",
       " ('ULTIMATE ARENA: SHOWDOWN', 58),\n",
       " ('Miscreated', 55),\n",
       " ('Shoppe Keep 2', 52),\n",
       " ('Business Tour - Online Multiplayer Board Game', 52),\n",
       " ('Natural Selection 2', 50),\n",
       " ('Ball 3D: Soccer Online', 48),\n",
       " ('Project Lounge', 44),\n",
       " ('Slymes', 40),\n",
       " ('Nine Parchments', 35),\n",
       " ('Euro Truck Simulator 2', 34),\n",
       " ('Day of Infamy', 31),\n",
       " ('VODKA', 30),\n",
       " ('Just Survive', 29),\n",
       " ('Intralism', 27),\n",
       " ('Bunny Hop League', 24),\n",
       " ('Knife Battles', 24),\n",
       " ('SpeedRunners', 23),\n",
       " ('- Arcane Raise -', 21),\n",
       " ('Interstellar Rift', 21),\n",
       " ('Stardrift Nomads', 19),\n",
       " ('HUNGER', 16),\n",
       " ('Burst The Game', 15),\n",
       " ('Argo', 15),\n",
       " ('Half-Life: C.A.G.E.D.', 12),\n",
       " ('Path of Exile', 12),\n",
       " ('Rogue Agent', 12),\n",
       " ('Warframe', 11),\n",
       " ('American Truck Simulator', 11),\n",
       " ('SosSurvival', 9),\n",
       " ('FreeCell Quest', 9),\n",
       " ('Alien Hostage', 9),\n",
       " ('Rival Rampage', 8),\n",
       " ('Unearthing Process', 8),\n",
       " ('→SUMETRICK←', 8),\n",
       " ('Subnautica', 7),\n",
       " ('MegaRats', 6),\n",
       " ('DeDrive', 5),\n",
       " ('BATTLECREW Space Pirates', 5),\n",
       " ('Ember Strike', 5),\n",
       " ('Burst Into', 4),\n",
       " ('Be Quiet!', 4),\n",
       " ('I may die!', 4),\n",
       " ('Emily is Away', 3),\n",
       " ('Bloody Walls', 3),\n",
       " ('中国象棋', 3),\n",
       " ('Suicideville', 3),\n",
       " ('Fruit Ninja VR', 3),\n",
       " ('Hired Ops', 2),\n",
       " ('Realm Revolutions', 2),\n",
       " ('OLDTV', 2),\n",
       " ('DEAD DOZEN', 2),\n",
       " ('Died Of Fear', 2),\n",
       " ('Undarkened', 2),\n",
       " ('Mech Anarchy', 1),\n",
       " ('Black_Faith.', 1),\n",
       " ('Children of Orc', 1),\n",
       " ('Moon Bullet', 1),\n",
       " ('Deadhold', 1),\n",
       " ('Epic Royal', 1),\n",
       " ('Shoot Mania VR: Fun Zombies', 1),\n",
       " ('MineSweeper VR', 1),\n",
       " ('Wallpaper Engine', 1),\n",
       " ('Screeps', 1)]"
      ]
     },
     "execution_count": 55,
     "metadata": {},
     "output_type": "execute_result"
    }
   ],
   "source": [
    "sorted_items_per_game"
   ]
  },
  {
   "cell_type": "code",
   "execution_count": null,
   "metadata": {},
   "outputs": [],
   "source": []
  }
 ],
 "metadata": {
  "kernelspec": {
   "display_name": "Python 3",
   "language": "python",
   "name": "python3"
  },
  "language_info": {
   "codemirror_mode": {
    "name": "ipython",
    "version": 3
   },
   "file_extension": ".py",
   "mimetype": "text/x-python",
   "name": "python",
   "nbconvert_exporter": "python",
   "pygments_lexer": "ipython3",
   "version": "3.6.6"
  }
 },
 "nbformat": 4,
 "nbformat_minor": 2
}
