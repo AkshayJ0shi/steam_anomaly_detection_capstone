{
 "cells": [
  {
   "cell_type": "markdown",
   "metadata": {},
   "source": [
    "# Scraping item collection/case series, and release date"
   ]
  },
  {
   "cell_type": "code",
   "execution_count": 2,
   "metadata": {},
   "outputs": [],
   "source": [
    "from bs4 import BeautifulSoup\n",
    "import pandas as pd\n",
    "import numpy as np\n",
    "import matplotlib.pyplot as plt\n",
    "import pickle\n",
    "import requests\n",
    "import warnings\n",
    "warnings.filterwarnings('ignore')"
   ]
  },
  {
   "cell_type": "code",
   "execution_count": 48,
   "metadata": {},
   "outputs": [],
   "source": [
    "collections = requests.get('https://www.csgodatabase.com/collections/')\n",
    "cases =  requests.get('https://www.csgodatabase.com/cases/')"
   ]
  },
  {
   "cell_type": "code",
   "execution_count": null,
   "metadata": {},
   "outputs": [],
   "source": [
    "bscollections = BeautifulSoup(collections.content)\n",
    "bscase = BeautifulSoup(cases.text)"
   ]
  },
  {
   "cell_type": "markdown",
   "metadata": {},
   "source": [
    "## Putting collection release date, names, and links into a dict. I will use the links to get the items that were released in that collection "
   ]
  },
  {
   "cell_type": "code",
   "execution_count": 58,
   "metadata": {},
   "outputs": [],
   "source": [
    "collection_dict = []\n",
    "for x in a:\n",
    "    current_dict = {}\n",
    "    current_dict['collection'] = x.div.text\n",
    "    current_dict['link'] = x.a['href']\n",
    "    current_dict['release_date'] = x.find(attrs={'class':\"introduced-skinbox\"}).text\n",
    "    collection_dict.append(current_dict)"
   ]
  },
  {
   "cell_type": "code",
   "execution_count": 59,
   "metadata": {},
   "outputs": [
    {
     "data": {
      "text/plain": [
       "[{'collection': 'The Alpha Collection',\n",
       "  'link': 'https://www.csgodatabase.com/collections/the-alpha-collection/',\n",
       "  'release_date': '19 September 2013'},\n",
       " {'collection': 'The Assault Collection',\n",
       "  'link': 'https://www.csgodatabase.com/collections/the-assault-collection/',\n",
       "  'release_date': '14 August 2013'},\n",
       " {'collection': 'The Aztec Collection',\n",
       "  'link': 'https://www.csgodatabase.com/collections/the-aztec-collection/',\n",
       "  'release_date': '14 August 2013'},\n",
       " {'collection': 'The Baggage Collection',\n",
       "  'link': 'https://www.csgodatabase.com/collections/the-baggage-collection/',\n",
       "  'release_date': '1 July 2014'},\n",
       " {'collection': 'The Bank Collection',\n",
       "  'link': 'https://www.csgodatabase.com/collections/the-bank-collection/',\n",
       "  'release_date': '1 May 2014'},\n",
       " {'collection': 'The Cache Collection',\n",
       "  'link': 'https://www.csgodatabase.com/collections/the-cache-collection/',\n",
       "  'release_date': '8 August 2014'},\n",
       " {'collection': 'The Chop Shop Collection',\n",
       "  'link': 'https://www.csgodatabase.com/collections/the-chop-shop-collection/',\n",
       "  'release_date': '26 May 2015'},\n",
       " {'collection': 'The Cobblestone Collection',\n",
       "  'link': 'https://www.csgodatabase.com/collections/the-cobblestone-collection/',\n",
       "  'release_date': '1 July 2014'},\n",
       " {'collection': 'The Dust Collection',\n",
       "  'link': 'https://www.csgodatabase.com/collections/the-dust-collection/',\n",
       "  'release_date': '14 August 2013'},\n",
       " {'collection': 'The Dust 2 Collection',\n",
       "  'link': 'https://www.csgodatabase.com/collections/the-dust-2-collection/',\n",
       "  'release_date': '27 November 2013'},\n",
       " {'collection': 'The Gods and Monsters Collection',\n",
       "  'link': 'https://www.csgodatabase.com/collections/the-gods-and-monsters-collection/',\n",
       "  'release_date': '26 May 2015'},\n",
       " {'collection': 'The Inferno Collection',\n",
       "  'link': 'https://www.csgodatabase.com/collections/the-inferno-collection/',\n",
       "  'release_date': '14 August 2013'},\n",
       " {'collection': 'The Italy Collection',\n",
       "  'link': 'https://www.csgodatabase.com/collections/the-italy-collection/',\n",
       "  'release_date': '27 November 2013'},\n",
       " {'collection': 'The Lake Collection',\n",
       "  'link': 'https://www.csgodatabase.com/collections/the-lake-collection/',\n",
       "  'release_date': '27 November 2013'},\n",
       " {'collection': 'The Militia Collection',\n",
       "  'link': 'https://www.csgodatabase.com/collections/the-militia-collection/',\n",
       "  'release_date': '14 August 2013'},\n",
       " {'collection': 'The Mirage Collection',\n",
       "  'link': 'https://www.csgodatabase.com/collections/the-mirage-collection/',\n",
       "  'release_date': '27 November 2013'},\n",
       " {'collection': 'The Nuke Collection',\n",
       "  'link': 'https://www.csgodatabase.com/collections/the-nuke-collection/',\n",
       "  'release_date': '14 August 2013'},\n",
       " {'collection': 'The Office Collection',\n",
       "  'link': 'https://www.csgodatabase.com/collections/the-office-collection/',\n",
       "  'release_date': '14 August 2013'},\n",
       " {'collection': 'The Overpass Collection',\n",
       "  'link': 'https://www.csgodatabase.com/collections/the-overpass-collection/',\n",
       "  'release_date': '1 July 2014'},\n",
       " {'collection': 'The Rising Sun Collection',\n",
       "  'link': 'https://www.csgodatabase.com/collections/the-rising-sun-collection/',\n",
       "  'release_date': '26 May 2015'},\n",
       " {'collection': 'The Safehouse Collection',\n",
       "  'link': 'https://www.csgodatabase.com/collections/the-safehouse-collection/',\n",
       "  'release_date': '27 November 2013'},\n",
       " {'collection': 'The Train Collection',\n",
       "  'link': 'https://www.csgodatabase.com/collections/the-train-collection/',\n",
       "  'release_date': '27 November 2013'},\n",
       " {'collection': 'The Vertigo Collection',\n",
       "  'link': 'https://www.csgodatabase.com/collections/the-vertigo-collection/',\n",
       "  'release_date': '14 August 2013'}]"
      ]
     },
     "execution_count": 59,
     "metadata": {},
     "output_type": "execute_result"
    }
   ],
   "source": [
    "collection_dict"
   ]
  },
  {
   "cell_type": "markdown",
   "metadata": {},
   "source": [
    "## Putting case release dates, names, and links into a dict. I will use the links to get the items that were released in that case. The html for this pages was harder to work with for some reason "
   ]
  },
  {
   "cell_type": "markdown",
   "metadata": {},
   "source": [
    "### Confirming lengths:"
   ]
  },
  {
   "cell_type": "code",
   "execution_count": 155,
   "metadata": {},
   "outputs": [
    {
     "data": {
      "text/plain": [
       "26"
      ]
     },
     "execution_count": 155,
     "metadata": {},
     "output_type": "execute_result"
    }
   ],
   "source": [
    "len(b.find_all('a'))"
   ]
  },
  {
   "cell_type": "code",
   "execution_count": 156,
   "metadata": {},
   "outputs": [
    {
     "data": {
      "text/plain": [
       "26"
      ]
     },
     "execution_count": 156,
     "metadata": {},
     "output_type": "execute_result"
    }
   ],
   "source": [
    "len(b.find_all(attrs={'class':'ConsumerSkinBox'}))"
   ]
  },
  {
   "cell_type": "code",
   "execution_count": 157,
   "metadata": {},
   "outputs": [
    {
     "data": {
      "text/plain": [
       "26"
      ]
     },
     "execution_count": 157,
     "metadata": {},
     "output_type": "execute_result"
    }
   ],
   "source": [
    "len(b.find_all(attrs={'class':\"introduced-skinbox\"}))"
   ]
  },
  {
   "cell_type": "code",
   "execution_count": 154,
   "metadata": {},
   "outputs": [],
   "source": [
    "b = bscase.find(attrs={'class': 'entry-content'})\n",
    "cases_dict = []\n",
    "for x in range(len(b.find_all('a'))):\n",
    "    cases_dict.append({})\n",
    "for i, x in enumerate(b.find_all(attrs={'class':'ConsumerSkinBox'})):\n",
    "    cases_dict[i]['case'] = x.text\n",
    "for i, x in enumerate(b.find_all('a')):\n",
    "    cases_dict[i]['link'] = x['href']\n",
    "for i, x in enumerate(b.find_all(attrs={'class':\"introduced-skinbox\"})):\n",
    "    cases_dict[i]['release_date'] = x.text"
   ]
  },
  {
   "cell_type": "code",
   "execution_count": 158,
   "metadata": {},
   "outputs": [
    {
     "data": {
      "text/plain": [
       "[{'case': 'Clutch Case',\n",
       "  'link': 'https://www.csgodatabase.com/cases/clutch-case/',\n",
       "  'release_date': '15 February 2018'},\n",
       " {'case': 'Spectrum 2 Case',\n",
       "  'link': 'https://www.csgodatabase.com/cases/spectrum-2-case/',\n",
       "  'release_date': '14 September 2017'},\n",
       " {'case': 'Operation Hydra Case',\n",
       "  'link': 'https://www.csgodatabase.com/cases/operation-hydra-case/',\n",
       "  'release_date': '23 May 2017'},\n",
       " {'case': 'Spectrum Case',\n",
       "  'link': 'https://www.csgodatabase.com/cases/spectrum-case/',\n",
       "  'release_date': '15 March 2017'},\n",
       " {'case': 'Glove Case',\n",
       "  'link': 'https://www.csgodatabase.com/cases/glove-case/',\n",
       "  'release_date': '28 November 2016'},\n",
       " {'case': 'Gamma 2 Case',\n",
       "  'link': 'https://www.csgodatabase.com/cases/gamma-2-case/',\n",
       "  'release_date': '18 August 2016'},\n",
       " {'case': 'Gamma Case',\n",
       "  'link': 'https://www.csgodatabase.com/cases/gamma-case/',\n",
       "  'release_date': '15 June 2016'},\n",
       " {'case': 'Chroma 3 Case',\n",
       "  'link': 'https://www.csgodatabase.com/cases/chroma-3-case/',\n",
       "  'release_date': '27 April 2016'},\n",
       " {'case': 'Operation Wildfire Case',\n",
       "  'link': 'https://www.csgodatabase.com/cases/operation-wildfire-case/',\n",
       "  'release_date': '17 February 2016'},\n",
       " {'case': 'Revolver Case',\n",
       "  'link': 'https://www.csgodatabase.com/cases/revolver-case/',\n",
       "  'release_date': '8 December 2015'},\n",
       " {'case': 'Shadow Case',\n",
       "  'link': 'https://www.csgodatabase.com/cases/shadow-case/',\n",
       "  'release_date': '17 September 2015'},\n",
       " {'case': 'Falchion Case',\n",
       "  'link': 'https://www.csgodatabase.com/cases/falchion-case/',\n",
       "  'release_date': '26 May 2015'},\n",
       " {'case': 'Chroma 2 Case',\n",
       "  'link': 'https://www.csgodatabase.com/cases/chroma-2-case/',\n",
       "  'release_date': '15 April 2015'},\n",
       " {'case': 'Chroma Case',\n",
       "  'link': 'https://www.csgodatabase.com/cases/chroma-case/',\n",
       "  'release_date': '8 January 2015'},\n",
       " {'case': 'Operation Vanguard Weapon Case',\n",
       "  'link': 'https://www.csgodatabase.com/cases/operation-vanguard-weapon-case/',\n",
       "  'release_date': '11 November 2014'},\n",
       " {'case': 'eSports 2014 Summer Case',\n",
       "  'link': 'https://www.csgodatabase.com/cases/esports-2014-summer-case/',\n",
       "  'release_date': '10 July 2014'},\n",
       " {'case': 'Operation Breakout Weapon Case',\n",
       "  'link': 'https://www.csgodatabase.com/cases/operation-breakout-weapon-case/',\n",
       "  'release_date': '1 July 2014'},\n",
       " {'case': 'Huntsman Weapon Case',\n",
       "  'link': 'https://www.csgodatabase.com/cases/huntsman-weapon-case/',\n",
       "  'release_date': '1 May 2014'},\n",
       " {'case': 'Operation Phoenix Weapon Case',\n",
       "  'link': 'https://www.csgodatabase.com/cases/operation-phoenix-weapon-case/',\n",
       "  'release_date': '20 February 2014'},\n",
       " {'case': 'CS:GO Weapon Case 3',\n",
       "  'link': 'https://www.csgodatabase.com/cases/csgo-weapon-case-3/',\n",
       "  'release_date': '12 February 2014'},\n",
       " {'case': 'Winter Offensive Weapon Case',\n",
       "  'link': 'https://www.csgodatabase.com/cases/winter-offensive-weapon-case/',\n",
       "  'release_date': '18 December 2013'},\n",
       " {'case': 'eSports 2013 Winter Case',\n",
       "  'link': 'https://www.csgodatabase.com/cases/esports-2013-winter-case/',\n",
       "  'release_date': '18 December 2013'},\n",
       " {'case': 'CS:GO Weapon Case 2',\n",
       "  'link': 'https://www.csgodatabase.com/cases/csgo-weapon-case-2/',\n",
       "  'release_date': '8 November 2013'},\n",
       " {'case': 'Operation Bravo Case',\n",
       "  'link': 'https://www.csgodatabase.com/cases/operation-bravo-case/',\n",
       "  'release_date': '19 September 2013'},\n",
       " {'case': 'eSports 2013 Case',\n",
       "  'link': 'https://www.csgodatabase.com/cases/esports-2013-case/',\n",
       "  'release_date': '14 August 2013'},\n",
       " {'case': 'CS:GO Weapon Case',\n",
       "  'link': 'https://www.csgodatabase.com/cases/csgo-weapon-case/',\n",
       "  'release_date': '14 August 2013'}]"
      ]
     },
     "execution_count": 158,
     "metadata": {},
     "output_type": "execute_result"
    }
   ],
   "source": [
    "cases_dict"
   ]
  },
  {
   "cell_type": "markdown",
   "metadata": {},
   "source": [
    "## Now I need to scape every 'link' and get the item names associated with that case/collection"
   ]
  },
  {
   "cell_type": "code",
   "execution_count": 160,
   "metadata": {},
   "outputs": [],
   "source": [
    "r = requests.get('https://www.csgodatabase.com/cases/csgo-weapon-case/')"
   ]
  },
  {
   "cell_type": "code",
   "execution_count": null,
   "metadata": {},
   "outputs": [],
   "source": [
    "bs = BeautifulSoup(r.content)"
   ]
  },
  {
   "cell_type": "code",
   "execution_count": null,
   "metadata": {},
   "outputs": [],
   "source": [
    "for i in range(len(collection_dict)):\n",
    "    r = requests.get(collection_dict[i]['link'])\n",
    "    bs = BeautifulSoup(r.content)\n",
    "    temp_list = []\n",
    "    for item in bs.find_all(attrs={'class':'skin-box-header'}):\n",
    "        temp_list.append(item.text)\n",
    "    collection_dict[i]['items'] = temp_list"
   ]
  },
  {
   "cell_type": "code",
   "execution_count": null,
   "metadata": {},
   "outputs": [],
   "source": [
    "for i in range(len(cases_dict)):\n",
    "    r = requests.get(cases_dict[i]['link'])\n",
    "    bs = BeautifulSoup(r.content)\n",
    "    temp_list = []\n",
    "    for item in bs.find_all(attrs={'class':'skin-box-header'}):\n",
    "        temp_list.append(item.text)\n",
    "    cases_dict[i]['items'] = temp_list"
   ]
  },
  {
   "cell_type": "markdown",
   "metadata": {},
   "source": [
    "## Turns out csgodatabase doesn't have all of the items for each case. I can still use the release dates, but I am switching to scraping csgostash.com"
   ]
  },
  {
   "cell_type": "code",
   "execution_count": 229,
   "metadata": {},
   "outputs": [],
   "source": [
    "r = requests.get('https://csgostash.com/case/244/Horizon-Case')"
   ]
  },
  {
   "cell_type": "code",
   "execution_count": 230,
   "metadata": {},
   "outputs": [],
   "source": [
    "bs = BeautifulSoup(r.content)"
   ]
  },
  {
   "cell_type": "markdown",
   "metadata": {},
   "source": [
    "### This gets the links from the first two \"small\" dropdown menus, which are \"cases\" and \"collections\""
   ]
  },
  {
   "cell_type": "code",
   "execution_count": 231,
   "metadata": {},
   "outputs": [],
   "source": [
    "links = bs.find_all('ul', attrs={'class':'dropdown-menu navbar-dropdown-small'})[:2]"
   ]
  },
  {
   "cell_type": "markdown",
   "metadata": {},
   "source": [
    "### Creating list of dicts of case/collection name and links"
   ]
  },
  {
   "cell_type": "code",
   "execution_count": 232,
   "metadata": {},
   "outputs": [
    {
     "data": {
      "text/plain": [
       "{'case': 'All Skin Cases',\n",
       " 'link': 'https://csgostash.com/containers/skin-cases'}"
      ]
     },
     "execution_count": 232,
     "metadata": {},
     "output_type": "execute_result"
    }
   ],
   "source": [
    "case_dict2 = []\n",
    "for link in links[0].find_all('a'):\n",
    "    case_dict2.append({'case':link.text, 'link':link['href']})\n",
    "case_dict2.pop()\n",
    "case_dict2.pop()\n",
    "case_dict2.pop()"
   ]
  },
  {
   "cell_type": "code",
   "execution_count": 233,
   "metadata": {},
   "outputs": [],
   "source": [
    "collection_dict2 = []\n",
    "for link in links[1].find_all('a'):\n",
    "    collection_dict2.append({'case':link.text, 'link':link['href']})"
   ]
  },
  {
   "cell_type": "markdown",
   "metadata": {},
   "source": [
    "### From each case/collection link, getting all of the items and removing the extra h3 \"Recently Added Items\""
   ]
  },
  {
   "cell_type": "code",
   "execution_count": 234,
   "metadata": {},
   "outputs": [],
   "source": [
    "for case in range(len(case_dict2)):\n",
    "    r = requests.get(case_dict2[case]['link'])\n",
    "    bs = BeautifulSoup(r.content)\n",
    "    items = [x.text for x in bs.find_all('h3')]\n",
    "    try:\n",
    "        items.remove('Recently Added Items')\n",
    "    except:\n",
    "        pass\n",
    "    case_dict2[case]['items'] = items"
   ]
  },
  {
   "cell_type": "code",
   "execution_count": 235,
   "metadata": {},
   "outputs": [],
   "source": [
    "for collection in range(len(collection_dict2)):\n",
    "    r = requests.get(collection_dict2[collection]['link'])\n",
    "    bs = BeautifulSoup(r.content)\n",
    "    items = [x.text for x in bs.find_all('h3')]\n",
    "    try:\n",
    "        items.remove('Recently Added Items')\n",
    "    except:\n",
    "        pass\n",
    "    collection_dict2[collection]['items'] = items"
   ]
  },
  {
   "cell_type": "markdown",
   "metadata": {},
   "source": [
    "### Making a new dictionary of case/collection name : list of items to make it easy to transfer to the other list of dictionaries"
   ]
  },
  {
   "cell_type": "code",
   "execution_count": 240,
   "metadata": {},
   "outputs": [],
   "source": [
    "conversion_list_cases = {}\n",
    "for x in case_dict2[1:]:\n",
    "    conversion_list_cases[x['case']] = x['items']"
   ]
  },
  {
   "cell_type": "code",
   "execution_count": 241,
   "metadata": {},
   "outputs": [],
   "source": [
    "conversion_list_collections = {}\n",
    "for x in collection_dict2:\n",
    "    conversion_list_collections[x['case']] = x['items']"
   ]
  },
  {
   "cell_type": "markdown",
   "metadata": {},
   "source": [
    "### Transfer the real item list to the list of dictionaries with release dates"
   ]
  },
  {
   "cell_type": "code",
   "execution_count": 248,
   "metadata": {},
   "outputs": [],
   "source": [
    "for case in cases_dict:\n",
    "    case['items'] = conversion_list_cases[case['case']]"
   ]
  },
  {
   "cell_type": "code",
   "execution_count": 254,
   "metadata": {},
   "outputs": [],
   "source": [
    "for collection in collection_dict:\n",
    "    collection['items'] = conversion_list_collections[collection['collection'][4:]]"
   ]
  },
  {
   "cell_type": "markdown",
   "metadata": {},
   "source": [
    "## Transfer to MongoDB"
   ]
  },
  {
   "cell_type": "code",
   "execution_count": 1,
   "metadata": {},
   "outputs": [],
   "source": [
    "from pymongo import MongoClient\n",
    "client = MongoClient()\n",
    "db = client['steam_capstone']\n",
    "collection = db['item_release_dates']"
   ]
  },
  {
   "cell_type": "code",
   "execution_count": 258,
   "metadata": {},
   "outputs": [
    {
     "data": {
      "text/plain": [
       "<pymongo.results.InsertManyResult at 0x121ac8648>"
      ]
     },
     "execution_count": 258,
     "metadata": {},
     "output_type": "execute_result"
    }
   ],
   "source": [
    "# collection.insert_many(cases_dict)\n",
    "# collection.insert_many(collection_dict)"
   ]
  },
  {
   "cell_type": "markdown",
   "metadata": {},
   "source": [
    "## Bring release dates into the pickle"
   ]
  },
  {
   "cell_type": "code",
   "execution_count": 3,
   "metadata": {},
   "outputs": [],
   "source": [
    "with open('data/all_apps_df.pkl', 'rb') as f:\n",
    "    df = pickle.load(f)"
   ]
  },
  {
   "cell_type": "code",
   "execution_count": 4,
   "metadata": {},
   "outputs": [],
   "source": [
    "csdf = df[df.app == 730]\n",
    "csdf['release_date'] = np.nan"
   ]
  },
  {
   "cell_type": "code",
   "execution_count": 5,
   "metadata": {},
   "outputs": [],
   "source": [
    "releases = list(collection.find())"
   ]
  },
  {
   "cell_type": "markdown",
   "metadata": {},
   "source": [
    "#### Seems like this should work, just going to take a while?"
   ]
  },
  {
   "cell_type": "code",
   "execution_count": 6,
   "metadata": {},
   "outputs": [],
   "source": [
    "for entry in releases:\n",
    "    for item in entry['items']:\n",
    "        mask = [item + ' (' in x for x in csdf['item_name']]\n",
    "        csdf.loc[mask, 'release_date'] = entry['release_date']"
   ]
  },
  {
   "cell_type": "code",
   "execution_count": 7,
   "metadata": {},
   "outputs": [],
   "source": [
    "csdf = csdf.reset_index(drop=True)"
   ]
  },
  {
   "cell_type": "code",
   "execution_count": 9,
   "metadata": {},
   "outputs": [],
   "source": [
    "with open('csgo_df.pkl', 'wb') as f:\n",
    "    pickle.dump(csdf, f)"
   ]
  },
  {
   "cell_type": "code",
   "execution_count": null,
   "metadata": {},
   "outputs": [],
   "source": []
  }
 ],
 "metadata": {
  "kernelspec": {
   "display_name": "Python 3",
   "language": "python",
   "name": "python3"
  },
  "language_info": {
   "codemirror_mode": {
    "name": "ipython",
    "version": 3
   },
   "file_extension": ".py",
   "mimetype": "text/x-python",
   "name": "python",
   "nbconvert_exporter": "python",
   "pygments_lexer": "ipython3",
   "version": "3.6.6"
  }
 },
 "nbformat": 4,
 "nbformat_minor": 2
}
