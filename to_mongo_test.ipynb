{
 "cells": [
  {
   "cell_type": "code",
   "execution_count": 1,
   "metadata": {},
   "outputs": [],
   "source": [
    "from pymongo import MongoClient\n",
    "from urllib.parse import quote_plus as url\n",
    "import pandas as pd\n",
    "import steam.webauth as wa\n",
    "import os\n",
    "import ast\n",
    "import matplotlib.pyplot as plt\n",
    "import requests\n",
    "%matplotlib inline"
   ]
  },
  {
   "cell_type": "code",
   "execution_count": 2,
   "metadata": {},
   "outputs": [],
   "source": [
    "with open('data/reviews_fixed.txt') as f:\n",
    "    reviews = eval(f.read())"
   ]
  },
  {
   "cell_type": "code",
   "execution_count": 3,
   "metadata": {},
   "outputs": [],
   "source": [
    "client = MongoClient()\n",
    "db = client['steam_test']"
   ]
  },
  {
   "cell_type": "code",
   "execution_count": 4,
   "metadata": {},
   "outputs": [],
   "source": [
    "collection = db['reviews']"
   ]
  },
  {
   "cell_type": "code",
   "execution_count": 10,
   "metadata": {},
   "outputs": [],
   "source": [
    "for x in reviews:\n",
    "    collection.insert_many(x)"
   ]
  },
  {
   "cell_type": "code",
   "execution_count": 12,
   "metadata": {},
   "outputs": [],
   "source": [
    "df = pd.DataFrame(list(collection.find()))"
   ]
  },
  {
   "cell_type": "code",
   "execution_count": 16,
   "metadata": {},
   "outputs": [
    {
     "data": {
      "text/plain": [
       "8119"
      ]
     },
     "execution_count": 16,
     "metadata": {},
     "output_type": "execute_result"
    }
   ],
   "source": [
    "len(df.app.unique())"
   ]
  },
  {
   "cell_type": "code",
   "execution_count": 21,
   "metadata": {},
   "outputs": [
    {
     "name": "stderr",
     "output_type": "stream",
     "text": [
      "/Applications/anaconda3/lib/python3.6/site-packages/ipykernel_launcher.py:1: DeprecationWarning: collection_names is deprecated. Use list_collection_names instead.\n",
      "  \"\"\"Entry point for launching an IPython kernel.\n"
     ]
    },
    {
     "data": {
      "text/plain": [
       "['test_collection', 'reviews']"
      ]
     },
     "execution_count": 21,
     "metadata": {},
     "output_type": "execute_result"
    }
   ],
   "source": [
    "db.collection_names()"
   ]
  },
  {
   "cell_type": "code",
   "execution_count": 10,
   "metadata": {},
   "outputs": [],
   "source": [
    "user = wa.WebAuth(os.environ['STEAM_ID'], os.environ[\"STEAM_PASSWORD\"])\n",
    "session = user.login()\n",
    "app = 753\n",
    "item = '278440-Planetary%20Graveyard%20%28Foil%20Trading%20Card%29'\n",
    "response = session.get('https://steamcommunity.com/market/pricehistory/?appid={}&market_hash_name={}'.format(app, item))"
   ]
  },
  {
   "cell_type": "code",
   "execution_count": 11,
   "metadata": {},
   "outputs": [
    {
     "data": {
      "text/plain": [
       "<Response [200]>"
      ]
     },
     "execution_count": 11,
     "metadata": {},
     "output_type": "execute_result"
    }
   ],
   "source": [
    "response"
   ]
  },
  {
   "cell_type": "code",
   "execution_count": 12,
   "metadata": {},
   "outputs": [
    {
     "data": {
      "text/plain": [
       "'{\"success\":true,\"price_prefix\":\"$\",\"price_suffix\":\"\",\"prices\":[[\"Nov 12 2014 01: +0\",1.085,\"1\"],[\"Nov 13 2014 01: +0\",2.488,\"1\"],[\"Nov 20 2014 01: +0\",6.267,\"1\"],[\"Dec 11 2014 01: +0\",6.163,\"1\"],[\"Dec 14 2014 01: +0\",5.764,\"1\"],[\"Jan 01 2015 01: +0\",1.816,\"1\"],[\"Jan 09 2015 01: +0\",0.588,\"1\"],[\"Jan 15 2015 01: +0\",0.937,\"2\"],[\"Jan 22 2015 01: +0\",0.89,\"1\"],[\"Jan 23 2015 01: +0\",0.874,\"1\"],[\"Jan 31 2015 01: +0\",0.89,\"1\"],[\"Feb 02 2015 01: +0\",0.89,\"1\"],[\"Feb 10 2015 01: +0\",0.129,\"1\"],[\"Feb 20 2015 01: +0\",0.797,\"1\"],[\"Mar 27 2015 01: +0\",0.796,\"1\"],[\"Apr 06 2015 01: +0\",0.819,\"1\"],[\"Apr 07 2015 01: +0\",0.825,\"1\"],[\"Apr 09 2015 01: +0\",0.88,\"1\"],[\"Apr 12 2015 01: +0\",0.87,\"1\"],[\"May 13 2015 01: +0\",0.767,\"1\"],[\"Jun 04 2015 01: +0\",0.787,\"1\"],[\"Jun 17 2015 01: +0\",0.895,\"1\"],[\"Jun 22 2015 01: +0\",1.268,\"1\"],[\"Jun 24 2015 01: +0\",1.27,\"1\"],[\"Jun 25 2015 01: +0\",1.28,\"1\"],[\"Jul 10 2015 01: +0\",1.575,\"1\"],[\"Aug 08 2015 01: +0\",1.97,\"1\"],[\"Sep 20 2015 01: +0\",2.029,\"1\"],[\"Dec 09 2015 01: +0\",3.809,\"1\"],[\"Dec 21 2015 01: +0\",4.875,\"1\"],[\"Dec 30 2015 01: +0\",4.959,\"1\"],[\"Jan 09 2016 01: +0\",0.758,\"1\"],[\"Aug 07 2016 01: +0\",2.22,\"1\"],[\"Nov 23 2016 01: +0\",1.866,\"1\"],[\"Nov 25 2016 01: +0\",2.062,\"1\"],[\"Dec 09 2016 01: +0\",1.934,\"1\"],[\"Jan 04 2017 01: +0\",0.18,\"1\"],[\"Jan 07 2017 01: +0\",1.792,\"1\"],[\"Mar 07 2017 01: +0\",2.04,\"1\"],[\"Jul 02 2017 01: +0\",2.1,\"1\"],[\"Oct 24 2017 01: +0\",4.01,\"1\"],[\"Dec 02 2017 01: +0\",0.667,\"1\"],[\"Jan 10 2018 01: +0\",2.634,\"1\"]]}'"
      ]
     },
     "execution_count": 12,
     "metadata": {},
     "output_type": "execute_result"
    }
   ],
   "source": [
    "response.text"
   ]
  },
  {
   "cell_type": "code",
   "execution_count": 18,
   "metadata": {},
   "outputs": [],
   "source": [
    "mongo_dict = {'item_name':item, 'app': app, 'prices':[]}\n",
    "for x in response.json()['prices']:\n",
    "    mongo_dict['prices'].append({'date':x[0], 'median_sell_price':x[1], 'quantity':x[2]})"
   ]
  },
  {
   "cell_type": "code",
   "execution_count": 22,
   "metadata": {},
   "outputs": [],
   "source": [
    "collection = db['market']"
   ]
  },
  {
   "cell_type": "code",
   "execution_count": 23,
   "metadata": {},
   "outputs": [
    {
     "name": "stderr",
     "output_type": "stream",
     "text": [
      "/Applications/anaconda3/lib/python3.6/site-packages/ipykernel_launcher.py:1: DeprecationWarning: insert is deprecated. Use insert_one or insert_many instead.\n",
      "  \"\"\"Entry point for launching an IPython kernel.\n"
     ]
    },
    {
     "data": {
      "text/plain": [
       "ObjectId('5b62877e8267aeac546b1fe3')"
      ]
     },
     "execution_count": 23,
     "metadata": {},
     "output_type": "execute_result"
    }
   ],
   "source": [
    "collection.insert(mongo_dict)"
   ]
  },
  {
   "cell_type": "code",
   "execution_count": 24,
   "metadata": {},
   "outputs": [
    {
     "data": {
      "text/plain": [
       "{'_id': ObjectId('5b62877e8267aeac546b1fe3'),\n",
       " 'item_name': '278440-Planetary%20Graveyard%20%28Foil%20Trading%20Card%29',\n",
       " 'app': 753,\n",
       " 'prices': [{'date': 'Nov 12 2014 01: +0',\n",
       "   'median_sell_price': 1.085,\n",
       "   'quantity': '1'},\n",
       "  {'date': 'Nov 13 2014 01: +0', 'median_sell_price': 2.488, 'quantity': '1'},\n",
       "  {'date': 'Nov 20 2014 01: +0', 'median_sell_price': 6.267, 'quantity': '1'},\n",
       "  {'date': 'Dec 11 2014 01: +0', 'median_sell_price': 6.163, 'quantity': '1'},\n",
       "  {'date': 'Dec 14 2014 01: +0', 'median_sell_price': 5.764, 'quantity': '1'},\n",
       "  {'date': 'Jan 01 2015 01: +0', 'median_sell_price': 1.816, 'quantity': '1'},\n",
       "  {'date': 'Jan 09 2015 01: +0', 'median_sell_price': 0.588, 'quantity': '1'},\n",
       "  {'date': 'Jan 15 2015 01: +0', 'median_sell_price': 0.937, 'quantity': '2'},\n",
       "  {'date': 'Jan 22 2015 01: +0', 'median_sell_price': 0.89, 'quantity': '1'},\n",
       "  {'date': 'Jan 23 2015 01: +0', 'median_sell_price': 0.874, 'quantity': '1'},\n",
       "  {'date': 'Jan 31 2015 01: +0', 'median_sell_price': 0.89, 'quantity': '1'},\n",
       "  {'date': 'Feb 02 2015 01: +0', 'median_sell_price': 0.89, 'quantity': '1'},\n",
       "  {'date': 'Feb 10 2015 01: +0', 'median_sell_price': 0.129, 'quantity': '1'},\n",
       "  {'date': 'Feb 20 2015 01: +0', 'median_sell_price': 0.797, 'quantity': '1'},\n",
       "  {'date': 'Mar 27 2015 01: +0', 'median_sell_price': 0.796, 'quantity': '1'},\n",
       "  {'date': 'Apr 06 2015 01: +0', 'median_sell_price': 0.819, 'quantity': '1'},\n",
       "  {'date': 'Apr 07 2015 01: +0', 'median_sell_price': 0.825, 'quantity': '1'},\n",
       "  {'date': 'Apr 09 2015 01: +0', 'median_sell_price': 0.88, 'quantity': '1'},\n",
       "  {'date': 'Apr 12 2015 01: +0', 'median_sell_price': 0.87, 'quantity': '1'},\n",
       "  {'date': 'May 13 2015 01: +0', 'median_sell_price': 0.767, 'quantity': '1'},\n",
       "  {'date': 'Jun 04 2015 01: +0', 'median_sell_price': 0.787, 'quantity': '1'},\n",
       "  {'date': 'Jun 17 2015 01: +0', 'median_sell_price': 0.895, 'quantity': '1'},\n",
       "  {'date': 'Jun 22 2015 01: +0', 'median_sell_price': 1.268, 'quantity': '1'},\n",
       "  {'date': 'Jun 24 2015 01: +0', 'median_sell_price': 1.27, 'quantity': '1'},\n",
       "  {'date': 'Jun 25 2015 01: +0', 'median_sell_price': 1.28, 'quantity': '1'},\n",
       "  {'date': 'Jul 10 2015 01: +0', 'median_sell_price': 1.575, 'quantity': '1'},\n",
       "  {'date': 'Aug 08 2015 01: +0', 'median_sell_price': 1.97, 'quantity': '1'},\n",
       "  {'date': 'Sep 20 2015 01: +0', 'median_sell_price': 2.029, 'quantity': '1'},\n",
       "  {'date': 'Dec 09 2015 01: +0', 'median_sell_price': 3.809, 'quantity': '1'},\n",
       "  {'date': 'Dec 21 2015 01: +0', 'median_sell_price': 4.875, 'quantity': '1'},\n",
       "  {'date': 'Dec 30 2015 01: +0', 'median_sell_price': 4.959, 'quantity': '1'},\n",
       "  {'date': 'Jan 09 2016 01: +0', 'median_sell_price': 0.758, 'quantity': '1'},\n",
       "  {'date': 'Aug 07 2016 01: +0', 'median_sell_price': 2.22, 'quantity': '1'},\n",
       "  {'date': 'Nov 23 2016 01: +0', 'median_sell_price': 1.866, 'quantity': '1'},\n",
       "  {'date': 'Nov 25 2016 01: +0', 'median_sell_price': 2.062, 'quantity': '1'},\n",
       "  {'date': 'Dec 09 2016 01: +0', 'median_sell_price': 1.934, 'quantity': '1'},\n",
       "  {'date': 'Jan 04 2017 01: +0', 'median_sell_price': 0.18, 'quantity': '1'},\n",
       "  {'date': 'Jan 07 2017 01: +0', 'median_sell_price': 1.792, 'quantity': '1'},\n",
       "  {'date': 'Mar 07 2017 01: +0', 'median_sell_price': 2.04, 'quantity': '1'},\n",
       "  {'date': 'Jul 02 2017 01: +0', 'median_sell_price': 2.1, 'quantity': '1'},\n",
       "  {'date': 'Oct 24 2017 01: +0', 'median_sell_price': 4.01, 'quantity': '1'},\n",
       "  {'date': 'Dec 02 2017 01: +0', 'median_sell_price': 0.667, 'quantity': '1'},\n",
       "  {'date': 'Jan 10 2018 01: +0', 'median_sell_price': 2.634, 'quantity': '1'}]}"
      ]
     },
     "execution_count": 24,
     "metadata": {},
     "output_type": "execute_result"
    }
   ],
   "source": [
    "collection.find_one()"
   ]
  },
  {
   "cell_type": "code",
   "execution_count": 42,
   "metadata": {},
   "outputs": [],
   "source": [
    "with open('data/sourced_id_to_name.txt') as f:\n",
    "    steam = ast.literal_eval(f.read())\n",
    "with open('steam_capstone/item_names_non_empty.txt') as g:\n",
    "    old_names = ast.literal_eval(g.read())"
   ]
  },
  {
   "cell_type": "code",
   "execution_count": 30,
   "metadata": {},
   "outputs": [
    {
     "data": {
      "text/plain": [
       "dict_keys(['614910', '603750', '562430', '308080', '270880', '530700', '290340', '582810', '489940', '411480', '485610', '296300', '238460', '650580', '550650', '845870', '531960', '529840', '429780', '829080', '615050', '397900', '302670', '544840', '730', '749780', '447820', '672490', '346930', '274940', '663920', '322330', '570', '374670', '417860', '744760', '227300', '391240', '364640', '486780', '868080', '571740', '431240', '369990', '433850', '581740', '679990', '433530', '374280', '457960', '560080', '520530', '348670', '363360', '513510', '728540', '295110', '232090', '731640', '874100', '420900', '534210', '516940', '299740', '749830', '323850', '4920', '471550', '643270', '218620', '578080', '238960', '321360', '508710', '338170', '764030', '708940', '517710', '328070', '663690', '270450', '843660', '252490', '244930', '366440', '464350', '496960', '684580', '530300', '590790', '528970', '244850', '207140', '381250', '753', '250820', '264710', '787240', '321400', '440', '437220', '757160', '859700', '676340', '654700', '304930', '655010', '749820', '431960', '230410', '263920', '771950', '722670', '840140'])"
      ]
     },
     "execution_count": 30,
     "metadata": {},
     "output_type": "execute_result"
    }
   ],
   "source": [
    "steam.keys()"
   ]
  },
  {
   "cell_type": "code",
   "execution_count": 31,
   "metadata": {},
   "outputs": [
    {
     "data": {
      "text/plain": [
       "dict_keys([238460, 570, 218620, 227300, 323850, 366440, 321360, 381250, 230410, 431960, 299740, 270450, 520530, 321400, 757160, 274940, 517710, 513510, 374280, 730, 244930, 562430, 437220, 270880, 263920, 374670, 777010, 369990, 530300, 486780, 464350, 727300, 776200, 360620, 417860, 791550, 764030, 841860, 534210, 264710, 348670, 4920, 238960, 338170, 531960, 544840, 650580, 794870, 420900, 508710, 440, 328070, 391240, 308080, 516940, 296300, 364640, 453170, 603750, 496960, 232090, 578080, 447820, 207140, 429780, 528970, 614910, 302670, 571740, 560080, 304930, 431240, 411480, 397900, 643270, 295110, 529840, 244850, 615050, 346930, 676340, 740120, 731640, 672110, 754780, 733190, 710080, 789470, 787240, 581740, 679990, 654700, 433850, 530700, 322330, 655010, 744760, 708940, 252490, 722670, 663690, 471550, 290340, 550650, 489940, 793720, 363360, 684580, 749820, 809370, 771950, 663920, 749830, 433530, 824660, 829080, 582810, 485610, 843660, 672490, 679650, 845870, 749780, 781600, 753])"
      ]
     },
     "execution_count": 31,
     "metadata": {},
     "output_type": "execute_result"
    }
   ],
   "source": [
    "old_names.keys()"
   ]
  },
  {
   "cell_type": "code",
   "execution_count": 46,
   "metadata": {},
   "outputs": [],
   "source": [
    "y = steam.copy()\n",
    "for x in steam.keys():\n",
    "    if int(x) not in old_names.keys():\n",
    "        y.pop(x)"
   ]
  },
  {
   "cell_type": "code",
   "execution_count": 47,
   "metadata": {},
   "outputs": [
    {
     "data": {
      "text/plain": [
       "106"
      ]
     },
     "execution_count": 47,
     "metadata": {},
     "output_type": "execute_result"
    }
   ],
   "source": [
    "len(y)"
   ]
  },
  {
   "cell_type": "code",
   "execution_count": 48,
   "metadata": {},
   "outputs": [
    {
     "data": {
      "text/plain": [
       "{'614910': '#monstercakes',\n",
       " '603750': '- Arcane Raise -',\n",
       " '562430': 'Alien Hostage',\n",
       " '308080': 'Altitude0: Lower & Faster',\n",
       " '270880': 'American Truck Simulator',\n",
       " '530700': 'Argo',\n",
       " '290340': 'Armello',\n",
       " '582810': 'Awesome Metal Detecting',\n",
       " '489940': 'BATTALION 1944',\n",
       " '411480': 'BATTLECREW Space Pirates',\n",
       " '485610': 'Ball 3D: Soccer Online',\n",
       " '296300': 'Ballistic Overkill',\n",
       " '238460': 'BattleBlock Theater',\n",
       " '650580': 'Be Quiet!',\n",
       " '550650': 'Black Squad',\n",
       " '845870': 'Black_Faith.',\n",
       " '531960': 'Bloody Walls',\n",
       " '529840': 'Brawl of Ages',\n",
       " '429780': 'Bunny Hop League',\n",
       " '829080': 'Burst Into',\n",
       " '615050': 'Burst The Game',\n",
       " '397900': 'Business Tour - Online Multiplayer Board Game',\n",
       " '302670': 'Call to Arms',\n",
       " '544840': 'Children of Orc',\n",
       " '730': 'Counter-Strike: Global Offensive',\n",
       " '749780': 'DEAD DOZEN',\n",
       " '447820': 'Day of Infamy',\n",
       " '672490': 'DeDrive',\n",
       " '346930': 'Deadhold',\n",
       " '274940': 'Depth',\n",
       " '663920': 'Died Of Fear',\n",
       " '322330': \"Don't Starve Together\",\n",
       " '570': 'Dota 2',\n",
       " '374670': 'Ember Strike',\n",
       " '417860': 'Emily is Away',\n",
       " '744760': 'Epic Royal',\n",
       " '227300': 'Euro Truck Simulator 2',\n",
       " '391240': 'Forgotten Lore',\n",
       " '364640': 'FreeCell Quest',\n",
       " '486780': 'Fruit Ninja VR',\n",
       " '571740': 'Golf It!',\n",
       " '431240': 'Golf With Your Friends',\n",
       " '369990': 'Gremlins, Inc.',\n",
       " '433850': 'H1Z1',\n",
       " '581740': 'HUNGER',\n",
       " '679990': 'Half-Life: C.A.G.E.D.',\n",
       " '433530': 'Heliborne',\n",
       " '374280': 'Hired Ops',\n",
       " '560080': 'I may die!',\n",
       " '520530': 'INTERSHELTER',\n",
       " '348670': 'Immune',\n",
       " '363360': 'Interstellar Rift',\n",
       " '513510': 'Intralism',\n",
       " '295110': 'Just Survive',\n",
       " '232090': 'Killing Floor 2',\n",
       " '731640': 'Knife Battles',\n",
       " '420900': 'Mech Anarchy',\n",
       " '534210': 'MegaRats',\n",
       " '516940': 'MineSweeper VR',\n",
       " '299740': 'Miscreated',\n",
       " '749830': 'Moon Bullet',\n",
       " '323850': 'Move or Die',\n",
       " '4920': 'Natural Selection 2',\n",
       " '471550': 'Nine Parchments',\n",
       " '643270': 'OLDTV',\n",
       " '218620': 'PAYDAY 2',\n",
       " '578080': \"PLAYERUNKNOWN'S BATTLEGROUNDS\",\n",
       " '238960': 'Path of Exile',\n",
       " '321360': 'Primal Carnage: Extinction',\n",
       " '508710': 'Project Lounge',\n",
       " '338170': 'Ratz Instagib 2.0',\n",
       " '764030': 'Realm Revolutions',\n",
       " '708940': 'Rebons',\n",
       " '517710': 'Redout: Enhanced Edition',\n",
       " '328070': 'Reflex Arena',\n",
       " '663690': 'Rival Rampage',\n",
       " '270450': 'Robot Roller-Derby Disco Dodgeball',\n",
       " '843660': 'Rogue Agent',\n",
       " '252490': 'Rust',\n",
       " '244930': 'SNOW',\n",
       " '366440': 'Savage Resurrection',\n",
       " '464350': 'Screeps',\n",
       " '496960': 'Shoot Mania VR: Fun Zombies',\n",
       " '684580': 'Shoppe Keep 2',\n",
       " '530300': 'Slymes',\n",
       " '528970': 'SosSurvival',\n",
       " '244850': 'Space Engineers',\n",
       " '207140': 'SpeedRunners',\n",
       " '381250': 'Stardrift Nomads',\n",
       " '753': 'Steam',\n",
       " '264710': 'Subnautica',\n",
       " '787240': 'Suicideville',\n",
       " '321400': 'Supraball',\n",
       " '440': 'Team Fortress 2',\n",
       " '437220': 'The Culling',\n",
       " '757160': 'ULTIMATE ARENA: SHOWDOWN',\n",
       " '676340': 'Undarkened',\n",
       " '654700': 'Unearthing Process',\n",
       " '304930': 'Unturned',\n",
       " '655010': 'VODKA',\n",
       " '749820': 'Villages',\n",
       " '431960': 'Wallpaper Engine',\n",
       " '230410': 'Warframe',\n",
       " '263920': 'Zombie Grinder',\n",
       " '771950': '→SUMETRICK←',\n",
       " '722670': '中国象棋'}"
      ]
     },
     "execution_count": 48,
     "metadata": {},
     "output_type": "execute_result"
    }
   ],
   "source": [
    "y"
   ]
  },
  {
   "cell_type": "code",
   "execution_count": 43,
   "metadata": {},
   "outputs": [
    {
     "data": {
      "text/plain": [
       "114"
      ]
     },
     "execution_count": 43,
     "metadata": {},
     "output_type": "execute_result"
    }
   ],
   "source": [
    "len(steam)"
   ]
  },
  {
   "cell_type": "code",
   "execution_count": 36,
   "metadata": {},
   "outputs": [
    {
     "name": "stdout",
     "output_type": "stream",
     "text": [
      "777010\n",
      "727300\n",
      "776200\n",
      "360620\n",
      "791550\n",
      "841860\n",
      "794870\n",
      "453170\n",
      "740120\n",
      "672110\n",
      "754780\n",
      "733190\n",
      "710080\n",
      "789470\n",
      "793720\n",
      "809370\n",
      "824660\n",
      "679650\n",
      "781600\n"
     ]
    }
   ],
   "source": [
    "for x in old_names.keys():\n",
    "    if str(x) not in steam.keys():\n",
    "        print(x)"
   ]
  },
  {
   "cell_type": "code",
   "execution_count": 50,
   "metadata": {},
   "outputs": [],
   "source": [
    "num_items = []\n",
    "for x in old_names:\n",
    "    num_items.append(len(old_names[x]))"
   ]
  },
  {
   "cell_type": "code",
   "execution_count": 62,
   "metadata": {},
   "outputs": [
    {
     "data": {
      "text/plain": [
       "(array([118.,   1.,   1.,   1.,   0.,   0.,   1.,   0.,   0.,   0.,   0.,\n",
       "          0.,   0.,   0.,   0.,   0.,   0.,   0.,   0.,   2.]),\n",
       " array([1.000000e+00, 1.580150e+03, 3.159300e+03, 4.738450e+03,\n",
       "        6.317600e+03, 7.896750e+03, 9.475900e+03, 1.105505e+04,\n",
       "        1.263420e+04, 1.421335e+04, 1.579250e+04, 1.737165e+04,\n",
       "        1.895080e+04, 2.052995e+04, 2.210910e+04, 2.368825e+04,\n",
       "        2.526740e+04, 2.684655e+04, 2.842570e+04, 3.000485e+04,\n",
       "        3.158400e+04]),\n",
       " <a list of 20 Patch objects>)"
      ]
     },
     "execution_count": 62,
     "metadata": {},
     "output_type": "execute_result"
    },
    {
     "data": {
      "image/png": "[encoded data removed]",
      "text/plain": [
       "<Figure size 432x288 with 1 Axes>"
      ]
     },
     "metadata": {},
     "output_type": "display_data"
    }
   ],
   "source": [
    "plt.hist(num_items, bins=20)"
   ]
  },
  {
   "cell_type": "code",
   "execution_count": 60,
   "metadata": {},
   "outputs": [
    {
     "data": {
      "text/plain": [
       "174910"
      ]
     },
     "execution_count": 60,
     "metadata": {},
     "output_type": "execute_result"
    }
   ],
   "source": [
    "num_items.pop()"
   ]
  },
  {
   "cell_type": "code",
   "execution_count": 63,
   "metadata": {},
   "outputs": [
    {
     "data": {
      "text/plain": [
       "97981"
      ]
     },
     "execution_count": 63,
     "metadata": {},
     "output_type": "execute_result"
    }
   ],
   "source": [
    "sum(num_items)"
   ]
  },
  {
   "cell_type": "code",
   "execution_count": 68,
   "metadata": {},
   "outputs": [
    {
     "data": {
      "text/plain": [
       "'Steam'"
      ]
     },
     "execution_count": 68,
     "metadata": {},
     "output_type": "execute_result"
    }
   ],
   "source": [
    "y.pop('753')"
   ]
  },
  {
   "cell_type": "code",
   "execution_count": 69,
   "metadata": {},
   "outputs": [
    {
     "data": {
      "text/plain": [
       "105"
      ]
     },
     "execution_count": 69,
     "metadata": {},
     "output_type": "execute_result"
    }
   ],
   "source": [
    "len(y)"
   ]
  },
  {
   "cell_type": "code",
   "execution_count": 72,
   "metadata": {},
   "outputs": [
    {
     "ename": "TypeError",
     "evalue": "unhashable type: 'list'",
     "output_type": "error",
     "traceback": [
      "\u001b[0;31m---------------------------------------------------------------------------\u001b[0m",
      "\u001b[0;31mTypeError\u001b[0m                                 Traceback (most recent call last)",
      "\u001b[0;32m<ipython-input-72-60b31a6cd6bc>\u001b[0m in \u001b[0;36m<module>\u001b[0;34m()\u001b[0m\n\u001b[0;32m----> 1\u001b[0;31m \u001b[0my\u001b[0m\u001b[0;34m[\u001b[0m\u001b[0;34m[\u001b[0m\u001b[0;34m'730'\u001b[0m\u001b[0;34m,\u001b[0m \u001b[0;34m'570'\u001b[0m\u001b[0;34m]\u001b[0m\u001b[0;34m]\u001b[0m\u001b[0;34m\u001b[0m\u001b[0m\n\u001b[0m",
      "\u001b[0;31mTypeError\u001b[0m: unhashable type: 'list'"
     ]
    }
   ],
   "source": [
    "y[['730', '570']]"
   ]
  },
  {
   "cell_type": "code",
   "execution_count": 77,
   "metadata": {},
   "outputs": [],
   "source": [
    "d = {}\n",
    "for x in y.keys():\n",
    "    d[int(x)] = old_names[int(x)]"
   ]
  },
  {
   "cell_type": "code",
   "execution_count": 80,
   "metadata": {},
   "outputs": [
    {
     "data": {
      "text/plain": [
       "dict_keys([614910, 603750, 562430, 308080, 270880, 530700, 290340, 582810, 489940, 411480, 485610, 296300, 238460, 650580, 550650, 845870, 531960, 529840, 429780, 829080, 615050, 397900, 302670, 544840, 730, 749780, 447820, 672490, 346930, 274940, 663920, 322330, 570, 374670, 417860, 744760, 227300, 391240, 364640, 486780, 571740, 431240, 369990, 433850, 581740, 679990, 433530, 374280, 560080, 520530, 348670, 363360, 513510, 295110, 232090, 731640, 420900, 534210, 516940, 299740, 749830, 323850, 4920, 471550, 643270, 218620, 578080, 238960, 321360, 508710, 338170, 764030, 708940, 517710, 328070, 663690, 270450, 843660, 252490, 244930, 366440, 464350, 496960, 684580, 530300, 528970, 244850, 207140, 381250, 264710, 787240, 321400, 440, 437220, 757160, 676340, 654700, 304930, 655010, 749820, 431960, 230410, 263920, 771950, 722670])"
      ]
     },
     "execution_count": 80,
     "metadata": {},
     "output_type": "execute_result"
    }
   ],
   "source": [
    "d.keys()"
   ]
  },
  {
   "cell_type": "code",
   "execution_count": 82,
   "metadata": {},
   "outputs": [],
   "source": [
    "with open('data/market_item_list.txt', 'w') as f:\n",
    "    f.write(str(d))"
   ]
  },
  {
   "cell_type": "code",
   "execution_count": 83,
   "metadata": {},
   "outputs": [],
   "source": [
    "item_list = []\n",
    "for x in d.values():\n",
    "    for item in x.keys():\n",
    "        item_list.append(item)"
   ]
  },
  {
   "cell_type": "code",
   "execution_count": 84,
   "metadata": {},
   "outputs": [
    {
     "data": {
      "text/plain": [
       "97699"
      ]
     },
     "execution_count": 84,
     "metadata": {},
     "output_type": "execute_result"
    }
   ],
   "source": [
    "len(item_list)"
   ]
  },
  {
   "cell_type": "code",
   "execution_count": 85,
   "metadata": {},
   "outputs": [
    {
     "data": {
      "text/plain": [
       "97544"
      ]
     },
     "execution_count": 85,
     "metadata": {},
     "output_type": "execute_result"
    }
   ],
   "source": [
    "len(set(item_list))"
   ]
  },
  {
   "cell_type": "code",
   "execution_count": 87,
   "metadata": {},
   "outputs": [
    {
     "name": "stdout",
     "output_type": "stream",
     "text": [
      "['Heart', 'Key', 'Chest', 'Christmas Hat', 'Magic Time', 'Snowman Trucker', 'On top of the world', 'Crown', 'Lightning', 'Sunglasses', 'Balloon', 'Santa Hat', 'Dog', 'Urban Machete', 'Desert Viper', 'Urban Hammer', 'Urban Sledgehammer', 'Desert Sledgehammer', 'Desert Jackhammer', 'Desert Cobra', 'Desert Machete', 'Desert Hammer', 'Desert Hunter', 'Desert Chainsaw', 'Urban Jackhammer', 'Urban Cobra', 'Urban Chainsaw', 'Urban Viper', 'Thief', 'Donut', 'Snow', 'Moose', 'Barbarian', 'Team Spirit', 'Green Flashlight', 'Dev test item', 'Red Flashlight', '1$', 'Angry', 'Snake', 'Red Ace', 'Halo', 'Beanie', 'Plunger', 'Traffic Cone', \"Captain's Hook\", 'Box', 'Name Tag', 'Sentinel Legs', 'Portal', 'Description Tag', 'Pirate Hat', 'Candy', 'Blue Fire', 'Viking Helmet', 'Sapphire', 'Umbrella Hat', 'Sombrero', 'Glow', 'Wood', 'Disco Ball', 'Cleaver', 'Cat Ears', 'Poop', 'Rainbow Trail', 'Ducky', 'Antlers', 'Angel Wings', 'Top Hat', 'Bats', 'Potions', 'Demon Wings', 'Brain', 'Captain', 'Ronin Crate', 'Hockey Mask', 'EZW Crate', 'Police Hat', 'm0E_tv T-Shirt', 'H1Z1 Invitational Crate', 'Marauder Crate', 'BR: Vigilante Crate', 'Mercenary Crate', 'Battle Royale Wearables Crate', 'H1Z1 Wearables Crate', 'Showdown Crate', 'Renegade Crate', 'Alpha Launch Crate', 'Wasteland Crate', 'Predator Crate', 'Camo Boonie Hat', 'Leather Jacket', 'Respirator', 'Eye Patch', 'Veteran Helmet', 'Pot Hat', 'Bandana', 'Wizard Hat', 'Football Helmet', 'Headphones', 'Bucket Helmet', 'Cowboy Hat', 'Horse Mask', 'Sheriff Hat', 'White Cowboy Hat', 'Orange Shirt', 'Punk Boots', 'Blue Beret', 'Soccer Ball', 'Punk', 'Bandages', 'Arrows', 'Little Friend', 'Paper Bag', 'Knife', 'Bolt', 'Banana', 'High Voltage', 'Green Cap', 'Blue Cap', 'Red Cap', 'The Plague Doctor', 'Metal', 'Snowman', 'Prisoner Suit', 'Earbuds']\n"
     ]
    }
   ],
   "source": [
    "import collections\n",
    "print([item for item, count in collections.Counter(item_list).items() if count > 1])"
   ]
  },
  {
   "cell_type": "code",
   "execution_count": 89,
   "metadata": {},
   "outputs": [
    {
     "data": {
      "text/plain": [
       "True"
      ]
     },
     "execution_count": 89,
     "metadata": {},
     "output_type": "execute_result"
    }
   ],
   "source": [
    "response.status_code == 200"
   ]
  },
  {
   "cell_type": "code",
   "execution_count": 90,
   "metadata": {},
   "outputs": [],
   "source": [
    "response2 = session.get('https://steamcommunity.com/market/pricehistory/?appid=111&market_hash_name={}'.format(app, item))"
   ]
  },
  {
   "cell_type": "code",
   "execution_count": 91,
   "metadata": {},
   "outputs": [],
   "source": [
    "if response2.status_code != 200:\n",
    "    a = None"
   ]
  },
  {
   "cell_type": "code",
   "execution_count": 92,
   "metadata": {},
   "outputs": [
    {
     "data": {
      "text/plain": [
       "False"
      ]
     },
     "execution_count": 92,
     "metadata": {},
     "output_type": "execute_result"
    }
   ],
   "source": [
    "bool(a)"
   ]
  },
  {
   "cell_type": "code",
   "execution_count": 93,
   "metadata": {},
   "outputs": [],
   "source": [
    "with open('data/market_item_list.txt') as f:\n",
    "    item_dict = ast.literal_eval(f.read())"
   ]
  },
  {
   "cell_type": "code",
   "execution_count": 94,
   "metadata": {},
   "outputs": [
    {
     "data": {
      "text/plain": [
       "105"
      ]
     },
     "execution_count": 94,
     "metadata": {},
     "output_type": "execute_result"
    }
   ],
   "source": [
    "len(item_dict)"
   ]
  },
  {
   "cell_type": "code",
   "execution_count": 95,
   "metadata": {},
   "outputs": [
    {
     "data": {
      "text/plain": [
       "dict_keys([614910, 603750, 562430, 308080, 270880, 530700, 290340, 582810, 489940, 411480, 485610, 296300, 238460, 650580, 550650, 845870, 531960, 529840, 429780, 829080, 615050, 397900, 302670, 544840, 730, 749780, 447820, 672490, 346930, 274940, 663920, 322330, 570, 374670, 417860, 744760, 227300, 391240, 364640, 486780, 571740, 431240, 369990, 433850, 581740, 679990, 433530, 374280, 560080, 520530, 348670, 363360, 513510, 295110, 232090, 731640, 420900, 534210, 516940, 299740, 749830, 323850, 4920, 471550, 643270, 218620, 578080, 238960, 321360, 508710, 338170, 764030, 708940, 517710, 328070, 663690, 270450, 843660, 252490, 244930, 366440, 464350, 496960, 684580, 530300, 528970, 244850, 207140, 381250, 264710, 787240, 321400, 440, 437220, 757160, 676340, 654700, 304930, 655010, 749820, 431960, 230410, 263920, 771950, 722670])"
      ]
     },
     "execution_count": 95,
     "metadata": {},
     "output_type": "execute_result"
    }
   ],
   "source": [
    "item_dict.keys()"
   ]
  },
  {
   "cell_type": "code",
   "execution_count": 97,
   "metadata": {},
   "outputs": [
    {
     "ename": "KeyError",
     "evalue": "753",
     "output_type": "error",
     "traceback": [
      "\u001b[0;31m---------------------------------------------------------------------------\u001b[0m",
      "\u001b[0;31mKeyError\u001b[0m                                  Traceback (most recent call last)",
      "\u001b[0;32m<ipython-input-97-c814516ee03d>\u001b[0m in \u001b[0;36m<module>\u001b[0;34m()\u001b[0m\n\u001b[0;32m----> 1\u001b[0;31m \u001b[0mitem_dict\u001b[0m\u001b[0;34m[\u001b[0m\u001b[0;36m753\u001b[0m\u001b[0;34m]\u001b[0m\u001b[0;34m\u001b[0m\u001b[0m\n\u001b[0m",
      "\u001b[0;31mKeyError\u001b[0m: 753"
     ]
    }
   ],
   "source": [
    "item_dict[753]"
   ]
  },
  {
   "cell_type": "code",
   "execution_count": 5,
   "metadata": {},
   "outputs": [
    {
     "data": {
      "text/plain": [
       "{'_id': ObjectId('5b60ae4e8267ae68d3db90d1'),\n",
       " 'date': '2015-01-31 18:00:00',\n",
       " 'recommendations_up': 2,\n",
       " 'recommendations_down': 1,\n",
       " 'app': '345220'}"
      ]
     },
     "execution_count": 5,
     "metadata": {},
     "output_type": "execute_result"
    }
   ],
   "source": [
    "collection.find_one()"
   ]
  },
  {
   "cell_type": "code",
   "execution_count": 6,
   "metadata": {},
   "outputs": [
    {
     "data": {
      "text/plain": [
       "8119"
      ]
     },
     "execution_count": 6,
     "metadata": {},
     "output_type": "execute_result"
    }
   ],
   "source": [
    "len(reviews)"
   ]
  },
  {
   "cell_type": "code",
   "execution_count": 7,
   "metadata": {},
   "outputs": [
    {
     "data": {
      "text/plain": [
       "[{'date': '2015-01-31 18:00:00',\n",
       "  'recommendations_up': 2,\n",
       "  'recommendations_down': 1,\n",
       "  'app': '345220'},\n",
       " {'date': '2015-02-28 18:00:00',\n",
       "  'recommendations_up': 0,\n",
       "  'recommendations_down': 0,\n",
       "  'app': '345220'},\n",
       " {'date': '2015-03-31 19:00:00',\n",
       "  'recommendations_up': 0,\n",
       "  'recommendations_down': 0,\n",
       "  'app': '345220'},\n",
       " {'date': '2015-04-30 19:00:00',\n",
       "  'recommendations_up': 1,\n",
       "  'recommendations_down': 0,\n",
       "  'app': '345220'},\n",
       " {'date': '2015-06-30 19:00:00',\n",
       "  'recommendations_up': 0,\n",
       "  'recommendations_down': 0,\n",
       "  'app': '345220'},\n",
       " {'date': '2015-07-31 19:00:00',\n",
       "  'recommendations_up': 0,\n",
       "  'recommendations_down': 0,\n",
       "  'app': '345220'},\n",
       " {'date': '2015-09-30 19:00:00',\n",
       "  'recommendations_up': 0,\n",
       "  'recommendations_down': 0,\n",
       "  'app': '345220'},\n",
       " {'date': '2015-10-31 19:00:00',\n",
       "  'recommendations_up': 0,\n",
       "  'recommendations_down': 0,\n",
       "  'app': '345220'},\n",
       " {'date': '2015-12-31 18:00:00',\n",
       "  'recommendations_up': 0,\n",
       "  'recommendations_down': 0,\n",
       "  'app': '345220'},\n",
       " {'date': '2016-01-31 18:00:00',\n",
       "  'recommendations_up': 0,\n",
       "  'recommendations_down': 0,\n",
       "  'app': '345220'},\n",
       " {'date': '2016-03-31 19:00:00',\n",
       "  'recommendations_up': 0,\n",
       "  'recommendations_down': 0,\n",
       "  'app': '345220'},\n",
       " {'date': '2016-04-30 19:00:00',\n",
       "  'recommendations_up': 0,\n",
       "  'recommendations_down': 0,\n",
       "  'app': '345220'},\n",
       " {'date': '2016-05-31 19:00:00',\n",
       "  'recommendations_up': 0,\n",
       "  'recommendations_down': 0,\n",
       "  'app': '345220'},\n",
       " {'date': '2016-06-30 19:00:00',\n",
       "  'recommendations_up': 0,\n",
       "  'recommendations_down': 0,\n",
       "  'app': '345220'},\n",
       " {'date': '2016-07-31 19:00:00',\n",
       "  'recommendations_up': 0,\n",
       "  'recommendations_down': 0,\n",
       "  'app': '345220'},\n",
       " {'date': '2016-08-31 19:00:00',\n",
       "  'recommendations_up': 0,\n",
       "  'recommendations_down': 0,\n",
       "  'app': '345220'},\n",
       " {'date': '2016-09-30 19:00:00',\n",
       "  'recommendations_up': 0,\n",
       "  'recommendations_down': 0,\n",
       "  'app': '345220'},\n",
       " {'date': '2016-10-31 19:00:00',\n",
       "  'recommendations_up': 2,\n",
       "  'recommendations_down': 0,\n",
       "  'app': '345220'},\n",
       " {'date': '2016-11-30 18:00:00',\n",
       "  'recommendations_up': 0,\n",
       "  'recommendations_down': 1,\n",
       "  'app': '345220'},\n",
       " {'date': '2016-12-31 18:00:00',\n",
       "  'recommendations_up': 0,\n",
       "  'recommendations_down': 0,\n",
       "  'app': '345220'},\n",
       " {'date': '2017-01-31 18:00:00',\n",
       "  'recommendations_up': 0,\n",
       "  'recommendations_down': 0,\n",
       "  'app': '345220'},\n",
       " {'date': '2017-02-28 18:00:00',\n",
       "  'recommendations_up': 0,\n",
       "  'recommendations_down': 0,\n",
       "  'app': '345220'},\n",
       " {'date': '2017-03-31 19:00:00',\n",
       "  'recommendations_up': 2,\n",
       "  'recommendations_down': 1,\n",
       "  'app': '345220'},\n",
       " {'date': '2017-04-30 19:00:00',\n",
       "  'recommendations_up': 0,\n",
       "  'recommendations_down': 0,\n",
       "  'app': '345220'},\n",
       " {'date': '2017-05-31 19:00:00',\n",
       "  'recommendations_up': 0,\n",
       "  'recommendations_down': 0,\n",
       "  'app': '345220'},\n",
       " {'date': '2017-06-30 19:00:00',\n",
       "  'recommendations_up': 0,\n",
       "  'recommendations_down': 0,\n",
       "  'app': '345220'},\n",
       " {'date': '2017-07-31 19:00:00',\n",
       "  'recommendations_up': 1,\n",
       "  'recommendations_down': 0,\n",
       "  'app': '345220'},\n",
       " {'date': '2017-08-31 19:00:00',\n",
       "  'recommendations_up': 0,\n",
       "  'recommendations_down': 0,\n",
       "  'app': '345220'},\n",
       " {'date': '2017-09-30 19:00:00',\n",
       "  'recommendations_up': 2,\n",
       "  'recommendations_down': 1,\n",
       "  'app': '345220'},\n",
       " {'date': '2017-10-31 19:00:00',\n",
       "  'recommendations_up': 1,\n",
       "  'recommendations_down': 0,\n",
       "  'app': '345220'},\n",
       " {'date': '2017-11-30 18:00:00',\n",
       "  'recommendations_up': 0,\n",
       "  'recommendations_down': 0,\n",
       "  'app': '345220'},\n",
       " {'date': '2017-12-31 18:00:00',\n",
       "  'recommendations_up': 0,\n",
       "  'recommendations_down': 1,\n",
       "  'app': '345220'},\n",
       " {'date': '2018-01-31 18:00:00',\n",
       "  'recommendations_up': 0,\n",
       "  'recommendations_down': 0,\n",
       "  'app': '345220'},\n",
       " {'date': '2018-02-28 18:00:00',\n",
       "  'recommendations_up': 0,\n",
       "  'recommendations_down': 0,\n",
       "  'app': '345220'},\n",
       " {'date': '2018-03-31 19:00:00',\n",
       "  'recommendations_up': 0,\n",
       "  'recommendations_down': 0,\n",
       "  'app': '345220'},\n",
       " {'date': '2018-04-30 19:00:00',\n",
       "  'recommendations_up': 0,\n",
       "  'recommendations_down': 0,\n",
       "  'app': '345220'},\n",
       " {'date': '2018-05-31 19:00:00',\n",
       "  'recommendations_up': 0,\n",
       "  'recommendations_down': 0,\n",
       "  'app': '345220'},\n",
       " {'date': '2018-06-30 19:00:00',\n",
       "  'recommendations_up': 1,\n",
       "  'recommendations_down': 0,\n",
       "  'app': '345220'}]"
      ]
     },
     "execution_count": 7,
     "metadata": {},
     "output_type": "execute_result"
    }
   ],
   "source": [
    "list(reviews)[0]"
   ]
  },
  {
   "cell_type": "code",
   "execution_count": 3,
   "metadata": {},
   "outputs": [],
   "source": [
    "def get_reviews(app_id):\n",
    "    \"\"\"\n",
    "    Gets {'date': 1517443200, 'recommendations_up': 36508, 'recommendations_down': 6557} for the app id\n",
    "    :param app: (dict) {app id: app name}\n",
    "    :return: (list of dicts) [{date: , recommendations_up: , recommendations_down: }, ... ]\n",
    "    \"\"\"\n",
    "    try:\n",
    "        output = requests.get('https://store.steampowered.com/appreviewhistogram/{}'.format(app_id)) \\\n",
    "         .json()['results']['rollups']\n",
    "    except:\n",
    "        print('No reviews for ' + app_id)\n",
    "        return None\n",
    "    output_dict = {'app': str(app_id), 'reviews': output}\n",
    "    return output_dict"
   ]
  },
  {
   "cell_type": "code",
   "execution_count": 4,
   "metadata": {},
   "outputs": [],
   "source": [
    "with open('data/sourced_id_to_name.txt') as f:\n",
    "    app_dict = eval(f.read())"
   ]
  },
  {
   "cell_type": "code",
   "execution_count": null,
   "metadata": {},
   "outputs": [],
   "source": [
    "for x, y in app_dict.items():\n",
    "    get_reviews()"
   ]
  },
  {
   "cell_type": "code",
   "execution_count": 12,
   "metadata": {},
   "outputs": [],
   "source": [
    "output = requests.get('https://store.steampowered.com/appreviewhistogram/440').json()['results']['rollups']"
   ]
  },
  {
   "cell_type": "code",
   "execution_count": 13,
   "metadata": {},
   "outputs": [
    {
     "data": {
      "text/plain": [
       "[{'date': 1285891200, 'recommendations_up': 47, 'recommendations_down': 1},\n",
       " {'date': 1288569600, 'recommendations_up': 591, 'recommendations_down': 18},\n",
       " {'date': 1291161600, 'recommendations_up': 1110, 'recommendations_down': 34},\n",
       " {'date': 1293840000, 'recommendations_up': 319, 'recommendations_down': 9},\n",
       " {'date': 1296518400, 'recommendations_up': 202, 'recommendations_down': 12},\n",
       " {'date': 1298937600, 'recommendations_up': 209, 'recommendations_down': 4},\n",
       " {'date': 1301616000, 'recommendations_up': 240, 'recommendations_down': 11},\n",
       " {'date': 1304208000, 'recommendations_up': 220, 'recommendations_down': 3},\n",
       " {'date': 1306886400, 'recommendations_up': 873, 'recommendations_down': 33},\n",
       " {'date': 1309478400, 'recommendations_up': 3455, 'recommendations_down': 68},\n",
       " {'date': 1312156800, 'recommendations_up': 804, 'recommendations_down': 23},\n",
       " {'date': 1314835200, 'recommendations_up': 696, 'recommendations_down': 15},\n",
       " {'date': 1317427200, 'recommendations_up': 621, 'recommendations_down': 25},\n",
       " {'date': 1320105600, 'recommendations_up': 516, 'recommendations_down': 16},\n",
       " {'date': 1322697600, 'recommendations_up': 2196, 'recommendations_down': 61},\n",
       " {'date': 1325376000, 'recommendations_up': 777, 'recommendations_down': 21},\n",
       " {'date': 1328054400, 'recommendations_up': 569, 'recommendations_down': 19},\n",
       " {'date': 1330560000, 'recommendations_up': 550, 'recommendations_down': 18},\n",
       " {'date': 1333238400, 'recommendations_up': 526, 'recommendations_down': 22},\n",
       " {'date': 1335830400, 'recommendations_up': 542, 'recommendations_down': 16},\n",
       " {'date': 1338508800, 'recommendations_up': 637, 'recommendations_down': 18},\n",
       " {'date': 1341100800, 'recommendations_up': 2704, 'recommendations_down': 61},\n",
       " {'date': 1343779200, 'recommendations_up': 1518, 'recommendations_down': 47},\n",
       " {'date': 1346457600, 'recommendations_up': 1313, 'recommendations_down': 25},\n",
       " {'date': 1349049600, 'recommendations_up': 1126, 'recommendations_down': 31},\n",
       " {'date': 1351728000, 'recommendations_up': 1032, 'recommendations_down': 30},\n",
       " {'date': 1354320000, 'recommendations_up': 1359, 'recommendations_down': 46},\n",
       " {'date': 1356998400, 'recommendations_up': 1211, 'recommendations_down': 43},\n",
       " {'date': 1359676800, 'recommendations_up': 1154, 'recommendations_down': 26},\n",
       " {'date': 1362096000, 'recommendations_up': 1412, 'recommendations_down': 39},\n",
       " {'date': 1364774400, 'recommendations_up': 1308, 'recommendations_down': 54},\n",
       " {'date': 1367366400, 'recommendations_up': 1701, 'recommendations_down': 47},\n",
       " {'date': 1370044800, 'recommendations_up': 1766, 'recommendations_down': 50},\n",
       " {'date': 1372636800, 'recommendations_up': 1285, 'recommendations_down': 37},\n",
       " {'date': 1375315200, 'recommendations_up': 1024, 'recommendations_down': 33},\n",
       " {'date': 1377993600, 'recommendations_up': 1014, 'recommendations_down': 35},\n",
       " {'date': 1380585600, 'recommendations_up': 1146, 'recommendations_down': 51},\n",
       " {'date': 1383264000, 'recommendations_up': 3755, 'recommendations_down': 135},\n",
       " {'date': 1385856000,\n",
       "  'recommendations_up': 17641,\n",
       "  'recommendations_down': 419},\n",
       " {'date': 1388534400,\n",
       "  'recommendations_up': 12598,\n",
       "  'recommendations_down': 329},\n",
       " {'date': 1391212800,\n",
       "  'recommendations_up': 10671,\n",
       "  'recommendations_down': 334},\n",
       " {'date': 1393632000, 'recommendations_up': 9318, 'recommendations_down': 281},\n",
       " {'date': 1396310400, 'recommendations_up': 8473, 'recommendations_down': 260},\n",
       " {'date': 1398902400, 'recommendations_up': 8664, 'recommendations_down': 287},\n",
       " {'date': 1401580800,\n",
       "  'recommendations_up': 17783,\n",
       "  'recommendations_down': 542},\n",
       " {'date': 1404172800,\n",
       "  'recommendations_up': 11903,\n",
       "  'recommendations_down': 412},\n",
       " {'date': 1406851200,\n",
       "  'recommendations_up': 10866,\n",
       "  'recommendations_down': 378},\n",
       " {'date': 1409529600,\n",
       "  'recommendations_up': 10850,\n",
       "  'recommendations_down': 443},\n",
       " {'date': 1412121600,\n",
       "  'recommendations_up': 10717,\n",
       "  'recommendations_down': 452},\n",
       " {'date': 1414800000,\n",
       "  'recommendations_up': 10855,\n",
       "  'recommendations_down': 530},\n",
       " {'date': 1417392000,\n",
       "  'recommendations_up': 10663,\n",
       "  'recommendations_down': 597},\n",
       " {'date': 1420070400, 'recommendations_up': 8284, 'recommendations_down': 481},\n",
       " {'date': 1422748800, 'recommendations_up': 6633, 'recommendations_down': 392},\n",
       " {'date': 1425168000, 'recommendations_up': 6693, 'recommendations_down': 378},\n",
       " {'date': 1427846400, 'recommendations_up': 6759, 'recommendations_down': 381},\n",
       " {'date': 1430438400, 'recommendations_up': 6759, 'recommendations_down': 410},\n",
       " {'date': 1433116800, 'recommendations_up': 8471, 'recommendations_down': 537},\n",
       " {'date': 1435708800, 'recommendations_up': 8170, 'recommendations_down': 850},\n",
       " {'date': 1438387200, 'recommendations_up': 7121, 'recommendations_down': 478},\n",
       " {'date': 1441065600, 'recommendations_up': 6048, 'recommendations_down': 374},\n",
       " {'date': 1443657600, 'recommendations_up': 6888, 'recommendations_down': 466},\n",
       " {'date': 1446336000, 'recommendations_up': 7729, 'recommendations_down': 575},\n",
       " {'date': 1448928000,\n",
       "  'recommendations_up': 11552,\n",
       "  'recommendations_down': 918},\n",
       " {'date': 1451606400, 'recommendations_up': 9008, 'recommendations_down': 703},\n",
       " {'date': 1454284800, 'recommendations_up': 7365, 'recommendations_down': 544},\n",
       " {'date': 1456790400, 'recommendations_up': 7901, 'recommendations_down': 561},\n",
       " {'date': 1459468800, 'recommendations_up': 6452, 'recommendations_down': 466},\n",
       " {'date': 1462060800, 'recommendations_up': 6499, 'recommendations_down': 482},\n",
       " {'date': 1464739200, 'recommendations_up': 8440, 'recommendations_down': 631},\n",
       " {'date': 1467331200,\n",
       "  'recommendations_up': 8182,\n",
       "  'recommendations_down': 2710},\n",
       " {'date': 1470009600,\n",
       "  'recommendations_up': 6112,\n",
       "  'recommendations_down': 1168},\n",
       " {'date': 1472688000, 'recommendations_up': 4747, 'recommendations_down': 541},\n",
       " {'date': 1475280000, 'recommendations_up': 5140, 'recommendations_down': 623},\n",
       " {'date': 1477958400,\n",
       "  'recommendations_up': 16654,\n",
       "  'recommendations_down': 841},\n",
       " {'date': 1480550400, 'recommendations_up': 7931, 'recommendations_down': 610},\n",
       " {'date': 1483228800, 'recommendations_up': 7384, 'recommendations_down': 761},\n",
       " {'date': 1485907200, 'recommendations_up': 6203, 'recommendations_down': 574},\n",
       " {'date': 1488326400, 'recommendations_up': 6069, 'recommendations_down': 536},\n",
       " {'date': 1491004800, 'recommendations_up': 6153, 'recommendations_down': 503},\n",
       " {'date': 1493596800, 'recommendations_up': 6104, 'recommendations_down': 493},\n",
       " {'date': 1496275200, 'recommendations_up': 7928, 'recommendations_down': 667},\n",
       " {'date': 1498867200, 'recommendations_up': 9652, 'recommendations_down': 763},\n",
       " {'date': 1501545600, 'recommendations_up': 6148, 'recommendations_down': 671},\n",
       " {'date': 1504224000, 'recommendations_up': 5148, 'recommendations_down': 564},\n",
       " {'date': 1506816000,\n",
       "  'recommendations_up': 7234,\n",
       "  'recommendations_down': 1070},\n",
       " {'date': 1509494400,\n",
       "  'recommendations_up': 14115,\n",
       "  'recommendations_down': 886},\n",
       " {'date': 1512086400, 'recommendations_up': 7582, 'recommendations_down': 733},\n",
       " {'date': 1514764800, 'recommendations_up': 5989, 'recommendations_down': 731},\n",
       " {'date': 1517443200, 'recommendations_up': 5285, 'recommendations_down': 566},\n",
       " {'date': 1519862400, 'recommendations_up': 5073, 'recommendations_down': 565},\n",
       " {'date': 1522540800, 'recommendations_up': 4325, 'recommendations_down': 475},\n",
       " {'date': 1525132800, 'recommendations_up': 4413, 'recommendations_down': 425},\n",
       " {'date': 1527811200, 'recommendations_up': 4711, 'recommendations_down': 462},\n",
       " {'date': 1530403200, 'recommendations_up': 4634, 'recommendations_down': 485},\n",
       " {'date': 1533081600, 'recommendations_up': 837, 'recommendations_down': 68}]"
      ]
     },
     "execution_count": 13,
     "metadata": {},
     "output_type": "execute_result"
    }
   ],
   "source": [
    "output"
   ]
  },
  {
   "cell_type": "code",
   "execution_count": 10,
   "metadata": {},
   "outputs": [],
   "source": [
    "client = MongoClient()\n",
    "db = client['steam_test']\n",
    "collection = db['reviews6']"
   ]
  },
  {
   "cell_type": "code",
   "execution_count": 12,
   "metadata": {},
   "outputs": [
    {
     "name": "stderr",
     "output_type": "stream",
     "text": [
      "/Applications/anaconda3/lib/python3.6/site-packages/ipykernel_launcher.py:5: DeprecationWarning: insert is deprecated. Use insert_one or insert_many instead.\n",
      "  \"\"\"\n"
     ]
    }
   ],
   "source": [
    "import datetime\n",
    "for x in app_dict.keys():\n",
    "    r = get_reviews(x)\n",
    "    if r:\n",
    "        collection.insert(r)"
   ]
  },
  {
   "cell_type": "code",
   "execution_count": 13,
   "metadata": {},
   "outputs": [
    {
     "data": {
      "text/plain": [
       "{'_id': ObjectId('5b68aec38267aeeb98f844af'),\n",
       " 'app': '730',\n",
       " 'reviews': [{'date': datetime.datetime(2012, 4, 30, 19, 0),\n",
       "   'recommendations_up': 0,\n",
       "   'recommendations_down': 0},\n",
       "  {'date': datetime.datetime(2012, 7, 31, 19, 0),\n",
       "   'recommendations_up': 1118,\n",
       "   'recommendations_down': 70},\n",
       "  {'date': datetime.datetime(2012, 8, 31, 19, 0),\n",
       "   'recommendations_up': 634,\n",
       "   'recommendations_down': 27},\n",
       "  {'date': datetime.datetime(2012, 9, 30, 19, 0),\n",
       "   'recommendations_up': 320,\n",
       "   'recommendations_down': 18},\n",
       "  {'date': datetime.datetime(2012, 10, 31, 19, 0),\n",
       "   'recommendations_up': 365,\n",
       "   'recommendations_down': 20},\n",
       "  {'date': datetime.datetime(2012, 11, 30, 18, 0),\n",
       "   'recommendations_up': 557,\n",
       "   'recommendations_down': 24},\n",
       "  {'date': datetime.datetime(2012, 12, 31, 18, 0),\n",
       "   'recommendations_up': 461,\n",
       "   'recommendations_down': 33},\n",
       "  {'date': datetime.datetime(2013, 1, 31, 18, 0),\n",
       "   'recommendations_up': 381,\n",
       "   'recommendations_down': 23},\n",
       "  {'date': datetime.datetime(2013, 2, 28, 18, 0),\n",
       "   'recommendations_up': 334,\n",
       "   'recommendations_down': 23},\n",
       "  {'date': datetime.datetime(2013, 3, 31, 19, 0),\n",
       "   'recommendations_up': 292,\n",
       "   'recommendations_down': 13},\n",
       "  {'date': datetime.datetime(2013, 4, 30, 19, 0),\n",
       "   'recommendations_up': 608,\n",
       "   'recommendations_down': 37},\n",
       "  {'date': datetime.datetime(2013, 5, 31, 19, 0),\n",
       "   'recommendations_up': 453,\n",
       "   'recommendations_down': 23},\n",
       "  {'date': datetime.datetime(2013, 6, 30, 19, 0),\n",
       "   'recommendations_up': 641,\n",
       "   'recommendations_down': 39},\n",
       "  {'date': datetime.datetime(2013, 7, 31, 19, 0),\n",
       "   'recommendations_up': 448,\n",
       "   'recommendations_down': 43},\n",
       "  {'date': datetime.datetime(2013, 8, 31, 19, 0),\n",
       "   'recommendations_up': 514,\n",
       "   'recommendations_down': 33},\n",
       "  {'date': datetime.datetime(2013, 9, 30, 19, 0),\n",
       "   'recommendations_up': 583,\n",
       "   'recommendations_down': 35},\n",
       "  {'date': datetime.datetime(2013, 10, 31, 19, 0),\n",
       "   'recommendations_up': 2359,\n",
       "   'recommendations_down': 118},\n",
       "  {'date': datetime.datetime(2013, 11, 30, 18, 0),\n",
       "   'recommendations_up': 13221,\n",
       "   'recommendations_down': 548},\n",
       "  {'date': datetime.datetime(2013, 12, 31, 18, 0),\n",
       "   'recommendations_up': 10633,\n",
       "   'recommendations_down': 460},\n",
       "  {'date': datetime.datetime(2014, 1, 31, 18, 0),\n",
       "   'recommendations_up': 7391,\n",
       "   'recommendations_down': 370},\n",
       "  {'date': datetime.datetime(2014, 2, 28, 18, 0),\n",
       "   'recommendations_up': 9199,\n",
       "   'recommendations_down': 485},\n",
       "  {'date': datetime.datetime(2014, 3, 31, 19, 0),\n",
       "   'recommendations_up': 7620,\n",
       "   'recommendations_down': 357},\n",
       "  {'date': datetime.datetime(2014, 4, 30, 19, 0),\n",
       "   'recommendations_up': 7771,\n",
       "   'recommendations_down': 423},\n",
       "  {'date': datetime.datetime(2014, 5, 31, 19, 0),\n",
       "   'recommendations_up': 15943,\n",
       "   'recommendations_down': 642},\n",
       "  {'date': datetime.datetime(2014, 6, 30, 19, 0),\n",
       "   'recommendations_up': 13405,\n",
       "   'recommendations_down': 765},\n",
       "  {'date': datetime.datetime(2014, 7, 31, 19, 0),\n",
       "   'recommendations_up': 14062,\n",
       "   'recommendations_down': 682},\n",
       "  {'date': datetime.datetime(2014, 8, 31, 19, 0),\n",
       "   'recommendations_up': 11849,\n",
       "   'recommendations_down': 693},\n",
       "  {'date': datetime.datetime(2014, 9, 30, 19, 0),\n",
       "   'recommendations_up': 10809,\n",
       "   'recommendations_down': 688},\n",
       "  {'date': datetime.datetime(2014, 10, 31, 19, 0),\n",
       "   'recommendations_up': 13598,\n",
       "   'recommendations_down': 988},\n",
       "  {'date': datetime.datetime(2014, 11, 30, 18, 0),\n",
       "   'recommendations_up': 20634,\n",
       "   'recommendations_down': 1282},\n",
       "  {'date': datetime.datetime(2014, 12, 31, 18, 0),\n",
       "   'recommendations_up': 23794,\n",
       "   'recommendations_down': 1495},\n",
       "  {'date': datetime.datetime(2015, 1, 31, 18, 0),\n",
       "   'recommendations_up': 19762,\n",
       "   'recommendations_down': 1273},\n",
       "  {'date': datetime.datetime(2015, 2, 28, 18, 0),\n",
       "   'recommendations_up': 25428,\n",
       "   'recommendations_down': 1631},\n",
       "  {'date': datetime.datetime(2015, 3, 31, 19, 0),\n",
       "   'recommendations_up': 26381,\n",
       "   'recommendations_down': 1756},\n",
       "  {'date': datetime.datetime(2015, 4, 30, 19, 0),\n",
       "   'recommendations_up': 30279,\n",
       "   'recommendations_down': 1989},\n",
       "  {'date': datetime.datetime(2015, 5, 31, 19, 0),\n",
       "   'recommendations_up': 38735,\n",
       "   'recommendations_down': 3023},\n",
       "  {'date': datetime.datetime(2015, 6, 30, 19, 0),\n",
       "   'recommendations_up': 29489,\n",
       "   'recommendations_down': 2285},\n",
       "  {'date': datetime.datetime(2015, 7, 31, 19, 0),\n",
       "   'recommendations_up': 32080,\n",
       "   'recommendations_down': 2456},\n",
       "  {'date': datetime.datetime(2015, 8, 31, 19, 0),\n",
       "   'recommendations_up': 29737,\n",
       "   'recommendations_down': 2377},\n",
       "  {'date': datetime.datetime(2015, 9, 30, 19, 0),\n",
       "   'recommendations_up': 32967,\n",
       "   'recommendations_down': 2613},\n",
       "  {'date': datetime.datetime(2015, 10, 31, 19, 0),\n",
       "   'recommendations_up': 37030,\n",
       "   'recommendations_down': 2981},\n",
       "  {'date': datetime.datetime(2015, 11, 30, 18, 0),\n",
       "   'recommendations_up': 49817,\n",
       "   'recommendations_down': 6277},\n",
       "  {'date': datetime.datetime(2015, 12, 31, 18, 0),\n",
       "   'recommendations_up': 47311,\n",
       "   'recommendations_down': 5969},\n",
       "  {'date': datetime.datetime(2016, 1, 31, 18, 0),\n",
       "   'recommendations_up': 45172,\n",
       "   'recommendations_down': 4393},\n",
       "  {'date': datetime.datetime(2016, 2, 29, 18, 0),\n",
       "   'recommendations_up': 40480,\n",
       "   'recommendations_down': 3579},\n",
       "  {'date': datetime.datetime(2016, 3, 31, 19, 0),\n",
       "   'recommendations_up': 37315,\n",
       "   'recommendations_down': 3371},\n",
       "  {'date': datetime.datetime(2016, 4, 30, 19, 0),\n",
       "   'recommendations_up': 33834,\n",
       "   'recommendations_down': 3352},\n",
       "  {'date': datetime.datetime(2016, 5, 31, 19, 0),\n",
       "   'recommendations_up': 36688,\n",
       "   'recommendations_down': 4206},\n",
       "  {'date': datetime.datetime(2016, 6, 30, 19, 0),\n",
       "   'recommendations_up': 36164,\n",
       "   'recommendations_down': 4168},\n",
       "  {'date': datetime.datetime(2016, 7, 31, 19, 0),\n",
       "   'recommendations_up': 30250,\n",
       "   'recommendations_down': 4239},\n",
       "  {'date': datetime.datetime(2016, 8, 31, 19, 0),\n",
       "   'recommendations_up': 25722,\n",
       "   'recommendations_down': 3872},\n",
       "  {'date': datetime.datetime(2016, 9, 30, 19, 0),\n",
       "   'recommendations_up': 25902,\n",
       "   'recommendations_down': 4273},\n",
       "  {'date': datetime.datetime(2016, 10, 31, 19, 0),\n",
       "   'recommendations_up': 96257,\n",
       "   'recommendations_down': 7671},\n",
       "  {'date': datetime.datetime(2016, 11, 30, 18, 0),\n",
       "   'recommendations_up': 41167,\n",
       "   'recommendations_down': 5708},\n",
       "  {'date': datetime.datetime(2016, 12, 31, 18, 0),\n",
       "   'recommendations_up': 45120,\n",
       "   'recommendations_down': 6307},\n",
       "  {'date': datetime.datetime(2017, 1, 31, 18, 0),\n",
       "   'recommendations_up': 45424,\n",
       "   'recommendations_down': 7085},\n",
       "  {'date': datetime.datetime(2017, 2, 28, 18, 0),\n",
       "   'recommendations_up': 38472,\n",
       "   'recommendations_down': 5061},\n",
       "  {'date': datetime.datetime(2017, 3, 31, 19, 0),\n",
       "   'recommendations_up': 38480,\n",
       "   'recommendations_down': 4812},\n",
       "  {'date': datetime.datetime(2017, 4, 30, 19, 0),\n",
       "   'recommendations_up': 35041,\n",
       "   'recommendations_down': 4716},\n",
       "  {'date': datetime.datetime(2017, 5, 31, 19, 0),\n",
       "   'recommendations_up': 43879,\n",
       "   'recommendations_down': 6207},\n",
       "  {'date': datetime.datetime(2017, 6, 30, 19, 0),\n",
       "   'recommendations_up': 44087,\n",
       "   'recommendations_down': 6635},\n",
       "  {'date': datetime.datetime(2017, 7, 31, 19, 0),\n",
       "   'recommendations_up': 37072,\n",
       "   'recommendations_down': 7040},\n",
       "  {'date': datetime.datetime(2017, 8, 31, 19, 0),\n",
       "   'recommendations_up': 34091,\n",
       "   'recommendations_down': 7001},\n",
       "  {'date': datetime.datetime(2017, 9, 30, 19, 0),\n",
       "   'recommendations_up': 35276,\n",
       "   'recommendations_down': 7706},\n",
       "  {'date': datetime.datetime(2017, 10, 31, 19, 0),\n",
       "   'recommendations_up': 77990,\n",
       "   'recommendations_down': 10508},\n",
       "  {'date': datetime.datetime(2017, 11, 30, 18, 0),\n",
       "   'recommendations_up': 42060,\n",
       "   'recommendations_down': 6759},\n",
       "  {'date': datetime.datetime(2017, 12, 31, 18, 0),\n",
       "   'recommendations_up': 44085,\n",
       "   'recommendations_down': 7656},\n",
       "  {'date': datetime.datetime(2018, 1, 31, 18, 0),\n",
       "   'recommendations_up': 36508,\n",
       "   'recommendations_down': 6557},\n",
       "  {'date': datetime.datetime(2018, 2, 28, 18, 0),\n",
       "   'recommendations_up': 35109,\n",
       "   'recommendations_down': 7908},\n",
       "  {'date': datetime.datetime(2018, 3, 31, 19, 0),\n",
       "   'recommendations_up': 24374,\n",
       "   'recommendations_down': 7019},\n",
       "  {'date': datetime.datetime(2018, 4, 30, 19, 0),\n",
       "   'recommendations_up': 23387,\n",
       "   'recommendations_down': 5828},\n",
       "  {'date': datetime.datetime(2018, 5, 31, 19, 0),\n",
       "   'recommendations_up': 28673,\n",
       "   'recommendations_down': 6155},\n",
       "  {'date': datetime.datetime(2018, 6, 30, 19, 0),\n",
       "   'recommendations_up': 27181,\n",
       "   'recommendations_down': 5773},\n",
       "  {'date': datetime.datetime(2018, 7, 31, 19, 0),\n",
       "   'recommendations_up': 4764,\n",
       "   'recommendations_down': 1237}]}"
      ]
     },
     "execution_count": 13,
     "metadata": {},
     "output_type": "execute_result"
    }
   ],
   "source": [
    "collection.find_one({'app': '730'})"
   ]
  },
  {
   "cell_type": "code",
   "execution_count": 9,
   "metadata": {},
   "outputs": [],
   "source": [
    "def get_reviews(app_id):\n",
    "    \"\"\"\n",
    "    Gets {'date': 1517443200, 'recommendations_up': 36508, 'recommendations_down': 6557} for the app id\n",
    "    :param app: (dict) {app id: app name}\n",
    "    :return: (list of dicts) [{date: , recommendations_up: , recommendations_down: }, ... ]\n",
    "    \"\"\"\n",
    "    try:\n",
    "        output = requests.get('https://store.steampowered.com/appreviewhistogram/{}'.format(app_id)) \\\n",
    "         .json()['results']['rollups']\n",
    "    except:\n",
    "        return None\n",
    "    for i, item in enumerate(output):\n",
    "        item['date'] = datetime.datetime.fromtimestamp(item['date'])\n",
    "        output[i] = item\n",
    "    output_dict = {'app': str(app_id), 'reviews': output}\n",
    "    return output_dict"
   ]
  },
  {
   "cell_type": "code",
   "execution_count": 14,
   "metadata": {},
   "outputs": [
    {
     "data": {
      "text/plain": [
       "datetime.datetime(2012, 9, 30, 19, 0)"
      ]
     },
     "execution_count": 14,
     "metadata": {},
     "output_type": "execute_result"
    }
   ],
   "source": [
    "eval('datetime.datetime(2012, 9, 30, 19, 0)')"
   ]
  },
  {
   "cell_type": "code",
   "execution_count": 16,
   "metadata": {},
   "outputs": [
    {
     "ename": "TypeError",
     "evalue": "'module' object is not callable",
     "output_type": "error",
     "traceback": [
      "\u001b[0;31m---------------------------------------------------------------------------\u001b[0m",
      "\u001b[0;31mTypeError\u001b[0m                                 Traceback (most recent call last)",
      "\u001b[0;32m<ipython-input-16-c02e06db1fea>\u001b[0m in \u001b[0;36m<module>\u001b[0;34m()\u001b[0m\n\u001b[0;32m----> 1\u001b[0;31m \u001b[0mdatetime\u001b[0m\u001b[0;34m(\u001b[0m\u001b[0;36m2012\u001b[0m\u001b[0;34m,\u001b[0m \u001b[0;36m9\u001b[0m\u001b[0;34m,\u001b[0m \u001b[0;36m30\u001b[0m\u001b[0;34m,\u001b[0m \u001b[0;36m19\u001b[0m\u001b[0;34m,\u001b[0m \u001b[0;36m0\u001b[0m\u001b[0;34m)\u001b[0m\u001b[0;34m\u001b[0m\u001b[0m\n\u001b[0m",
      "\u001b[0;31mTypeError\u001b[0m: 'module' object is not callable"
     ]
    }
   ],
   "source": [
    "datetime.datetime(2012, 9, 30, 19, 0)"
   ]
  },
  {
   "cell_type": "code",
   "execution_count": 20,
   "metadata": {},
   "outputs": [
    {
     "data": {
      "text/plain": [
       "'2016-11-30 18:00:00'"
      ]
     },
     "execution_count": 20,
     "metadata": {},
     "output_type": "execute_result"
    }
   ],
   "source": [
    "str(datetime.datetime.fromtimestamp(1480550400))"
   ]
  },
  {
   "cell_type": "code",
   "execution_count": null,
   "metadata": {},
   "outputs": [],
   "source": []
  }
 ],
 "metadata": {
  "kernelspec": {
   "display_name": "Python 3",
   "language": "python",
   "name": "python3"
  },
  "language_info": {
   "codemirror_mode": {
    "name": "ipython",
    "version": 3
   },
   "file_extension": ".py",
   "mimetype": "text/x-python",
   "name": "python",
   "nbconvert_exporter": "python",
   "pygments_lexer": "ipython3",
   "version": "3.6.6"
  }
 },
 "nbformat": 4,
 "nbformat_minor": 2
}
