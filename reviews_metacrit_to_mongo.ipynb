{
 "cells": [
  {
   "cell_type": "code",
   "execution_count": 5,
   "metadata": {},
   "outputs": [],
   "source": [
    "from pymongo import MongoClient\n",
    "from urllib.parse import quote_plus as url\n",
    "import pandas as pd\n",
    "import re\n",
    "import steam.webauth as wa\n",
    "import os\n",
    "import ast\n",
    "import matplotlib.pyplot as plt\n",
    "from bs4 import BeautifulSoup\n",
    "%matplotlib inline"
   ]
  },
  {
   "cell_type": "code",
   "execution_count": null,
   "metadata": {},
   "outputs": [],
   "source": [
    "client = MongoClient()\n",
    "db = client['steam_capstone']\n",
    "collection_metacritic = db['metacritic_scores']\n",
    "collection_tags = db['tags']"
   ]
  },
  {
   "cell_type": "code",
   "execution_count": null,
   "metadata": {},
   "outputs": [],
   "source": []
  },
  {
   "cell_type": "code",
   "execution_count": null,
   "metadata": {},
   "outputs": [],
   "source": [
    "collection_metacritic.insert(mc_dict)\n",
    "collection_tags.insert(tags_dict)"
   ]
  },
  {
   "cell_type": "code",
   "execution_count": 2,
   "metadata": {},
   "outputs": [],
   "source": [
    "def scrape_local(page):\n",
    "    bs = BeautifulSoup(page, 'lxml')\n",
    "    tag_bs = bs(text=re.compile('InitAppTagModal'))\n",
    "    if tag_bs:\n",
    "        tags = tag_bs[0][tag_bs[0].find('['):tag_bs[0].find(']') + 1]\n",
    "        tags = re.sub(r',\"browseable\": true', '', tags)\n",
    "    else:\n",
    "        tags = None\n",
    "    metacritic_score = bs.find('div', {'class': \"score high\"})\n",
    "\n",
    "    if metacritic_score:\n",
    "        metacritic_score = metacritic_score.contents[0].strip()\n",
    "    else:\n",
    "        metacritic_score = None\n",
    "\n",
    "    return tags, metacritic_score"
   ]
  },
  {
   "cell_type": "code",
   "execution_count": 10,
   "metadata": {},
   "outputs": [],
   "source": [
    "with open('data/games_with_items/440.html') as f:\n",
    "    tf2 = f.read()"
   ]
  },
  {
   "cell_type": "code",
   "execution_count": 16,
   "metadata": {},
   "outputs": [],
   "source": [
    "bs = BeautifulSoup(tf2, 'lxml')"
   ]
  },
  {
   "cell_type": "code",
   "execution_count": 17,
   "metadata": {},
   "outputs": [],
   "source": [
    "tag_bs = bs(text=re.compile('InitAppTagModal'))"
   ]
  },
  {
   "cell_type": "code",
   "execution_count": null,
   "metadata": {},
   "outputs": [],
   "source": [
    "client = MongoClient()\n",
    "db = client['steam_test']\n",
    "collection_tags = db['tags']\n",
    "collection_tags.insert(tags_dict)"
   ]
  },
  {
   "cell_type": "code",
   "execution_count": 21,
   "metadata": {},
   "outputs": [
    {
     "data": {
      "text/plain": [
       "'[{\"tagid\":113,\"name\":\"Free to Play\",\"count\":17081},{\"tagid\":3859,\"name\":\"Multiplayer\",\"count\":10186},{\"tagid\":1663,\"name\":\"FPS\",\"count\":8940},{\"tagid\":19,\"name\":\"Action\",\"count\":7968},{\"tagid\":1774,\"name\":\"Shooter\",\"count\":7565},{\"tagid\":4155,\"name\":\"Class-Based\",\"count\":5912},{\"tagid\":5711,\"name\":\"Team-Based\",\"count\":5142},{\"tagid\":4136,\"name\":\"Funny\",\"count\":4972},{\"tagid\":3839,\"name\":\"First-Person\",\"count\":4662},{\"tagid\":4202,\"name\":\"Trading\",\"count\":4396},{\"tagid\":4195,\"name\":\"Cartoony\",\"count\":4098},{\"tagid\":3878,\"name\":\"Competitive\",\"count\":3986},{\"tagid\":3843,\"name\":\"Online Co-Op\",\"count\":3845},{\"tagid\":1685,\"name\":\"Co-op\",\"count\":3799},{\"tagid\":5752,\"name\":\"Robots\",\"count\":2998},{\"tagid\":1719,\"name\":\"Comedy\",\"count\":2917},{\"tagid\":1708,\"name\":\"Tactical\",\"count\":2605},{\"tagid\":1702,\"name\":\"Crafting\",\"count\":2379},{\"tagid\":4562,\"name\":\"Cartoon\",\"count\":2340},{\"tagid\":1669,\"name\":\"Moddable\",\"count\":2205}]'"
      ]
     },
     "execution_count": 21,
     "metadata": {},
     "output_type": "execute_result"
    }
   ],
   "source": [
    "tags = tag_bs[0][tag_bs[0].find('['):tag_bs[0].find(']') + 1]\n",
    "tags = re.sub(r',\"browseable\":true', '', tags)\n",
    "tags"
   ]
  },
  {
   "cell_type": "code",
   "execution_count": 22,
   "metadata": {},
   "outputs": [],
   "source": [
    "tags = eval(tags)"
   ]
  },
  {
   "cell_type": "code",
   "execution_count": 24,
   "metadata": {},
   "outputs": [],
   "source": [
    "tags_dict = {'app':'440', 'tags':tags}"
   ]
  },
  {
   "cell_type": "code",
   "execution_count": 25,
   "metadata": {},
   "outputs": [
    {
     "name": "stderr",
     "output_type": "stream",
     "text": [
      "/Applications/anaconda3/lib/python3.6/site-packages/ipykernel_launcher.py:4: DeprecationWarning: insert is deprecated. Use insert_one or insert_many instead.\n",
      "  after removing the cwd from sys.path.\n"
     ]
    },
    {
     "data": {
      "text/plain": [
       "ObjectId('5b68779f8267aee09da2728e')"
      ]
     },
     "execution_count": 25,
     "metadata": {},
     "output_type": "execute_result"
    }
   ],
   "source": [
    "client = MongoClient()\n",
    "db = client['steam_test']\n",
    "collection_tags = db['tags']\n",
    "collection_tags.insert(tags_dict)"
   ]
  },
  {
   "cell_type": "code",
   "execution_count": 28,
   "metadata": {},
   "outputs": [
    {
     "data": {
      "text/plain": [
       "'530300.'"
      ]
     },
     "execution_count": 28,
     "metadata": {},
     "output_type": "execute_result"
    }
   ],
   "source": [
    "os.listdir('data/games_with_items/')[0][:-5]"
   ]
  },
  {
   "cell_type": "code",
   "execution_count": 40,
   "metadata": {},
   "outputs": [],
   "source": [
    "def scrape_local_tags(page):\n",
    "    bs = BeautifulSoup(page, 'lxml')\n",
    "    tag_bs = bs(text=re.compile('InitAppTagModal'))\n",
    "    if tag_bs:\n",
    "        tags = tag_bs[0][tag_bs[0].find('['):tag_bs[0].find(']') + 1]\n",
    "        tags = re.sub(r',\"browseable\": true', '', tags)\n",
    "        tags = re.sub(r',\"browseable\":true', '', tags)\n",
    "    else:\n",
    "        tags = None\n",
    "    return tags"
   ]
  },
  {
   "cell_type": "code",
   "execution_count": 46,
   "metadata": {},
   "outputs": [
    {
     "name": "stdout",
     "output_type": "stream",
     "text": [
      "530300.html\n",
      "433530.html\n",
      "322330.html\n"
     ]
    },
    {
     "name": "stderr",
     "output_type": "stream",
     "text": [
      "/Applications/anaconda3/lib/python3.6/site-packages/ipykernel_launcher.py:17: DeprecationWarning: insert is deprecated. Use insert_one or insert_many instead.\n"
     ]
    },
    {
     "name": "stdout",
     "output_type": "stream",
     "text": [
      "534210.html\n",
      "654700.html\n",
      "663920.html\n",
      "485610.html\n",
      "859700.html\n",
      "528970.html\n",
      "431960.html\n",
      "520530.html\n",
      "570.html\n",
      "270450.html\n",
      "274940.html\n",
      "218620.html\n",
      "643270.html\n",
      "517710.html\n",
      "420900.html\n",
      "730.html\n",
      "369990.html\n",
      "489940.html\n",
      "749820.html\n",
      "672490.html\n",
      "603750.html\n",
      "663690.html\n",
      "464350.html\n",
      "238960.html\n",
      "650580.html\n",
      "232090.html\n",
      "252490.html\n",
      "299740.html\n",
      "845870.html\n",
      "562430.html\n",
      "321360.html\n",
      "874100.html\n",
      "290340.html\n",
      "304930.html\n",
      "531960.html\n",
      "338170.html\n",
      "264710.html\n",
      "207140.html\n",
      "544840.html\n",
      "749780.html\n",
      "486780.html\n",
      "771950.html\n",
      "437220.html\n",
      "447820.html\n",
      "757160.html\n",
      "4920.html\n",
      "722670.html\n",
      "744760.html\n",
      "244850.html\n",
      "530700.html\n",
      "374280.html\n",
      "829080.html\n",
      "749830.html\n",
      "581740.html\n",
      "731640.html\n",
      "764030.html\n",
      "708940.html\n",
      "302670.html\n",
      "516940.html\n",
      "840140.html\n",
      "496960.html\n",
      "363360.html\n",
      "417860.html\n",
      "676340.html\n",
      "684580.html\n",
      "868080.html\n",
      "471550.html\n",
      "578080.html\n",
      "787240.html\n",
      "263920.html\n",
      "366440.html\n",
      "508710.html\n",
      "655010.html\n",
      "238460.html\n",
      "391240.html\n",
      "374670.html\n",
      "571740.html\n",
      "433850.html\n",
      "560080.html\n",
      "614910.html\n",
      "270880.html\n",
      "411480.html\n",
      "440.html\n",
      "457960.html\n",
      "679990.html\n",
      "728540.html\n",
      "244930.html\n",
      "328070.html\n",
      "431240.html\n",
      "323850.html\n",
      "296300.html\n",
      "308080.html\n",
      "321400.html\n",
      "295110.html\n",
      "582810.html\n",
      "348670.html\n",
      "529840.html\n",
      "513510.html\n",
      "346930.html\n",
      "227300.html\n",
      "843660.html\n",
      "230410.html\n",
      "381250.html\n",
      "550650.html\n",
      "429780.html\n",
      "397900.html\n",
      "364640.html\n"
     ]
    }
   ],
   "source": [
    "client = MongoClient()\n",
    "db = client['steam_test']\n",
    "app_page_list = os.listdir('data/games_with_items/')\n",
    "for app in app_page_list:\n",
    "    if app[-5:] != '.html':\n",
    "        continue\n",
    "    print(app)\n",
    "#     if app == '722670.html' or app == '840140.html':\n",
    "#         continue\n",
    "    with open('data/games_with_items/{}'.format(app)) as f:\n",
    "        page = f.read()\n",
    "    tags = scrape_local_tags(page)\n",
    "    if tags:\n",
    "        tags = eval(tags)\n",
    "        tags_dict = {'app': app[:-5], 'tags': tags}\n",
    "        collection_tags = db['tags']\n",
    "        collection_tags.insert(tags_dict)"
   ]
  },
  {
   "cell_type": "code",
   "execution_count": 42,
   "metadata": {},
   "outputs": [],
   "source": [
    "non_english = {'722670': '中国象棋', '840140': '武侠乂'}"
   ]
  },
  {
   "cell_type": "code",
   "execution_count": 45,
   "metadata": {},
   "outputs": [
    {
     "data": {
      "text/plain": [
       "True"
      ]
     },
     "execution_count": 45,
     "metadata": {},
     "output_type": "execute_result"
    }
   ],
   "source": [
    "'420900.html'[-5:] == '.html'"
   ]
  },
  {
   "cell_type": "code",
   "execution_count": 47,
   "metadata": {},
   "outputs": [
    {
     "name": "stderr",
     "output_type": "stream",
     "text": [
      "/Applications/anaconda3/lib/python3.6/site-packages/ipykernel_launcher.py:27: DeprecationWarning: insert is deprecated. Use insert_one or insert_many instead.\n"
     ]
    }
   ],
   "source": [
    "def scrape_local_mc(page):\n",
    "    bs = BeautifulSoup(page, 'lxml')\n",
    "    metacritic_score = bs.find('div', {'class': \"score high\"})\n",
    "\n",
    "    if metacritic_score:\n",
    "        metacritic_score = metacritic_score.contents[0].strip()\n",
    "    else:\n",
    "        metacritic_score = None\n",
    "\n",
    "    return metacritic_score\n",
    "\n",
    "\n",
    "\n",
    "client = MongoClient()\n",
    "db = client['steam_test']\n",
    "app_page_list = os.listdir('data/games_with_items/')\n",
    "for app in app_page_list:\n",
    "    if app[-5:] != '.html':\n",
    "        continue\n",
    "    with open('data/games_with_items/{}'.format(app)) as f:\n",
    "        page = f.read()\n",
    "    mc_score = scrape_local_mc(page)\n",
    "    if mc_score:\n",
    "        mc_score = eval(mc_score)\n",
    "        mc_dict = {'app': app[:-5], 'metacritic_score': mc_score}\n",
    "        collection_tags = db['metacritic']\n",
    "        collection_tags.insert(mc_dict)"
   ]
  },
  {
   "cell_type": "code",
   "execution_count": null,
   "metadata": {},
   "outputs": [],
   "source": []
  }
 ],
 "metadata": {
  "kernelspec": {
   "display_name": "Python 3",
   "language": "python",
   "name": "python3"
  },
  "language_info": {
   "codemirror_mode": {
    "name": "ipython",
    "version": 3
   },
   "file_extension": ".py",
   "mimetype": "text/x-python",
   "name": "python",
   "nbconvert_exporter": "python",
   "pygments_lexer": "ipython3",
   "version": "3.6.6"
  }
 },
 "nbformat": 4,
 "nbformat_minor": 2
}
