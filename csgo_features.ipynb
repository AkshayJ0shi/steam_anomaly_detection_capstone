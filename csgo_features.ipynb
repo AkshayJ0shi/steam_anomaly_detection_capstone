{
 "cells": [
  {
   "cell_type": "code",
   "execution_count": 20,
   "metadata": {},
   "outputs": [],
   "source": [
    "import pandas as pd\n",
    "import pickle\n",
    "from itertools import compress"
   ]
  },
  {
   "cell_type": "code",
   "execution_count": 2,
   "metadata": {},
   "outputs": [],
   "source": [
    "with open('data/csgo_df.pkl', 'rb') as f:\n",
    "    df_raw = pickle.load(f)"
   ]
  },
  {
   "cell_type": "code",
   "execution_count": 3,
   "metadata": {},
   "outputs": [],
   "source": [
    "player_count = pd.read_csv('data/csgo.csv')"
   ]
  },
  {
   "cell_type": "code",
   "execution_count": 4,
   "metadata": {},
   "outputs": [],
   "source": [
    "df = df_raw.copy()"
   ]
  },
  {
   "cell_type": "markdown",
   "metadata": {},
   "source": [
    "#### List of items:"
   ]
  },
  {
   "cell_type": "code",
   "execution_count": 5,
   "metadata": {},
   "outputs": [],
   "source": [
    "items = df.item_name.unique()"
   ]
  },
  {
   "cell_type": "markdown",
   "metadata": {},
   "source": [
    "#### Possible parentheticals:"
   ]
  },
  {
   "cell_type": "code",
   "execution_count": 16,
   "metadata": {},
   "outputs": [
    {
     "data": {
      "text/plain": [
       "{'(Battle Green)',\n",
       " '(Battle-Scarred)',\n",
       " '(Bazooka Pink)',\n",
       " '(Blood Red)',\n",
       " '(Blue)',\n",
       " '(Brick Red)',\n",
       " '(Cash Green)',\n",
       " '(Desert Amber)',\n",
       " '(Dust Brown)',\n",
       " '(Factory New)',\n",
       " '(Field-Tested)',\n",
       " '(Foil)',\n",
       " '(Foil)  | MLG Columbus 2016',\n",
       " '(Foil) | Atlanta 2017',\n",
       " '(Foil) | Boston 2018',\n",
       " '(Foil) | Cluj-Napoca 2015',\n",
       " '(Foil) | Cologne 2015',\n",
       " '(Foil) | Cologne 2016',\n",
       " '(Foil) | DreamHack 2014',\n",
       " '(Foil) | Katowice 2014',\n",
       " '(Foil) | Katowice 2015',\n",
       " '(Foil) | Krakow 2017',\n",
       " '(Foil) | MLG Columbus 2016',\n",
       " '(Frog Green)',\n",
       " '(Gold) | Boston 2018',\n",
       " '(Gold) | Krakow 2017',\n",
       " '(Holo)',\n",
       " '(Holo) | Atlanta 2017',\n",
       " '(Holo) | Boston 2018',\n",
       " '(Holo) | Cologne 2014',\n",
       " '(Holo) | Cologne 2016',\n",
       " '(Holo) | DreamHack 2014',\n",
       " '(Holo) | Katowice 2014',\n",
       " '(Holo) | Katowice 2015',\n",
       " '(Holo) | Krakow 2017',\n",
       " '(Holo) | MLG Columbus 2016',\n",
       " '(Holo-Foil)',\n",
       " '(Jungle Green)',\n",
       " '(Minimal Wear)',\n",
       " '(Monarch Blue)',\n",
       " '(Monster Purple)',\n",
       " '(Princess Pink)',\n",
       " '(Red)',\n",
       " '(SWAT Blue)',\n",
       " '(Shark White)',\n",
       " '(Tiger Orange)',\n",
       " '(Tracer Yellow)',\n",
       " '(Violent Violet)',\n",
       " '(War Pig Pink)',\n",
       " '(Well-Worn)',\n",
       " '(Wire Blue)'}"
      ]
     },
     "execution_count": 16,
     "metadata": {},
     "output_type": "execute_result"
    }
   ],
   "source": [
    "parentheticals = set([item[item.rfind('('):] for item in items if item.find('(') >= 0])\n",
    "parentheticals"
   ]
  },
  {
   "cell_type": "markdown",
   "metadata": {},
   "source": [
    "#### We have colors, quality, foil, events (after '|', and likely separate of parentheticals if foil is missing)"
   ]
  },
  {
   "cell_type": "code",
   "execution_count": 22,
   "metadata": {},
   "outputs": [
    {
     "data": {
      "text/plain": [
       "['Sticker | AdreN (Foil)  | MLG Columbus 2016']"
      ]
     },
     "execution_count": 22,
     "metadata": {},
     "output_type": "execute_result"
    }
   ],
   "source": [
    "list(compress(items, ['(Foil)  | MLG Columbus 2016' in item for item in items]))"
   ]
  },
  {
   "cell_type": "code",
   "execution_count": 23,
   "metadata": {},
   "outputs": [
    {
     "data": {
      "text/plain": [
       "'Sticker | AdreN (Foil) | MLG Columbus 2016'"
      ]
     },
     "execution_count": 23,
     "metadata": {},
     "output_type": "execute_result"
    }
   ],
   "source": [
    "'Sticker | AdreN (Foil) | MLG Columbus 2016'"
   ]
  },
  {
   "cell_type": "code",
   "execution_count": 26,
   "metadata": {},
   "outputs": [],
   "source": [
    "df = df.replace(to_replace='Sticker | AdreN (Foil)  | MLG Columbus 2016', value='Sticker | AdreN (Foil) | MLG Columbus 2016')"
   ]
  },
  {
   "cell_type": "markdown",
   "metadata": {},
   "source": [
    "#### Removed the extra space in that string"
   ]
  },
  {
   "cell_type": "markdown",
   "metadata": {},
   "source": [
    "#### Looking at the items without parentheses"
   ]
  },
  {
   "cell_type": "code",
   "execution_count": 31,
   "metadata": {},
   "outputs": [],
   "source": [
    "df['parenthetical'] = [item.find('(') >= 0 for item in df.item_name]"
   ]
  },
  {
   "cell_type": "code",
   "execution_count": 36,
   "metadata": {},
   "outputs": [
    {
     "data": {
      "text/plain": [
       "1450"
      ]
     },
     "execution_count": 36,
     "metadata": {},
     "output_type": "execute_result"
    }
   ],
   "source": [
    "len(df[~df.parenthetical].item_name.unique())"
   ]
  },
  {
   "cell_type": "markdown",
   "metadata": {},
   "source": [
    "1450 unique items left to categorize"
   ]
  },
  {
   "cell_type": "code",
   "execution_count": null,
   "metadata": {},
   "outputs": [],
   "source": []
  }
 ],
 "metadata": {
  "kernelspec": {
   "display_name": "Python 3",
   "language": "python",
   "name": "python3"
  },
  "language_info": {
   "codemirror_mode": {
    "name": "ipython",
    "version": 3
   },
   "file_extension": ".py",
   "mimetype": "text/x-python",
   "name": "python",
   "nbconvert_exporter": "python",
   "pygments_lexer": "ipython3",
   "version": "3.6.6"
  }
 },
 "nbformat": 4,
 "nbformat_minor": 2
}
