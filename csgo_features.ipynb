{
 "cells": [
  {
   "cell_type": "code",
   "execution_count": 71,
   "metadata": {},
   "outputs": [],
   "source": [
    "import pandas as pd\n",
    "import numpy as np\n",
    "import pickle\n",
    "from itertools import compress"
   ]
  },
  {
   "cell_type": "code",
   "execution_count": 2,
   "metadata": {},
   "outputs": [],
   "source": [
    "with open('data/csgo_df.pkl', 'rb') as f:\n",
    "    df_raw = pickle.load(f)"
   ]
  },
  {
   "cell_type": "code",
   "execution_count": 3,
   "metadata": {},
   "outputs": [],
   "source": [
    "player_count = pd.read_csv('data/csgo.csv')"
   ]
  },
  {
   "cell_type": "code",
   "execution_count": 4,
   "metadata": {},
   "outputs": [],
   "source": [
    "df = df_raw.copy()"
   ]
  },
  {
   "cell_type": "markdown",
   "metadata": {},
   "source": [
    "#### List of items:"
   ]
  },
  {
   "cell_type": "code",
   "execution_count": 5,
   "metadata": {},
   "outputs": [],
   "source": [
    "items = df.item_name.unique()"
   ]
  },
  {
   "cell_type": "markdown",
   "metadata": {},
   "source": [
    "#### Possible parentheticals:"
   ]
  },
  {
   "cell_type": "code",
   "execution_count": 6,
   "metadata": {},
   "outputs": [
    {
     "data": {
      "text/plain": [
       "{'(Battle Green)',\n",
       " '(Battle-Scarred)',\n",
       " '(Bazooka Pink)',\n",
       " '(Blood Red)',\n",
       " '(Blue)',\n",
       " '(Brick Red)',\n",
       " '(Cash Green)',\n",
       " '(Desert Amber)',\n",
       " '(Dust Brown)',\n",
       " '(Factory New)',\n",
       " '(Field-Tested)',\n",
       " '(Foil)',\n",
       " '(Foil)  | MLG Columbus 2016',\n",
       " '(Foil) | Atlanta 2017',\n",
       " '(Foil) | Boston 2018',\n",
       " '(Foil) | Cluj-Napoca 2015',\n",
       " '(Foil) | Cologne 2015',\n",
       " '(Foil) | Cologne 2016',\n",
       " '(Foil) | DreamHack 2014',\n",
       " '(Foil) | Katowice 2014',\n",
       " '(Foil) | Katowice 2015',\n",
       " '(Foil) | Krakow 2017',\n",
       " '(Foil) | MLG Columbus 2016',\n",
       " '(Frog Green)',\n",
       " '(Gold) | Boston 2018',\n",
       " '(Gold) | Krakow 2017',\n",
       " '(Holo)',\n",
       " '(Holo) | Atlanta 2017',\n",
       " '(Holo) | Boston 2018',\n",
       " '(Holo) | Cologne 2014',\n",
       " '(Holo) | Cologne 2016',\n",
       " '(Holo) | DreamHack 2014',\n",
       " '(Holo) | Katowice 2014',\n",
       " '(Holo) | Katowice 2015',\n",
       " '(Holo) | Krakow 2017',\n",
       " '(Holo) | MLG Columbus 2016',\n",
       " '(Holo-Foil)',\n",
       " '(Jungle Green)',\n",
       " '(Minimal Wear)',\n",
       " '(Monarch Blue)',\n",
       " '(Monster Purple)',\n",
       " '(Princess Pink)',\n",
       " '(Red)',\n",
       " '(SWAT Blue)',\n",
       " '(Shark White)',\n",
       " '(Tiger Orange)',\n",
       " '(Tracer Yellow)',\n",
       " '(Violent Violet)',\n",
       " '(War Pig Pink)',\n",
       " '(Well-Worn)',\n",
       " '(Wire Blue)'}"
      ]
     },
     "execution_count": 6,
     "metadata": {},
     "output_type": "execute_result"
    }
   ],
   "source": [
    "parentheticals = set([item[item.rfind('('):] for item in items if item.find('(') >= 0])\n",
    "parentheticals"
   ]
  },
  {
   "cell_type": "markdown",
   "metadata": {},
   "source": [
    "#### We have colors, quality, foil, events (after '|', and likely separate of parentheticals if foil is missing)"
   ]
  },
  {
   "cell_type": "code",
   "execution_count": 7,
   "metadata": {},
   "outputs": [
    {
     "data": {
      "text/plain": [
       "['Sticker | AdreN (Foil)  | MLG Columbus 2016']"
      ]
     },
     "execution_count": 7,
     "metadata": {},
     "output_type": "execute_result"
    }
   ],
   "source": [
    "list(compress(items, ['(Foil)  | MLG Columbus 2016' in item for item in items]))"
   ]
  },
  {
   "cell_type": "code",
   "execution_count": 8,
   "metadata": {},
   "outputs": [
    {
     "data": {
      "text/plain": [
       "'Sticker | AdreN (Foil) | MLG Columbus 2016'"
      ]
     },
     "execution_count": 8,
     "metadata": {},
     "output_type": "execute_result"
    }
   ],
   "source": [
    "'Sticker | AdreN (Foil) | MLG Columbus 2016'"
   ]
  },
  {
   "cell_type": "code",
   "execution_count": 9,
   "metadata": {},
   "outputs": [],
   "source": [
    "df = df.replace(to_replace='Sticker | AdreN (Foil)  | MLG Columbus 2016', value='Sticker | AdreN (Foil) | MLG Columbus 2016')"
   ]
  },
  {
   "cell_type": "markdown",
   "metadata": {},
   "source": [
    "#### Removed the extra space in that string"
   ]
  },
  {
   "cell_type": "markdown",
   "metadata": {},
   "source": [
    "#### Looking at the items without parentheses"
   ]
  },
  {
   "cell_type": "code",
   "execution_count": 10,
   "metadata": {},
   "outputs": [],
   "source": [
    "df['parenthetical'] = [item.find('(') >= 0 for item in df.item_name]"
   ]
  },
  {
   "cell_type": "code",
   "execution_count": 11,
   "metadata": {},
   "outputs": [
    {
     "data": {
      "text/plain": [
       "1450"
      ]
     },
     "execution_count": 11,
     "metadata": {},
     "output_type": "execute_result"
    }
   ],
   "source": [
    "len(df[~df.parenthetical].item_name.unique())"
   ]
  },
  {
   "cell_type": "markdown",
   "metadata": {},
   "source": [
    "1450 unique items left to categorize"
   ]
  },
  {
   "cell_type": "code",
   "execution_count": 12,
   "metadata": {},
   "outputs": [
    {
     "data": {
      "text/html": [
       "<div>\n",
       "<style scoped>\n",
       "    .dataframe tbody tr th:only-of-type {\n",
       "        vertical-align: middle;\n",
       "    }\n",
       "\n",
       "    .dataframe tbody tr th {\n",
       "        vertical-align: top;\n",
       "    }\n",
       "\n",
       "    .dataframe thead th {\n",
       "        text-align: right;\n",
       "    }\n",
       "</style>\n",
       "<table border=\"1\" class=\"dataframe\">\n",
       "  <thead>\n",
       "    <tr style=\"text-align: right;\">\n",
       "      <th></th>\n",
       "      <th>app</th>\n",
       "      <th>date</th>\n",
       "      <th>item_name</th>\n",
       "      <th>median_sell_price</th>\n",
       "      <th>quantity</th>\n",
       "      <th>release_date</th>\n",
       "      <th>parenthetical</th>\n",
       "    </tr>\n",
       "  </thead>\n",
       "  <tbody>\n",
       "    <tr>\n",
       "      <th>604327</th>\n",
       "      <td>730</td>\n",
       "      <td>1.471583e+09</td>\n",
       "      <td>Glock-18 | Weasel (Battle-Scarred)</td>\n",
       "      <td>6.193</td>\n",
       "      <td>135</td>\n",
       "      <td>18 August 2016</td>\n",
       "      <td>True</td>\n",
       "    </tr>\n",
       "    <tr>\n",
       "      <th>604328</th>\n",
       "      <td>730</td>\n",
       "      <td>1.471669e+09</td>\n",
       "      <td>Glock-18 | Weasel (Battle-Scarred)</td>\n",
       "      <td>5.103</td>\n",
       "      <td>166</td>\n",
       "      <td>18 August 2016</td>\n",
       "      <td>True</td>\n",
       "    </tr>\n",
       "    <tr>\n",
       "      <th>604329</th>\n",
       "      <td>730</td>\n",
       "      <td>1.471756e+09</td>\n",
       "      <td>Glock-18 | Weasel (Battle-Scarred)</td>\n",
       "      <td>4.721</td>\n",
       "      <td>142</td>\n",
       "      <td>18 August 2016</td>\n",
       "      <td>True</td>\n",
       "    </tr>\n",
       "    <tr>\n",
       "      <th>604330</th>\n",
       "      <td>730</td>\n",
       "      <td>1.471842e+09</td>\n",
       "      <td>Glock-18 | Weasel (Battle-Scarred)</td>\n",
       "      <td>4.302</td>\n",
       "      <td>98</td>\n",
       "      <td>18 August 2016</td>\n",
       "      <td>True</td>\n",
       "    </tr>\n",
       "    <tr>\n",
       "      <th>604331</th>\n",
       "      <td>730</td>\n",
       "      <td>1.471928e+09</td>\n",
       "      <td>Glock-18 | Weasel (Battle-Scarred)</td>\n",
       "      <td>3.898</td>\n",
       "      <td>125</td>\n",
       "      <td>18 August 2016</td>\n",
       "      <td>True</td>\n",
       "    </tr>\n",
       "  </tbody>\n",
       "</table>\n",
       "</div>"
      ],
      "text/plain": [
       "        app          date                           item_name  \\\n",
       "604327  730  1.471583e+09  Glock-18 | Weasel (Battle-Scarred)   \n",
       "604328  730  1.471669e+09  Glock-18 | Weasel (Battle-Scarred)   \n",
       "604329  730  1.471756e+09  Glock-18 | Weasel (Battle-Scarred)   \n",
       "604330  730  1.471842e+09  Glock-18 | Weasel (Battle-Scarred)   \n",
       "604331  730  1.471928e+09  Glock-18 | Weasel (Battle-Scarred)   \n",
       "\n",
       "        median_sell_price  quantity    release_date  parenthetical  \n",
       "604327              6.193       135  18 August 2016           True  \n",
       "604328              5.103       166  18 August 2016           True  \n",
       "604329              4.721       142  18 August 2016           True  \n",
       "604330              4.302        98  18 August 2016           True  \n",
       "604331              3.898       125  18 August 2016           True  "
      ]
     },
     "execution_count": 12,
     "metadata": {},
     "output_type": "execute_result"
    }
   ],
   "source": [
    "df.head()"
   ]
  },
  {
   "cell_type": "code",
   "execution_count": 13,
   "metadata": {},
   "outputs": [],
   "source": [
    "gun_list = ['AK-47',\n",
    " 'AUG',\n",
    " 'AWP',\n",
    " 'CZ75-Auto',\n",
    " 'Desert Eagle',\n",
    " 'Dual Berettas',\n",
    " 'FAMAS',\n",
    " 'Five-SeveN',\n",
    " 'G3SG1',\n",
    " 'Galil AR',\n",
    " 'Glock-18',\n",
    " 'M249',\n",
    " 'M4A1-S',\n",
    " 'M4A4',\n",
    " 'MAC-10',\n",
    " 'MAG-7',\n",
    " 'MP7',\n",
    " 'MP9',\n",
    " 'Negev',\n",
    " 'Nova',\n",
    " 'P2000',\n",
    " 'P250',\n",
    " 'P90',\n",
    " 'PP-Bizon',\n",
    " 'R8 Revolver',\n",
    " 'SCAR-20',\n",
    " 'SG 553',\n",
    " 'SSG 08',\n",
    " 'Sawed-Off',\n",
    " 'Tec-9',\n",
    " 'UMP-45',\n",
    " 'USP-S',\n",
    " 'XM1014']"
   ]
  },
  {
   "cell_type": "markdown",
   "metadata": {},
   "source": [
    "#### Add guns column"
   ]
  },
  {
   "cell_type": "code",
   "execution_count": 59,
   "metadata": {},
   "outputs": [],
   "source": [
    "df['gun_bool'] = [any([x in y for x in gun_list]) for y in df.item_name]"
   ]
  },
  {
   "cell_type": "code",
   "execution_count": 62,
   "metadata": {},
   "outputs": [
    {
     "data": {
      "text/plain": [
       "9486136    False\n",
       "9486137    False\n",
       "9486138    False\n",
       "9486139    False\n",
       "9486140    False\n",
       "Name: gun, dtype: bool"
      ]
     },
     "execution_count": 62,
     "metadata": {},
     "output_type": "execute_result"
    }
   ],
   "source": [
    "df.gun.tail()"
   ]
  },
  {
   "cell_type": "code",
   "execution_count": 61,
   "metadata": {},
   "outputs": [
    {
     "data": {
      "text/plain": [
       "['AK-47',\n",
       " 'AUG',\n",
       " 'AWP',\n",
       " 'CZ75-Auto',\n",
       " 'Desert Eagle',\n",
       " 'Dual Berettas',\n",
       " 'FAMAS',\n",
       " 'Five-SeveN',\n",
       " 'G3SG1',\n",
       " 'Galil AR',\n",
       " 'Glock-18',\n",
       " 'M249',\n",
       " 'M4A1-S',\n",
       " 'M4A4',\n",
       " 'MAC-10',\n",
       " 'MAG-7',\n",
       " 'MP7',\n",
       " 'MP9',\n",
       " 'Negev',\n",
       " 'Nova',\n",
       " 'P2000',\n",
       " 'P250',\n",
       " 'P90',\n",
       " 'PP-Bizon',\n",
       " 'R8 Revolver',\n",
       " 'SCAR-20',\n",
       " 'SG 553',\n",
       " 'SSG 08',\n",
       " 'Sawed-Off',\n",
       " 'Tec-9',\n",
       " 'UMP-45',\n",
       " 'USP-S',\n",
       " 'XM1014']"
      ]
     },
     "execution_count": 61,
     "metadata": {},
     "output_type": "execute_result"
    }
   ],
   "source": [
    "sorted(set([x.split('|')[0][:-1] for x in df[df.gun].item_name.unique()]))"
   ]
  },
  {
   "cell_type": "markdown",
   "metadata": {},
   "source": [
    "#### Separate StatTraks and Souvenirs"
   ]
  },
  {
   "cell_type": "code",
   "execution_count": 52,
   "metadata": {},
   "outputs": [],
   "source": [
    "df['StatTrak'] = [x.find('Stat') == 0 for x in df.item_name]"
   ]
  },
  {
   "cell_type": "code",
   "execution_count": 53,
   "metadata": {},
   "outputs": [],
   "source": [
    "df.loc[df.StatTrak, 'item_name'] = [x.split('StatTrak™ ')[1] for x in df.loc[df.StatTrak, 'item_name']]"
   ]
  },
  {
   "cell_type": "code",
   "execution_count": 54,
   "metadata": {},
   "outputs": [
    {
     "data": {
      "text/html": [
       "<div>\n",
       "<style scoped>\n",
       "    .dataframe tbody tr th:only-of-type {\n",
       "        vertical-align: middle;\n",
       "    }\n",
       "\n",
       "    .dataframe tbody tr th {\n",
       "        vertical-align: top;\n",
       "    }\n",
       "\n",
       "    .dataframe thead th {\n",
       "        text-align: right;\n",
       "    }\n",
       "</style>\n",
       "<table border=\"1\" class=\"dataframe\">\n",
       "  <thead>\n",
       "    <tr style=\"text-align: right;\">\n",
       "      <th></th>\n",
       "      <th>app</th>\n",
       "      <th>date</th>\n",
       "      <th>item_name</th>\n",
       "      <th>median_sell_price</th>\n",
       "      <th>quantity</th>\n",
       "      <th>release_date</th>\n",
       "      <th>parenthetical</th>\n",
       "      <th>StatTrak</th>\n",
       "    </tr>\n",
       "  </thead>\n",
       "  <tbody>\n",
       "    <tr>\n",
       "      <th>612956</th>\n",
       "      <td>730</td>\n",
       "      <td>1.471583e+09</td>\n",
       "      <td>P90 | Grim (Field-Tested)</td>\n",
       "      <td>7.559</td>\n",
       "      <td>153</td>\n",
       "      <td>18 August 2016</td>\n",
       "      <td>True</td>\n",
       "      <td>True</td>\n",
       "    </tr>\n",
       "    <tr>\n",
       "      <th>612957</th>\n",
       "      <td>730</td>\n",
       "      <td>1.471669e+09</td>\n",
       "      <td>P90 | Grim (Field-Tested)</td>\n",
       "      <td>5.642</td>\n",
       "      <td>179</td>\n",
       "      <td>18 August 2016</td>\n",
       "      <td>True</td>\n",
       "      <td>True</td>\n",
       "    </tr>\n",
       "    <tr>\n",
       "      <th>612958</th>\n",
       "      <td>730</td>\n",
       "      <td>1.471756e+09</td>\n",
       "      <td>P90 | Grim (Field-Tested)</td>\n",
       "      <td>4.711</td>\n",
       "      <td>150</td>\n",
       "      <td>18 August 2016</td>\n",
       "      <td>True</td>\n",
       "      <td>True</td>\n",
       "    </tr>\n",
       "    <tr>\n",
       "      <th>612959</th>\n",
       "      <td>730</td>\n",
       "      <td>1.471842e+09</td>\n",
       "      <td>P90 | Grim (Field-Tested)</td>\n",
       "      <td>4.308</td>\n",
       "      <td>140</td>\n",
       "      <td>18 August 2016</td>\n",
       "      <td>True</td>\n",
       "      <td>True</td>\n",
       "    </tr>\n",
       "    <tr>\n",
       "      <th>612960</th>\n",
       "      <td>730</td>\n",
       "      <td>1.471928e+09</td>\n",
       "      <td>P90 | Grim (Field-Tested)</td>\n",
       "      <td>3.919</td>\n",
       "      <td>138</td>\n",
       "      <td>18 August 2016</td>\n",
       "      <td>True</td>\n",
       "      <td>True</td>\n",
       "    </tr>\n",
       "  </tbody>\n",
       "</table>\n",
       "</div>"
      ],
      "text/plain": [
       "        app          date                  item_name  median_sell_price  \\\n",
       "612956  730  1.471583e+09  P90 | Grim (Field-Tested)              7.559   \n",
       "612957  730  1.471669e+09  P90 | Grim (Field-Tested)              5.642   \n",
       "612958  730  1.471756e+09  P90 | Grim (Field-Tested)              4.711   \n",
       "612959  730  1.471842e+09  P90 | Grim (Field-Tested)              4.308   \n",
       "612960  730  1.471928e+09  P90 | Grim (Field-Tested)              3.919   \n",
       "\n",
       "        quantity    release_date  parenthetical  StatTrak  \n",
       "612956       153  18 August 2016           True      True  \n",
       "612957       179  18 August 2016           True      True  \n",
       "612958       150  18 August 2016           True      True  \n",
       "612959       140  18 August 2016           True      True  \n",
       "612960       138  18 August 2016           True      True  "
      ]
     },
     "execution_count": 54,
     "metadata": {},
     "output_type": "execute_result"
    }
   ],
   "source": [
    "df[df.StatTrak].head()"
   ]
  },
  {
   "cell_type": "markdown",
   "metadata": {},
   "source": [
    "#### Separate Souvenir"
   ]
  },
  {
   "cell_type": "code",
   "execution_count": 56,
   "metadata": {},
   "outputs": [],
   "source": [
    "df['souvenir'] = [x.find('Souv') == 0 for x in df.item_name]"
   ]
  },
  {
   "cell_type": "code",
   "execution_count": 57,
   "metadata": {},
   "outputs": [],
   "source": [
    "df.loc[df.souvenir, 'item_name'] = [x.split('Souvenir ')[1] for x in df.loc[df.souvenir, 'item_name']]"
   ]
  },
  {
   "cell_type": "code",
   "execution_count": 66,
   "metadata": {},
   "outputs": [
    {
     "data": {
      "text/html": [
       "<div>\n",
       "<style scoped>\n",
       "    .dataframe tbody tr th:only-of-type {\n",
       "        vertical-align: middle;\n",
       "    }\n",
       "\n",
       "    .dataframe tbody tr th {\n",
       "        vertical-align: top;\n",
       "    }\n",
       "\n",
       "    .dataframe thead th {\n",
       "        text-align: right;\n",
       "    }\n",
       "</style>\n",
       "<table border=\"1\" class=\"dataframe\">\n",
       "  <thead>\n",
       "    <tr style=\"text-align: right;\">\n",
       "      <th></th>\n",
       "      <th>app</th>\n",
       "      <th>date</th>\n",
       "      <th>item_name</th>\n",
       "      <th>median_sell_price</th>\n",
       "      <th>quantity</th>\n",
       "      <th>release_date</th>\n",
       "      <th>parenthetical</th>\n",
       "      <th>StatTrak</th>\n",
       "      <th>souvenir</th>\n",
       "      <th>gun</th>\n",
       "    </tr>\n",
       "  </thead>\n",
       "  <tbody>\n",
       "    <tr>\n",
       "      <th>799720</th>\n",
       "      <td>730</td>\n",
       "      <td>1.416722e+09</td>\n",
       "      <td>P250 | Nuclear Threat (Minimal Wear)</td>\n",
       "      <td>234.660</td>\n",
       "      <td>1</td>\n",
       "      <td>14 August 2013</td>\n",
       "      <td>True</td>\n",
       "      <td>False</td>\n",
       "      <td>True</td>\n",
       "      <td>True</td>\n",
       "    </tr>\n",
       "    <tr>\n",
       "      <th>799721</th>\n",
       "      <td>730</td>\n",
       "      <td>1.419746e+09</td>\n",
       "      <td>P250 | Nuclear Threat (Minimal Wear)</td>\n",
       "      <td>399.996</td>\n",
       "      <td>1</td>\n",
       "      <td>14 August 2013</td>\n",
       "      <td>True</td>\n",
       "      <td>False</td>\n",
       "      <td>True</td>\n",
       "      <td>True</td>\n",
       "    </tr>\n",
       "    <tr>\n",
       "      <th>799722</th>\n",
       "      <td>730</td>\n",
       "      <td>1.420178e+09</td>\n",
       "      <td>P250 | Nuclear Threat (Minimal Wear)</td>\n",
       "      <td>399.996</td>\n",
       "      <td>1</td>\n",
       "      <td>14 August 2013</td>\n",
       "      <td>True</td>\n",
       "      <td>False</td>\n",
       "      <td>True</td>\n",
       "      <td>True</td>\n",
       "    </tr>\n",
       "    <tr>\n",
       "      <th>799723</th>\n",
       "      <td>730</td>\n",
       "      <td>1.421993e+09</td>\n",
       "      <td>P250 | Nuclear Threat (Minimal Wear)</td>\n",
       "      <td>302.380</td>\n",
       "      <td>1</td>\n",
       "      <td>14 August 2013</td>\n",
       "      <td>True</td>\n",
       "      <td>False</td>\n",
       "      <td>True</td>\n",
       "      <td>True</td>\n",
       "    </tr>\n",
       "    <tr>\n",
       "      <th>799724</th>\n",
       "      <td>730</td>\n",
       "      <td>1.426396e+09</td>\n",
       "      <td>P250 | Nuclear Threat (Minimal Wear)</td>\n",
       "      <td>139.219</td>\n",
       "      <td>2</td>\n",
       "      <td>14 August 2013</td>\n",
       "      <td>True</td>\n",
       "      <td>False</td>\n",
       "      <td>True</td>\n",
       "      <td>True</td>\n",
       "    </tr>\n",
       "  </tbody>\n",
       "</table>\n",
       "</div>"
      ],
      "text/plain": [
       "        app          date                             item_name  \\\n",
       "799720  730  1.416722e+09  P250 | Nuclear Threat (Minimal Wear)   \n",
       "799721  730  1.419746e+09  P250 | Nuclear Threat (Minimal Wear)   \n",
       "799722  730  1.420178e+09  P250 | Nuclear Threat (Minimal Wear)   \n",
       "799723  730  1.421993e+09  P250 | Nuclear Threat (Minimal Wear)   \n",
       "799724  730  1.426396e+09  P250 | Nuclear Threat (Minimal Wear)   \n",
       "\n",
       "        median_sell_price  quantity    release_date  parenthetical  StatTrak  \\\n",
       "799720            234.660         1  14 August 2013           True     False   \n",
       "799721            399.996         1  14 August 2013           True     False   \n",
       "799722            399.996         1  14 August 2013           True     False   \n",
       "799723            302.380         1  14 August 2013           True     False   \n",
       "799724            139.219         2  14 August 2013           True     False   \n",
       "\n",
       "        souvenir   gun  \n",
       "799720      True  True  \n",
       "799721      True  True  \n",
       "799722      True  True  \n",
       "799723      True  True  \n",
       "799724      True  True  "
      ]
     },
     "execution_count": 66,
     "metadata": {},
     "output_type": "execute_result"
    }
   ],
   "source": [
    "df[df.souvenir].head()"
   ]
  },
  {
   "cell_type": "markdown",
   "metadata": {},
   "source": [
    "#### Separate Gun, Skin, quality"
   ]
  },
  {
   "cell_type": "code",
   "execution_count": 67,
   "metadata": {},
   "outputs": [
    {
     "data": {
      "text/plain": [
       "1416722400.0"
      ]
     },
     "execution_count": 67,
     "metadata": {},
     "output_type": "execute_result"
    }
   ],
   "source": [
    "df.loc[799720].date"
   ]
  },
  {
   "cell_type": "code",
   "execution_count": 77,
   "metadata": {},
   "outputs": [],
   "source": [
    "df['gun_type'], df['skin'], df['quality'] = np.nan, np.nan, np.nan"
   ]
  },
  {
   "cell_type": "code",
   "execution_count": 78,
   "metadata": {},
   "outputs": [
    {
     "data": {
      "text/html": [
       "<div>\n",
       "<style scoped>\n",
       "    .dataframe tbody tr th:only-of-type {\n",
       "        vertical-align: middle;\n",
       "    }\n",
       "\n",
       "    .dataframe tbody tr th {\n",
       "        vertical-align: top;\n",
       "    }\n",
       "\n",
       "    .dataframe thead th {\n",
       "        text-align: right;\n",
       "    }\n",
       "</style>\n",
       "<table border=\"1\" class=\"dataframe\">\n",
       "  <thead>\n",
       "    <tr style=\"text-align: right;\">\n",
       "      <th></th>\n",
       "      <th>app</th>\n",
       "      <th>date</th>\n",
       "      <th>item_name</th>\n",
       "      <th>median_sell_price</th>\n",
       "      <th>quantity</th>\n",
       "      <th>release_date</th>\n",
       "      <th>parenthetical</th>\n",
       "      <th>StatTrak</th>\n",
       "      <th>souvenir</th>\n",
       "      <th>gun_bool</th>\n",
       "      <th>gun_type</th>\n",
       "      <th>skin</th>\n",
       "      <th>quality</th>\n",
       "    </tr>\n",
       "  </thead>\n",
       "  <tbody>\n",
       "    <tr>\n",
       "      <th>604327</th>\n",
       "      <td>730</td>\n",
       "      <td>1.471583e+09</td>\n",
       "      <td>Glock-18 | Weasel (Battle-Scarred)</td>\n",
       "      <td>6.193</td>\n",
       "      <td>135</td>\n",
       "      <td>18 August 2016</td>\n",
       "      <td>True</td>\n",
       "      <td>False</td>\n",
       "      <td>False</td>\n",
       "      <td>True</td>\n",
       "      <td>NaN</td>\n",
       "      <td>NaN</td>\n",
       "      <td>NaN</td>\n",
       "    </tr>\n",
       "    <tr>\n",
       "      <th>604328</th>\n",
       "      <td>730</td>\n",
       "      <td>1.471669e+09</td>\n",
       "      <td>Glock-18 | Weasel (Battle-Scarred)</td>\n",
       "      <td>5.103</td>\n",
       "      <td>166</td>\n",
       "      <td>18 August 2016</td>\n",
       "      <td>True</td>\n",
       "      <td>False</td>\n",
       "      <td>False</td>\n",
       "      <td>True</td>\n",
       "      <td>NaN</td>\n",
       "      <td>NaN</td>\n",
       "      <td>NaN</td>\n",
       "    </tr>\n",
       "    <tr>\n",
       "      <th>604329</th>\n",
       "      <td>730</td>\n",
       "      <td>1.471756e+09</td>\n",
       "      <td>Glock-18 | Weasel (Battle-Scarred)</td>\n",
       "      <td>4.721</td>\n",
       "      <td>142</td>\n",
       "      <td>18 August 2016</td>\n",
       "      <td>True</td>\n",
       "      <td>False</td>\n",
       "      <td>False</td>\n",
       "      <td>True</td>\n",
       "      <td>NaN</td>\n",
       "      <td>NaN</td>\n",
       "      <td>NaN</td>\n",
       "    </tr>\n",
       "    <tr>\n",
       "      <th>604330</th>\n",
       "      <td>730</td>\n",
       "      <td>1.471842e+09</td>\n",
       "      <td>Glock-18 | Weasel (Battle-Scarred)</td>\n",
       "      <td>4.302</td>\n",
       "      <td>98</td>\n",
       "      <td>18 August 2016</td>\n",
       "      <td>True</td>\n",
       "      <td>False</td>\n",
       "      <td>False</td>\n",
       "      <td>True</td>\n",
       "      <td>NaN</td>\n",
       "      <td>NaN</td>\n",
       "      <td>NaN</td>\n",
       "    </tr>\n",
       "    <tr>\n",
       "      <th>604331</th>\n",
       "      <td>730</td>\n",
       "      <td>1.471928e+09</td>\n",
       "      <td>Glock-18 | Weasel (Battle-Scarred)</td>\n",
       "      <td>3.898</td>\n",
       "      <td>125</td>\n",
       "      <td>18 August 2016</td>\n",
       "      <td>True</td>\n",
       "      <td>False</td>\n",
       "      <td>False</td>\n",
       "      <td>True</td>\n",
       "      <td>NaN</td>\n",
       "      <td>NaN</td>\n",
       "      <td>NaN</td>\n",
       "    </tr>\n",
       "  </tbody>\n",
       "</table>\n",
       "</div>"
      ],
      "text/plain": [
       "        app          date                           item_name  \\\n",
       "604327  730  1.471583e+09  Glock-18 | Weasel (Battle-Scarred)   \n",
       "604328  730  1.471669e+09  Glock-18 | Weasel (Battle-Scarred)   \n",
       "604329  730  1.471756e+09  Glock-18 | Weasel (Battle-Scarred)   \n",
       "604330  730  1.471842e+09  Glock-18 | Weasel (Battle-Scarred)   \n",
       "604331  730  1.471928e+09  Glock-18 | Weasel (Battle-Scarred)   \n",
       "\n",
       "        median_sell_price  quantity    release_date  parenthetical  StatTrak  \\\n",
       "604327              6.193       135  18 August 2016           True     False   \n",
       "604328              5.103       166  18 August 2016           True     False   \n",
       "604329              4.721       142  18 August 2016           True     False   \n",
       "604330              4.302        98  18 August 2016           True     False   \n",
       "604331              3.898       125  18 August 2016           True     False   \n",
       "\n",
       "        souvenir  gun_bool  gun_type  skin  quality  \n",
       "604327     False      True       NaN   NaN      NaN  \n",
       "604328     False      True       NaN   NaN      NaN  \n",
       "604329     False      True       NaN   NaN      NaN  \n",
       "604330     False      True       NaN   NaN      NaN  \n",
       "604331     False      True       NaN   NaN      NaN  "
      ]
     },
     "execution_count": 78,
     "metadata": {},
     "output_type": "execute_result"
    }
   ],
   "source": [
    "df.head()"
   ]
  },
  {
   "cell_type": "code",
   "execution_count": 79,
   "metadata": {},
   "outputs": [],
   "source": [
    "df.loc[df.gun_bool, 'gun_type'] = [x.split(' |')[0] for x in df.item_name[df.gun_bool]]"
   ]
  },
  {
   "cell_type": "code",
   "execution_count": 84,
   "metadata": {},
   "outputs": [],
   "source": [
    "df.loc[df.gun_bool, 'skin'] = [x.split('| ')[1][:x.split('| ')[1].rfind('(')] for x in df.item_name[df.gun_bool]]"
   ]
  },
  {
   "cell_type": "code",
   "execution_count": 82,
   "metadata": {},
   "outputs": [],
   "source": [
    "df.loc[df.gun_bool, 'quality'] = [x.split('(')[-1][:-1] for x in df.item_name[df.gun_bool]]"
   ]
  },
  {
   "cell_type": "code",
   "execution_count": 93,
   "metadata": {},
   "outputs": [
    {
     "data": {
      "text/html": [
       "<div>\n",
       "<style scoped>\n",
       "    .dataframe tbody tr th:only-of-type {\n",
       "        vertical-align: middle;\n",
       "    }\n",
       "\n",
       "    .dataframe tbody tr th {\n",
       "        vertical-align: top;\n",
       "    }\n",
       "\n",
       "    .dataframe thead th {\n",
       "        text-align: right;\n",
       "    }\n",
       "</style>\n",
       "<table border=\"1\" class=\"dataframe\">\n",
       "  <thead>\n",
       "    <tr style=\"text-align: right;\">\n",
       "      <th></th>\n",
       "      <th>app</th>\n",
       "      <th>date</th>\n",
       "      <th>item_name</th>\n",
       "      <th>median_sell_price</th>\n",
       "      <th>quantity</th>\n",
       "      <th>release_date</th>\n",
       "      <th>parenthetical</th>\n",
       "      <th>StatTrak</th>\n",
       "      <th>souvenir</th>\n",
       "      <th>gun_bool</th>\n",
       "      <th>gun_type</th>\n",
       "      <th>skin</th>\n",
       "      <th>quality</th>\n",
       "    </tr>\n",
       "  </thead>\n",
       "  <tbody>\n",
       "    <tr>\n",
       "      <th>604327</th>\n",
       "      <td>730</td>\n",
       "      <td>1.471583e+09</td>\n",
       "      <td>Glock-18 | Weasel (Battle-Scarred)</td>\n",
       "      <td>6.193</td>\n",
       "      <td>135</td>\n",
       "      <td>18 August 2016</td>\n",
       "      <td>True</td>\n",
       "      <td>False</td>\n",
       "      <td>False</td>\n",
       "      <td>True</td>\n",
       "      <td>Glock-18</td>\n",
       "      <td>Weasel</td>\n",
       "      <td>Battle-Scarred</td>\n",
       "    </tr>\n",
       "    <tr>\n",
       "      <th>604328</th>\n",
       "      <td>730</td>\n",
       "      <td>1.471669e+09</td>\n",
       "      <td>Glock-18 | Weasel (Battle-Scarred)</td>\n",
       "      <td>5.103</td>\n",
       "      <td>166</td>\n",
       "      <td>18 August 2016</td>\n",
       "      <td>True</td>\n",
       "      <td>False</td>\n",
       "      <td>False</td>\n",
       "      <td>True</td>\n",
       "      <td>Glock-18</td>\n",
       "      <td>Weasel</td>\n",
       "      <td>Battle-Scarred</td>\n",
       "    </tr>\n",
       "    <tr>\n",
       "      <th>604329</th>\n",
       "      <td>730</td>\n",
       "      <td>1.471756e+09</td>\n",
       "      <td>Glock-18 | Weasel (Battle-Scarred)</td>\n",
       "      <td>4.721</td>\n",
       "      <td>142</td>\n",
       "      <td>18 August 2016</td>\n",
       "      <td>True</td>\n",
       "      <td>False</td>\n",
       "      <td>False</td>\n",
       "      <td>True</td>\n",
       "      <td>Glock-18</td>\n",
       "      <td>Weasel</td>\n",
       "      <td>Battle-Scarred</td>\n",
       "    </tr>\n",
       "    <tr>\n",
       "      <th>604330</th>\n",
       "      <td>730</td>\n",
       "      <td>1.471842e+09</td>\n",
       "      <td>Glock-18 | Weasel (Battle-Scarred)</td>\n",
       "      <td>4.302</td>\n",
       "      <td>98</td>\n",
       "      <td>18 August 2016</td>\n",
       "      <td>True</td>\n",
       "      <td>False</td>\n",
       "      <td>False</td>\n",
       "      <td>True</td>\n",
       "      <td>Glock-18</td>\n",
       "      <td>Weasel</td>\n",
       "      <td>Battle-Scarred</td>\n",
       "    </tr>\n",
       "    <tr>\n",
       "      <th>604331</th>\n",
       "      <td>730</td>\n",
       "      <td>1.471928e+09</td>\n",
       "      <td>Glock-18 | Weasel (Battle-Scarred)</td>\n",
       "      <td>3.898</td>\n",
       "      <td>125</td>\n",
       "      <td>18 August 2016</td>\n",
       "      <td>True</td>\n",
       "      <td>False</td>\n",
       "      <td>False</td>\n",
       "      <td>True</td>\n",
       "      <td>Glock-18</td>\n",
       "      <td>Weasel</td>\n",
       "      <td>Battle-Scarred</td>\n",
       "    </tr>\n",
       "  </tbody>\n",
       "</table>\n",
       "</div>"
      ],
      "text/plain": [
       "        app          date                           item_name  \\\n",
       "604327  730  1.471583e+09  Glock-18 | Weasel (Battle-Scarred)   \n",
       "604328  730  1.471669e+09  Glock-18 | Weasel (Battle-Scarred)   \n",
       "604329  730  1.471756e+09  Glock-18 | Weasel (Battle-Scarred)   \n",
       "604330  730  1.471842e+09  Glock-18 | Weasel (Battle-Scarred)   \n",
       "604331  730  1.471928e+09  Glock-18 | Weasel (Battle-Scarred)   \n",
       "\n",
       "        median_sell_price  quantity    release_date  parenthetical  StatTrak  \\\n",
       "604327              6.193       135  18 August 2016           True     False   \n",
       "604328              5.103       166  18 August 2016           True     False   \n",
       "604329              4.721       142  18 August 2016           True     False   \n",
       "604330              4.302        98  18 August 2016           True     False   \n",
       "604331              3.898       125  18 August 2016           True     False   \n",
       "\n",
       "        souvenir  gun_bool  gun_type     skin         quality  \n",
       "604327     False      True  Glock-18  Weasel   Battle-Scarred  \n",
       "604328     False      True  Glock-18  Weasel   Battle-Scarred  \n",
       "604329     False      True  Glock-18  Weasel   Battle-Scarred  \n",
       "604330     False      True  Glock-18  Weasel   Battle-Scarred  \n",
       "604331     False      True  Glock-18  Weasel   Battle-Scarred  "
      ]
     },
     "execution_count": 93,
     "metadata": {},
     "output_type": "execute_result"
    }
   ],
   "source": [
    "df.head()"
   ]
  },
  {
   "cell_type": "markdown",
   "metadata": {},
   "source": [
    "#### Keys"
   ]
  },
  {
   "cell_type": "code",
   "execution_count": 100,
   "metadata": {},
   "outputs": [],
   "source": [
    "df['keys'] = [x.find('Key') > -1 for x in df.item_name]"
   ]
  },
  {
   "cell_type": "markdown",
   "metadata": {},
   "source": [
    "#### Capsules"
   ]
  },
  {
   "cell_type": "code",
   "execution_count": 109,
   "metadata": {},
   "outputs": [],
   "source": [
    "df['capsules'] = [(x.find('Capsule') > -1) and not y for x, y in zip(df.item_name, df['keys'])]"
   ]
  },
  {
   "cell_type": "markdown",
   "metadata": {},
   "source": [
    "#### Stickers"
   ]
  },
  {
   "cell_type": "code",
   "execution_count": 114,
   "metadata": {},
   "outputs": [],
   "source": [
    "df['stickers'] = [(x.find('Sticker') >= 0) and not y and not z for x, y, z in zip(df.item_name, df['keys'], df['capsules'])]"
   ]
  },
  {
   "cell_type": "code",
   "execution_count": 115,
   "metadata": {},
   "outputs": [
    {
     "data": {
      "text/html": [
       "<div>\n",
       "<style scoped>\n",
       "    .dataframe tbody tr th:only-of-type {\n",
       "        vertical-align: middle;\n",
       "    }\n",
       "\n",
       "    .dataframe tbody tr th {\n",
       "        vertical-align: top;\n",
       "    }\n",
       "\n",
       "    .dataframe thead th {\n",
       "        text-align: right;\n",
       "    }\n",
       "</style>\n",
       "<table border=\"1\" class=\"dataframe\">\n",
       "  <thead>\n",
       "    <tr style=\"text-align: right;\">\n",
       "      <th></th>\n",
       "      <th>app</th>\n",
       "      <th>date</th>\n",
       "      <th>item_name</th>\n",
       "      <th>median_sell_price</th>\n",
       "      <th>quantity</th>\n",
       "      <th>release_date</th>\n",
       "      <th>parenthetical</th>\n",
       "      <th>StatTrak</th>\n",
       "      <th>souvenir</th>\n",
       "      <th>gun_bool</th>\n",
       "      <th>gun_type</th>\n",
       "      <th>skin</th>\n",
       "      <th>quality</th>\n",
       "      <th>keys</th>\n",
       "      <th>capsules</th>\n",
       "      <th>stickers</th>\n",
       "    </tr>\n",
       "  </thead>\n",
       "  <tbody>\n",
       "    <tr>\n",
       "      <th>604327</th>\n",
       "      <td>730</td>\n",
       "      <td>1.471583e+09</td>\n",
       "      <td>Glock-18 | Weasel (Battle-Scarred)</td>\n",
       "      <td>6.193</td>\n",
       "      <td>135</td>\n",
       "      <td>18 August 2016</td>\n",
       "      <td>True</td>\n",
       "      <td>False</td>\n",
       "      <td>False</td>\n",
       "      <td>True</td>\n",
       "      <td>Glock-18</td>\n",
       "      <td>Weasel</td>\n",
       "      <td>Battle-Scarred</td>\n",
       "      <td>False</td>\n",
       "      <td>False</td>\n",
       "      <td>False</td>\n",
       "    </tr>\n",
       "    <tr>\n",
       "      <th>604328</th>\n",
       "      <td>730</td>\n",
       "      <td>1.471669e+09</td>\n",
       "      <td>Glock-18 | Weasel (Battle-Scarred)</td>\n",
       "      <td>5.103</td>\n",
       "      <td>166</td>\n",
       "      <td>18 August 2016</td>\n",
       "      <td>True</td>\n",
       "      <td>False</td>\n",
       "      <td>False</td>\n",
       "      <td>True</td>\n",
       "      <td>Glock-18</td>\n",
       "      <td>Weasel</td>\n",
       "      <td>Battle-Scarred</td>\n",
       "      <td>False</td>\n",
       "      <td>False</td>\n",
       "      <td>False</td>\n",
       "    </tr>\n",
       "    <tr>\n",
       "      <th>604329</th>\n",
       "      <td>730</td>\n",
       "      <td>1.471756e+09</td>\n",
       "      <td>Glock-18 | Weasel (Battle-Scarred)</td>\n",
       "      <td>4.721</td>\n",
       "      <td>142</td>\n",
       "      <td>18 August 2016</td>\n",
       "      <td>True</td>\n",
       "      <td>False</td>\n",
       "      <td>False</td>\n",
       "      <td>True</td>\n",
       "      <td>Glock-18</td>\n",
       "      <td>Weasel</td>\n",
       "      <td>Battle-Scarred</td>\n",
       "      <td>False</td>\n",
       "      <td>False</td>\n",
       "      <td>False</td>\n",
       "    </tr>\n",
       "    <tr>\n",
       "      <th>604330</th>\n",
       "      <td>730</td>\n",
       "      <td>1.471842e+09</td>\n",
       "      <td>Glock-18 | Weasel (Battle-Scarred)</td>\n",
       "      <td>4.302</td>\n",
       "      <td>98</td>\n",
       "      <td>18 August 2016</td>\n",
       "      <td>True</td>\n",
       "      <td>False</td>\n",
       "      <td>False</td>\n",
       "      <td>True</td>\n",
       "      <td>Glock-18</td>\n",
       "      <td>Weasel</td>\n",
       "      <td>Battle-Scarred</td>\n",
       "      <td>False</td>\n",
       "      <td>False</td>\n",
       "      <td>False</td>\n",
       "    </tr>\n",
       "    <tr>\n",
       "      <th>604331</th>\n",
       "      <td>730</td>\n",
       "      <td>1.471928e+09</td>\n",
       "      <td>Glock-18 | Weasel (Battle-Scarred)</td>\n",
       "      <td>3.898</td>\n",
       "      <td>125</td>\n",
       "      <td>18 August 2016</td>\n",
       "      <td>True</td>\n",
       "      <td>False</td>\n",
       "      <td>False</td>\n",
       "      <td>True</td>\n",
       "      <td>Glock-18</td>\n",
       "      <td>Weasel</td>\n",
       "      <td>Battle-Scarred</td>\n",
       "      <td>False</td>\n",
       "      <td>False</td>\n",
       "      <td>False</td>\n",
       "    </tr>\n",
       "  </tbody>\n",
       "</table>\n",
       "</div>"
      ],
      "text/plain": [
       "        app          date                           item_name  \\\n",
       "604327  730  1.471583e+09  Glock-18 | Weasel (Battle-Scarred)   \n",
       "604328  730  1.471669e+09  Glock-18 | Weasel (Battle-Scarred)   \n",
       "604329  730  1.471756e+09  Glock-18 | Weasel (Battle-Scarred)   \n",
       "604330  730  1.471842e+09  Glock-18 | Weasel (Battle-Scarred)   \n",
       "604331  730  1.471928e+09  Glock-18 | Weasel (Battle-Scarred)   \n",
       "\n",
       "        median_sell_price  quantity    release_date  parenthetical  StatTrak  \\\n",
       "604327              6.193       135  18 August 2016           True     False   \n",
       "604328              5.103       166  18 August 2016           True     False   \n",
       "604329              4.721       142  18 August 2016           True     False   \n",
       "604330              4.302        98  18 August 2016           True     False   \n",
       "604331              3.898       125  18 August 2016           True     False   \n",
       "\n",
       "        souvenir  gun_bool  gun_type     skin         quality   keys  \\\n",
       "604327     False      True  Glock-18  Weasel   Battle-Scarred  False   \n",
       "604328     False      True  Glock-18  Weasel   Battle-Scarred  False   \n",
       "604329     False      True  Glock-18  Weasel   Battle-Scarred  False   \n",
       "604330     False      True  Glock-18  Weasel   Battle-Scarred  False   \n",
       "604331     False      True  Glock-18  Weasel   Battle-Scarred  False   \n",
       "\n",
       "        capsules  stickers  \n",
       "604327     False     False  \n",
       "604328     False     False  \n",
       "604329     False     False  \n",
       "604330     False     False  \n",
       "604331     False     False  "
      ]
     },
     "execution_count": 115,
     "metadata": {},
     "output_type": "execute_result"
    }
   ],
   "source": [
    "df.head()"
   ]
  },
  {
   "cell_type": "markdown",
   "metadata": {},
   "source": [
    "#### Tournaments"
   ]
  },
  {
   "cell_type": "code",
   "execution_count": 131,
   "metadata": {},
   "outputs": [],
   "source": [
    "tournaments = ['2018 ELEAGUE Boston',\n",
    "'2017 PGL Krakow',\n",
    "'2015 ESL One Cologne', \n",
    "'2017 ELEAGUE Atlanta',\n",
    "'2016 MLG Columbus',\n",
    "'2016 ESL One Cologne',\n",
    "'2015 DreamHack Cluj-Napoca', \n",
    "'2015 ESL One Katowice',\n",
    "'2014 ESL One Cologne',\n",
    "'2014 EMS One Katowice',\n",
    "'2014 DreamHack Winter',\n",
    "'2013 DreamHack Winter']"
   ]
  },
  {
   "cell_type": "code",
   "execution_count": 132,
   "metadata": {},
   "outputs": [],
   "source": [
    "tournaments = [x[5:] + ' ' + x[0:4] for x in tournaments]"
   ]
  },
  {
   "cell_type": "code",
   "execution_count": 133,
   "metadata": {},
   "outputs": [
    {
     "data": {
      "text/plain": [
       "['ELEAGUE Boston 2018',\n",
       " 'PGL Krakow 2017',\n",
       " 'ESL One Cologne 2015',\n",
       " 'ELEAGUE Atlanta 2017',\n",
       " 'MLG Columbus 2016',\n",
       " 'ESL One Cologne 2016',\n",
       " 'DreamHack Cluj-Napoca 2015',\n",
       " 'ESL One Katowice 2015',\n",
       " 'ESL One Cologne 2014',\n",
       " 'EMS One Katowice 2014',\n",
       " 'DreamHack Winter 2014',\n",
       " 'DreamHack Winter 2013']"
      ]
     },
     "execution_count": 133,
     "metadata": {},
     "output_type": "execute_result"
    }
   ],
   "source": [
    "tournaments"
   ]
  },
  {
   "cell_type": "code",
   "execution_count": 134,
   "metadata": {},
   "outputs": [
    {
     "data": {
      "text/html": [
       "<div>\n",
       "<style scoped>\n",
       "    .dataframe tbody tr th:only-of-type {\n",
       "        vertical-align: middle;\n",
       "    }\n",
       "\n",
       "    .dataframe tbody tr th {\n",
       "        vertical-align: top;\n",
       "    }\n",
       "\n",
       "    .dataframe thead th {\n",
       "        text-align: right;\n",
       "    }\n",
       "</style>\n",
       "<table border=\"1\" class=\"dataframe\">\n",
       "  <thead>\n",
       "    <tr style=\"text-align: right;\">\n",
       "      <th></th>\n",
       "      <th>app</th>\n",
       "      <th>date</th>\n",
       "      <th>item_name</th>\n",
       "      <th>median_sell_price</th>\n",
       "      <th>quantity</th>\n",
       "      <th>release_date</th>\n",
       "      <th>parenthetical</th>\n",
       "      <th>StatTrak</th>\n",
       "      <th>souvenir</th>\n",
       "      <th>gun_bool</th>\n",
       "      <th>gun_type</th>\n",
       "      <th>skin</th>\n",
       "      <th>quality</th>\n",
       "      <th>keys</th>\n",
       "      <th>capsules</th>\n",
       "      <th>stickers</th>\n",
       "    </tr>\n",
       "  </thead>\n",
       "  <tbody>\n",
       "    <tr>\n",
       "      <th>778352</th>\n",
       "      <td>730</td>\n",
       "      <td>1.458277e+09</td>\n",
       "      <td>Sticker | hooch (Foil) | MLG Columbus 2016</td>\n",
       "      <td>1.478</td>\n",
       "      <td>40</td>\n",
       "      <td>NaN</td>\n",
       "      <td>True</td>\n",
       "      <td>False</td>\n",
       "      <td>False</td>\n",
       "      <td>False</td>\n",
       "      <td>NaN</td>\n",
       "      <td>NaN</td>\n",
       "      <td>NaN</td>\n",
       "      <td>False</td>\n",
       "      <td>False</td>\n",
       "      <td>True</td>\n",
       "    </tr>\n",
       "    <tr>\n",
       "      <th>778353</th>\n",
       "      <td>730</td>\n",
       "      <td>1.458364e+09</td>\n",
       "      <td>Sticker | hooch (Foil) | MLG Columbus 2016</td>\n",
       "      <td>1.550</td>\n",
       "      <td>13</td>\n",
       "      <td>NaN</td>\n",
       "      <td>True</td>\n",
       "      <td>False</td>\n",
       "      <td>False</td>\n",
       "      <td>False</td>\n",
       "      <td>NaN</td>\n",
       "      <td>NaN</td>\n",
       "      <td>NaN</td>\n",
       "      <td>False</td>\n",
       "      <td>False</td>\n",
       "      <td>True</td>\n",
       "    </tr>\n",
       "    <tr>\n",
       "      <th>778354</th>\n",
       "      <td>730</td>\n",
       "      <td>1.458450e+09</td>\n",
       "      <td>Sticker | hooch (Foil) | MLG Columbus 2016</td>\n",
       "      <td>1.243</td>\n",
       "      <td>13</td>\n",
       "      <td>NaN</td>\n",
       "      <td>True</td>\n",
       "      <td>False</td>\n",
       "      <td>False</td>\n",
       "      <td>False</td>\n",
       "      <td>NaN</td>\n",
       "      <td>NaN</td>\n",
       "      <td>NaN</td>\n",
       "      <td>False</td>\n",
       "      <td>False</td>\n",
       "      <td>True</td>\n",
       "    </tr>\n",
       "    <tr>\n",
       "      <th>778355</th>\n",
       "      <td>730</td>\n",
       "      <td>1.458536e+09</td>\n",
       "      <td>Sticker | hooch (Foil) | MLG Columbus 2016</td>\n",
       "      <td>1.356</td>\n",
       "      <td>17</td>\n",
       "      <td>NaN</td>\n",
       "      <td>True</td>\n",
       "      <td>False</td>\n",
       "      <td>False</td>\n",
       "      <td>False</td>\n",
       "      <td>NaN</td>\n",
       "      <td>NaN</td>\n",
       "      <td>NaN</td>\n",
       "      <td>False</td>\n",
       "      <td>False</td>\n",
       "      <td>True</td>\n",
       "    </tr>\n",
       "    <tr>\n",
       "      <th>778356</th>\n",
       "      <td>730</td>\n",
       "      <td>1.458623e+09</td>\n",
       "      <td>Sticker | hooch (Foil) | MLG Columbus 2016</td>\n",
       "      <td>1.458</td>\n",
       "      <td>5</td>\n",
       "      <td>NaN</td>\n",
       "      <td>True</td>\n",
       "      <td>False</td>\n",
       "      <td>False</td>\n",
       "      <td>False</td>\n",
       "      <td>NaN</td>\n",
       "      <td>NaN</td>\n",
       "      <td>NaN</td>\n",
       "      <td>False</td>\n",
       "      <td>False</td>\n",
       "      <td>True</td>\n",
       "    </tr>\n",
       "  </tbody>\n",
       "</table>\n",
       "</div>"
      ],
      "text/plain": [
       "        app          date                                   item_name  \\\n",
       "778352  730  1.458277e+09  Sticker | hooch (Foil) | MLG Columbus 2016   \n",
       "778353  730  1.458364e+09  Sticker | hooch (Foil) | MLG Columbus 2016   \n",
       "778354  730  1.458450e+09  Sticker | hooch (Foil) | MLG Columbus 2016   \n",
       "778355  730  1.458536e+09  Sticker | hooch (Foil) | MLG Columbus 2016   \n",
       "778356  730  1.458623e+09  Sticker | hooch (Foil) | MLG Columbus 2016   \n",
       "\n",
       "        median_sell_price  quantity release_date  parenthetical  StatTrak  \\\n",
       "778352              1.478        40          NaN           True     False   \n",
       "778353              1.550        13          NaN           True     False   \n",
       "778354              1.243        13          NaN           True     False   \n",
       "778355              1.356        17          NaN           True     False   \n",
       "778356              1.458         5          NaN           True     False   \n",
       "\n",
       "        souvenir  gun_bool gun_type skin quality   keys  capsules  stickers  \n",
       "778352     False     False      NaN  NaN     NaN  False     False      True  \n",
       "778353     False     False      NaN  NaN     NaN  False     False      True  \n",
       "778354     False     False      NaN  NaN     NaN  False     False      True  \n",
       "778355     False     False      NaN  NaN     NaN  False     False      True  \n",
       "778356     False     False      NaN  NaN     NaN  False     False      True  "
      ]
     },
     "execution_count": 134,
     "metadata": {},
     "output_type": "execute_result"
    }
   ],
   "source": [
    "df[[any([x in y for x in tournaments]) for y in df.item_name]].head()"
   ]
  },
  {
   "cell_type": "code",
   "execution_count": null,
   "metadata": {},
   "outputs": [],
   "source": []
  },
  {
   "cell_type": "code",
   "execution_count": null,
   "metadata": {},
   "outputs": [],
   "source": []
  },
  {
   "cell_type": "code",
   "execution_count": null,
   "metadata": {},
   "outputs": [],
   "source": []
  },
  {
   "cell_type": "code",
   "execution_count": null,
   "metadata": {},
   "outputs": [],
   "source": []
  },
  {
   "cell_type": "code",
   "execution_count": null,
   "metadata": {},
   "outputs": [],
   "source": []
  },
  {
   "cell_type": "code",
   "execution_count": null,
   "metadata": {},
   "outputs": [],
   "source": []
  },
  {
   "cell_type": "code",
   "execution_count": null,
   "metadata": {},
   "outputs": [],
   "source": []
  },
  {
   "cell_type": "code",
   "execution_count": null,
   "metadata": {},
   "outputs": [],
   "source": []
  },
  {
   "cell_type": "code",
   "execution_count": null,
   "metadata": {},
   "outputs": [],
   "source": []
  },
  {
   "cell_type": "code",
   "execution_count": null,
   "metadata": {},
   "outputs": [],
   "source": []
  },
  {
   "cell_type": "code",
   "execution_count": null,
   "metadata": {},
   "outputs": [],
   "source": []
  },
  {
   "cell_type": "code",
   "execution_count": null,
   "metadata": {},
   "outputs": [],
   "source": []
  },
  {
   "cell_type": "code",
   "execution_count": null,
   "metadata": {},
   "outputs": [],
   "source": []
  },
  {
   "cell_type": "markdown",
   "metadata": {},
   "source": [
    "#### Put item_name back together"
   ]
  },
  {
   "cell_type": "code",
   "execution_count": null,
   "metadata": {},
   "outputs": [],
   "source": [
    "df.loc[:,'item_name'] = df_raw['item_name']\n",
    "df = df.reset_index()"
   ]
  }
 ],
 "metadata": {
  "kernelspec": {
   "display_name": "Python 3",
   "language": "python",
   "name": "python3"
  },
  "language_info": {
   "codemirror_mode": {
    "name": "ipython",
    "version": 3
   },
   "file_extension": ".py",
   "mimetype": "text/x-python",
   "name": "python",
   "nbconvert_exporter": "python",
   "pygments_lexer": "ipython3",
   "version": "3.6.6"
  }
 },
 "nbformat": 4,
 "nbformat_minor": 2
}
