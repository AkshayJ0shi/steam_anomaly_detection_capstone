{
 "cells": [
  {
   "cell_type": "code",
   "execution_count": 2,
   "metadata": {},
   "outputs": [],
   "source": [
    "import numpy as np\n",
    "import pandas as pd\n",
    "import matplotlib.pyplot as plt\n",
    "from pandas.tools.plotting import autocorrelation_plot\n",
    "from pymongo import MongoClient\n",
    "import time\n",
    "import datetime\n",
    "import os\n",
    "from pyculiarity import detect_ts\n",
    "import statsmodels.api as sm\n",
    "from statsmodels.tsa.statespace.sarimax import SARIMAX\n",
    "from statsmodels.tsa.arima_model import ARIMA, ARIMAResults\n",
    "from statsmodels.tsa.arima_process import ArmaProcess\n",
    "from statsmodels.stats.diagnostic import acorr_ljungbox\n",
    "from scipy.cluster.hierarchy import dendrogram, linkage\n",
    "from scipy.spatial.distance import pdist, squareform\n",
    "from sklearn.preprocessing import StandardScaler\n",
    "from src.dendrogram_class import Dendrogram, make_dendrogram, mask_mins\n",
    "import pickle\n",
    "import itertools\n",
    "from collections import defaultdict, Counter\n",
    "import scipy.stats as scs\n",
    "from scipy import signal\n",
    "from scipy.spatial.distance import pdist, squareform\n",
    "from sklearn.cluster import KMeans \n",
    "from sklearn.metrics import silhouette_score, silhouette_samples\n",
    "from pyramid.arima import auto_arima\n",
    "from IPython.display import HTML, display\n",
    "import warnings\n",
    "warnings.filterwarnings('ignore')"
   ]
  },
  {
   "cell_type": "code",
   "execution_count": 9,
   "metadata": {},
   "outputs": [
    {
     "name": "stdout",
     "output_type": "stream",
     "text": [
      "The autoreload extension is already loaded. To reload it, use:\n",
      "  %reload_ext autoreload\n"
     ]
    }
   ],
   "source": [
    "%matplotlib inline\n",
    "%load_ext autoreload\n",
    "%autoreload 2"
   ]
  },
  {
   "cell_type": "code",
   "execution_count": 10,
   "metadata": {},
   "outputs": [],
   "source": [
    "with open('data/cs_df_M.pkl', 'rb') as f:\n",
    "    df = pickle.load(f)"
   ]
  },
  {
   "cell_type": "code",
   "execution_count": 11,
   "metadata": {},
   "outputs": [
    {
     "name": "stdout",
     "output_type": "stream",
     "text": [
      "<class 'pandas.core.frame.DataFrame'>\n",
      "Int64Index: 3052994 entries, 2339 to 8881813\n",
      "Data columns (total 18 columns):\n",
      "item_name             object\n",
      "date_str              object\n",
      "median_sell_price     float64\n",
      "quantity              int64\n",
      "est_release_str       object\n",
      "days_since_release    int64\n",
      "gun_type              object\n",
      "skin                  object\n",
      "quality               object\n",
      "gun_bool              bool\n",
      "StatTrak              bool\n",
      "souvenir              bool\n",
      "keys                  bool\n",
      "capsules              bool\n",
      "stickers              bool\n",
      "date                  float64\n",
      "est_release           float64\n",
      "timestamp             datetime64[ns]\n",
      "dtypes: bool(6), datetime64[ns](1), float64(3), int64(2), object(6)\n",
      "memory usage: 320.3+ MB\n"
     ]
    }
   ],
   "source": [
    "df[~df.gun_bool].info()"
   ]
  },
  {
   "cell_type": "code",
   "execution_count": 12,
   "metadata": {},
   "outputs": [],
   "source": [
    "df['desc'] = df['item_name'] + ' ' + df['est_release_str']"
   ]
  },
  {
   "cell_type": "code",
   "execution_count": 13,
   "metadata": {},
   "outputs": [],
   "source": [
    "anomaly_full = df[df.days_since_release > 30]"
   ]
  },
  {
   "cell_type": "code",
   "execution_count": 14,
   "metadata": {},
   "outputs": [],
   "source": [
    "anomaly_full = mask_mins(anomaly_full, 0.1, 50)\n",
    "anomaly_full = anomaly_full[anomaly_full.est_release < time.mktime(datetime.datetime.strptime('15 February 2018', \"%d %B %Y\").timetuple())] # not enough points\n",
    "items = anomaly_full.item_name.unique()"
   ]
  },
  {
   "cell_type": "code",
   "execution_count": 15,
   "metadata": {},
   "outputs": [],
   "source": [
    "anom_list = []\n",
    "for item in items:\n",
    "    temp_df = anomaly_full[anomaly_full.item_name == item]\n",
    "    temp_df = temp_df[['timestamp', 'median_sell_price']].reset_index(drop=True)\n",
    "    results = detect_ts(temp_df, max_anoms=0.3, alpha=0.001, direction='both', only_last=None, longterm=True, verbose=True, piecewise_median_period_weeks=3)\n",
    "    if len(results['anoms'].index)>1 and results['anoms'].index[0] != temp_df['timestamp'][0]:\n",
    "        anom_list += results['anoms'].index[1:]\n",
    "    elif len(results['anoms'].index) > 0:\n",
    "        anom_list += results['anoms'].index"
   ]
  },
  {
   "cell_type": "code",
   "execution_count": 16,
   "metadata": {},
   "outputs": [
    {
     "name": "stdout",
     "output_type": "stream",
     "text": [
      "('19 Jun 2015', 275)\n",
      "('14 Aug 2015', 244)\n",
      "('21 Aug 2015', 623)\n",
      "('01 Nov 2015', 276)\n",
      "('29 Nov 2015', 596)\n",
      "('02 Jan 2016', 365)\n",
      "('09 Feb 2016', 694)\n",
      "('16 Feb 2016', 263)\n",
      "('07 Mar 2016', 429)\n",
      "('13 May 2016', 373)\n",
      "('21 Jun 2016', 290)\n",
      "('08 Oct 2016', 270)\n",
      "('31 Oct 2016', 497)\n",
      "('27 Nov 2016', 900)\n",
      "('21 Dec 2016', 268)\n",
      "('27 Jan 2017', 408)\n",
      "('19 Feb 2017', 281)\n",
      "('20 Mar 2017', 302)\n",
      "('15 May 2017', 237)\n",
      "('22 May 2017', 607)\n",
      "('26 Jun 2017', 344)\n",
      "('25 Jul 2017', 235)\n",
      "('05 Sep 2017', 268)\n",
      "('22 Oct 2017', 484)\n",
      "('26 Nov 2017', 628)\n",
      "('24 Dec 2017', 373)\n",
      "('25 Feb 2018', 283)\n",
      "('30 Mar 2018', 344)\n",
      "('06 May 2018', 260)\n",
      "('25 Jun 2018', 805)\n"
     ]
    }
   ],
   "source": [
    "anom_delta_dict = {}\n",
    "for day in set(anom_list):\n",
    "    start, end = day - datetime.timedelta(3), day + datetime.timedelta(3)\n",
    "    anom_delta_dict[day]= sum(x >= start and x <= end for x in anom_list)\n",
    "sorted_list = sorted(anom_delta_dict.items(), key=lambda x: x[1], reverse=True)\n",
    "return_list = [sorted_list[0]]\n",
    "for day in sorted_list[1:]:\n",
    "    start, end = day[0] - datetime.timedelta(6), day[0] + datetime.timedelta(6)\n",
    "    if any(x[0] >= start and x[0] <= end for x in return_list):\n",
    "        continue\n",
    "    else:\n",
    "        return_list.append(day)\n",
    "print(*[(x.date().strftime('%d %b %Y'), y) for x, y in sorted(return_list[:30])], sep='\\n')"
   ]
  },
  {
   "cell_type": "code",
   "execution_count": 17,
   "metadata": {},
   "outputs": [
    {
     "name": "stdout",
     "output_type": "stream",
     "text": [
      "('27 Nov 2016', 900)\n",
      "('25 Jun 2018', 805)\n",
      "('09 Feb 2016', 694)\n",
      "('26 Nov 2017', 628)\n",
      "('21 Aug 2015', 623)\n",
      "('22 May 2017', 607)\n",
      "('29 Nov 2015', 596)\n",
      "('31 Oct 2016', 497)\n",
      "('22 Oct 2017', 484)\n",
      "('07 Mar 2016', 429)\n",
      "('27 Jan 2017', 408)\n",
      "('24 Dec 2017', 373)\n",
      "('13 May 2016', 373)\n",
      "('02 Jan 2016', 365)\n",
      "('26 Jun 2017', 344)\n",
      "('30 Mar 2018', 344)\n",
      "('20 Mar 2017', 302)\n",
      "('21 Jun 2016', 290)\n",
      "('25 Feb 2018', 283)\n",
      "('19 Feb 2017', 281)\n",
      "('01 Nov 2015', 276)\n",
      "('19 Jun 2015', 275)\n",
      "('08 Oct 2016', 270)\n",
      "('21 Dec 2016', 268)\n",
      "('05 Sep 2017', 268)\n",
      "('16 Feb 2016', 263)\n",
      "('06 May 2018', 260)\n",
      "('14 Aug 2015', 244)\n",
      "('15 May 2017', 237)\n",
      "('25 Jul 2017', 235)\n"
     ]
    }
   ],
   "source": [
    "print(*[(x.date().strftime('%d %b %Y'), y) for x, y in return_list[:30]], sep='\\n')"
   ]
  },
  {
   "cell_type": "markdown",
   "metadata": {},
   "source": [
    "### What happens if I weight the anomalies by the quantity sold?"
   ]
  },
  {
   "cell_type": "code",
   "execution_count": 18,
   "metadata": {},
   "outputs": [],
   "source": [
    "anomaly_full = df[df.days_since_release > 30]"
   ]
  },
  {
   "cell_type": "code",
   "execution_count": 19,
   "metadata": {},
   "outputs": [],
   "source": [
    "anomaly_full = mask_mins(anomaly_full, 0.1, 25)\n",
    "anomaly_full = anomaly_full[anomaly_full.est_release < time.mktime(datetime.datetime.strptime('15 February 2018', \"%d %B %Y\").timetuple())] # not enough points\n",
    "items = anomaly_full.item_name.unique()"
   ]
  },
  {
   "cell_type": "code",
   "execution_count": 20,
   "metadata": {},
   "outputs": [],
   "source": [
    "def anom_detect(df, item):\n",
    "    fit_df = df[df.item_name == item]\n",
    "    fit_df = fit_df[['timestamp', 'median_sell_price']].reset_index(drop=True)\n",
    "    return detect_ts(fit_df, max_anoms=0.3, alpha=0.001, direction='both', only_last=None, longterm=True, verbose=True, piecewise_median_period_weeks=3)"
   ]
  },
  {
   "cell_type": "code",
   "execution_count": 21,
   "metadata": {},
   "outputs": [],
   "source": [
    "anom_dict = defaultdict(lambda: 0)\n",
    "for item in items:\n",
    "    temp_df = anomaly_full[anomaly_full.item_name == item]\n",
    "    results = anom_detect(temp_df, item)\n",
    "    if len(results['anoms'].index)>0:\n",
    "        for anomaly in results['anoms'].index:\n",
    "            if anomaly != temp_df['date'].iloc[0]:\n",
    "                anom_dict[anomaly] += temp_df[[datetime.datetime.fromtimestamp(t) == anomaly for t in temp_df.date]].quantity.values[0]\n",
    "                #anom_dict[anomaly + datetime.timedelta(3)] += temp_df[temp_df.date == anomaly.timestamp()]\n",
    "                #anom_dict[anomaly - datetime.timedelta(3)] += temp_df[temp_df.date == anomaly.timestamp()]"
   ]
  },
  {
   "cell_type": "code",
   "execution_count": 22,
   "metadata": {},
   "outputs": [
    {
     "data": {
      "text/plain": [
       "[(Timestamp('2015-08-23 00:00:00'), 306904),\n",
       " (Timestamp('2016-02-18 00:00:00'), 279713),\n",
       " (Timestamp('2015-08-24 00:00:00'), 270927),\n",
       " (Timestamp('2015-11-28 00:00:00'), 260527),\n",
       " (Timestamp('2015-11-01 00:00:00'), 245531),\n",
       " (Timestamp('2015-11-27 00:00:00'), 244783),\n",
       " (Timestamp('2015-11-29 00:00:00'), 243636),\n",
       " (Timestamp('2016-02-07 00:00:00'), 224786),\n",
       " (Timestamp('2015-08-21 00:00:00'), 224400),\n",
       " (Timestamp('2015-08-15 00:00:00'), 215116),\n",
       " (Timestamp('2015-08-22 00:00:00'), 200142),\n",
       " (Timestamp('2016-02-09 00:00:00'), 196869),\n",
       " (Timestamp('2016-02-08 00:00:00'), 187392),\n",
       " (Timestamp('2015-11-26 00:00:00'), 186022),\n",
       " (Timestamp('2015-11-30 00:00:00'), 184389),\n",
       " (Timestamp('2016-02-10 00:00:00'), 184328),\n",
       " (Timestamp('2015-11-02 00:00:00'), 183548),\n",
       " (Timestamp('2015-08-16 00:00:00'), 175947),\n",
       " (Timestamp('2015-05-27 00:00:00'), 175675),\n",
       " (Timestamp('2016-01-04 00:00:00'), 173641),\n",
       " (Timestamp('2016-01-03 00:00:00'), 171063),\n",
       " (Timestamp('2015-08-25 00:00:00'), 170822),\n",
       " (Timestamp('2015-08-20 00:00:00'), 170033),\n",
       " (Timestamp('2015-08-17 00:00:00'), 169117),\n",
       " (Timestamp('2017-05-24 00:00:00'), 168020),\n",
       " (Timestamp('2015-12-01 00:00:00'), 167884),\n",
       " (Timestamp('2016-02-11 00:00:00'), 165368),\n",
       " (Timestamp('2016-01-02 00:00:00'), 150615),\n",
       " (Timestamp('2015-08-18 00:00:00'), 150003),\n",
       " (Timestamp('2015-08-19 00:00:00'), 148132)]"
      ]
     },
     "execution_count": 22,
     "metadata": {},
     "output_type": "execute_result"
    }
   ],
   "source": [
    "sorted(anom_dict.items(), key=lambda x: x[1], reverse=True)[:30]"
   ]
  },
  {
   "cell_type": "code",
   "execution_count": 23,
   "metadata": {},
   "outputs": [
    {
     "name": "stdout",
     "output_type": "stream",
     "text": [
      "('19 Jun 2015', 275)\n",
      "('14 Aug 2015', 244)\n",
      "('21 Aug 2015', 623)\n",
      "('01 Nov 2015', 276)\n",
      "('29 Nov 2015', 596)\n",
      "('02 Jan 2016', 365)\n",
      "('09 Feb 2016', 694)\n",
      "('16 Feb 2016', 263)\n",
      "('07 Mar 2016', 429)\n",
      "('13 May 2016', 373)\n",
      "('21 Jun 2016', 290)\n",
      "('08 Oct 2016', 270)\n",
      "('31 Oct 2016', 497)\n",
      "('27 Nov 2016', 900)\n",
      "('21 Dec 2016', 268)\n",
      "('27 Jan 2017', 408)\n",
      "('19 Feb 2017', 281)\n",
      "('20 Mar 2017', 302)\n",
      "('15 May 2017', 237)\n",
      "('22 May 2017', 607)\n",
      "('26 Jun 2017', 344)\n",
      "('25 Jul 2017', 235)\n",
      "('05 Sep 2017', 268)\n",
      "('22 Oct 2017', 484)\n",
      "('26 Nov 2017', 628)\n",
      "('24 Dec 2017', 373)\n",
      "('25 Feb 2018', 283)\n",
      "('30 Mar 2018', 344)\n",
      "('06 May 2018', 260)\n",
      "('25 Jun 2018', 805)\n"
     ]
    }
   ],
   "source": [
    "anom_delta_dict = {}\n",
    "for day in set(anom_list):\n",
    "    start, end = day - datetime.timedelta(3), day + datetime.timedelta(3)\n",
    "    anom_delta_dict[day]= sum(x >= start and x <= end for x in anom_list)\n",
    "sorted_list = sorted(anom_delta_dict.items(), key=lambda x: x[1], reverse=True)\n",
    "return_list = [sorted_list[0]]\n",
    "for day in sorted_list[1:]:\n",
    "    start, end = day[0] - datetime.timedelta(6), day[0] + datetime.timedelta(6)\n",
    "    if any(x[0] >= start and x[0] <= end for x in return_list):\n",
    "        continue\n",
    "    else:\n",
    "        return_list.append(day)\n",
    "print(*[(x.date().strftime('%d %b %Y'), y) for x, y in sorted(return_list[:30])], sep='\\n')"
   ]
  },
  {
   "cell_type": "code",
   "execution_count": 24,
   "metadata": {},
   "outputs": [
    {
     "name": "stdout",
     "output_type": "stream",
     "text": [
      "('27 Nov 2016', 900)\n",
      "('25 Jun 2018', 805)\n",
      "('09 Feb 2016', 694)\n",
      "('26 Nov 2017', 628)\n",
      "('21 Aug 2015', 623)\n",
      "('22 May 2017', 607)\n",
      "('29 Nov 2015', 596)\n",
      "('31 Oct 2016', 497)\n",
      "('22 Oct 2017', 484)\n",
      "('07 Mar 2016', 429)\n",
      "('27 Jan 2017', 408)\n",
      "('24 Dec 2017', 373)\n",
      "('13 May 2016', 373)\n",
      "('02 Jan 2016', 365)\n",
      "('26 Jun 2017', 344)\n",
      "('30 Mar 2018', 344)\n",
      "('20 Mar 2017', 302)\n",
      "('21 Jun 2016', 290)\n",
      "('25 Feb 2018', 283)\n",
      "('19 Feb 2017', 281)\n",
      "('01 Nov 2015', 276)\n",
      "('19 Jun 2015', 275)\n",
      "('08 Oct 2016', 270)\n",
      "('21 Dec 2016', 268)\n",
      "('05 Sep 2017', 268)\n",
      "('16 Feb 2016', 263)\n",
      "('06 May 2018', 260)\n",
      "('14 Aug 2015', 244)\n",
      "('15 May 2017', 237)\n",
      "('25 Jul 2017', 235)\n"
     ]
    }
   ],
   "source": [
    "print(*[(x.date().strftime('%d %b %Y'), y) for x, y in return_list[:30]], sep='\\n')"
   ]
  },
  {
   "cell_type": "markdown",
   "metadata": {},
   "source": [
    "#### Investigating November 2015"
   ]
  },
  {
   "cell_type": "code",
   "execution_count": 25,
   "metadata": {},
   "outputs": [
    {
     "data": {
      "text/html": [
       "<div>\n",
       "<style scoped>\n",
       "    .dataframe tbody tr th:only-of-type {\n",
       "        vertical-align: middle;\n",
       "    }\n",
       "\n",
       "    .dataframe tbody tr th {\n",
       "        vertical-align: top;\n",
       "    }\n",
       "\n",
       "    .dataframe thead th {\n",
       "        text-align: right;\n",
       "    }\n",
       "</style>\n",
       "<table border=\"1\" class=\"dataframe\">\n",
       "  <thead>\n",
       "    <tr style=\"text-align: right;\">\n",
       "      <th></th>\n",
       "      <th>item_name</th>\n",
       "      <th>date_str</th>\n",
       "      <th>median_sell_price</th>\n",
       "      <th>quantity</th>\n",
       "      <th>est_release_str</th>\n",
       "      <th>days_since_release</th>\n",
       "      <th>gun_type</th>\n",
       "      <th>skin</th>\n",
       "      <th>quality</th>\n",
       "      <th>gun_bool</th>\n",
       "      <th>StatTrak</th>\n",
       "      <th>souvenir</th>\n",
       "      <th>keys</th>\n",
       "      <th>capsules</th>\n",
       "      <th>stickers</th>\n",
       "      <th>date</th>\n",
       "      <th>est_release</th>\n",
       "      <th>timestamp</th>\n",
       "      <th>desc</th>\n",
       "    </tr>\n",
       "  </thead>\n",
       "  <tbody>\n",
       "    <tr>\n",
       "      <th>3802</th>\n",
       "      <td>Dual Berettas | Moon in Libra (Field-Tested)</td>\n",
       "      <td>27 May 2015</td>\n",
       "      <td>0.285</td>\n",
       "      <td>1573</td>\n",
       "      <td>27 May 2015</td>\n",
       "      <td>0</td>\n",
       "      <td>Dual Berettas</td>\n",
       "      <td>Moon in Libra</td>\n",
       "      <td>Field-Tested</td>\n",
       "      <td>True</td>\n",
       "      <td>False</td>\n",
       "      <td>False</td>\n",
       "      <td>False</td>\n",
       "      <td>False</td>\n",
       "      <td>False</td>\n",
       "      <td>1.432703e+09</td>\n",
       "      <td>1.432703e+09</td>\n",
       "      <td>2015-05-27</td>\n",
       "      <td>Dual Berettas | Moon in Libra (Field-Tested) 2...</td>\n",
       "    </tr>\n",
       "    <tr>\n",
       "      <th>3803</th>\n",
       "      <td>Dual Berettas | Moon in Libra (Field-Tested)</td>\n",
       "      <td>28 May 2015</td>\n",
       "      <td>0.278</td>\n",
       "      <td>1488</td>\n",
       "      <td>27 May 2015</td>\n",
       "      <td>1</td>\n",
       "      <td>Dual Berettas</td>\n",
       "      <td>Moon in Libra</td>\n",
       "      <td>Field-Tested</td>\n",
       "      <td>True</td>\n",
       "      <td>False</td>\n",
       "      <td>False</td>\n",
       "      <td>False</td>\n",
       "      <td>False</td>\n",
       "      <td>False</td>\n",
       "      <td>1.432789e+09</td>\n",
       "      <td>1.432703e+09</td>\n",
       "      <td>2015-05-28</td>\n",
       "      <td>Dual Berettas | Moon in Libra (Field-Tested) 2...</td>\n",
       "    </tr>\n",
       "    <tr>\n",
       "      <th>3804</th>\n",
       "      <td>Dual Berettas | Moon in Libra (Field-Tested)</td>\n",
       "      <td>29 May 2015</td>\n",
       "      <td>0.373</td>\n",
       "      <td>877</td>\n",
       "      <td>27 May 2015</td>\n",
       "      <td>2</td>\n",
       "      <td>Dual Berettas</td>\n",
       "      <td>Moon in Libra</td>\n",
       "      <td>Field-Tested</td>\n",
       "      <td>True</td>\n",
       "      <td>False</td>\n",
       "      <td>False</td>\n",
       "      <td>False</td>\n",
       "      <td>False</td>\n",
       "      <td>False</td>\n",
       "      <td>1.432876e+09</td>\n",
       "      <td>1.432703e+09</td>\n",
       "      <td>2015-05-29</td>\n",
       "      <td>Dual Berettas | Moon in Libra (Field-Tested) 2...</td>\n",
       "    </tr>\n",
       "    <tr>\n",
       "      <th>3805</th>\n",
       "      <td>Dual Berettas | Moon in Libra (Field-Tested)</td>\n",
       "      <td>30 May 2015</td>\n",
       "      <td>0.445</td>\n",
       "      <td>663</td>\n",
       "      <td>27 May 2015</td>\n",
       "      <td>3</td>\n",
       "      <td>Dual Berettas</td>\n",
       "      <td>Moon in Libra</td>\n",
       "      <td>Field-Tested</td>\n",
       "      <td>True</td>\n",
       "      <td>False</td>\n",
       "      <td>False</td>\n",
       "      <td>False</td>\n",
       "      <td>False</td>\n",
       "      <td>False</td>\n",
       "      <td>1.432962e+09</td>\n",
       "      <td>1.432703e+09</td>\n",
       "      <td>2015-05-30</td>\n",
       "      <td>Dual Berettas | Moon in Libra (Field-Tested) 2...</td>\n",
       "    </tr>\n",
       "    <tr>\n",
       "      <th>3806</th>\n",
       "      <td>Dual Berettas | Moon in Libra (Field-Tested)</td>\n",
       "      <td>31 May 2015</td>\n",
       "      <td>0.526</td>\n",
       "      <td>479</td>\n",
       "      <td>27 May 2015</td>\n",
       "      <td>4</td>\n",
       "      <td>Dual Berettas</td>\n",
       "      <td>Moon in Libra</td>\n",
       "      <td>Field-Tested</td>\n",
       "      <td>True</td>\n",
       "      <td>False</td>\n",
       "      <td>False</td>\n",
       "      <td>False</td>\n",
       "      <td>False</td>\n",
       "      <td>False</td>\n",
       "      <td>1.433048e+09</td>\n",
       "      <td>1.432703e+09</td>\n",
       "      <td>2015-05-31</td>\n",
       "      <td>Dual Berettas | Moon in Libra (Field-Tested) 2...</td>\n",
       "    </tr>\n",
       "  </tbody>\n",
       "</table>\n",
       "</div>"
      ],
      "text/plain": [
       "                                         item_name     date_str  \\\n",
       "3802  Dual Berettas | Moon in Libra (Field-Tested)  27 May 2015   \n",
       "3803  Dual Berettas | Moon in Libra (Field-Tested)  28 May 2015   \n",
       "3804  Dual Berettas | Moon in Libra (Field-Tested)  29 May 2015   \n",
       "3805  Dual Berettas | Moon in Libra (Field-Tested)  30 May 2015   \n",
       "3806  Dual Berettas | Moon in Libra (Field-Tested)  31 May 2015   \n",
       "\n",
       "      median_sell_price  quantity est_release_str  days_since_release  \\\n",
       "3802              0.285      1573     27 May 2015                   0   \n",
       "3803              0.278      1488     27 May 2015                   1   \n",
       "3804              0.373       877     27 May 2015                   2   \n",
       "3805              0.445       663     27 May 2015                   3   \n",
       "3806              0.526       479     27 May 2015                   4   \n",
       "\n",
       "           gun_type            skin       quality  gun_bool  StatTrak  \\\n",
       "3802  Dual Berettas  Moon in Libra   Field-Tested      True     False   \n",
       "3803  Dual Berettas  Moon in Libra   Field-Tested      True     False   \n",
       "3804  Dual Berettas  Moon in Libra   Field-Tested      True     False   \n",
       "3805  Dual Berettas  Moon in Libra   Field-Tested      True     False   \n",
       "3806  Dual Berettas  Moon in Libra   Field-Tested      True     False   \n",
       "\n",
       "      souvenir   keys  capsules  stickers          date   est_release  \\\n",
       "3802     False  False     False     False  1.432703e+09  1.432703e+09   \n",
       "3803     False  False     False     False  1.432789e+09  1.432703e+09   \n",
       "3804     False  False     False     False  1.432876e+09  1.432703e+09   \n",
       "3805     False  False     False     False  1.432962e+09  1.432703e+09   \n",
       "3806     False  False     False     False  1.433048e+09  1.432703e+09   \n",
       "\n",
       "      timestamp                                               desc  \n",
       "3802 2015-05-27  Dual Berettas | Moon in Libra (Field-Tested) 2...  \n",
       "3803 2015-05-28  Dual Berettas | Moon in Libra (Field-Tested) 2...  \n",
       "3804 2015-05-29  Dual Berettas | Moon in Libra (Field-Tested) 2...  \n",
       "3805 2015-05-30  Dual Berettas | Moon in Libra (Field-Tested) 2...  \n",
       "3806 2015-05-31  Dual Berettas | Moon in Libra (Field-Tested) 2...  "
      ]
     },
     "execution_count": 25,
     "metadata": {},
     "output_type": "execute_result"
    }
   ],
   "source": [
    "df[df.est_release < time.mktime(datetime.datetime.strptime('1 November 2015', \"%d %B %Y\").timetuple())].head()"
   ]
  },
  {
   "cell_type": "code",
   "execution_count": 26,
   "metadata": {},
   "outputs": [],
   "source": [
    "x = df[df.item_name=='Dual Berettas | Moon in Libra (Field-Tested)']['timestamp']"
   ]
  },
  {
   "cell_type": "code",
   "execution_count": 27,
   "metadata": {},
   "outputs": [],
   "source": [
    "y = df[df.item_name=='Dual Berettas | Moon in Libra (Field-Tested)'].median_sell_price"
   ]
  },
  {
   "cell_type": "code",
   "execution_count": 28,
   "metadata": {},
   "outputs": [
    {
     "data": {
      "text/plain": [
       "<matplotlib.collections.PathCollection at 0x1c1a07aa20>"
      ]
     },
     "execution_count": 28,
     "metadata": {},
     "output_type": "execute_result"
    },
    {
     "data": {
      "image/png": "[encoded data removed]",
      "text/plain": [
       "<Figure size 1584x648 with 1 Axes>"
      ]
     },
     "metadata": {},
     "output_type": "display_data"
    }
   ],
   "source": [
    "results = anom_detect(df[df['item_name'] == 'Dual Berettas | Moon in Libra (Field-Tested)'], 'Dual Berettas | Moon in Libra (Field-Tested)')\n",
    "fig, ax = plt.subplots(figsize=(22, 9))\n",
    "ax.plot(x, y)\n",
    "ax.plot([np.datetime64(datetime.datetime.fromtimestamp(time.mktime(datetime.datetime.strptime('1 November 2015', \"%d %B %Y\").timetuple())).date())]*2, [0,1])\n",
    "ax.scatter(results['anoms'].index, results['anoms']['anoms'], c='green')"
   ]
  },
  {
   "cell_type": "markdown",
   "metadata": {},
   "source": [
    "### Auto arima outlier comparison"
   ]
  },
  {
   "cell_type": "code",
   "execution_count": 29,
   "metadata": {},
   "outputs": [],
   "source": [
    "compare_df = df[df['item_name'] == 'Dual Berettas | Moon in Libra (Field-Tested)']\n",
    "compare_df.loc[4828, 'median_sell_price'] = np.median(compare_df.median_sell_price)"
   ]
  },
  {
   "cell_type": "code",
   "execution_count": 30,
   "metadata": {},
   "outputs": [],
   "source": [
    "\n",
    "model = auto_arima(compare_df.median_sell_price)\n",
    "resid_df = pd.DataFrame({'timestamp': compare_df.timestamp, 'resid': model.resid(), 'raw': compare_df.median_sell_price, 'pred': model.predict_in_sample()})\n",
    "\n",
    "mean = np.mean(resid_df.raw[1:])\n",
    "std = np.std(resid_df.raw[1:])\n",
    "outliers = resid_df[(resid_df.raw > mean + 3*std) | (resid_df.raw < mean - 3*std)]"
   ]
  },
  {
   "cell_type": "code",
   "execution_count": 31,
   "metadata": {},
   "outputs": [],
   "source": [
    "base = datetime.datetime(2018, 7, 1)\n",
    "arr = np.arange(datetime.datetime(2018,7,1), datetime.datetime(2019,1,1), datetime.timedelta(days=1)).astype(datetime.datetime)"
   ]
  },
  {
   "cell_type": "code",
   "execution_count": 32,
   "metadata": {},
   "outputs": [
    {
     "data": {
      "text/plain": [
       "<matplotlib.collections.PathCollection at 0x1c1a03dc88>"
      ]
     },
     "execution_count": 32,
     "metadata": {},
     "output_type": "execute_result"
    },
    {
     "data": {
      "image/png": "[encoded data removed]",
      "text/plain": [
       "<Figure size 1584x648 with 1 Axes>"
      ]
     },
     "metadata": {},
     "output_type": "display_data"
    }
   ],
   "source": [
    "fig, ax = plt.subplots(figsize=(22,9))\n",
    "ax.plot(compare_df.timestamp, compare_df.median_sell_price)\n",
    "ax.plot(compare_df.timestamp, compare_df.median_sell_price - model.resid())\n",
    "ax.plot(arr, model.predict(n_periods=len(arr)))\n",
    "ax.scatter(outliers.timestamp.values, outliers.pred.values, c='red')"
   ]
  },
  {
   "cell_type": "code",
   "execution_count": 33,
   "metadata": {},
   "outputs": [
    {
     "data": {
      "text/html": [
       "<table class=\"simpletable\">\n",
       "<caption>Statespace Model Results</caption>\n",
       "<tr>\n",
       "  <th>Dep. Variable:</th>           <td>y</td>        <th>  No. Observations:  </th>   <td>1131</td>   \n",
       "</tr>\n",
       "<tr>\n",
       "  <th>Model:</th>           <td>SARIMAX(1, 1, 1)</td> <th>  Log Likelihood     </th> <td>2734.417</td> \n",
       "</tr>\n",
       "<tr>\n",
       "  <th>Date:</th>            <td>Wed, 22 Aug 2018</td> <th>  AIC                </th> <td>-5460.833</td>\n",
       "</tr>\n",
       "<tr>\n",
       "  <th>Time:</th>                <td>17:10:49</td>     <th>  BIC                </th> <td>-5440.713</td>\n",
       "</tr>\n",
       "<tr>\n",
       "  <th>Sample:</th>                  <td>0</td>        <th>  HQIC               </th> <td>-5453.232</td>\n",
       "</tr>\n",
       "<tr>\n",
       "  <th></th>                      <td> - 1131</td>     <th>                     </th>     <td> </td>    \n",
       "</tr>\n",
       "<tr>\n",
       "  <th>Covariance Type:</th>        <td>opg</td>       <th>                     </th>     <td> </td>    \n",
       "</tr>\n",
       "</table>\n",
       "<table class=\"simpletable\">\n",
       "<tr>\n",
       "      <td></td>         <th>coef</th>     <th>std err</th>      <th>z</th>      <th>P>|z|</th>  <th>[0.025</th>    <th>0.975]</th>  \n",
       "</tr>\n",
       "<tr>\n",
       "  <th>intercept</th> <td>-3.167e-05</td> <td>  4.2e-05</td> <td>   -0.754</td> <td> 0.451</td> <td>   -0.000</td> <td> 5.07e-05</td>\n",
       "</tr>\n",
       "<tr>\n",
       "  <th>ar.L1</th>     <td>    0.7992</td> <td>    0.013</td> <td>   60.577</td> <td> 0.000</td> <td>    0.773</td> <td>    0.825</td>\n",
       "</tr>\n",
       "<tr>\n",
       "  <th>ma.L1</th>     <td>   -0.9535</td> <td>    0.011</td> <td>  -88.893</td> <td> 0.000</td> <td>   -0.975</td> <td>   -0.932</td>\n",
       "</tr>\n",
       "<tr>\n",
       "  <th>sigma2</th>    <td>    0.0005</td> <td> 3.73e-06</td> <td>  124.205</td> <td> 0.000</td> <td>    0.000</td> <td>    0.000</td>\n",
       "</tr>\n",
       "</table>\n",
       "<table class=\"simpletable\">\n",
       "<tr>\n",
       "  <th>Ljung-Box (Q):</th>          <td>186.60</td> <th>  Jarque-Bera (JB):  </th> <td>314712.18</td>\n",
       "</tr>\n",
       "<tr>\n",
       "  <th>Prob(Q):</th>                 <td>0.00</td>  <th>  Prob(JB):          </th>   <td>0.00</td>   \n",
       "</tr>\n",
       "<tr>\n",
       "  <th>Heteroskedasticity (H):</th>  <td>0.15</td>  <th>  Skew:              </th>   <td>-1.09</td>  \n",
       "</tr>\n",
       "<tr>\n",
       "  <th>Prob(H) (two-sided):</th>     <td>0.00</td>  <th>  Kurtosis:          </th>   <td>84.73</td>  \n",
       "</tr>\n",
       "</table><br/><br/>Warnings:<br/>[1] Covariance matrix calculated using the outer product of gradients (complex-step)."
      ],
      "text/plain": [
       "<class 'statsmodels.iolib.summary.Summary'>\n",
       "\"\"\"\n",
       "                           Statespace Model Results                           \n",
       "==============================================================================\n",
       "Dep. Variable:                      y   No. Observations:                 1131\n",
       "Model:               SARIMAX(1, 1, 1)   Log Likelihood                2734.417\n",
       "Date:                Wed, 22 Aug 2018   AIC                          -5460.833\n",
       "Time:                        17:10:49   BIC                          -5440.713\n",
       "Sample:                             0   HQIC                         -5453.232\n",
       "                               - 1131                                         \n",
       "Covariance Type:                  opg                                         \n",
       "==============================================================================\n",
       "                 coef    std err          z      P>|z|      [0.025      0.975]\n",
       "------------------------------------------------------------------------------\n",
       "intercept  -3.167e-05    4.2e-05     -0.754      0.451      -0.000    5.07e-05\n",
       "ar.L1          0.7992      0.013     60.577      0.000       0.773       0.825\n",
       "ma.L1         -0.9535      0.011    -88.893      0.000      -0.975      -0.932\n",
       "sigma2         0.0005   3.73e-06    124.205      0.000       0.000       0.000\n",
       "===================================================================================\n",
       "Ljung-Box (Q):                      186.60   Jarque-Bera (JB):            314712.18\n",
       "Prob(Q):                              0.00   Prob(JB):                         0.00\n",
       "Heteroskedasticity (H):               0.15   Skew:                            -1.09\n",
       "Prob(H) (two-sided):                  0.00   Kurtosis:                        84.73\n",
       "===================================================================================\n",
       "\n",
       "Warnings:\n",
       "[1] Covariance matrix calculated using the outer product of gradients (complex-step).\n",
       "\"\"\""
      ]
     },
     "execution_count": 33,
     "metadata": {},
     "output_type": "execute_result"
    }
   ],
   "source": [
    "model.summary()"
   ]
  },
  {
   "cell_type": "code",
   "execution_count": 34,
   "metadata": {},
   "outputs": [
    {
     "data": {
      "text/plain": [
       "[<matplotlib.lines.Line2D at 0x102983080>]"
      ]
     },
     "execution_count": 34,
     "metadata": {},
     "output_type": "execute_result"
    },
    {
     "data": {
      "image/png": "[encoded data removed]",
      "text/plain": [
       "<Figure size 1584x648 with 1 Axes>"
      ]
     },
     "metadata": {},
     "output_type": "display_data"
    }
   ],
   "source": [
    "fig, ax = plt.subplots(figsize=(22,9))\n",
    "ax.plot(compare_df.timestamp, model.resid())"
   ]
  },
  {
   "cell_type": "markdown",
   "metadata": {},
   "source": [
    "### Number of items available on a given day"
   ]
  },
  {
   "cell_type": "code",
   "execution_count": 36,
   "metadata": {},
   "outputs": [],
   "source": [
    "with open('archive/anomalies.pkl', 'rb') as f:\n",
    "    anomalies = pickle.load(f)"
   ]
  },
  {
   "cell_type": "code",
   "execution_count": 37,
   "metadata": {},
   "outputs": [],
   "source": [
    "df_num_items = df.groupby('item_name').agg('median')"
   ]
  },
  {
   "cell_type": "code",
   "execution_count": 38,
   "metadata": {},
   "outputs": [
    {
     "data": {
      "text/html": [
       "<div>\n",
       "<style scoped>\n",
       "    .dataframe tbody tr th:only-of-type {\n",
       "        vertical-align: middle;\n",
       "    }\n",
       "\n",
       "    .dataframe tbody tr th {\n",
       "        vertical-align: top;\n",
       "    }\n",
       "\n",
       "    .dataframe thead th {\n",
       "        text-align: right;\n",
       "    }\n",
       "</style>\n",
       "<table border=\"1\" class=\"dataframe\">\n",
       "  <thead>\n",
       "    <tr style=\"text-align: right;\">\n",
       "      <th></th>\n",
       "      <th>median_sell_price</th>\n",
       "      <th>quantity</th>\n",
       "      <th>days_since_release</th>\n",
       "      <th>gun_bool</th>\n",
       "      <th>StatTrak</th>\n",
       "      <th>souvenir</th>\n",
       "      <th>keys</th>\n",
       "      <th>capsules</th>\n",
       "      <th>stickers</th>\n",
       "      <th>date</th>\n",
       "      <th>est_release</th>\n",
       "    </tr>\n",
       "    <tr>\n",
       "      <th>item_name</th>\n",
       "      <th></th>\n",
       "      <th></th>\n",
       "      <th></th>\n",
       "      <th></th>\n",
       "      <th></th>\n",
       "      <th></th>\n",
       "      <th></th>\n",
       "      <th></th>\n",
       "      <th></th>\n",
       "      <th></th>\n",
       "      <th></th>\n",
       "    </tr>\n",
       "  </thead>\n",
       "  <tbody>\n",
       "    <tr>\n",
       "      <th>AK-47 | Aquamarine Revenge (Battle-Scarred)</th>\n",
       "      <td>11.536</td>\n",
       "      <td>106.0</td>\n",
       "      <td>565.0</td>\n",
       "      <td>True</td>\n",
       "      <td>False</td>\n",
       "      <td>False</td>\n",
       "      <td>False</td>\n",
       "      <td>False</td>\n",
       "      <td>False</td>\n",
       "      <td>1.481522e+09</td>\n",
       "      <td>1.432703e+09</td>\n",
       "    </tr>\n",
       "    <tr>\n",
       "      <th>AK-47 | Aquamarine Revenge (Factory New)</th>\n",
       "      <td>36.005</td>\n",
       "      <td>36.0</td>\n",
       "      <td>565.0</td>\n",
       "      <td>True</td>\n",
       "      <td>False</td>\n",
       "      <td>False</td>\n",
       "      <td>False</td>\n",
       "      <td>False</td>\n",
       "      <td>False</td>\n",
       "      <td>1.481522e+09</td>\n",
       "      <td>1.432703e+09</td>\n",
       "    </tr>\n",
       "    <tr>\n",
       "      <th>AK-47 | Aquamarine Revenge (Field-Tested)</th>\n",
       "      <td>17.574</td>\n",
       "      <td>249.0</td>\n",
       "      <td>565.0</td>\n",
       "      <td>True</td>\n",
       "      <td>False</td>\n",
       "      <td>False</td>\n",
       "      <td>False</td>\n",
       "      <td>False</td>\n",
       "      <td>False</td>\n",
       "      <td>1.481522e+09</td>\n",
       "      <td>1.432703e+09</td>\n",
       "    </tr>\n",
       "    <tr>\n",
       "      <th>AK-47 | Aquamarine Revenge (Minimal Wear)</th>\n",
       "      <td>24.727</td>\n",
       "      <td>120.0</td>\n",
       "      <td>565.0</td>\n",
       "      <td>True</td>\n",
       "      <td>False</td>\n",
       "      <td>False</td>\n",
       "      <td>False</td>\n",
       "      <td>False</td>\n",
       "      <td>False</td>\n",
       "      <td>1.481522e+09</td>\n",
       "      <td>1.432703e+09</td>\n",
       "    </tr>\n",
       "    <tr>\n",
       "      <th>AK-47 | Aquamarine Revenge (Well-Worn)</th>\n",
       "      <td>14.590</td>\n",
       "      <td>133.0</td>\n",
       "      <td>565.0</td>\n",
       "      <td>True</td>\n",
       "      <td>False</td>\n",
       "      <td>False</td>\n",
       "      <td>False</td>\n",
       "      <td>False</td>\n",
       "      <td>False</td>\n",
       "      <td>1.481522e+09</td>\n",
       "      <td>1.432703e+09</td>\n",
       "    </tr>\n",
       "  </tbody>\n",
       "</table>\n",
       "</div>"
      ],
      "text/plain": [
       "                                             median_sell_price  quantity  \\\n",
       "item_name                                                                  \n",
       "AK-47 | Aquamarine Revenge (Battle-Scarred)             11.536     106.0   \n",
       "AK-47 | Aquamarine Revenge (Factory New)                36.005      36.0   \n",
       "AK-47 | Aquamarine Revenge (Field-Tested)               17.574     249.0   \n",
       "AK-47 | Aquamarine Revenge (Minimal Wear)               24.727     120.0   \n",
       "AK-47 | Aquamarine Revenge (Well-Worn)                  14.590     133.0   \n",
       "\n",
       "                                             days_since_release  gun_bool  \\\n",
       "item_name                                                                   \n",
       "AK-47 | Aquamarine Revenge (Battle-Scarred)               565.0      True   \n",
       "AK-47 | Aquamarine Revenge (Factory New)                  565.0      True   \n",
       "AK-47 | Aquamarine Revenge (Field-Tested)                 565.0      True   \n",
       "AK-47 | Aquamarine Revenge (Minimal Wear)                 565.0      True   \n",
       "AK-47 | Aquamarine Revenge (Well-Worn)                    565.0      True   \n",
       "\n",
       "                                             StatTrak  souvenir   keys  \\\n",
       "item_name                                                                \n",
       "AK-47 | Aquamarine Revenge (Battle-Scarred)     False     False  False   \n",
       "AK-47 | Aquamarine Revenge (Factory New)        False     False  False   \n",
       "AK-47 | Aquamarine Revenge (Field-Tested)       False     False  False   \n",
       "AK-47 | Aquamarine Revenge (Minimal Wear)       False     False  False   \n",
       "AK-47 | Aquamarine Revenge (Well-Worn)          False     False  False   \n",
       "\n",
       "                                             capsules  stickers          date  \\\n",
       "item_name                                                                       \n",
       "AK-47 | Aquamarine Revenge (Battle-Scarred)     False     False  1.481522e+09   \n",
       "AK-47 | Aquamarine Revenge (Factory New)        False     False  1.481522e+09   \n",
       "AK-47 | Aquamarine Revenge (Field-Tested)       False     False  1.481522e+09   \n",
       "AK-47 | Aquamarine Revenge (Minimal Wear)       False     False  1.481522e+09   \n",
       "AK-47 | Aquamarine Revenge (Well-Worn)          False     False  1.481522e+09   \n",
       "\n",
       "                                              est_release  \n",
       "item_name                                                  \n",
       "AK-47 | Aquamarine Revenge (Battle-Scarred)  1.432703e+09  \n",
       "AK-47 | Aquamarine Revenge (Factory New)     1.432703e+09  \n",
       "AK-47 | Aquamarine Revenge (Field-Tested)    1.432703e+09  \n",
       "AK-47 | Aquamarine Revenge (Minimal Wear)    1.432703e+09  \n",
       "AK-47 | Aquamarine Revenge (Well-Worn)       1.432703e+09  "
      ]
     },
     "execution_count": 38,
     "metadata": {},
     "output_type": "execute_result"
    }
   ],
   "source": [
    "df_num_items.head()"
   ]
  },
  {
   "cell_type": "code",
   "execution_count": 39,
   "metadata": {},
   "outputs": [],
   "source": [
    "index = [pd.to_datetime(t, unit='s') for t in df_num_items.est_release]"
   ]
  },
  {
   "cell_type": "code",
   "execution_count": 40,
   "metadata": {},
   "outputs": [],
   "source": [
    "df_num_items['release_timestamp'] = index"
   ]
  },
  {
   "cell_type": "code",
   "execution_count": 41,
   "metadata": {},
   "outputs": [],
   "source": [
    "df_num_items['release_timestamp'] = [t.date() for t in df_num_items['release_timestamp']]"
   ]
  },
  {
   "cell_type": "code",
   "execution_count": 42,
   "metadata": {},
   "outputs": [
    {
     "data": {
      "text/html": [
       "<div>\n",
       "<style scoped>\n",
       "    .dataframe tbody tr th:only-of-type {\n",
       "        vertical-align: middle;\n",
       "    }\n",
       "\n",
       "    .dataframe tbody tr th {\n",
       "        vertical-align: top;\n",
       "    }\n",
       "\n",
       "    .dataframe thead th {\n",
       "        text-align: right;\n",
       "    }\n",
       "</style>\n",
       "<table border=\"1\" class=\"dataframe\">\n",
       "  <thead>\n",
       "    <tr style=\"text-align: right;\">\n",
       "      <th></th>\n",
       "      <th>median_sell_price</th>\n",
       "      <th>quantity</th>\n",
       "      <th>days_since_release</th>\n",
       "      <th>gun_bool</th>\n",
       "      <th>StatTrak</th>\n",
       "      <th>souvenir</th>\n",
       "      <th>keys</th>\n",
       "      <th>capsules</th>\n",
       "      <th>stickers</th>\n",
       "      <th>date</th>\n",
       "      <th>est_release</th>\n",
       "      <th>release_timestamp</th>\n",
       "    </tr>\n",
       "    <tr>\n",
       "      <th>item_name</th>\n",
       "      <th></th>\n",
       "      <th></th>\n",
       "      <th></th>\n",
       "      <th></th>\n",
       "      <th></th>\n",
       "      <th></th>\n",
       "      <th></th>\n",
       "      <th></th>\n",
       "      <th></th>\n",
       "      <th></th>\n",
       "      <th></th>\n",
       "      <th></th>\n",
       "    </tr>\n",
       "  </thead>\n",
       "  <tbody>\n",
       "    <tr>\n",
       "      <th>AK-47 | Aquamarine Revenge (Battle-Scarred)</th>\n",
       "      <td>11.536</td>\n",
       "      <td>106.0</td>\n",
       "      <td>565.0</td>\n",
       "      <td>True</td>\n",
       "      <td>False</td>\n",
       "      <td>False</td>\n",
       "      <td>False</td>\n",
       "      <td>False</td>\n",
       "      <td>False</td>\n",
       "      <td>1.481522e+09</td>\n",
       "      <td>1.432703e+09</td>\n",
       "      <td>2015-05-27</td>\n",
       "    </tr>\n",
       "    <tr>\n",
       "      <th>AK-47 | Aquamarine Revenge (Factory New)</th>\n",
       "      <td>36.005</td>\n",
       "      <td>36.0</td>\n",
       "      <td>565.0</td>\n",
       "      <td>True</td>\n",
       "      <td>False</td>\n",
       "      <td>False</td>\n",
       "      <td>False</td>\n",
       "      <td>False</td>\n",
       "      <td>False</td>\n",
       "      <td>1.481522e+09</td>\n",
       "      <td>1.432703e+09</td>\n",
       "      <td>2015-05-27</td>\n",
       "    </tr>\n",
       "    <tr>\n",
       "      <th>AK-47 | Aquamarine Revenge (Field-Tested)</th>\n",
       "      <td>17.574</td>\n",
       "      <td>249.0</td>\n",
       "      <td>565.0</td>\n",
       "      <td>True</td>\n",
       "      <td>False</td>\n",
       "      <td>False</td>\n",
       "      <td>False</td>\n",
       "      <td>False</td>\n",
       "      <td>False</td>\n",
       "      <td>1.481522e+09</td>\n",
       "      <td>1.432703e+09</td>\n",
       "      <td>2015-05-27</td>\n",
       "    </tr>\n",
       "    <tr>\n",
       "      <th>AK-47 | Aquamarine Revenge (Minimal Wear)</th>\n",
       "      <td>24.727</td>\n",
       "      <td>120.0</td>\n",
       "      <td>565.0</td>\n",
       "      <td>True</td>\n",
       "      <td>False</td>\n",
       "      <td>False</td>\n",
       "      <td>False</td>\n",
       "      <td>False</td>\n",
       "      <td>False</td>\n",
       "      <td>1.481522e+09</td>\n",
       "      <td>1.432703e+09</td>\n",
       "      <td>2015-05-27</td>\n",
       "    </tr>\n",
       "    <tr>\n",
       "      <th>AK-47 | Aquamarine Revenge (Well-Worn)</th>\n",
       "      <td>14.590</td>\n",
       "      <td>133.0</td>\n",
       "      <td>565.0</td>\n",
       "      <td>True</td>\n",
       "      <td>False</td>\n",
       "      <td>False</td>\n",
       "      <td>False</td>\n",
       "      <td>False</td>\n",
       "      <td>False</td>\n",
       "      <td>1.481522e+09</td>\n",
       "      <td>1.432703e+09</td>\n",
       "      <td>2015-05-27</td>\n",
       "    </tr>\n",
       "  </tbody>\n",
       "</table>\n",
       "</div>"
      ],
      "text/plain": [
       "                                             median_sell_price  quantity  \\\n",
       "item_name                                                                  \n",
       "AK-47 | Aquamarine Revenge (Battle-Scarred)             11.536     106.0   \n",
       "AK-47 | Aquamarine Revenge (Factory New)                36.005      36.0   \n",
       "AK-47 | Aquamarine Revenge (Field-Tested)               17.574     249.0   \n",
       "AK-47 | Aquamarine Revenge (Minimal Wear)               24.727     120.0   \n",
       "AK-47 | Aquamarine Revenge (Well-Worn)                  14.590     133.0   \n",
       "\n",
       "                                             days_since_release  gun_bool  \\\n",
       "item_name                                                                   \n",
       "AK-47 | Aquamarine Revenge (Battle-Scarred)               565.0      True   \n",
       "AK-47 | Aquamarine Revenge (Factory New)                  565.0      True   \n",
       "AK-47 | Aquamarine Revenge (Field-Tested)                 565.0      True   \n",
       "AK-47 | Aquamarine Revenge (Minimal Wear)                 565.0      True   \n",
       "AK-47 | Aquamarine Revenge (Well-Worn)                    565.0      True   \n",
       "\n",
       "                                             StatTrak  souvenir   keys  \\\n",
       "item_name                                                                \n",
       "AK-47 | Aquamarine Revenge (Battle-Scarred)     False     False  False   \n",
       "AK-47 | Aquamarine Revenge (Factory New)        False     False  False   \n",
       "AK-47 | Aquamarine Revenge (Field-Tested)       False     False  False   \n",
       "AK-47 | Aquamarine Revenge (Minimal Wear)       False     False  False   \n",
       "AK-47 | Aquamarine Revenge (Well-Worn)          False     False  False   \n",
       "\n",
       "                                             capsules  stickers          date  \\\n",
       "item_name                                                                       \n",
       "AK-47 | Aquamarine Revenge (Battle-Scarred)     False     False  1.481522e+09   \n",
       "AK-47 | Aquamarine Revenge (Factory New)        False     False  1.481522e+09   \n",
       "AK-47 | Aquamarine Revenge (Field-Tested)       False     False  1.481522e+09   \n",
       "AK-47 | Aquamarine Revenge (Minimal Wear)       False     False  1.481522e+09   \n",
       "AK-47 | Aquamarine Revenge (Well-Worn)          False     False  1.481522e+09   \n",
       "\n",
       "                                              est_release release_timestamp  \n",
       "item_name                                                                    \n",
       "AK-47 | Aquamarine Revenge (Battle-Scarred)  1.432703e+09        2015-05-27  \n",
       "AK-47 | Aquamarine Revenge (Factory New)     1.432703e+09        2015-05-27  \n",
       "AK-47 | Aquamarine Revenge (Field-Tested)    1.432703e+09        2015-05-27  \n",
       "AK-47 | Aquamarine Revenge (Minimal Wear)    1.432703e+09        2015-05-27  \n",
       "AK-47 | Aquamarine Revenge (Well-Worn)       1.432703e+09        2015-05-27  "
      ]
     },
     "execution_count": 42,
     "metadata": {},
     "output_type": "execute_result"
    }
   ],
   "source": [
    "df_num_items.head()"
   ]
  },
  {
   "cell_type": "code",
   "execution_count": 43,
   "metadata": {},
   "outputs": [],
   "source": [
    "df_num_items = df_num_items.groupby('release_timestamp').count()"
   ]
  },
  {
   "cell_type": "code",
   "execution_count": 44,
   "metadata": {},
   "outputs": [],
   "source": [
    "df_num_items['total_released'] = np.cumsum(df_num_items.median_sell_price)"
   ]
  },
  {
   "cell_type": "code",
   "execution_count": 45,
   "metadata": {},
   "outputs": [
    {
     "data": {
      "text/html": [
       "<div>\n",
       "<style scoped>\n",
       "    .dataframe tbody tr th:only-of-type {\n",
       "        vertical-align: middle;\n",
       "    }\n",
       "\n",
       "    .dataframe tbody tr th {\n",
       "        vertical-align: top;\n",
       "    }\n",
       "\n",
       "    .dataframe thead th {\n",
       "        text-align: right;\n",
       "    }\n",
       "</style>\n",
       "<table border=\"1\" class=\"dataframe\">\n",
       "  <thead>\n",
       "    <tr style=\"text-align: right;\">\n",
       "      <th></th>\n",
       "      <th>median_sell_price</th>\n",
       "      <th>quantity</th>\n",
       "      <th>days_since_release</th>\n",
       "      <th>gun_bool</th>\n",
       "      <th>StatTrak</th>\n",
       "      <th>souvenir</th>\n",
       "      <th>keys</th>\n",
       "      <th>capsules</th>\n",
       "      <th>stickers</th>\n",
       "      <th>date</th>\n",
       "      <th>est_release</th>\n",
       "      <th>total_released</th>\n",
       "    </tr>\n",
       "    <tr>\n",
       "      <th>release_timestamp</th>\n",
       "      <th></th>\n",
       "      <th></th>\n",
       "      <th></th>\n",
       "      <th></th>\n",
       "      <th></th>\n",
       "      <th></th>\n",
       "      <th></th>\n",
       "      <th></th>\n",
       "      <th></th>\n",
       "      <th></th>\n",
       "      <th></th>\n",
       "      <th></th>\n",
       "    </tr>\n",
       "  </thead>\n",
       "  <tbody>\n",
       "    <tr>\n",
       "      <th>2013-04-26</th>\n",
       "      <td>1</td>\n",
       "      <td>1</td>\n",
       "      <td>1</td>\n",
       "      <td>1</td>\n",
       "      <td>1</td>\n",
       "      <td>1</td>\n",
       "      <td>1</td>\n",
       "      <td>1</td>\n",
       "      <td>1</td>\n",
       "      <td>1</td>\n",
       "      <td>1</td>\n",
       "      <td>1</td>\n",
       "    </tr>\n",
       "    <tr>\n",
       "      <th>2013-08-13</th>\n",
       "      <td>5</td>\n",
       "      <td>5</td>\n",
       "      <td>5</td>\n",
       "      <td>5</td>\n",
       "      <td>5</td>\n",
       "      <td>5</td>\n",
       "      <td>5</td>\n",
       "      <td>5</td>\n",
       "      <td>5</td>\n",
       "      <td>5</td>\n",
       "      <td>5</td>\n",
       "      <td>6</td>\n",
       "    </tr>\n",
       "    <tr>\n",
       "      <th>2013-08-14</th>\n",
       "      <td>47</td>\n",
       "      <td>47</td>\n",
       "      <td>47</td>\n",
       "      <td>47</td>\n",
       "      <td>47</td>\n",
       "      <td>47</td>\n",
       "      <td>47</td>\n",
       "      <td>47</td>\n",
       "      <td>47</td>\n",
       "      <td>47</td>\n",
       "      <td>47</td>\n",
       "      <td>53</td>\n",
       "    </tr>\n",
       "    <tr>\n",
       "      <th>2013-08-15</th>\n",
       "      <td>249</td>\n",
       "      <td>249</td>\n",
       "      <td>249</td>\n",
       "      <td>249</td>\n",
       "      <td>249</td>\n",
       "      <td>249</td>\n",
       "      <td>249</td>\n",
       "      <td>249</td>\n",
       "      <td>249</td>\n",
       "      <td>249</td>\n",
       "      <td>249</td>\n",
       "      <td>302</td>\n",
       "    </tr>\n",
       "    <tr>\n",
       "      <th>2013-08-16</th>\n",
       "      <td>55</td>\n",
       "      <td>55</td>\n",
       "      <td>55</td>\n",
       "      <td>55</td>\n",
       "      <td>55</td>\n",
       "      <td>55</td>\n",
       "      <td>55</td>\n",
       "      <td>55</td>\n",
       "      <td>55</td>\n",
       "      <td>55</td>\n",
       "      <td>55</td>\n",
       "      <td>357</td>\n",
       "    </tr>\n",
       "  </tbody>\n",
       "</table>\n",
       "</div>"
      ],
      "text/plain": [
       "                   median_sell_price  quantity  days_since_release  gun_bool  \\\n",
       "release_timestamp                                                              \n",
       "2013-04-26                         1         1                   1         1   \n",
       "2013-08-13                         5         5                   5         5   \n",
       "2013-08-14                        47        47                  47        47   \n",
       "2013-08-15                       249       249                 249       249   \n",
       "2013-08-16                        55        55                  55        55   \n",
       "\n",
       "                   StatTrak  souvenir  keys  capsules  stickers  date  \\\n",
       "release_timestamp                                                       \n",
       "2013-04-26                1         1     1         1         1     1   \n",
       "2013-08-13                5         5     5         5         5     5   \n",
       "2013-08-14               47        47    47        47        47    47   \n",
       "2013-08-15              249       249   249       249       249   249   \n",
       "2013-08-16               55        55    55        55        55    55   \n",
       "\n",
       "                   est_release  total_released  \n",
       "release_timestamp                               \n",
       "2013-04-26                   1               1  \n",
       "2013-08-13                   5               6  \n",
       "2013-08-14                  47              53  \n",
       "2013-08-15                 249             302  \n",
       "2013-08-16                  55             357  "
      ]
     },
     "execution_count": 45,
     "metadata": {},
     "output_type": "execute_result"
    }
   ],
   "source": [
    "df_num_items.head()"
   ]
  },
  {
   "cell_type": "code",
   "execution_count": 46,
   "metadata": {},
   "outputs": [],
   "source": [
    "num_items = df_num_items.total_released"
   ]
  },
  {
   "cell_type": "code",
   "execution_count": 47,
   "metadata": {},
   "outputs": [],
   "source": [
    "num_items = num_items.reset_index()"
   ]
  },
  {
   "cell_type": "code",
   "execution_count": 48,
   "metadata": {},
   "outputs": [],
   "source": [
    "num_items['timestamp'] = [pd.to_datetime(t) for t in num_items['release_timestamp']]"
   ]
  },
  {
   "cell_type": "code",
   "execution_count": 49,
   "metadata": {},
   "outputs": [
    {
     "data": {
      "text/html": [
       "<div>\n",
       "<style scoped>\n",
       "    .dataframe tbody tr th:only-of-type {\n",
       "        vertical-align: middle;\n",
       "    }\n",
       "\n",
       "    .dataframe tbody tr th {\n",
       "        vertical-align: top;\n",
       "    }\n",
       "\n",
       "    .dataframe thead th {\n",
       "        text-align: right;\n",
       "    }\n",
       "</style>\n",
       "<table border=\"1\" class=\"dataframe\">\n",
       "  <thead>\n",
       "    <tr style=\"text-align: right;\">\n",
       "      <th></th>\n",
       "      <th>release_timestamp</th>\n",
       "      <th>total_released</th>\n",
       "      <th>timestamp</th>\n",
       "    </tr>\n",
       "  </thead>\n",
       "  <tbody>\n",
       "    <tr>\n",
       "      <th>0</th>\n",
       "      <td>2013-04-26</td>\n",
       "      <td>1</td>\n",
       "      <td>2013-04-26</td>\n",
       "    </tr>\n",
       "    <tr>\n",
       "      <th>1</th>\n",
       "      <td>2013-08-13</td>\n",
       "      <td>6</td>\n",
       "      <td>2013-08-13</td>\n",
       "    </tr>\n",
       "    <tr>\n",
       "      <th>2</th>\n",
       "      <td>2013-08-14</td>\n",
       "      <td>53</td>\n",
       "      <td>2013-08-14</td>\n",
       "    </tr>\n",
       "    <tr>\n",
       "      <th>3</th>\n",
       "      <td>2013-08-15</td>\n",
       "      <td>302</td>\n",
       "      <td>2013-08-15</td>\n",
       "    </tr>\n",
       "    <tr>\n",
       "      <th>4</th>\n",
       "      <td>2013-08-16</td>\n",
       "      <td>357</td>\n",
       "      <td>2013-08-16</td>\n",
       "    </tr>\n",
       "  </tbody>\n",
       "</table>\n",
       "</div>"
      ],
      "text/plain": [
       "  release_timestamp  total_released  timestamp\n",
       "0        2013-04-26               1 2013-04-26\n",
       "1        2013-08-13               6 2013-08-13\n",
       "2        2013-08-14              53 2013-08-14\n",
       "3        2013-08-15             302 2013-08-15\n",
       "4        2013-08-16             357 2013-08-16"
      ]
     },
     "execution_count": 49,
     "metadata": {},
     "output_type": "execute_result"
    }
   ],
   "source": [
    "num_items.head()"
   ]
  },
  {
   "cell_type": "code",
   "execution_count": 50,
   "metadata": {},
   "outputs": [],
   "source": [
    "num_items = num_items.drop(columns='release_timestamp')"
   ]
  },
  {
   "cell_type": "code",
   "execution_count": 51,
   "metadata": {},
   "outputs": [
    {
     "data": {
      "text/plain": [
       "(Timestamp('2017-05-25 00:00:00'), 260)"
      ]
     },
     "execution_count": 51,
     "metadata": {},
     "output_type": "execute_result"
    }
   ],
   "source": [
    "anomalies[0]"
   ]
  },
  {
   "cell_type": "code",
   "execution_count": 52,
   "metadata": {},
   "outputs": [],
   "source": [
    "scaled_anom_dict = {}\n",
    "for x, y in anomalies:\n",
    "    scaled_anom_dict[x] = y / np.max(num_items[num_items.timestamp <= x]['total_released'])"
   ]
  },
  {
   "cell_type": "code",
   "execution_count": 53,
   "metadata": {},
   "outputs": [
    {
     "name": "stdout",
     "output_type": "stream",
     "text": [
      "('25 May 2017', '0.028')\n",
      "('28 Nov 2015', '0.026')\n",
      "('29 Nov 2015', '0.024')\n",
      "('27 Nov 2015', '0.023')\n",
      "('30 Nov 2015', '0.023')\n",
      "('01 Dec 2015', '0.022')\n",
      "('27 Nov 2016', '0.021')\n",
      "('28 Nov 2016', '0.021')\n",
      "('29 Nov 2016', '0.021')\n",
      "('26 Nov 2016', '0.021')\n",
      "('29 Jun 2018', '0.020')\n",
      "('26 May 2017', '0.020')\n",
      "('30 Nov 2016', '0.019')\n",
      "('28 Jun 2018', '0.019')\n",
      "('25 Nov 2017', '0.019')\n",
      "('27 Jun 2018', '0.018')\n",
      "('30 Jun 2018', '0.018')\n",
      "('26 Nov 2017', '0.018')\n",
      "('15 Mar 2016', '0.017')\n",
      "('24 Nov 2017', '0.017')\n",
      "('24 Jun 2017', '0.017')\n",
      "('17 Mar 2016', '0.017')\n",
      "('27 Nov 2017', '0.017')\n",
      "('16 Mar 2016', '0.017')\n",
      "('02 Dec 2015', '0.017')\n",
      "('28 Nov 2017', '0.016')\n",
      "('25 Nov 2016', '0.016')\n",
      "('01 Nov 2016', '0.016')\n",
      "('26 Jun 2018', '0.016')\n",
      "('31 Oct 2016', '0.016')\n"
     ]
    }
   ],
   "source": [
    "sorted_list = sorted(scaled_anom_dict.items(), key=lambda x: x[1], reverse=True)\n",
    "print(*[(x.date().strftime('%d %b %Y'), '{:.3f}'.format(y)) for x, y in sorted_list[:30]], sep='\\n')"
   ]
  },
  {
   "cell_type": "code",
   "execution_count": 4,
   "metadata": {},
   "outputs": [],
   "source": [
    "from src.arima_anom_detect import get_num_items_per_day"
   ]
  },
  {
   "cell_type": "code",
   "execution_count": 55,
   "metadata": {},
   "outputs": [
    {
     "ename": "TypeError",
     "evalue": "get_num_items_per_day() missing 1 required positional argument: 'df'",
     "output_type": "error",
     "traceback": [
      "\u001b[0;31m---------------------------------------------------------------------------\u001b[0m",
      "\u001b[0;31mTypeError\u001b[0m                                 Traceback (most recent call last)",
      "\u001b[0;32m<ipython-input-55-c97e5e35d9c4>\u001b[0m in \u001b[0;36m<module>\u001b[0;34m()\u001b[0m\n\u001b[0;32m----> 1\u001b[0;31m \u001b[0mnum\u001b[0m \u001b[0;34m=\u001b[0m \u001b[0mget_num_items_per_day\u001b[0m\u001b[0;34m(\u001b[0m\u001b[0;34m)\u001b[0m\u001b[0;34m\u001b[0m\u001b[0m\n\u001b[0m",
      "\u001b[0;31mTypeError\u001b[0m: get_num_items_per_day() missing 1 required positional argument: 'df'"
     ]
    }
   ],
   "source": [
    "num = get_num_items_per_day()"
   ]
  },
  {
   "cell_type": "code",
   "execution_count": null,
   "metadata": {},
   "outputs": [],
   "source": [
    "num.head()"
   ]
  },
  {
   "cell_type": "code",
   "execution_count": null,
   "metadata": {},
   "outputs": [],
   "source": [
    "num['added'] = num['total_released'].diff()"
   ]
  },
  {
   "cell_type": "code",
   "execution_count": null,
   "metadata": {},
   "outputs": [],
   "source": [
    "num.index = num['release_timestamp']"
   ]
  },
  {
   "cell_type": "code",
   "execution_count": null,
   "metadata": {},
   "outputs": [],
   "source": [
    "num = num.drop(columns=['release_timestamp', 'total_released'])"
   ]
  },
  {
   "cell_type": "code",
   "execution_count": null,
   "metadata": {},
   "outputs": [],
   "source": [
    "num.sort_values('added', ascending=False, inplace=True)"
   ]
  },
  {
   "cell_type": "code",
   "execution_count": null,
   "metadata": {},
   "outputs": [],
   "source": [
    "expected = num.iloc[:30]"
   ]
  },
  {
   "cell_type": "code",
   "execution_count": null,
   "metadata": {},
   "outputs": [],
   "source": [
    "num.hist(bins=30)"
   ]
  },
  {
   "cell_type": "code",
   "execution_count": null,
   "metadata": {},
   "outputs": [],
   "source": [
    "num.iloc[0:33]"
   ]
  },
  {
   "cell_type": "code",
   "execution_count": null,
   "metadata": {},
   "outputs": [],
   "source": [
    "[x.date().strftime('%d %b %Y') for x in sorted(expected.index)]"
   ]
  },
  {
   "cell_type": "markdown",
   "metadata": {},
   "source": [
    "### Exogenous testing"
   ]
  },
  {
   "cell_type": "code",
   "execution_count": 3,
   "metadata": {},
   "outputs": [],
   "source": [
    "with open('data/cs_df_M.pkl', 'rb') as f:\n",
    "    df = pickle.load(f)"
   ]
  },
  {
   "cell_type": "code",
   "execution_count": 4,
   "metadata": {},
   "outputs": [],
   "source": [
    "from pyculiarity import detect_ts\n",
    "from pyramid.arima import auto_arima"
   ]
  },
  {
   "cell_type": "code",
   "execution_count": 5,
   "metadata": {},
   "outputs": [],
   "source": [
    "anom_val = df[df.item_name=='AWP | Redline (Field-Tested)']"
   ]
  },
  {
   "cell_type": "code",
   "execution_count": 6,
   "metadata": {},
   "outputs": [
    {
     "data": {
      "text/html": [
       "<div>\n",
       "<style scoped>\n",
       "    .dataframe tbody tr th:only-of-type {\n",
       "        vertical-align: middle;\n",
       "    }\n",
       "\n",
       "    .dataframe tbody tr th {\n",
       "        vertical-align: top;\n",
       "    }\n",
       "\n",
       "    .dataframe thead th {\n",
       "        text-align: right;\n",
       "    }\n",
       "</style>\n",
       "<table border=\"1\" class=\"dataframe\">\n",
       "  <thead>\n",
       "    <tr style=\"text-align: right;\">\n",
       "      <th></th>\n",
       "      <th>item_name</th>\n",
       "      <th>date_str</th>\n",
       "      <th>median_sell_price</th>\n",
       "      <th>quantity</th>\n",
       "      <th>est_release_str</th>\n",
       "      <th>days_since_release</th>\n",
       "      <th>gun_type</th>\n",
       "      <th>skin</th>\n",
       "      <th>quality</th>\n",
       "      <th>gun_bool</th>\n",
       "      <th>StatTrak</th>\n",
       "      <th>souvenir</th>\n",
       "      <th>keys</th>\n",
       "      <th>capsules</th>\n",
       "      <th>stickers</th>\n",
       "      <th>date</th>\n",
       "      <th>est_release</th>\n",
       "      <th>timestamp</th>\n",
       "    </tr>\n",
       "  </thead>\n",
       "  <tbody>\n",
       "    <tr>\n",
       "      <th>1070474</th>\n",
       "      <td>AWP | Redline (Field-Tested)</td>\n",
       "      <td>19 Dec 2013</td>\n",
       "      <td>34.722</td>\n",
       "      <td>35</td>\n",
       "      <td>19 Dec 2013</td>\n",
       "      <td>0</td>\n",
       "      <td>AWP</td>\n",
       "      <td>Redline</td>\n",
       "      <td>Field-Tested</td>\n",
       "      <td>True</td>\n",
       "      <td>False</td>\n",
       "      <td>False</td>\n",
       "      <td>False</td>\n",
       "      <td>False</td>\n",
       "      <td>False</td>\n",
       "      <td>1.387433e+09</td>\n",
       "      <td>1.387433e+09</td>\n",
       "      <td>2013-12-19</td>\n",
       "    </tr>\n",
       "    <tr>\n",
       "      <th>1070475</th>\n",
       "      <td>AWP | Redline (Field-Tested)</td>\n",
       "      <td>20 Dec 2013</td>\n",
       "      <td>28.613</td>\n",
       "      <td>61</td>\n",
       "      <td>19 Dec 2013</td>\n",
       "      <td>1</td>\n",
       "      <td>AWP</td>\n",
       "      <td>Redline</td>\n",
       "      <td>Field-Tested</td>\n",
       "      <td>True</td>\n",
       "      <td>False</td>\n",
       "      <td>False</td>\n",
       "      <td>False</td>\n",
       "      <td>False</td>\n",
       "      <td>False</td>\n",
       "      <td>1.387519e+09</td>\n",
       "      <td>1.387433e+09</td>\n",
       "      <td>2013-12-20</td>\n",
       "    </tr>\n",
       "    <tr>\n",
       "      <th>1070476</th>\n",
       "      <td>AWP | Redline (Field-Tested)</td>\n",
       "      <td>21 Dec 2013</td>\n",
       "      <td>21.459</td>\n",
       "      <td>81</td>\n",
       "      <td>19 Dec 2013</td>\n",
       "      <td>2</td>\n",
       "      <td>AWP</td>\n",
       "      <td>Redline</td>\n",
       "      <td>Field-Tested</td>\n",
       "      <td>True</td>\n",
       "      <td>False</td>\n",
       "      <td>False</td>\n",
       "      <td>False</td>\n",
       "      <td>False</td>\n",
       "      <td>False</td>\n",
       "      <td>1.387606e+09</td>\n",
       "      <td>1.387433e+09</td>\n",
       "      <td>2013-12-21</td>\n",
       "    </tr>\n",
       "    <tr>\n",
       "      <th>1070477</th>\n",
       "      <td>AWP | Redline (Field-Tested)</td>\n",
       "      <td>22 Dec 2013</td>\n",
       "      <td>19.542</td>\n",
       "      <td>79</td>\n",
       "      <td>19 Dec 2013</td>\n",
       "      <td>3</td>\n",
       "      <td>AWP</td>\n",
       "      <td>Redline</td>\n",
       "      <td>Field-Tested</td>\n",
       "      <td>True</td>\n",
       "      <td>False</td>\n",
       "      <td>False</td>\n",
       "      <td>False</td>\n",
       "      <td>False</td>\n",
       "      <td>False</td>\n",
       "      <td>1.387692e+09</td>\n",
       "      <td>1.387433e+09</td>\n",
       "      <td>2013-12-22</td>\n",
       "    </tr>\n",
       "    <tr>\n",
       "      <th>1070478</th>\n",
       "      <td>AWP | Redline (Field-Tested)</td>\n",
       "      <td>23 Dec 2013</td>\n",
       "      <td>18.589</td>\n",
       "      <td>92</td>\n",
       "      <td>19 Dec 2013</td>\n",
       "      <td>4</td>\n",
       "      <td>AWP</td>\n",
       "      <td>Redline</td>\n",
       "      <td>Field-Tested</td>\n",
       "      <td>True</td>\n",
       "      <td>False</td>\n",
       "      <td>False</td>\n",
       "      <td>False</td>\n",
       "      <td>False</td>\n",
       "      <td>False</td>\n",
       "      <td>1.387778e+09</td>\n",
       "      <td>1.387433e+09</td>\n",
       "      <td>2013-12-23</td>\n",
       "    </tr>\n",
       "  </tbody>\n",
       "</table>\n",
       "</div>"
      ],
      "text/plain": [
       "                            item_name     date_str  median_sell_price  \\\n",
       "1070474  AWP | Redline (Field-Tested)  19 Dec 2013             34.722   \n",
       "1070475  AWP | Redline (Field-Tested)  20 Dec 2013             28.613   \n",
       "1070476  AWP | Redline (Field-Tested)  21 Dec 2013             21.459   \n",
       "1070477  AWP | Redline (Field-Tested)  22 Dec 2013             19.542   \n",
       "1070478  AWP | Redline (Field-Tested)  23 Dec 2013             18.589   \n",
       "\n",
       "         quantity est_release_str  days_since_release gun_type      skin  \\\n",
       "1070474        35     19 Dec 2013                   0      AWP  Redline    \n",
       "1070475        61     19 Dec 2013                   1      AWP  Redline    \n",
       "1070476        81     19 Dec 2013                   2      AWP  Redline    \n",
       "1070477        79     19 Dec 2013                   3      AWP  Redline    \n",
       "1070478        92     19 Dec 2013                   4      AWP  Redline    \n",
       "\n",
       "              quality  gun_bool  StatTrak  souvenir   keys  capsules  \\\n",
       "1070474  Field-Tested      True     False     False  False     False   \n",
       "1070475  Field-Tested      True     False     False  False     False   \n",
       "1070476  Field-Tested      True     False     False  False     False   \n",
       "1070477  Field-Tested      True     False     False  False     False   \n",
       "1070478  Field-Tested      True     False     False  False     False   \n",
       "\n",
       "         stickers          date   est_release  timestamp  \n",
       "1070474     False  1.387433e+09  1.387433e+09 2013-12-19  \n",
       "1070475     False  1.387519e+09  1.387433e+09 2013-12-20  \n",
       "1070476     False  1.387606e+09  1.387433e+09 2013-12-21  \n",
       "1070477     False  1.387692e+09  1.387433e+09 2013-12-22  \n",
       "1070478     False  1.387778e+09  1.387433e+09 2013-12-23  "
      ]
     },
     "execution_count": 6,
     "metadata": {},
     "output_type": "execute_result"
    }
   ],
   "source": [
    "anom_val.head()"
   ]
  },
  {
   "cell_type": "code",
   "execution_count": null,
   "metadata": {},
   "outputs": [],
   "source": [
    "auto_arima\n",
    "df_val = anom_val[['timestamp', 'median_sell_price']]\n",
    "model = auto_arima(df_val['median_sell_price'][30:], exogenous=anom_val['quantity'][30:].values.reshape(-1,1))\n",
    "df_detect = pd.DataFrame({'timestamp': df_val['timestamp'][31:].values, 'value':model.predict_in_sample(start=1, exogenous=anom_val['quantity'][31:].values.reshape(-1,1), dynamic=True)})\n",
    "results = detect_ts(df_detect, max_anoms=0.3, alpha=0.001, direction='both', only_last=None,\n",
    "                     longterm=True, verbose=True, piecewise_median_period_weeks=3)"
   ]
  },
  {
   "cell_type": "code",
   "execution_count": null,
   "metadata": {},
   "outputs": [],
   "source": [
    "plt.style.use('seaborn-whitegrid')\n",
    "fig, ax = plt.subplots(figsize=(24,9))\n",
    "fig.autofmt_xdate(rotation=45)\n",
    "ax.plot(anom_val.timestamp[31:], anom_val.median_sell_price[31:], zorder=1)\n",
    "# ax.plot(anom_val.timestamp[31:], model.predict_in_sample(start=1, exogenous=anom_val['quantity'][31:].values.reshape(-1,1)), c='black', zorder=1)\n",
    "ax.scatter(results['anoms'].index, anom_val.median_sell_price[[t in results['anoms'].index for t in anom_val.timestamp.values]], c='red', alpha=0.5, zorder=2)\n",
    "ax.set_xlabel('Date', fontsize=16)\n",
    "ax.set_ylabel('Median Price ($)', fontsize=16)\n",
    "ax.set_title('AWP | Redline (Field-Tested) Anomaly Detection', fontsize=18)"
   ]
  },
  {
   "cell_type": "code",
   "execution_count": null,
   "metadata": {},
   "outputs": [],
   "source": [
    "even_quant = np.array([[np.median(anom_val['quantity'][31:].values.reshape(-1,1))]*len(anom_val['quantity'][31:].values.reshape(-1,1))])"
   ]
  },
  {
   "cell_type": "code",
   "execution_count": null,
   "metadata": {},
   "outputs": [],
   "source": [
    "zero_quant = np.array([[0]*len(anom_val['quantity'][31:].values.reshape(-1,1))])"
   ]
  },
  {
   "cell_type": "code",
   "execution_count": null,
   "metadata": {},
   "outputs": [],
   "source": [
    "df_val = anom_val[['timestamp', 'median_sell_price']]\n",
    "model = auto_arima(df_val['median_sell_price'][30:], exogenous=anom_val['quantity'][30:].values.reshape(-1,1), m=4)\n",
    "df_detect = pd.DataFrame({'timestamp': df_val['timestamp'][31:].values, 'value':model.predict_in_sample(start=1, exogenous=even_quant, dynamic=True)})\n",
    "results = detect_ts(df_detect, max_anoms=0.3, alpha=0.001, direction='both', only_last=None,\n",
    "                     longterm=True, verbose=True, piecewise_median_period_weeks=3)"
   ]
  },
  {
   "cell_type": "code",
   "execution_count": null,
   "metadata": {},
   "outputs": [],
   "source": [
    "plt.style.use('seaborn-whitegrid')\n",
    "fig, ax = plt.subplots(figsize=(24,9))\n",
    "fig.autofmt_xdate(rotation=45)\n",
    "# ax.plot(anom_val.timestamp[31:], anom_val.median_sell_price[31:], zorder=1)\n",
    "ax.plot(anom_val.timestamp[31:], model.predict_in_sample(start=1, exogenous=zero_quant, dynamic=True), c='blue', zorder=1)\n",
    "ax.plot(anom_val.timestamp[31:], model.predict_in_sample(start=1, exogenous=anom_val['quantity'][31:].values.reshape(-1,1), dynamic=True), c='black', zorder=1)\n",
    "# ax.scatter(results['anoms'].index, anom_val.median_sell_price[[t in results['anoms'].index for t in anom_val.timestamp.values]], c='red', alpha=0.5, zorder=2)\n",
    "ax.scatter(results['anoms'].index, results['anoms']['anoms'], c='red', alpha=0.5, zorder=2)\n",
    "ax.set_xlabel('Date', fontsize=16)\n",
    "ax.set_ylabel('Median Price ($)', fontsize=16)\n",
    "ax.set_title('AWP | Redline (Field-Tested) Anomaly Detection', fontsize=18)\n",
    "model.summary()"
   ]
  },
  {
   "cell_type": "code",
   "execution_count": null,
   "metadata": {},
   "outputs": [],
   "source": [
    "import statsmodels.api as sm"
   ]
  },
  {
   "cell_type": "code",
   "execution_count": null,
   "metadata": {},
   "outputs": [],
   "source": [
    "model = auto_arima(df_val['median_sell_price'][30:], start_p=7, max_p=10, max_q=10, max_order=20, exogenous=anom_val['quantity'][30:].values.reshape(-1,1))\n",
    "fig, ax = plt.subplots(2,1,figsize=(24, 18))\n",
    "sm.graphics.tsa.plot_acf(model.resid(), lags=50, ax=ax[0])\n",
    "_=sm.graphics.tsa.plot_pacf(model.resid(), lags=50, ax=ax[1])\n",
    "model.summary()"
   ]
  },
  {
   "cell_type": "code",
   "execution_count": null,
   "metadata": {},
   "outputs": [],
   "source": [
    "model.summary()"
   ]
  },
  {
   "cell_type": "code",
   "execution_count": null,
   "metadata": {},
   "outputs": [],
   "source": [
    "model = auto_arima(df_val['median_sell_price'][30:], start_q=7, max_p=10, max_q=10, max_order=20, exogenous=anom_val['quantity'][30:].values.reshape(-1,1))\n",
    "fig, ax = plt.subplots(2,1,figsize=(24, 18))\n",
    "sm.graphics.tsa.plot_acf(model.resid(), lags=50, ax=ax[0])\n",
    "_=sm.graphics.tsa.plot_pacf(model.resid(), lags=50, ax=ax[1])\n",
    "model.summary()"
   ]
  },
  {
   "cell_type": "code",
   "execution_count": null,
   "metadata": {},
   "outputs": [],
   "source": [
    "model = auto_arima(df_val['median_sell_price'][30:], start_p=0, start_q=0, d=None,\n",
    "                   max_p=10, max_q=10, max_d=10, max_order=20, stepwise=False, n_jobs=-1, m=12, error_action='ignore')\n",
    "fig, ax = plt.subplots(2,1,figsize=(24, 18))\n",
    "sm.graphics.tsa.plot_acf(model.resid(), lags=50, ax=ax[0])\n",
    "_=sm.graphics.tsa.plot_pacf(model.resid(), lags=50, ax=ax[1])\n",
    "model.summary()"
   ]
  },
  {
   "cell_type": "code",
   "execution_count": null,
   "metadata": {},
   "outputs": [],
   "source": [
    "model = auto_arima(df_val['median_sell_price'][30:], start_p=0, start_q=0, d=None,\n",
    "                   max_p=10, max_q=10, max_d=10, max_order=20, m=4, exogenous=anom_val['quantity'][30:].values.reshape(-1,1),\n",
    "                   stepwise=False, n_jobs=-1, error_action='ignore')\n",
    "fig, ax = plt.subplots(2,1,figsize=(24, 18))\n",
    "sm.graphics.tsa.plot_acf(model.resid(), lags=50, ax=ax[0])\n",
    "_=sm.graphics.tsa.plot_pacf(model.resid(), lags=50, ax=ax[1])\n",
    "model.summary()"
   ]
  },
  {
   "cell_type": "code",
   "execution_count": null,
   "metadata": {},
   "outputs": [],
   "source": [
    "model = auto_arima(df_val['median_sell_price'][30:], start_p=0, start_q=2, d=1,\n",
    "                   max_p=10, max_q=10, max_d=10, max_order=20, m=1, exogenous=anom_val['quantity'][30:].values.reshape(-1,1),\n",
    "                   stepwise=False, n_jobs=-1, error_action='ignore', random=True)\n",
    "model.summary()"
   ]
  },
  {
   "cell_type": "code",
   "execution_count": null,
   "metadata": {},
   "outputs": [],
   "source": [
    "endog = df_val['median_sell_price'][30:]\n",
    "exog = anom_val['quantity'][30:]"
   ]
  },
  {
   "cell_type": "code",
   "execution_count": null,
   "metadata": {},
   "outputs": [],
   "source": [
    "endog.index = df_val['timestamp'][30:]\n",
    "exog.index = anom_val['timestamp'][30:]"
   ]
  },
  {
   "cell_type": "code",
   "execution_count": null,
   "metadata": {},
   "outputs": [],
   "source": [
    "manual_arima = ARIMA(endog, order=(0,1,2))"
   ]
  },
  {
   "cell_type": "code",
   "execution_count": null,
   "metadata": {},
   "outputs": [],
   "source": [
    "manual_arima = manual_arima.fit()"
   ]
  },
  {
   "cell_type": "code",
   "execution_count": null,
   "metadata": {},
   "outputs": [],
   "source": [
    "fig, ax = plt.subplots(figsize=(20,9))\n",
    "ax.plot(endog.index[1:], manual_arima.predict(typ='levels'))\n",
    "ax.plot(endog.index[1:], model.predict_in_sample(exogenous=exog.values.reshape(-1,1), start=1))"
   ]
  },
  {
   "cell_type": "code",
   "execution_count": null,
   "metadata": {},
   "outputs": [],
   "source": [
    "model.summary()"
   ]
  },
  {
   "cell_type": "code",
   "execution_count": null,
   "metadata": {},
   "outputs": [],
   "source": [
    "df_val.head()"
   ]
  },
  {
   "cell_type": "code",
   "execution_count": null,
   "metadata": {},
   "outputs": [],
   "source": [
    "anom_val.head()"
   ]
  },
  {
   "cell_type": "code",
   "execution_count": null,
   "metadata": {},
   "outputs": [],
   "source": []
  }
 ],
 "metadata": {
  "kernelspec": {
   "display_name": "Python 3",
   "language": "python",
   "name": "python3"
  },
  "language_info": {
   "codemirror_mode": {
    "name": "ipython",
    "version": 3
   },
   "file_extension": ".py",
   "mimetype": "text/x-python",
   "name": "python",
   "nbconvert_exporter": "python",
   "pygments_lexer": "ipython3",
   "version": "3.6.6"
  }
 },
 "nbformat": 4,
 "nbformat_minor": 2
}
