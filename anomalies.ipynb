{
 "cells": [
  {
   "cell_type": "code",
   "execution_count": 17,
   "metadata": {},
   "outputs": [],
   "source": [
    "import numpy as np\n",
    "import pandas as pd\n",
    "import matplotlib.pyplot as plt\n",
    "from pandas.tools.plotting import autocorrelation_plot\n",
    "from pymongo import MongoClient\n",
    "import time\n",
    "import datetime\n",
    "import os\n",
    "from pyculiarity import detect_ts\n",
    "import statsmodels.api as sm\n",
    "from statsmodels.tsa.statespace.sarimax import SARIMAX\n",
    "from statsmodels.tsa.arima_model import ARIMA, ARIMAResults\n",
    "from statsmodels.tsa.arima_process import ArmaProcess\n",
    "from statsmodels.stats.diagnostic import acorr_ljungbox\n",
    "from scipy.cluster.hierarchy import dendrogram, linkage\n",
    "from scipy.spatial.distance import pdist, squareform\n",
    "from sklearn.preprocessing import StandardScaler\n",
    "from dendrogram_class import Dendrogram, make_dendrogram, mask_mins\n",
    "import pickle\n",
    "import itertools\n",
    "from collections import defaultdict, Counter\n",
    "import scipy.stats as scs\n",
    "from scipy import signal\n",
    "from scipy.spatial.distance import pdist, squareform\n",
    "from sklearn.cluster import KMeans \n",
    "from sklearn.metrics import silhouette_score, silhouette_samples\n",
    "from IPython.display import HTML, display\n",
    "import warnings\n",
    "warnings.filterwarnings('ignore')"
   ]
  },
  {
   "cell_type": "code",
   "execution_count": 18,
   "metadata": {},
   "outputs": [
    {
     "name": "stdout",
     "output_type": "stream",
     "text": [
      "The autoreload extension is already loaded. To reload it, use:\n",
      "  %reload_ext autoreload\n"
     ]
    }
   ],
   "source": [
    "%matplotlib inline\n",
    "%load_ext autoreload\n",
    "%autoreload 2"
   ]
  },
  {
   "cell_type": "code",
   "execution_count": 19,
   "metadata": {},
   "outputs": [],
   "source": [
    "with open('data/cs_df_M.pkl', 'rb') as f:\n",
    "    df = pickle.load(f)"
   ]
  },
  {
   "cell_type": "code",
   "execution_count": 20,
   "metadata": {},
   "outputs": [],
   "source": [
    "df['desc'] = df['item_name'] + ' ' + df['est_release_str']"
   ]
  },
  {
   "cell_type": "code",
   "execution_count": 39,
   "metadata": {},
   "outputs": [],
   "source": [
    "anomaly_full = df[df.days_since_release > 30]"
   ]
  },
  {
   "cell_type": "code",
   "execution_count": 40,
   "metadata": {},
   "outputs": [],
   "source": [
    "anomaly_full = mask_mins(anomaly_full, 0.1, 50)\n",
    "anomaly_full = anomaly_full[anomaly_full.est_release < time.mktime(datetime.datetime.strptime('15 February 2018', \"%d %B %Y\").timetuple())] # not enough points\n",
    "items = anomaly_full.item_name.unique()"
   ]
  },
  {
   "cell_type": "code",
   "execution_count": 41,
   "metadata": {},
   "outputs": [],
   "source": [
    "anom_list = []\n",
    "for item in items:\n",
    "    temp_df = anomaly_full[anomaly_full.item_name == item]\n",
    "    temp_df = temp_df[['timestamp', 'median_sell_price']].reset_index(drop=True)\n",
    "    results = detect_ts(temp_df, max_anoms=0.3, alpha=0.001, direction='both', only_last=None, longterm=True, verbose=True, piecewise_median_period_weeks=3)\n",
    "    if len(results['anoms'].index)>1 and results['anoms'].index[0] != temp_df['timestamp'][0]:\n",
    "        anom_list += results['anoms'].index[1:]\n",
    "    elif len(results['anoms'].index) > 0:\n",
    "        anom_list += results['anoms'].index"
   ]
  },
  {
   "cell_type": "code",
   "execution_count": 44,
   "metadata": {},
   "outputs": [
    {
     "name": "stdout",
     "output_type": "stream",
     "text": [
      "('22 Sep 2015', 313)\n",
      "('17 Oct 2015', 208)\n",
      "('04 Nov 2015', 207)\n",
      "('29 Nov 2015', 602)\n",
      "('09 Feb 2016', 254)\n",
      "('15 Mar 2016', 486)\n",
      "('21 May 2016', 296)\n",
      "('10 Jul 2016', 235)\n",
      "('04 Oct 2016', 202)\n",
      "('30 Oct 2016', 570)\n",
      "('27 Nov 2016', 718)\n",
      "('02 Jan 2017', 333)\n",
      "('23 Jan 2017', 294)\n",
      "('16 Feb 2017', 230)\n",
      "('18 Mar 2017', 188)\n",
      "('25 Mar 2017', 263)\n",
      "('27 May 2017', 678)\n",
      "('24 Jun 2017', 503)\n",
      "('03 Aug 2017', 249)\n",
      "('23 Sep 2017', 284)\n",
      "('23 Oct 2017', 213)\n",
      "('30 Oct 2017', 338)\n",
      "('26 Nov 2017', 873)\n",
      "('21 Dec 2017', 273)\n",
      "('09 Jan 2018', 199)\n",
      "('28 Jan 2018', 217)\n",
      "('21 Feb 2018', 289)\n",
      "('02 Apr 2018', 253)\n",
      "('11 Jun 2018', 209)\n",
      "('26 Jun 2018', 790)\n"
     ]
    }
   ],
   "source": [
    "anom_delta_dict = {}\n",
    "for day in set(anom_list):\n",
    "    start, end = day - datetime.timedelta(3), day + datetime.timedelta(3)\n",
    "    anom_delta_dict[day]= sum(x >= start and x <= end for x in anom_list)\n",
    "sorted_list = sorted(anom_delta_dict.items(), key=lambda x: x[1], reverse=True)\n",
    "return_list = [sorted_list[0]]\n",
    "for day in sorted_list[1:]:\n",
    "    start, end = day[0] - datetime.timedelta(6), day[0] + datetime.timedelta(6)\n",
    "    if any(x[0] >= start and x[0] <= end for x in return_list):\n",
    "        continue\n",
    "    else:\n",
    "        return_list.append(day)\n",
    "print(*[(x.date().strftime('%d %b %Y'), y) for x, y in sorted(return_list[:30])], sep='\\n')"
   ]
  },
  {
   "cell_type": "code",
   "execution_count": 45,
   "metadata": {},
   "outputs": [
    {
     "name": "stdout",
     "output_type": "stream",
     "text": [
      "('26 Nov 2017', 873)\n",
      "('26 Jun 2018', 790)\n",
      "('27 Nov 2016', 718)\n",
      "('27 May 2017', 678)\n",
      "('29 Nov 2015', 602)\n",
      "('30 Oct 2016', 570)\n",
      "('24 Jun 2017', 503)\n",
      "('15 Mar 2016', 486)\n",
      "('30 Oct 2017', 338)\n",
      "('02 Jan 2017', 333)\n",
      "('22 Sep 2015', 313)\n",
      "('21 May 2016', 296)\n",
      "('23 Jan 2017', 294)\n",
      "('21 Feb 2018', 289)\n",
      "('23 Sep 2017', 284)\n",
      "('21 Dec 2017', 273)\n",
      "('25 Mar 2017', 263)\n",
      "('09 Feb 2016', 254)\n",
      "('02 Apr 2018', 253)\n",
      "('03 Aug 2017', 249)\n",
      "('10 Jul 2016', 235)\n",
      "('16 Feb 2017', 230)\n",
      "('28 Jan 2018', 217)\n",
      "('23 Oct 2017', 213)\n",
      "('11 Jun 2018', 209)\n",
      "('17 Oct 2015', 208)\n",
      "('04 Nov 2015', 207)\n",
      "('04 Oct 2016', 202)\n",
      "('09 Jan 2018', 199)\n",
      "('18 Mar 2017', 188)\n"
     ]
    }
   ],
   "source": [
    "print(*[(x.date().strftime('%d %b %Y'), y) for x, y in return_list[:30]], sep='\\n')"
   ]
  },
  {
   "cell_type": "markdown",
   "metadata": {},
   "source": [
    "### What happens if I weight the anomalies by the quantity sold?"
   ]
  },
  {
   "cell_type": "code",
   "execution_count": 39,
   "metadata": {},
   "outputs": [],
   "source": [
    "anomaly_full = df[df.days_since_release > 30]"
   ]
  },
  {
   "cell_type": "code",
   "execution_count": 40,
   "metadata": {},
   "outputs": [],
   "source": [
    "anomaly_full = mask_mins(anomaly_full, 0.1, 25)\n",
    "anomaly_full = anomaly_full[anomaly_full.est_release < time.mktime(datetime.datetime.strptime('15 February 2018', \"%d %B %Y\").timetuple())] # not enough points\n",
    "items = anomaly_full.item_name.unique()"
   ]
  },
  {
   "cell_type": "code",
   "execution_count": 22,
   "metadata": {},
   "outputs": [],
   "source": [
    "def anom_detect(df, item):\n",
    "    fit_df = df[df.item_name == item]\n",
    "    fit_df = fit_df[['timestamp', 'median_sell_price']].reset_index(drop=True)\n",
    "    return detect_ts(fit_df, max_anoms=0.3, alpha=0.001, direction='both', only_last=None, longterm=True, verbose=True, piecewise_median_period_weeks=3)"
   ]
  },
  {
   "cell_type": "code",
   "execution_count": 146,
   "metadata": {},
   "outputs": [],
   "source": [
    "anom_dict = defaultdict(lambda: 0)\n",
    "for item in items:\n",
    "    temp_df = anomaly_full[anomaly_full.item_name == item]\n",
    "    results = anom_detect(temp_df, item)\n",
    "    if len(results['anoms'].index)>0:\n",
    "        for anomaly in results['anoms'].index:\n",
    "            if anomaly != temp_df['date'].iloc[0]:\n",
    "                anom_dict[anomaly] += temp_df[[datetime.datetime.fromtimestamp(t) == anomaly for t in temp_df.date]].quantity.values[0]\n",
    "                #anom_dict[anomaly + datetime.timedelta(3)] += temp_df[temp_df.date == anomaly.timestamp()]\n",
    "                #anom_dict[anomaly - datetime.timedelta(3)] += temp_df[temp_df.date == anomaly.timestamp()]"
   ]
  },
  {
   "cell_type": "code",
   "execution_count": 148,
   "metadata": {},
   "outputs": [
    {
     "data": {
      "text/plain": [
       "[(Timestamp('2015-11-27 00:00:00'), 215822),\n",
       " (Timestamp('2015-11-28 00:00:00'), 196910),\n",
       " (Timestamp('2015-11-29 00:00:00'), 173462),\n",
       " (Timestamp('2015-11-26 00:00:00'), 158112),\n",
       " (Timestamp('2015-11-01 00:00:00'), 153567),\n",
       " (Timestamp('2017-05-24 00:00:00'), 152895),\n",
       " (Timestamp('2015-09-20 00:00:00'), 147283),\n",
       " (Timestamp('2015-05-27 00:00:00'), 145073),\n",
       " (Timestamp('2015-11-30 00:00:00'), 127708),\n",
       " (Timestamp('2015-09-22 00:00:00'), 125326),\n",
       " (Timestamp('2015-09-25 00:00:00'), 107371),\n",
       " (Timestamp('2015-09-21 00:00:00'), 106821),\n",
       " (Timestamp('2015-11-02 00:00:00'), 105753),\n",
       " (Timestamp('2015-05-01 00:00:00'), 98163),\n",
       " (Timestamp('2015-09-23 00:00:00'), 96418),\n",
       " (Timestamp('2015-09-19 00:00:00'), 95884),\n",
       " (Timestamp('2015-03-15 00:00:00'), 95731),\n",
       " (Timestamp('2015-09-24 00:00:00'), 83853),\n",
       " (Timestamp('2017-05-25 00:00:00'), 79441),\n",
       " (Timestamp('2015-03-16 00:00:00'), 79406),\n",
       " (Timestamp('2015-05-28 00:00:00'), 79039),\n",
       " (Timestamp('2015-09-26 00:00:00'), 76362),\n",
       " (Timestamp('2015-10-17 00:00:00'), 76270),\n",
       " (Timestamp('2016-03-14 00:00:00'), 74876),\n",
       " (Timestamp('2015-12-01 00:00:00'), 73394),\n",
       " (Timestamp('2016-02-18 00:00:00'), 71698),\n",
       " (Timestamp('2016-11-26 00:00:00'), 70913),\n",
       " (Timestamp('2016-03-15 00:00:00'), 69536),\n",
       " (Timestamp('2016-03-13 00:00:00'), 69426),\n",
       " (Timestamp('2015-12-23 00:00:00'), 69157)]"
      ]
     },
     "execution_count": 148,
     "metadata": {},
     "output_type": "execute_result"
    }
   ],
   "source": [
    "sorted(anom_dict.items(), key=lambda x: x[1], reverse=True)[:30]"
   ]
  },
  {
   "cell_type": "code",
   "execution_count": 44,
   "metadata": {},
   "outputs": [
    {
     "name": "stdout",
     "output_type": "stream",
     "text": [
      "('22 Sep 2015', 313)\n",
      "('17 Oct 2015', 208)\n",
      "('04 Nov 2015', 207)\n",
      "('29 Nov 2015', 602)\n",
      "('09 Feb 2016', 254)\n",
      "('15 Mar 2016', 486)\n",
      "('21 May 2016', 296)\n",
      "('10 Jul 2016', 235)\n",
      "('04 Oct 2016', 202)\n",
      "('30 Oct 2016', 570)\n",
      "('27 Nov 2016', 718)\n",
      "('02 Jan 2017', 333)\n",
      "('23 Jan 2017', 294)\n",
      "('16 Feb 2017', 230)\n",
      "('18 Mar 2017', 188)\n",
      "('25 Mar 2017', 263)\n",
      "('27 May 2017', 678)\n",
      "('24 Jun 2017', 503)\n",
      "('03 Aug 2017', 249)\n",
      "('23 Sep 2017', 284)\n",
      "('23 Oct 2017', 213)\n",
      "('30 Oct 2017', 338)\n",
      "('26 Nov 2017', 873)\n",
      "('21 Dec 2017', 273)\n",
      "('09 Jan 2018', 199)\n",
      "('28 Jan 2018', 217)\n",
      "('21 Feb 2018', 289)\n",
      "('02 Apr 2018', 253)\n",
      "('11 Jun 2018', 209)\n",
      "('26 Jun 2018', 790)\n"
     ]
    }
   ],
   "source": [
    "anom_delta_dict = {}\n",
    "for day in set(anom_list):\n",
    "    start, end = day - datetime.timedelta(3), day + datetime.timedelta(3)\n",
    "    anom_delta_dict[day]= sum(x >= start and x <= end for x in anom_list)\n",
    "sorted_list = sorted(anom_delta_dict.items(), key=lambda x: x[1], reverse=True)\n",
    "return_list = [sorted_list[0]]\n",
    "for day in sorted_list[1:]:\n",
    "    start, end = day[0] - datetime.timedelta(6), day[0] + datetime.timedelta(6)\n",
    "    if any(x[0] >= start and x[0] <= end for x in return_list):\n",
    "        continue\n",
    "    else:\n",
    "        return_list.append(day)\n",
    "print(*[(x.date().strftime('%d %b %Y'), y) for x, y in sorted(return_list[:30])], sep='\\n')"
   ]
  },
  {
   "cell_type": "code",
   "execution_count": 45,
   "metadata": {},
   "outputs": [
    {
     "name": "stdout",
     "output_type": "stream",
     "text": [
      "('26 Nov 2017', 873)\n",
      "('26 Jun 2018', 790)\n",
      "('27 Nov 2016', 718)\n",
      "('27 May 2017', 678)\n",
      "('29 Nov 2015', 602)\n",
      "('30 Oct 2016', 570)\n",
      "('24 Jun 2017', 503)\n",
      "('15 Mar 2016', 486)\n",
      "('30 Oct 2017', 338)\n",
      "('02 Jan 2017', 333)\n",
      "('22 Sep 2015', 313)\n",
      "('21 May 2016', 296)\n",
      "('23 Jan 2017', 294)\n",
      "('21 Feb 2018', 289)\n",
      "('23 Sep 2017', 284)\n",
      "('21 Dec 2017', 273)\n",
      "('25 Mar 2017', 263)\n",
      "('09 Feb 2016', 254)\n",
      "('02 Apr 2018', 253)\n",
      "('03 Aug 2017', 249)\n",
      "('10 Jul 2016', 235)\n",
      "('16 Feb 2017', 230)\n",
      "('28 Jan 2018', 217)\n",
      "('23 Oct 2017', 213)\n",
      "('11 Jun 2018', 209)\n",
      "('17 Oct 2015', 208)\n",
      "('04 Nov 2015', 207)\n",
      "('04 Oct 2016', 202)\n",
      "('09 Jan 2018', 199)\n",
      "('18 Mar 2017', 188)\n"
     ]
    }
   ],
   "source": [
    "print(*[(x.date().strftime('%d %b %Y'), y) for x, y in return_list[:30]], sep='\\n')"
   ]
  },
  {
   "cell_type": "markdown",
   "metadata": {},
   "source": [
    "#### Investigating November 2015"
   ]
  },
  {
   "cell_type": "code",
   "execution_count": 8,
   "metadata": {},
   "outputs": [
    {
     "data": {
      "text/html": [
       "<div>\n",
       "<style scoped>\n",
       "    .dataframe tbody tr th:only-of-type {\n",
       "        vertical-align: middle;\n",
       "    }\n",
       "\n",
       "    .dataframe tbody tr th {\n",
       "        vertical-align: top;\n",
       "    }\n",
       "\n",
       "    .dataframe thead th {\n",
       "        text-align: right;\n",
       "    }\n",
       "</style>\n",
       "<table border=\"1\" class=\"dataframe\">\n",
       "  <thead>\n",
       "    <tr style=\"text-align: right;\">\n",
       "      <th></th>\n",
       "      <th>item_name</th>\n",
       "      <th>date_str</th>\n",
       "      <th>median_sell_price</th>\n",
       "      <th>quantity</th>\n",
       "      <th>est_release_str</th>\n",
       "      <th>days_since_release</th>\n",
       "      <th>gun_type</th>\n",
       "      <th>skin</th>\n",
       "      <th>quality</th>\n",
       "      <th>gun_bool</th>\n",
       "      <th>StatTrak</th>\n",
       "      <th>souvenir</th>\n",
       "      <th>keys</th>\n",
       "      <th>capsules</th>\n",
       "      <th>stickers</th>\n",
       "      <th>date</th>\n",
       "      <th>est_release</th>\n",
       "      <th>timestamp</th>\n",
       "    </tr>\n",
       "  </thead>\n",
       "  <tbody>\n",
       "    <tr>\n",
       "      <th>3802</th>\n",
       "      <td>Dual Berettas | Moon in Libra (Field-Tested)</td>\n",
       "      <td>27 May 2015</td>\n",
       "      <td>0.285</td>\n",
       "      <td>1573</td>\n",
       "      <td>27 May 2015</td>\n",
       "      <td>0</td>\n",
       "      <td>Dual Berettas</td>\n",
       "      <td>Moon in Libra</td>\n",
       "      <td>Field-Tested</td>\n",
       "      <td>True</td>\n",
       "      <td>False</td>\n",
       "      <td>False</td>\n",
       "      <td>False</td>\n",
       "      <td>False</td>\n",
       "      <td>False</td>\n",
       "      <td>1.432703e+09</td>\n",
       "      <td>1.432703e+09</td>\n",
       "      <td>2015-05-27</td>\n",
       "    </tr>\n",
       "    <tr>\n",
       "      <th>3803</th>\n",
       "      <td>Dual Berettas | Moon in Libra (Field-Tested)</td>\n",
       "      <td>28 May 2015</td>\n",
       "      <td>0.278</td>\n",
       "      <td>1488</td>\n",
       "      <td>27 May 2015</td>\n",
       "      <td>1</td>\n",
       "      <td>Dual Berettas</td>\n",
       "      <td>Moon in Libra</td>\n",
       "      <td>Field-Tested</td>\n",
       "      <td>True</td>\n",
       "      <td>False</td>\n",
       "      <td>False</td>\n",
       "      <td>False</td>\n",
       "      <td>False</td>\n",
       "      <td>False</td>\n",
       "      <td>1.432789e+09</td>\n",
       "      <td>1.432703e+09</td>\n",
       "      <td>2015-05-28</td>\n",
       "    </tr>\n",
       "    <tr>\n",
       "      <th>3804</th>\n",
       "      <td>Dual Berettas | Moon in Libra (Field-Tested)</td>\n",
       "      <td>29 May 2015</td>\n",
       "      <td>0.373</td>\n",
       "      <td>877</td>\n",
       "      <td>27 May 2015</td>\n",
       "      <td>2</td>\n",
       "      <td>Dual Berettas</td>\n",
       "      <td>Moon in Libra</td>\n",
       "      <td>Field-Tested</td>\n",
       "      <td>True</td>\n",
       "      <td>False</td>\n",
       "      <td>False</td>\n",
       "      <td>False</td>\n",
       "      <td>False</td>\n",
       "      <td>False</td>\n",
       "      <td>1.432876e+09</td>\n",
       "      <td>1.432703e+09</td>\n",
       "      <td>2015-05-29</td>\n",
       "    </tr>\n",
       "    <tr>\n",
       "      <th>3805</th>\n",
       "      <td>Dual Berettas | Moon in Libra (Field-Tested)</td>\n",
       "      <td>30 May 2015</td>\n",
       "      <td>0.445</td>\n",
       "      <td>663</td>\n",
       "      <td>27 May 2015</td>\n",
       "      <td>3</td>\n",
       "      <td>Dual Berettas</td>\n",
       "      <td>Moon in Libra</td>\n",
       "      <td>Field-Tested</td>\n",
       "      <td>True</td>\n",
       "      <td>False</td>\n",
       "      <td>False</td>\n",
       "      <td>False</td>\n",
       "      <td>False</td>\n",
       "      <td>False</td>\n",
       "      <td>1.432962e+09</td>\n",
       "      <td>1.432703e+09</td>\n",
       "      <td>2015-05-30</td>\n",
       "    </tr>\n",
       "    <tr>\n",
       "      <th>3806</th>\n",
       "      <td>Dual Berettas | Moon in Libra (Field-Tested)</td>\n",
       "      <td>31 May 2015</td>\n",
       "      <td>0.526</td>\n",
       "      <td>479</td>\n",
       "      <td>27 May 2015</td>\n",
       "      <td>4</td>\n",
       "      <td>Dual Berettas</td>\n",
       "      <td>Moon in Libra</td>\n",
       "      <td>Field-Tested</td>\n",
       "      <td>True</td>\n",
       "      <td>False</td>\n",
       "      <td>False</td>\n",
       "      <td>False</td>\n",
       "      <td>False</td>\n",
       "      <td>False</td>\n",
       "      <td>1.433048e+09</td>\n",
       "      <td>1.432703e+09</td>\n",
       "      <td>2015-05-31</td>\n",
       "    </tr>\n",
       "  </tbody>\n",
       "</table>\n",
       "</div>"
      ],
      "text/plain": [
       "                                         item_name     date_str  \\\n",
       "3802  Dual Berettas | Moon in Libra (Field-Tested)  27 May 2015   \n",
       "3803  Dual Berettas | Moon in Libra (Field-Tested)  28 May 2015   \n",
       "3804  Dual Berettas | Moon in Libra (Field-Tested)  29 May 2015   \n",
       "3805  Dual Berettas | Moon in Libra (Field-Tested)  30 May 2015   \n",
       "3806  Dual Berettas | Moon in Libra (Field-Tested)  31 May 2015   \n",
       "\n",
       "      median_sell_price  quantity est_release_str  days_since_release  \\\n",
       "3802              0.285      1573     27 May 2015                   0   \n",
       "3803              0.278      1488     27 May 2015                   1   \n",
       "3804              0.373       877     27 May 2015                   2   \n",
       "3805              0.445       663     27 May 2015                   3   \n",
       "3806              0.526       479     27 May 2015                   4   \n",
       "\n",
       "           gun_type            skin       quality  gun_bool  StatTrak  \\\n",
       "3802  Dual Berettas  Moon in Libra   Field-Tested      True     False   \n",
       "3803  Dual Berettas  Moon in Libra   Field-Tested      True     False   \n",
       "3804  Dual Berettas  Moon in Libra   Field-Tested      True     False   \n",
       "3805  Dual Berettas  Moon in Libra   Field-Tested      True     False   \n",
       "3806  Dual Berettas  Moon in Libra   Field-Tested      True     False   \n",
       "\n",
       "      souvenir   keys  capsules  stickers          date   est_release  \\\n",
       "3802     False  False     False     False  1.432703e+09  1.432703e+09   \n",
       "3803     False  False     False     False  1.432789e+09  1.432703e+09   \n",
       "3804     False  False     False     False  1.432876e+09  1.432703e+09   \n",
       "3805     False  False     False     False  1.432962e+09  1.432703e+09   \n",
       "3806     False  False     False     False  1.433048e+09  1.432703e+09   \n",
       "\n",
       "      timestamp  \n",
       "3802 2015-05-27  \n",
       "3803 2015-05-28  \n",
       "3804 2015-05-29  \n",
       "3805 2015-05-30  \n",
       "3806 2015-05-31  "
      ]
     },
     "execution_count": 8,
     "metadata": {},
     "output_type": "execute_result"
    }
   ],
   "source": [
    "df[df.est_release < time.mktime(datetime.datetime.strptime('1 November 2015', \"%d %B %Y\").timetuple())].head()"
   ]
  },
  {
   "cell_type": "code",
   "execution_count": 13,
   "metadata": {},
   "outputs": [],
   "source": [
    "x = df[df.item_name=='Dual Berettas | Moon in Libra (Field-Tested)']['timestamp']"
   ]
  },
  {
   "cell_type": "code",
   "execution_count": 6,
   "metadata": {},
   "outputs": [],
   "source": [
    "y = df[df.item_name=='Dual Berettas | Moon in Libra (Field-Tested)'].median_sell_price"
   ]
  },
  {
   "cell_type": "code",
   "execution_count": 16,
   "metadata": {},
   "outputs": [
    {
     "data": {
      "text/plain": [
       "<matplotlib.collections.PathCollection at 0x1c213e6b00>"
      ]
     },
     "execution_count": 16,
     "metadata": {},
     "output_type": "execute_result"
    },
    {
     "data": {
      "image/png": "[encoded data removed]",
      "text/plain": [
       "<Figure size 1584x648 with 1 Axes>"
      ]
     },
     "metadata": {},
     "output_type": "display_data"
    }
   ],
   "source": [
    "results = anom_detect(df[df['item_name'] == 'Dual Berettas | Moon in Libra (Field-Tested)'], 'Dual Berettas | Moon in Libra (Field-Tested)')\n",
    "fig, ax = plt.subplots(figsize=(22, 9))\n",
    "ax.plot(x, y)\n",
    "ax.plot([np.datetime64(datetime.datetime.fromtimestamp(time.mktime(datetime.datetime.strptime('1 November 2015', \"%d %B %Y\").timetuple())).date())]*2, [0,1])\n",
    "ax.scatter(results['anoms'].index, results['anoms']['anoms'], c='green')"
   ]
  },
  {
   "cell_type": "code",
   "execution_count": null,
   "metadata": {},
   "outputs": [],
   "source": []
  }
 ],
 "metadata": {
  "kernelspec": {
   "display_name": "Python 3",
   "language": "python",
   "name": "python3"
  },
  "language_info": {
   "codemirror_mode": {
    "name": "ipython",
    "version": 3
   },
   "file_extension": ".py",
   "mimetype": "text/x-python",
   "name": "python",
   "nbconvert_exporter": "python",
   "pygments_lexer": "ipython3",
   "version": "3.6.6"
  }
 },
 "nbformat": 4,
 "nbformat_minor": 2
}
