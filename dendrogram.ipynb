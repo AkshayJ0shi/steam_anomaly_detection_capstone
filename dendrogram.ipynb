{
 "cells": [
  {
   "cell_type": "code",
   "execution_count": 214,
   "metadata": {},
   "outputs": [],
   "source": [
    "import numpy as np\n",
    "import pandas as pd\n",
    "import matplotlib.pyplot as plt\n",
    "from pandas.tools.plotting import autocorrelation_plot\n",
    "from pymongo import MongoClient\n",
    "import time\n",
    "import datetime\n",
    "import os\n",
    "from pyculiarity import detect_ts\n",
    "import statsmodels.api as sm\n",
    "from statsmodels.tsa.statespace.sarimax import SARIMAX\n",
    "from statsmodels.tsa.arima_model import ARIMA, ARIMAResults\n",
    "from statsmodels.tsa.arima_process import ArmaProcess\n",
    "from statsmodels.stats.diagnostic import acorr_ljungbox\n",
    "from scipy.cluster.hierarchy import dendrogram, linkage\n",
    "from scipy.spatial.distance import pdist, squareform\n",
    "from sklearn.preprocessing import StandardScaler\n",
    "from dendrogram_class import Dendrogram, make_dendrogram, mask_mins\n",
    "import pickle\n",
    "import itertools\n",
    "from collections import defaultdict, Counter\n",
    "import scipy.stats as scs\n",
    "from scipy import signal\n",
    "from scipy.spatial.distance import pdist, squareform\n",
    "from sklearn.cluster import KMeans \n",
    "from sklearn.metrics import silhouette_score, silhouette_samples\n",
    "from IPython.display import HTML, display\n",
    "import warnings\n",
    "warnings.filterwarnings('ignore')"
   ]
  },
  {
   "cell_type": "code",
   "execution_count": 215,
   "metadata": {},
   "outputs": [
    {
     "name": "stdout",
     "output_type": "stream",
     "text": [
      "The autoreload extension is already loaded. To reload it, use:\n",
      "  %reload_ext autoreload\n"
     ]
    }
   ],
   "source": [
    "%matplotlib inline\n",
    "%load_ext autoreload\n",
    "%autoreload 2"
   ]
  },
  {
   "cell_type": "code",
   "execution_count": 216,
   "metadata": {},
   "outputs": [],
   "source": [
    "with open('data/csgo_features.pkl', 'rb') as f:\n",
    "    df = pickle.load(f)"
   ]
  },
  {
   "cell_type": "code",
   "execution_count": 217,
   "metadata": {},
   "outputs": [
    {
     "data": {
      "text/html": [
       "<div>\n",
       "<style scoped>\n",
       "    .dataframe tbody tr th:only-of-type {\n",
       "        vertical-align: middle;\n",
       "    }\n",
       "\n",
       "    .dataframe tbody tr th {\n",
       "        vertical-align: top;\n",
       "    }\n",
       "\n",
       "    .dataframe thead th {\n",
       "        text-align: right;\n",
       "    }\n",
       "</style>\n",
       "<table border=\"1\" class=\"dataframe\">\n",
       "  <thead>\n",
       "    <tr style=\"text-align: right;\">\n",
       "      <th></th>\n",
       "      <th>app</th>\n",
       "      <th>date</th>\n",
       "      <th>item_name</th>\n",
       "      <th>median_sell_price</th>\n",
       "      <th>quantity</th>\n",
       "      <th>release_date</th>\n",
       "      <th>parenthetical</th>\n",
       "      <th>gun_bool</th>\n",
       "      <th>StatTrak</th>\n",
       "      <th>souvenir</th>\n",
       "      <th>gun_type</th>\n",
       "      <th>skin</th>\n",
       "      <th>quality</th>\n",
       "      <th>keys</th>\n",
       "      <th>capsules</th>\n",
       "      <th>stickers</th>\n",
       "      <th>event_item</th>\n",
       "      <th>days_since_release</th>\n",
       "    </tr>\n",
       "  </thead>\n",
       "  <tbody>\n",
       "    <tr>\n",
       "      <th>0</th>\n",
       "      <td>730</td>\n",
       "      <td>1.471583e+09</td>\n",
       "      <td>Glock-18 | Weasel (Battle-Scarred)</td>\n",
       "      <td>6.193</td>\n",
       "      <td>135</td>\n",
       "      <td>18 August 2016</td>\n",
       "      <td>True</td>\n",
       "      <td>True</td>\n",
       "      <td>False</td>\n",
       "      <td>False</td>\n",
       "      <td>Glock-18</td>\n",
       "      <td>Weasel</td>\n",
       "      <td>Battle-Scarred</td>\n",
       "      <td>False</td>\n",
       "      <td>False</td>\n",
       "      <td>False</td>\n",
       "      <td>False</td>\n",
       "      <td>0</td>\n",
       "    </tr>\n",
       "    <tr>\n",
       "      <th>1</th>\n",
       "      <td>730</td>\n",
       "      <td>1.471669e+09</td>\n",
       "      <td>Glock-18 | Weasel (Battle-Scarred)</td>\n",
       "      <td>5.103</td>\n",
       "      <td>166</td>\n",
       "      <td>18 August 2016</td>\n",
       "      <td>True</td>\n",
       "      <td>True</td>\n",
       "      <td>False</td>\n",
       "      <td>False</td>\n",
       "      <td>Glock-18</td>\n",
       "      <td>Weasel</td>\n",
       "      <td>Battle-Scarred</td>\n",
       "      <td>False</td>\n",
       "      <td>False</td>\n",
       "      <td>False</td>\n",
       "      <td>False</td>\n",
       "      <td>1</td>\n",
       "    </tr>\n",
       "    <tr>\n",
       "      <th>2</th>\n",
       "      <td>730</td>\n",
       "      <td>1.471756e+09</td>\n",
       "      <td>Glock-18 | Weasel (Battle-Scarred)</td>\n",
       "      <td>4.721</td>\n",
       "      <td>142</td>\n",
       "      <td>18 August 2016</td>\n",
       "      <td>True</td>\n",
       "      <td>True</td>\n",
       "      <td>False</td>\n",
       "      <td>False</td>\n",
       "      <td>Glock-18</td>\n",
       "      <td>Weasel</td>\n",
       "      <td>Battle-Scarred</td>\n",
       "      <td>False</td>\n",
       "      <td>False</td>\n",
       "      <td>False</td>\n",
       "      <td>False</td>\n",
       "      <td>2</td>\n",
       "    </tr>\n",
       "    <tr>\n",
       "      <th>3</th>\n",
       "      <td>730</td>\n",
       "      <td>1.471842e+09</td>\n",
       "      <td>Glock-18 | Weasel (Battle-Scarred)</td>\n",
       "      <td>4.302</td>\n",
       "      <td>98</td>\n",
       "      <td>18 August 2016</td>\n",
       "      <td>True</td>\n",
       "      <td>True</td>\n",
       "      <td>False</td>\n",
       "      <td>False</td>\n",
       "      <td>Glock-18</td>\n",
       "      <td>Weasel</td>\n",
       "      <td>Battle-Scarred</td>\n",
       "      <td>False</td>\n",
       "      <td>False</td>\n",
       "      <td>False</td>\n",
       "      <td>False</td>\n",
       "      <td>3</td>\n",
       "    </tr>\n",
       "    <tr>\n",
       "      <th>4</th>\n",
       "      <td>730</td>\n",
       "      <td>1.471928e+09</td>\n",
       "      <td>Glock-18 | Weasel (Battle-Scarred)</td>\n",
       "      <td>3.898</td>\n",
       "      <td>125</td>\n",
       "      <td>18 August 2016</td>\n",
       "      <td>True</td>\n",
       "      <td>True</td>\n",
       "      <td>False</td>\n",
       "      <td>False</td>\n",
       "      <td>Glock-18</td>\n",
       "      <td>Weasel</td>\n",
       "      <td>Battle-Scarred</td>\n",
       "      <td>False</td>\n",
       "      <td>False</td>\n",
       "      <td>False</td>\n",
       "      <td>False</td>\n",
       "      <td>4</td>\n",
       "    </tr>\n",
       "  </tbody>\n",
       "</table>\n",
       "</div>"
      ],
      "text/plain": [
       "   app          date                           item_name  median_sell_price  \\\n",
       "0  730  1.471583e+09  Glock-18 | Weasel (Battle-Scarred)              6.193   \n",
       "1  730  1.471669e+09  Glock-18 | Weasel (Battle-Scarred)              5.103   \n",
       "2  730  1.471756e+09  Glock-18 | Weasel (Battle-Scarred)              4.721   \n",
       "3  730  1.471842e+09  Glock-18 | Weasel (Battle-Scarred)              4.302   \n",
       "4  730  1.471928e+09  Glock-18 | Weasel (Battle-Scarred)              3.898   \n",
       "\n",
       "   quantity    release_date  parenthetical  gun_bool  StatTrak  souvenir  \\\n",
       "0       135  18 August 2016           True      True     False     False   \n",
       "1       166  18 August 2016           True      True     False     False   \n",
       "2       142  18 August 2016           True      True     False     False   \n",
       "3        98  18 August 2016           True      True     False     False   \n",
       "4       125  18 August 2016           True      True     False     False   \n",
       "\n",
       "   gun_type     skin         quality   keys  capsules  stickers  event_item  \\\n",
       "0  Glock-18  Weasel   Battle-Scarred  False     False     False       False   \n",
       "1  Glock-18  Weasel   Battle-Scarred  False     False     False       False   \n",
       "2  Glock-18  Weasel   Battle-Scarred  False     False     False       False   \n",
       "3  Glock-18  Weasel   Battle-Scarred  False     False     False       False   \n",
       "4  Glock-18  Weasel   Battle-Scarred  False     False     False       False   \n",
       "\n",
       "   days_since_release  \n",
       "0                   0  \n",
       "1                   1  \n",
       "2                   2  \n",
       "3                   3  \n",
       "4                   4  "
      ]
     },
     "execution_count": 217,
     "metadata": {},
     "output_type": "execute_result"
    }
   ],
   "source": [
    "df.head()"
   ]
  },
  {
   "cell_type": "code",
   "execution_count": 218,
   "metadata": {},
   "outputs": [
    {
     "ename": "KeyError",
     "evalue": "\"['index'] not found in axis\"",
     "output_type": "error",
     "traceback": [
      "\u001b[0;31m---------------------------------------------------------------------------\u001b[0m",
      "\u001b[0;31mKeyError\u001b[0m                                  Traceback (most recent call last)",
      "\u001b[0;32m<ipython-input-218-960089743682>\u001b[0m in \u001b[0;36m<module>\u001b[0;34m()\u001b[0m\n\u001b[0;32m----> 1\u001b[0;31m \u001b[0mdf\u001b[0m \u001b[0;34m=\u001b[0m \u001b[0mdf\u001b[0m\u001b[0;34m.\u001b[0m\u001b[0mdrop\u001b[0m\u001b[0;34m(\u001b[0m\u001b[0mcolumns\u001b[0m\u001b[0;34m=\u001b[0m\u001b[0;34m[\u001b[0m\u001b[0;34m'parenthetical'\u001b[0m\u001b[0;34m,\u001b[0m \u001b[0;34m'index'\u001b[0m\u001b[0;34m]\u001b[0m\u001b[0;34m)\u001b[0m\u001b[0;34m\u001b[0m\u001b[0m\n\u001b[0m",
      "\u001b[0;32m/Applications/anaconda3/envs/capstone_env/lib/python3.6/site-packages/pandas/core/frame.py\u001b[0m in \u001b[0;36mdrop\u001b[0;34m(self, labels, axis, index, columns, level, inplace, errors)\u001b[0m\n\u001b[1;32m   3695\u001b[0m                                            \u001b[0mindex\u001b[0m\u001b[0;34m=\u001b[0m\u001b[0mindex\u001b[0m\u001b[0;34m,\u001b[0m \u001b[0mcolumns\u001b[0m\u001b[0;34m=\u001b[0m\u001b[0mcolumns\u001b[0m\u001b[0;34m,\u001b[0m\u001b[0;34m\u001b[0m\u001b[0m\n\u001b[1;32m   3696\u001b[0m                                            \u001b[0mlevel\u001b[0m\u001b[0;34m=\u001b[0m\u001b[0mlevel\u001b[0m\u001b[0;34m,\u001b[0m \u001b[0minplace\u001b[0m\u001b[0;34m=\u001b[0m\u001b[0minplace\u001b[0m\u001b[0;34m,\u001b[0m\u001b[0;34m\u001b[0m\u001b[0m\n\u001b[0;32m-> 3697\u001b[0;31m                                            errors=errors)\n\u001b[0m\u001b[1;32m   3698\u001b[0m \u001b[0;34m\u001b[0m\u001b[0m\n\u001b[1;32m   3699\u001b[0m     @rewrite_axis_style_signature('mapper', [('copy', True),\n",
      "\u001b[0;32m/Applications/anaconda3/envs/capstone_env/lib/python3.6/site-packages/pandas/core/generic.py\u001b[0m in \u001b[0;36mdrop\u001b[0;34m(self, labels, axis, index, columns, level, inplace, errors)\u001b[0m\n\u001b[1;32m   3109\u001b[0m         \u001b[0;32mfor\u001b[0m \u001b[0maxis\u001b[0m\u001b[0;34m,\u001b[0m \u001b[0mlabels\u001b[0m \u001b[0;32min\u001b[0m \u001b[0maxes\u001b[0m\u001b[0;34m.\u001b[0m\u001b[0mitems\u001b[0m\u001b[0;34m(\u001b[0m\u001b[0;34m)\u001b[0m\u001b[0;34m:\u001b[0m\u001b[0;34m\u001b[0m\u001b[0m\n\u001b[1;32m   3110\u001b[0m             \u001b[0;32mif\u001b[0m \u001b[0mlabels\u001b[0m \u001b[0;32mis\u001b[0m \u001b[0;32mnot\u001b[0m \u001b[0;32mNone\u001b[0m\u001b[0;34m:\u001b[0m\u001b[0;34m\u001b[0m\u001b[0m\n\u001b[0;32m-> 3111\u001b[0;31m                 \u001b[0mobj\u001b[0m \u001b[0;34m=\u001b[0m \u001b[0mobj\u001b[0m\u001b[0;34m.\u001b[0m\u001b[0m_drop_axis\u001b[0m\u001b[0;34m(\u001b[0m\u001b[0mlabels\u001b[0m\u001b[0;34m,\u001b[0m \u001b[0maxis\u001b[0m\u001b[0;34m,\u001b[0m \u001b[0mlevel\u001b[0m\u001b[0;34m=\u001b[0m\u001b[0mlevel\u001b[0m\u001b[0;34m,\u001b[0m \u001b[0merrors\u001b[0m\u001b[0;34m=\u001b[0m\u001b[0merrors\u001b[0m\u001b[0;34m)\u001b[0m\u001b[0;34m\u001b[0m\u001b[0m\n\u001b[0m\u001b[1;32m   3112\u001b[0m \u001b[0;34m\u001b[0m\u001b[0m\n\u001b[1;32m   3113\u001b[0m         \u001b[0;32mif\u001b[0m \u001b[0minplace\u001b[0m\u001b[0;34m:\u001b[0m\u001b[0;34m\u001b[0m\u001b[0m\n",
      "\u001b[0;32m/Applications/anaconda3/envs/capstone_env/lib/python3.6/site-packages/pandas/core/generic.py\u001b[0m in \u001b[0;36m_drop_axis\u001b[0;34m(self, labels, axis, level, errors)\u001b[0m\n\u001b[1;32m   3141\u001b[0m                 \u001b[0mnew_axis\u001b[0m \u001b[0;34m=\u001b[0m \u001b[0maxis\u001b[0m\u001b[0;34m.\u001b[0m\u001b[0mdrop\u001b[0m\u001b[0;34m(\u001b[0m\u001b[0mlabels\u001b[0m\u001b[0;34m,\u001b[0m \u001b[0mlevel\u001b[0m\u001b[0;34m=\u001b[0m\u001b[0mlevel\u001b[0m\u001b[0;34m,\u001b[0m \u001b[0merrors\u001b[0m\u001b[0;34m=\u001b[0m\u001b[0merrors\u001b[0m\u001b[0;34m)\u001b[0m\u001b[0;34m\u001b[0m\u001b[0m\n\u001b[1;32m   3142\u001b[0m             \u001b[0;32melse\u001b[0m\u001b[0;34m:\u001b[0m\u001b[0;34m\u001b[0m\u001b[0m\n\u001b[0;32m-> 3143\u001b[0;31m                 \u001b[0mnew_axis\u001b[0m \u001b[0;34m=\u001b[0m \u001b[0maxis\u001b[0m\u001b[0;34m.\u001b[0m\u001b[0mdrop\u001b[0m\u001b[0;34m(\u001b[0m\u001b[0mlabels\u001b[0m\u001b[0;34m,\u001b[0m \u001b[0merrors\u001b[0m\u001b[0;34m=\u001b[0m\u001b[0merrors\u001b[0m\u001b[0;34m)\u001b[0m\u001b[0;34m\u001b[0m\u001b[0m\n\u001b[0m\u001b[1;32m   3144\u001b[0m             \u001b[0mresult\u001b[0m \u001b[0;34m=\u001b[0m \u001b[0mself\u001b[0m\u001b[0;34m.\u001b[0m\u001b[0mreindex\u001b[0m\u001b[0;34m(\u001b[0m\u001b[0;34m**\u001b[0m\u001b[0;34m{\u001b[0m\u001b[0maxis_name\u001b[0m\u001b[0;34m:\u001b[0m \u001b[0mnew_axis\u001b[0m\u001b[0;34m}\u001b[0m\u001b[0;34m)\u001b[0m\u001b[0;34m\u001b[0m\u001b[0m\n\u001b[1;32m   3145\u001b[0m \u001b[0;34m\u001b[0m\u001b[0m\n",
      "\u001b[0;32m/Applications/anaconda3/envs/capstone_env/lib/python3.6/site-packages/pandas/core/indexes/base.py\u001b[0m in \u001b[0;36mdrop\u001b[0;34m(self, labels, errors)\u001b[0m\n\u001b[1;32m   4402\u001b[0m             \u001b[0;32mif\u001b[0m \u001b[0merrors\u001b[0m \u001b[0;34m!=\u001b[0m \u001b[0;34m'ignore'\u001b[0m\u001b[0;34m:\u001b[0m\u001b[0;34m\u001b[0m\u001b[0m\n\u001b[1;32m   4403\u001b[0m                 raise KeyError(\n\u001b[0;32m-> 4404\u001b[0;31m                     '{} not found in axis'.format(labels[mask]))\n\u001b[0m\u001b[1;32m   4405\u001b[0m             \u001b[0mindexer\u001b[0m \u001b[0;34m=\u001b[0m \u001b[0mindexer\u001b[0m\u001b[0;34m[\u001b[0m\u001b[0;34m~\u001b[0m\u001b[0mmask\u001b[0m\u001b[0;34m]\u001b[0m\u001b[0;34m\u001b[0m\u001b[0m\n\u001b[1;32m   4406\u001b[0m         \u001b[0;32mreturn\u001b[0m \u001b[0mself\u001b[0m\u001b[0;34m.\u001b[0m\u001b[0mdelete\u001b[0m\u001b[0;34m(\u001b[0m\u001b[0mindexer\u001b[0m\u001b[0;34m)\u001b[0m\u001b[0;34m\u001b[0m\u001b[0m\n",
      "\u001b[0;31mKeyError\u001b[0m: \"['index'] not found in axis\""
     ]
    }
   ],
   "source": [
    "df = df.drop(columns=['parenthetical', 'index'])"
   ]
  },
  {
   "cell_type": "code",
   "execution_count": null,
   "metadata": {},
   "outputs": [],
   "source": [
    "df.release_date.unique()"
   ]
  },
  {
   "cell_type": "code",
   "execution_count": null,
   "metadata": {},
   "outputs": [],
   "source": [
    "df['num_sale_days'] = df.groupby('item_name')['days_since_release'].transform('max')\n",
    "df['desc'] = df['item_name'] + ' ' + df['release_date']\n",
    "# df_pivot = df_sub.reset_index().pivot('desc', 'num_sales_days', 'median_sell_price')"
   ]
  },
  {
   "cell_type": "code",
   "execution_count": null,
   "metadata": {},
   "outputs": [],
   "source": [
    "den = Dendrogram()\n",
    "den.fit(df)"
   ]
  },
  {
   "cell_type": "code",
   "execution_count": null,
   "metadata": {},
   "outputs": [],
   "source": [
    "den.make_dendrogram(save=True)"
   ]
  },
  {
   "cell_type": "markdown",
   "metadata": {},
   "source": [
    "### These two items were tightly clustered but weren't released on the same day"
   ]
  },
  {
   "cell_type": "code",
   "execution_count": null,
   "metadata": {},
   "outputs": [],
   "source": [
    "fig, ax = plt.subplots(figsize=(25,10))\n",
    "ax.plot(den.pivot.loc['StatTrak™ Glock-18 | Catacombs (Field-Tested) 8 January 2015'])\n",
    "ax.plot(den.pivot.loc['StatTrak™ Glock-18 | Wraiths (Field-Tested) 17 September 2015'])"
   ]
  },
  {
   "cell_type": "code",
   "execution_count": null,
   "metadata": {},
   "outputs": [],
   "source": [
    "fig, ax = plt.subplots(figsize=(25,10))\n",
    "ax.plot(df[df.item_name=='StatTrak™ Glock-18 | Catacombs (Field-Tested)'].date, df[df.item_name=='StatTrak™ Glock-18 | Catacombs (Field-Tested)'].median_sell_price)\n",
    "ax.plot(df[df.item_name=='StatTrak™ Glock-18 | Wraiths (Field-Tested)'].date, df[df.item_name=='StatTrak™ Glock-18 | Wraiths (Field-Tested)'].median_sell_price)"
   ]
  },
  {
   "cell_type": "markdown",
   "metadata": {},
   "source": [
    "### Looking at date cutoffs for removing the first few days of sale"
   ]
  },
  {
   "cell_type": "code",
   "execution_count": null,
   "metadata": {},
   "outputs": [],
   "source": [
    "fig, ax = plt.subplots(figsize=(25,10))\n",
    "ax.plot(df[df.item_name=='Sawed-Off | Fubar (Battle-Scarred)'].date, df[df.item_name=='Sawed-Off | Fubar (Battle-Scarred)'].median_sell_price, label='Sawed-Off | Fubar (Battle-Scarred)')\n",
    "ax.plot(df[df.item_name=='G3SG1 | Ventilator (Field-Tested)'].date, df[df.item_name=='G3SG1 | Ventilator (Field-Tested)'].median_sell_price, label='G3SG1 | Ventilator (Field-Tested)')\n",
    "ax.plot(df[df.item_name=='UMP-45 | Briefing (Well-Worn)'].date, df[df.item_name=='UMP-45 | Briefing (Well-Worn)'].median_sell_price, label='UMP-45 | Briefing (Well-Worn)')\n",
    "ax.plot([df[df.item_name=='Sawed-Off | Fubar (Battle-Scarred)'].date.values[70]]*2, [0, 0.6])\n",
    "ax.plot([df[df.item_name=='UMP-45 | Briefing (Well-Worn)'].date.values[70]]*2, [0, 0.6])\n",
    "fig.legend()"
   ]
  },
  {
   "cell_type": "markdown",
   "metadata": {},
   "source": [
    "---"
   ]
  },
  {
   "cell_type": "markdown",
   "metadata": {},
   "source": [
    "### Preparing for anomaly detection three clustered items:"
   ]
  },
  {
   "cell_type": "code",
   "execution_count": null,
   "metadata": {},
   "outputs": [],
   "source": [
    "shotty = df[df.item_name=='Sawed-Off | Fubar (Battle-Scarred)']\n",
    "gsg = df[df.item_name=='G3SG1 | Ventilator (Field-Tested)']\n",
    "ump = df[df.item_name=='UMP-45 | Briefing (Well-Worn)']"
   ]
  },
  {
   "cell_type": "code",
   "execution_count": null,
   "metadata": {},
   "outputs": [],
   "source": [
    "shotty = shotty[shotty.days_since_release > 70]\n",
    "shotty = shotty[['date', 'median_sell_price']].reset_index(drop=True)\n",
    "shotty.columns = ['timestamp', 'count']\n",
    "shotty.timestamp = [np.datetime64(datetime.datetime.fromtimestamp(t).date()) for t in shotty.timestamp]\n",
    "\n",
    "gsg = gsg[gsg.days_since_release > 70]\n",
    "gsg = gsg[['date', 'median_sell_price']].reset_index(drop=True)\n",
    "gsg.columns = ['timestamp', 'count']\n",
    "gsg.timestamp = [np.datetime64(datetime.datetime.fromtimestamp(t).date()) for t in gsg.timestamp]\n",
    "\n",
    "ump = ump[ump.days_since_release > 70]\n",
    "ump = ump[['date', 'median_sell_price']].reset_index(drop=True)\n",
    "ump.columns = ['timestamp', 'count']\n",
    "ump.timestamp = [np.datetime64(datetime.datetime.fromtimestamp(t).date()) for t in ump.timestamp]"
   ]
  },
  {
   "cell_type": "markdown",
   "metadata": {},
   "source": [
    "Anomaly detection"
   ]
  },
  {
   "cell_type": "code",
   "execution_count": null,
   "metadata": {},
   "outputs": [],
   "source": [
    "results_shotty = detect_ts(shotty, max_anoms=0.05, alpha=0.001, direction='both', only_last=None, longterm=True, verbose=True, piecewise_median_period_weeks=3)\n",
    "results_gsg = detect_ts(gsg, max_anoms=0.05, alpha=0.001, direction='both', only_last=None, longterm=True, verbose=True, piecewise_median_period_weeks=3)\n",
    "results_ump = detect_ts(ump, max_anoms=0.05, alpha=0.001, direction='both', only_last=None, longterm=True, verbose=True, piecewise_median_period_weeks=3)"
   ]
  },
  {
   "cell_type": "code",
   "execution_count": null,
   "metadata": {},
   "outputs": [],
   "source": [
    "# make a nice plot\n",
    "fig, ax = plt.subplots(3, 1, figsize=(24, 24), sharex=True)\n",
    "fig.autofmt_xdate(rotation=45)\n",
    "\n",
    "ax[0].plot(shotty['timestamp'], shotty['value'], 'b')\n",
    "ax[0].plot(results_shotty['anoms'].index, results_shotty['anoms']['anoms'], 'ro')\n",
    "ax[0].set_title('Sawed-Off')\n",
    "ax[0].set_ylabel('value')\n",
    "\n",
    "ax[1].plot(gsg['timestamp'], gsg['value'], 'b')\n",
    "ax[1].plot(results_gsg['anoms'].index, results_gsg['anoms']['anoms'], 'ro')\n",
    "ax[1].set_title('GSG')\n",
    "ax[1].set_ylabel('value')\n",
    "\n",
    "ax[2].plot(ump['timestamp'], ump['value'], 'b')\n",
    "ax[2].plot(results_ump['anoms'].index, results_ump['anoms']['anoms'], 'ro')\n",
    "ax[2].set_title('UMP')\n",
    "ax[2].set_ylabel('value')"
   ]
  },
  {
   "cell_type": "code",
   "execution_count": null,
   "metadata": {},
   "outputs": [],
   "source": [
    "results_shotty['anoms'].index"
   ]
  },
  {
   "cell_type": "markdown",
   "metadata": {},
   "source": [
    "#### Check for common anomaly dates"
   ]
  },
  {
   "cell_type": "code",
   "execution_count": null,
   "metadata": {},
   "outputs": [],
   "source": [
    "anoms = Counter()\n",
    "anoms.update(results_shotty['anoms'].index)\n",
    "anoms.update(results_gsg['anoms'].index)\n",
    "anoms.update(results_ump['anoms'].index)"
   ]
  },
  {
   "cell_type": "code",
   "execution_count": null,
   "metadata": {},
   "outputs": [],
   "source": [
    "sorted(anoms.most_common(5))"
   ]
  },
  {
   "cell_type": "markdown",
   "metadata": {},
   "source": [
    "### Where I am:\n",
    "  * Ideally I don't hit the first day of the arbitrary cutoff (only detect last... all but day 1)\n",
    "  * Need to give the dates a little wiggle room (change number of anomalies detected?)\n"
   ]
  },
  {
   "cell_type": "markdown",
   "metadata": {},
   "source": [
    "---"
   ]
  },
  {
   "cell_type": "markdown",
   "metadata": {},
   "source": [
    "### Running anomaly detection on n random items and plotting. Then adding the list of anomaly dates to a Counter."
   ]
  },
  {
   "cell_type": "code",
   "execution_count": null,
   "metadata": {},
   "outputs": [],
   "source": [
    "anomaly_df = df[df.gun_bool]\n",
    "# anomaly_df = anomaly_df[anomaly_df.days_since_release > 70]\n",
    "anomaly_df = mask_mins(anomaly_df, 0.1, 50)\n",
    "anomaly_df['timestamp'] = [np.datetime64(datetime.datetime.fromtimestamp(t).date()) for t in anomaly_df.date]\n",
    "anomaly_df = anomaly_df[anomaly_df.release_date != '15 February 2018'] # not enough points\n",
    "guns = anomaly_df.item_name.unique()"
   ]
  },
  {
   "cell_type": "code",
   "execution_count": null,
   "metadata": {},
   "outputs": [],
   "source": [
    "hold_df = anomaly_df.copy()"
   ]
  },
  {
   "cell_type": "code",
   "execution_count": null,
   "metadata": {},
   "outputs": [],
   "source": [
    "n_timeseries = 10\n",
    "fig, ax = plt.subplots(n_timeseries, 1, figsize=(24, 8*n_timeseries), sharex=True)\n",
    "fig.autofmt_xdate(rotation=45)\n",
    "anom_counter = Counter()\n",
    "anomaly_df = hold_df[hold_df.days_since_release > 21]\n",
    "for i, gun in enumerate(np.random.choice(guns, n_timeseries, replace=False)):\n",
    "    temp_df = anomaly_df[anomaly_df.item_name == gun]\n",
    "    temp_df = temp_df[['timestamp', 'median_sell_price']].reset_index(drop=True)\n",
    "    results = detect_ts(temp_df, max_anoms=0.25, alpha=0.001, direction='both', only_last=None, longterm=True, verbose=True, piecewise_median_period_weeks=5)\n",
    "    ax[i].plot(temp_df['timestamp'], temp_df['value'], 'b')\n",
    "    ax[i].plot(results['anoms'].index, results['anoms']['anoms'], 'ro')\n",
    "    ax[i].set_title(gun)\n",
    "    anom_counter.update(results['anoms'].index[1:])\n",
    "anom_counter.most_common(20)"
   ]
  },
  {
   "cell_type": "markdown",
   "metadata": {},
   "source": [
    "---"
   ]
  },
  {
   "cell_type": "markdown",
   "metadata": {},
   "source": [
    "### Testing USP-S | Para Green (Field-Tested) with different detect_ts parameters"
   ]
  },
  {
   "cell_type": "code",
   "execution_count": null,
   "metadata": {},
   "outputs": [],
   "source": [
    "n_timeseries = 1\n",
    "fig, ax = plt.subplots(figsize=(24, 8*n_timeseries), sharex=True)\n",
    "fig.autofmt_xdate(rotation=45)\n",
    "anomaly_df = hold_df[hold_df.days_since_release > 0]\n",
    "\n",
    "gun = 'USP-S | Para Green (Field-Tested)'\n",
    "temp_df = anomaly_df[anomaly_df.item_name == gun]\n",
    "temp_df = temp_df[['timestamp', 'median_sell_price']].reset_index(drop=True)\n",
    "results = detect_ts(temp_df, max_anoms=0.05, alpha=0.001, direction='both', only_last=None, longterm=True, verbose=True, piecewise_median_period_weeks=3)\n",
    "ax.plot(temp_df['timestamp'], temp_df['value'], 'b')\n",
    "ax.plot(results['anoms'].index, results['anoms']['anoms'], 'ro')\n",
    "ax.set_title(gun)"
   ]
  },
  {
   "cell_type": "code",
   "execution_count": null,
   "metadata": {},
   "outputs": [],
   "source": [
    "print(*[x.date() for x in results['anoms'].index], sep='\\n')"
   ]
  },
  {
   "cell_type": "code",
   "execution_count": null,
   "metadata": {},
   "outputs": [],
   "source": [
    "n_timeseries = 1\n",
    "fig, ax = plt.subplots(figsize=(24, 8*n_timeseries), sharex=True)\n",
    "fig.autofmt_xdate(rotation=45)\n",
    "anomaly_df = hold_df[hold_df.days_since_release > 40]\n",
    "\n",
    "gun = 'USP-S | Para Green (Field-Tested)'\n",
    "temp_df = anomaly_df[anomaly_df.item_name == gun]\n",
    "temp_df = temp_df[['timestamp', 'median_sell_price']].reset_index(drop=True)\n",
    "results = detect_ts(temp_df, max_anoms=0.05, alpha=0.001, direction='both', only_last=None, longterm=True, verbose=True, piecewise_median_period_weeks=3)\n",
    "ax.plot(temp_df['timestamp'], temp_df['value'], 'b')\n",
    "ax.plot(results['anoms'].index, results['anoms']['anoms'], 'ro')\n",
    "ax.set_title(gun)"
   ]
  },
  {
   "cell_type": "code",
   "execution_count": null,
   "metadata": {},
   "outputs": [],
   "source": [
    "print(*[x.date() for x in results['anoms'].index], sep='\\n')"
   ]
  },
  {
   "cell_type": "markdown",
   "metadata": {},
   "source": [
    "---"
   ]
  },
  {
   "cell_type": "markdown",
   "metadata": {},
   "source": [
    "### Run anomaly detection over many items and combine results"
   ]
  },
  {
   "cell_type": "code",
   "execution_count": null,
   "metadata": {},
   "outputs": [],
   "source": [
    "n_timeseries = 100\n",
    "anom_counter = Counter()\n",
    "anom_list = []\n",
    "for i, gun in enumerate(np.random.choice(guns, n_timeseries, replace=False)):\n",
    "    temp_df = anomaly_df[anomaly_df.item_name == gun]\n",
    "    temp_df = temp_df[['timestamp', 'median_sell_price']].reset_index(drop=True)\n",
    "    results = detect_ts(temp_df, max_anoms=0.2, alpha=0.001, direction='both', only_last=None, longterm=True, verbose=True, piecewise_median_period_weeks=3)\n",
    "    anom_list += results['anoms'].index[1:]\n",
    "    anom_counter.update(results['anoms'].index[1:])\n",
    "anom_counter.most_common(20)"
   ]
  },
  {
   "cell_type": "markdown",
   "metadata": {},
   "source": [
    "### Account for anomaly detection being off by a few days"
   ]
  },
  {
   "cell_type": "code",
   "execution_count": null,
   "metadata": {},
   "outputs": [],
   "source": [
    "anom_delta_dict = {}\n",
    "for day in set(anom_list):\n",
    "    start, end = day - datetime.timedelta(3), day + datetime.timedelta(3)\n",
    "    anom_delta_dict[day]= sum(x >= start and x <= end for x in anom_list)"
   ]
  },
  {
   "cell_type": "code",
   "execution_count": null,
   "metadata": {},
   "outputs": [],
   "source": [
    "sorted(anom_delta_dict.items(), key=lambda x: x[1], reverse=True)[:30]"
   ]
  },
  {
   "cell_type": "markdown",
   "metadata": {},
   "source": [
    "## Let's try with more than just guns"
   ]
  },
  {
   "cell_type": "code",
   "execution_count": null,
   "metadata": {},
   "outputs": [],
   "source": [
    "with open('data/csgo_df.pkl', 'rb') as f:\n",
    "    csfull = pickle.load(f)"
   ]
  },
  {
   "cell_type": "code",
   "execution_count": null,
   "metadata": {},
   "outputs": [],
   "source": [
    "csfull['days_since_release'] = np.nan\n",
    "csfull['days_since_release'] = csfull.groupby('item_name').transform(lambda x: np.arange(len(x)))"
   ]
  },
  {
   "cell_type": "code",
   "execution_count": null,
   "metadata": {},
   "outputs": [],
   "source": [
    "csfull['num_sale_days'] = csfull.groupby('item_name')['days_since_release'].transform('max')\n",
    "csfull['desc'] = csfull['item_name'] + ' ' + csfull['release_date']"
   ]
  },
  {
   "cell_type": "code",
   "execution_count": null,
   "metadata": {},
   "outputs": [],
   "source": [
    "anomaly_full = csfull[csfull.days_since_release > 30]"
   ]
  },
  {
   "cell_type": "code",
   "execution_count": null,
   "metadata": {},
   "outputs": [],
   "source": [
    "anomaly_full = mask_mins(anomaly_full, 0.1, 50)\n",
    "anomaly_full['timestamp'] = [np.datetime64(datetime.datetime.fromtimestamp(t).date()) for t in anomaly_full.date]\n",
    "anomaly_full = anomaly_full[anomaly_full.release_date != '15 February 2018'] # not enough points\n",
    "items = anomaly_full.item_name.unique()"
   ]
  },
  {
   "cell_type": "code",
   "execution_count": null,
   "metadata": {},
   "outputs": [],
   "source": [
    "n_timeseries = 100\n",
    "anom_counter = Counter()\n",
    "anom_list = []\n",
    "for i, item in enumerate(np.random.choice(items, n_timeseries, replace=False)):\n",
    "    temp_df = anomaly_full[anomaly_full.item_name == item]\n",
    "    temp_df = temp_df[['timestamp', 'median_sell_price']].reset_index(drop=True)\n",
    "    results = detect_ts(temp_df, max_anoms=0.2, alpha=0.001, direction='both', only_last=None, longterm=True, verbose=True, piecewise_median_period_weeks=3)\n",
    "    anom_list += results['anoms'].index[1:]\n",
    "    anom_counter.update(results['anoms'].index[1:])"
   ]
  },
  {
   "cell_type": "code",
   "execution_count": null,
   "metadata": {},
   "outputs": [],
   "source": [
    "anom_delta_dict = {}\n",
    "for day in set(anom_list):\n",
    "    start, end = day - datetime.timedelta(3), day + datetime.timedelta(3)\n",
    "    anom_delta_dict[day]= sum(x >= start and x <= end for x in anom_list)\n",
    "sorted(anom_delta_dict.items(), key=lambda x: x[1], reverse=True)[:30]"
   ]
  },
  {
   "cell_type": "code",
   "execution_count": null,
   "metadata": {},
   "outputs": [],
   "source": [
    "anomaly_full = anomaly_full[anomaly_full.days_since_release > 70]\n",
    "anomaly_full = mask_mins(anomaly_full, 0.1, 50)\n",
    "anomaly_full['timestamp'] = [np.datetime64(datetime.datetime.fromtimestamp(t).date()) for t in anomaly_full.date]\n",
    "anomaly_full = anomaly_full[anomaly_full.release_date != '15 February 2018'] # not enough points"
   ]
  },
  {
   "cell_type": "code",
   "execution_count": null,
   "metadata": {},
   "outputs": [],
   "source": [
    "hold_df = anomaly_full.copy()"
   ]
  },
  {
   "cell_type": "code",
   "execution_count": null,
   "metadata": {},
   "outputs": [],
   "source": [
    "n_timeseries = 10\n",
    "fig, ax = plt.subplots(n_timeseries, 1, figsize=(24, 8*n_timeseries), sharex=True)\n",
    "fig.autofmt_xdate(rotation=45)\n",
    "anom_counter = Counter()\n",
    "anomaly_full = hold_df[hold_df.days_since_release > 21]\n",
    "for i, item in enumerate(np.random.choice(items, n_timeseries, replace=False)):\n",
    "    temp_df = anomaly_full[anomaly_full.item_name == item]\n",
    "    temp_df = temp_df[['timestamp', 'median_sell_price']].reset_index(drop=True)\n",
    "    results = detect_ts(temp_df, max_anoms=0.25, alpha=0.001, direction='both', only_last=None, longterm=True, verbose=True, piecewise_median_period_weeks=5)\n",
    "    ax[i].plot(temp_df['timestamp'], temp_df['value'], 'b')\n",
    "    ax[i].plot(results['anoms'].index, results['anoms']['anoms'], 'ro')\n",
    "    ax[i].set_title(item)\n",
    "    anom_counter.update(results['anoms'].index[1:])\n",
    "anom_counter.most_common(20)"
   ]
  }
 ],
 "metadata": {
  "kernelspec": {
   "display_name": "Python 3",
   "language": "python",
   "name": "python3"
  },
  "language_info": {
   "codemirror_mode": {
    "name": "ipython",
    "version": 3
   },
   "file_extension": ".py",
   "mimetype": "text/x-python",
   "name": "python",
   "nbconvert_exporter": "python",
   "pygments_lexer": "ipython3",
   "version": "3.6.6"
  }
 },
 "nbformat": 4,
 "nbformat_minor": 2
}
